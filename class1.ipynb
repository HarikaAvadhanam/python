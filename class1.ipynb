{
 "cells": [
  {
   "cell_type": "code",
   "execution_count": null,
   "id": "82408c67-8860-4d16-a2d6-717397654321",
   "metadata": {},
   "outputs": [],
   "source": [
    "a=10\n",
    "b=20\n",
    "c=a+b\n",
    "c"
   ]
  },
  {
   "cell_type": "code",
   "execution_count": null,
   "id": "67e80229-a67f-4a49-9065-6ff860158759",
   "metadata": {},
   "outputs": [],
   "source": [
    "a=100\n",
    "b=200\n",
    "c=a*b\n",
    "c"
   ]
  },
  {
   "cell_type": "markdown",
   "id": "89d5c817-e695-439b-ba7b-dd7edd79660e",
   "metadata": {},
   "source": [
    "im learning python tdy"
   ]
  },
  {
   "cell_type": "markdown",
   "id": "97131b36-dacf-46e4-af53-3dc5f400e2c6",
   "metadata": {},
   "source": [
    "hi"
   ]
  },
  {
   "cell_type": "markdown",
   "id": "29fafbae-f8da-4987-ba99-2f41f3702f82",
   "metadata": {},
   "source": [
    "im harika \n",
    "from kdp"
   ]
  },
  {
   "cell_type": "markdown",
   "id": "606f4641-0e7d-4973-81ae-c72c1ecb0811",
   "metadata": {},
   "source": [
    "# python"
   ]
  },
  {
   "cell_type": "markdown",
   "id": "5389c7bb-991c-4be7-a995-213ed95940e5",
   "metadata": {},
   "source": [
    "# python\n",
    "\n",
    "## python\n",
    "\n",
    "### python"
   ]
  },
  {
   "cell_type": "markdown",
   "id": "ba9211a6-f798-4e22-863b-45f73025fac8",
   "metadata": {},
   "source": [
    "- today i learned how to open jupyter notebook\n",
    "\n",
    "- I created folder for python\n",
    "                  \n",
    "- from tmr onwards i will open all my notebook\n",
    "\n",
    "- i understood abt kernel\n",
    "\n",
    "- python kernel will run step by step\n",
    "\n",
    "- shift+enter to run\n",
    "\n",
    "- i also learnt how to write story in jupyter\n",
    "\n",
    "- this is called as markdown\n",
    "\n",
    "- esc+m is shortcut for codemode to markdown\n",
    "\n",
    "- esc+y is shortcut for markdown to code"
   ]
  },
  {
   "cell_type": "markdown",
   "id": "053f7639-b37c-45f5-8de1-6cd653c17153",
   "metadata": {},
   "source": [
    "<img src=\"https://upload.wikimedia.org/wikipedia/commons/thumb/3/38/Jupyter_logo.svg/1200px-Jupyter_logo.svg.png\" jsaction=\"VQAsE\" class=\"sFlh5c pT0Scc iPVvYb\" style=\"max-width: 1200px; height: 388px; margin: 0px; width: 335px;\" alt=\"Project Jupyter - Wikipedia\" jsname=\"kn3ccd\" aria-hidden=\"false\">"
   ]
  },
  {
   "cell_type": "markdown",
   "id": "3e49108c-32f8-4c91-9203-1cce49107d77",
   "metadata": {},
   "source": [
    "<img src=\"https://i0.wp.com/junilearning.com/wp-content/uploads/2020/06/python-programming-language.webp?fit=1920%2C1920&amp;ssl=1\" jsaction=\"VQAsE\" class=\"sFlh5c pT0Scc iPVvYb\" style=\"max-width: 1920px; height: 351px; margin: 0px; width: 351px;\" alt=\"What is Python Coding? | Juni Learning\" jsname=\"kn3ccd\" aria-hidden=\"false\">"
   ]
  },
  {
   "cell_type": "markdown",
   "id": "1c59548a-cd5d-4931-9dd3-c287e66fb9a5",
   "metadata": {},
   "source": [
    "hiii\n",
    "im harika"
   ]
  },
  {
   "cell_type": "markdown",
   "id": "5cc04978-a378-4bb6-b3aa-7e6585092e8d",
   "metadata": {},
   "source": [
    "hiiihello"
   ]
  },
  {
   "cell_type": "code",
   "execution_count": null,
   "id": "a4715995-71f0-4e72-9348-9176e158d86f",
   "metadata": {},
   "outputs": [],
   "source": []
  }
 ],
 "metadata": {
  "kernelspec": {
   "display_name": "Python 3 (ipykernel)",
   "language": "python",
   "name": "python3"
  },
  "language_info": {
   "codemirror_mode": {
    "name": "ipython",
    "version": 3
   },
   "file_extension": ".py",
   "mimetype": "text/x-python",
   "name": "python",
   "nbconvert_exporter": "python",
   "pygments_lexer": "ipython3",
   "version": "3.11.7"
  }
 },
 "nbformat": 4,
 "nbformat_minor": 5
}
