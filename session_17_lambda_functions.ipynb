{
 "cells": [
  {
   "cell_type": "markdown",
   "id": "a3a8c2fe-d83b-410c-b1fa-b4101b617811",
   "metadata": {},
   "source": [
    "**lambda functions**"
   ]
  },
  {
   "cell_type": "markdown",
   "id": "7f8d35e7-7570-427e-a176-19e022e50a30",
   "metadata": {},
   "source": [
    "- lambda functions represents function concept\n",
    "\n",
    "- but we can write in a single line\n",
    "\n",
    "- like list comprehenssion,lambda functions similar only\n",
    "\n",
    "- it will decrease the time complexity\n",
    "\n",
    "- always remember if we use many for loops or many conditions using multiple line,the time complexity will increase"
   ]
  },
  {
   "cell_type": "markdown",
   "id": "bbda44a7-12d8-43aa-a2b0-79f9f9abe445",
   "metadata": {},
   "source": [
    "**it will use a keyword lambda**"
   ]
  },
  {
   "cell_type": "code",
   "execution_count": 1,
   "id": "42f36ffc-ab1d-40ad-9d73-309a16b23eba",
   "metadata": {},
   "outputs": [],
   "source": [
    "# lambda <arguments> :<expression>"
   ]
  },
  {
   "cell_type": "code",
   "execution_count": 3,
   "id": "65422f77-1dfe-45e6-8527-d320e9bff397",
   "metadata": {},
   "outputs": [
    {
     "data": {
      "text/plain": [
       "20"
      ]
     },
     "execution_count": 3,
     "metadata": {},
     "output_type": "execute_result"
    }
   ],
   "source": [
    "def summ(n):\n",
    "    return(n+10)\n",
    "summ(10)    \n",
    "        "
   ]
  },
  {
   "cell_type": "markdown",
   "id": "26fd0f95-c535-4e11-a6c9-b9add3e294f9",
   "metadata": {},
   "source": [
    "$pattern-1$"
   ]
  },
  {
   "cell_type": "markdown",
   "id": "cc9ee60e-1450-4aeb-838e-5c3c14c5fd55",
   "metadata": {},
   "source": [
    "**functions with only one argument**"
   ]
  },
  {
   "cell_type": "markdown",
   "id": "a54c0168-c94c-45ef-be23-2e34905295fb",
   "metadata": {},
   "source": [
    "- function name\n",
    "\n",
    "- argument name\n",
    "\n",
    "- return output"
   ]
  },
  {
   "cell_type": "code",
   "execution_count": 4,
   "id": "ccd9e93a-b713-49e9-98aa-692efd267234",
   "metadata": {},
   "outputs": [],
   "source": [
    "#syntax: <function name>=lambda <argument name>: <return output>"
   ]
  },
  {
   "cell_type": "code",
   "execution_count": 7,
   "id": "be72ced1-3de7-4ebf-beff-c7ecb9de99bc",
   "metadata": {},
   "outputs": [
    {
     "data": {
      "text/plain": [
       "120"
      ]
     },
     "execution_count": 7,
     "metadata": {},
     "output_type": "execute_result"
    }
   ],
   "source": [
    "summ=lambda n :n+10\n",
    "summ(110)"
   ]
  },
  {
   "cell_type": "code",
   "execution_count": 12,
   "id": "bc7182dd-e244-4101-aab9-21ee1a577eaa",
   "metadata": {},
   "outputs": [
    {
     "name": "stdout",
     "output_type": "stream",
     "text": [
      "125\n"
     ]
    }
   ],
   "source": [
    "def cube(n):\n",
    "    print(n**3)\n",
    "cube(5)    \n",
    "    "
   ]
  },
  {
   "cell_type": "code",
   "execution_count": 10,
   "id": "3f02593f-d800-476b-821e-03eed5f9de1e",
   "metadata": {},
   "outputs": [
    {
     "data": {
      "text/plain": [
       "1000"
      ]
     },
     "execution_count": 10,
     "metadata": {},
     "output_type": "execute_result"
    }
   ],
   "source": [
    "cube=lambda n:n**3\n",
    "cube(10)"
   ]
  },
  {
   "cell_type": "markdown",
   "id": "79f4b9f9-52e2-4b76-abfa-d729ba229240",
   "metadata": {},
   "source": [
    "$pattern-2$"
   ]
  },
  {
   "cell_type": "markdown",
   "id": "328b6c68-dd92-45ce-88d0-5851a88ebb33",
   "metadata": {},
   "source": [
    "**Two arguments**"
   ]
  },
  {
   "cell_type": "code",
   "execution_count": 13,
   "id": "da2f6dc0-0506-449a-b0f5-45227674d6ad",
   "metadata": {},
   "outputs": [],
   "source": [
    "#syntax: <function name>=lambda <arg1>,<arg2>:<return output>"
   ]
  },
  {
   "cell_type": "code",
   "execution_count": 14,
   "id": "2dc8546c-c7c0-4b84-8fe5-83ee6e0bef46",
   "metadata": {},
   "outputs": [
    {
     "name": "stdout",
     "output_type": "stream",
     "text": [
      "30\n"
     ]
    }
   ],
   "source": [
    "def add(a,b):\n",
    "    print(a+b)\n",
    "add(10,20)    "
   ]
  },
  {
   "cell_type": "code",
   "execution_count": 15,
   "id": "d734fb61-8c7e-4487-ab44-a9a3997fec71",
   "metadata": {},
   "outputs": [
    {
     "data": {
      "text/plain": [
       "210"
      ]
     },
     "execution_count": 15,
     "metadata": {},
     "output_type": "execute_result"
    }
   ],
   "source": [
    "add=lambda a,b:a+b\n",
    "add(10,200)"
   ]
  },
  {
   "cell_type": "code",
   "execution_count": 19,
   "id": "72cf6c7b-328e-47fa-be90-cbf4dfbc51db",
   "metadata": {},
   "outputs": [
    {
     "data": {
      "text/plain": [
       "2.0"
      ]
     },
     "execution_count": 19,
     "metadata": {},
     "output_type": "execute_result"
    }
   ],
   "source": [
    "avg=lambda a,b,c:(a+b+c)/3\n",
    "avg(1,2,3)\n"
   ]
  },
  {
   "cell_type": "markdown",
   "id": "ec9a2c61-7073-4775-b310-2e03adc82fed",
   "metadata": {},
   "source": [
    "$pattern-3$"
   ]
  },
  {
   "cell_type": "markdown",
   "id": "ed235e48-01af-4543-a18d-5086b0c7fc5d",
   "metadata": {},
   "source": [
    "**Default arguments**"
   ]
  },
  {
   "cell_type": "code",
   "execution_count": 20,
   "id": "e75f1d92-375e-462e-a113-078bb80d0a5b",
   "metadata": {},
   "outputs": [
    {
     "data": {
      "text/plain": [
       "183.33"
      ]
     },
     "execution_count": 20,
     "metadata": {},
     "output_type": "execute_result"
    }
   ],
   "source": [
    "avg=lambda a,b,c=500:round((a+b+c)/3,2)\n",
    "avg(10,40)"
   ]
  },
  {
   "cell_type": "markdown",
   "id": "0715350e-371b-4e2c-b947-dc7901c8fead",
   "metadata": {},
   "source": [
    "$pattern-4$"
   ]
  },
  {
   "cell_type": "markdown",
   "id": "d343e49a-aafe-4661-beef-b48ef35bfd4e",
   "metadata": {},
   "source": [
    "**if-else**"
   ]
  },
  {
   "cell_type": "code",
   "execution_count": 21,
   "id": "7de5f677-8cc0-44b4-be58-c2fd27282bf3",
   "metadata": {},
   "outputs": [
    {
     "name": "stdout",
     "output_type": "stream",
     "text": [
      "20\n"
     ]
    }
   ],
   "source": [
    "def max(a,b):\n",
    "    if a>b:\n",
    "        print(a)\n",
    "    else:\n",
    "        print(b)\n",
    "max(10,20)        "
   ]
  },
  {
   "cell_type": "code",
   "execution_count": 23,
   "id": "050f6224-262e-4ccf-8e66-545300689545",
   "metadata": {},
   "outputs": [],
   "source": [
    "#syntax : function name =lambda <arg1>,<arg2>: <list comprehenssion>\n",
    "#syntax : function name =lambda <arg1>,<arg2>: <if_out><if_cond><else><else_out>"
   ]
  },
  {
   "cell_type": "code",
   "execution_count": 25,
   "id": "e805fecb-a427-420c-b313-f700a8ac99d6",
   "metadata": {},
   "outputs": [
    {
     "data": {
      "text/plain": [
       "200"
      ]
     },
     "execution_count": 25,
     "metadata": {},
     "output_type": "execute_result"
    }
   ],
   "source": [
    "max =lambda a,b: a if a>b else b\n",
    "max(10,200)"
   ]
  },
  {
   "cell_type": "markdown",
   "id": "4850f30f-5efe-4b8c-b1b3-00bff8d06147",
   "metadata": {},
   "source": [
    "$pattern-5$"
   ]
  },
  {
   "cell_type": "markdown",
   "id": "aaa36688-34c3-49ca-a44a-61ae88dd6aa0",
   "metadata": {},
   "source": [
    "**using list**"
   ]
  },
  {
   "cell_type": "code",
   "execution_count": 27,
   "id": "81b2579f-85a1-4894-a3eb-6966df0ef671",
   "metadata": {},
   "outputs": [
    {
     "data": {
      "text/plain": [
       "['Hyd', 'Chennai', 'Mumbai']"
      ]
     },
     "execution_count": 27,
     "metadata": {},
     "output_type": "execute_result"
    }
   ],
   "source": [
    "l=['hyd','chennai','mumbai']\n",
    "op=[]\n",
    "for i in l:\n",
    "    op.append(i.capitalize())\n",
    "op    "
   ]
  },
  {
   "cell_type": "code",
   "execution_count": null,
   "id": "03c83ead-6e31-4dc2-b37a-231800138017",
   "metadata": {},
   "outputs": [],
   "source": [
    "lambda <variable>:<op>\n",
    "#variable:i\n",
    "#op:i.capitalize()\n",
    "lambda <variable>:<op>,<iterator>\n",
    "#<iterator>:list"
   ]
  },
  {
   "cell_type": "code",
   "execution_count": 34,
   "id": "efe5dc67-793c-4199-99b0-bd1f00fbca63",
   "metadata": {},
   "outputs": [
    {
     "data": {
      "text/plain": [
       "(<function __main__.<lambda>(i)>, ['hyd', 'chennai'])"
      ]
     },
     "execution_count": 34,
     "metadata": {},
     "output_type": "execute_result"
    }
   ],
   "source": [
    "l=['hyd','chennai']\n",
    "lambda i:i.capitalize(),l\n"
   ]
  },
  {
   "cell_type": "markdown",
   "id": "449556f2-d703-4cfe-9922-9e6cfbbcc8c2",
   "metadata": {},
   "source": [
    "**map**"
   ]
  },
  {
   "cell_type": "markdown",
   "id": "84ded388-5f3e-4d8e-9887-edec687d9873",
   "metadata": {},
   "source": [
    "- the function and iterator are available now\n",
    "\n",
    "- we need to map both"
   ]
  },
  {
   "cell_type": "code",
   "execution_count": 35,
   "id": "823d903a-1f10-4846-bde3-7fb809eae7b7",
   "metadata": {},
   "outputs": [
    {
     "data": {
      "text/plain": [
       "<map at 0x2324644a980>"
      ]
     },
     "execution_count": 35,
     "metadata": {},
     "output_type": "execute_result"
    }
   ],
   "source": [
    "l=['hyd','chennai']\n",
    "map(lambda i:i.capitalize(),l)"
   ]
  },
  {
   "cell_type": "code",
   "execution_count": 36,
   "id": "45a563e5-e605-4908-bab6-d4947f28d391",
   "metadata": {},
   "outputs": [],
   "source": [
    "#apply the list to see the values"
   ]
  },
  {
   "cell_type": "code",
   "execution_count": 37,
   "id": "e962422f-9e23-40d8-b48d-71022728a5ee",
   "metadata": {},
   "outputs": [
    {
     "data": {
      "text/plain": [
       "['Hyd', 'Chennai']"
      ]
     },
     "execution_count": 37,
     "metadata": {},
     "output_type": "execute_result"
    }
   ],
   "source": [
    "l=['hyd','chennai']\n",
    "list(map(lambda i:i.capitalize(),l))"
   ]
  },
  {
   "cell_type": "code",
   "execution_count": 38,
   "id": "b87a13e9-cf93-4622-af54-ebea2baa4c39",
   "metadata": {},
   "outputs": [
    {
     "data": {
      "text/plain": [
       "('Hyd', 'Chennai')"
      ]
     },
     "execution_count": 38,
     "metadata": {},
     "output_type": "execute_result"
    }
   ],
   "source": [
    "l=['hyd','chennai']\n",
    "tuple(map(lambda i:i.capitalize(),l))"
   ]
  },
  {
   "cell_type": "code",
   "execution_count": 39,
   "id": "91c88c84-7134-4a56-b9a5-dcf80b271ac3",
   "metadata": {},
   "outputs": [
    {
     "data": {
      "text/plain": [
       "{'Chennai', 'Hyd'}"
      ]
     },
     "execution_count": 39,
     "metadata": {},
     "output_type": "execute_result"
    }
   ],
   "source": [
    "l=['hyd','chennai']\n",
    "set(map(lambda i:i.capitalize(),l))"
   ]
  },
  {
   "cell_type": "code",
   "execution_count": null,
   "id": "2ce6eed1-9409-4a54-b93e-76576669c295",
   "metadata": {},
   "outputs": [],
   "source": [
    "- case:1 Function call with one argument\n",
    "\n",
    "    - lambda arguments : Expression\n",
    "\n",
    "    - lambda variables : return output\n",
    "\n",
    "- case 2 : Function call with Two arguments\n",
    "\n",
    "- case 3: Function call with Default arguments\n",
    "\n",
    "    - lambda arg1,arg2=500 : Expression\n",
    "\n",
    "    - lambda var1,var2=500 : return output\n",
    "\n",
    "- case 4: Functio"
   ]
  },
  {
   "cell_type": "code",
   "execution_count": 1,
   "id": "024baa71-13f8-4daf-9aaf-3a30be3c2695",
   "metadata": {},
   "outputs": [
    {
     "name": "stdout",
     "output_type": "stream",
     "text": [
      "HYD\n",
      "CHENNAI\n",
      "MUMBAI\n"
     ]
    }
   ],
   "source": [
    "l=['hyd','chennai','mumbai']\n",
    "for i in l:\n",
    "    print(i.upper())"
   ]
  },
  {
   "cell_type": "code",
   "execution_count": 3,
   "id": "b50e5217-44a5-4b85-ab98-b94a01091ee0",
   "metadata": {},
   "outputs": [
    {
     "data": {
      "text/plain": [
       "<function __main__.<lambda>(i)>"
      ]
     },
     "execution_count": 3,
     "metadata": {},
     "output_type": "execute_result"
    }
   ],
   "source": [
    "lambda i:i.upper()"
   ]
  },
  {
   "cell_type": "code",
   "execution_count": 4,
   "id": "8f73a69e-f709-40c7-b3d6-22223710db74",
   "metadata": {},
   "outputs": [
    {
     "data": {
      "text/plain": [
       "(<function __main__.<lambda>(i)>, ['hyd', 'chennai', 'mumbai'])"
      ]
     },
     "execution_count": 4,
     "metadata": {},
     "output_type": "execute_result"
    }
   ],
   "source": [
    "lambda i:i.upper(),l"
   ]
  },
  {
   "cell_type": "code",
   "execution_count": 5,
   "id": "6b66225f-39c2-4793-99be-6e188441b7f6",
   "metadata": {},
   "outputs": [
    {
     "data": {
      "text/plain": [
       "['HYD', 'CHENNAI', 'MUMBAI']"
      ]
     },
     "execution_count": 5,
     "metadata": {},
     "output_type": "execute_result"
    }
   ],
   "source": [
    "list(map(lambda i:i.upper(),l))\n"
   ]
  },
  {
   "cell_type": "code",
   "execution_count": 8,
   "id": "05bd29e6-d20d-41ef-b664-ce8948b25be1",
   "metadata": {},
   "outputs": [
    {
     "name": "stdout",
     "output_type": "stream",
     "text": [
      "chen#nai\n",
      "mum#bai\n"
     ]
    }
   ],
   "source": [
    "l=['hyd','chen#nai','mum#bai','bnglr']\n",
    "for i in l:\n",
    "    if '#' in i:\n",
    "        print(i)"
   ]
  },
  {
   "cell_type": "code",
   "execution_count": 9,
   "id": "5b81a7f8-8491-485f-9d9f-a7f7aadc2d00",
   "metadata": {},
   "outputs": [
    {
     "data": {
      "text/plain": [
       "[False, True, True, False]"
      ]
     },
     "execution_count": 9,
     "metadata": {},
     "output_type": "execute_result"
    }
   ],
   "source": [
    "list(map(lambda i :'#' in i,l))"
   ]
  },
  {
   "cell_type": "markdown",
   "id": "0efaf428-d61a-4421-8645-8d3b213dac84",
   "metadata": {},
   "source": [
    "**Filter**"
   ]
  },
  {
   "cell_type": "markdown",
   "id": "bca263ee-d591-43c6-9c67-cc98799351f9",
   "metadata": {},
   "source": [
    "- whenever if conditions are there use filters"
   ]
  },
  {
   "cell_type": "code",
   "execution_count": 14,
   "id": "6bc7441e-8429-418f-8e50-1691dff45999",
   "metadata": {},
   "outputs": [
    {
     "data": {
      "text/plain": [
       "[False, True, True, False]"
      ]
     },
     "execution_count": 14,
     "metadata": {},
     "output_type": "execute_result"
    }
   ],
   "source": [
    "list(map(lambda i :'#' in i,l))"
   ]
  },
  {
   "cell_type": "code",
   "execution_count": 15,
   "id": "57aab960-c90d-4aae-af13-68200b4b0520",
   "metadata": {},
   "outputs": [
    {
     "data": {
      "text/plain": [
       "['chen#nai', 'mum#bai']"
      ]
     },
     "execution_count": 15,
     "metadata": {},
     "output_type": "execute_result"
    }
   ],
   "source": [
    "list(filter(lambda i :'#' in i,l))"
   ]
  },
  {
   "cell_type": "code",
   "execution_count": 19,
   "id": "68a4b28f-2da2-4a10-bfd2-c70b5fe638a6",
   "metadata": {},
   "outputs": [
    {
     "name": "stdout",
     "output_type": "stream",
     "text": [
      "2\n",
      "6\n"
     ]
    }
   ],
   "source": [
    "l=[1,3,2,7,6]\n",
    "for i in l:\n",
    "    if i % 2 ==0 :\n",
    "        print(i)"
   ]
  },
  {
   "cell_type": "code",
   "execution_count": 21,
   "id": "7ae73e84-458f-4a29-abbe-50b4e5170bfe",
   "metadata": {},
   "outputs": [
    {
     "data": {
      "text/plain": [
       "[2, 6]"
      ]
     },
     "execution_count": 21,
     "metadata": {},
     "output_type": "execute_result"
    }
   ],
   "source": [
    "list(filter(lambda i :  i % 2 ==0,l))"
   ]
  },
  {
   "cell_type": "code",
   "execution_count": 22,
   "id": "28c68590-eb9c-415e-aa41-40ada62b7575",
   "metadata": {},
   "outputs": [
    {
     "data": {
      "text/plain": [
       "15"
      ]
     },
     "execution_count": 22,
     "metadata": {},
     "output_type": "execute_result"
    }
   ],
   "source": [
    "l1=[1,2,3,4,5]\n",
    "sum(l1)"
   ]
  },
  {
   "cell_type": "code",
   "execution_count": 23,
   "id": "7e7a66a7-c7d5-4534-84e6-71c7d4a98e2d",
   "metadata": {},
   "outputs": [
    {
     "name": "stdout",
     "output_type": "stream",
     "text": [
      "15\n"
     ]
    }
   ],
   "source": [
    "summ=0\n",
    "for i in l1:\n",
    "    summ=summ+i\n",
    "print(summ)    "
   ]
  },
  {
   "cell_type": "code",
   "execution_count": 31,
   "id": "fde00dcd-9e1b-47e4-8a95-1e5c886a98c0",
   "metadata": {},
   "outputs": [
    {
     "data": {
      "text/plain": [
       "<filter at 0x1c208d44ca0>"
      ]
     },
     "execution_count": 31,
     "metadata": {},
     "output_type": "execute_result"
    }
   ],
   "source": [
    "l1=[1,2,3,4,5]\n",
    "filter(lambda summ,i:sum+i,l1)"
   ]
  },
  {
   "cell_type": "markdown",
   "id": "c88fc8f0-dcd7-42bd-bcc5-56ecf7b3bdb1",
   "metadata": {},
   "source": [
    "**Reduce**"
   ]
  },
  {
   "cell_type": "markdown",
   "id": "5378bd2e-28e2-465c-a4ad-7ebfa99a34ee",
   "metadata": {},
   "source": [
    "- all inbuilt func(sum,max,min,len etc) can achieve by reduce\n",
    "\n",
    "- reduce is available from functools package\n",
    "\n",
    "- level 1: reduce(lambda sum,i:sum+i,l1)\n",
    "\n",
    "- level2:filter(lambda sum,i:sum+i,l1,initial_value)\n",
    "\n",
    "- for ex we want initialize sum=0 then we choose level-1\n",
    "\n",
    "- for ex we want start with other than zero we choose level-2"
   ]
  },
  {
   "cell_type": "code",
   "execution_count": 32,
   "id": "d0c26815-1c67-4006-9ad1-09938c9cb0b9",
   "metadata": {},
   "outputs": [],
   "source": [
    "import functools"
   ]
  },
  {
   "cell_type": "code",
   "execution_count": 33,
   "id": "8fc6c73f-fbf4-461f-aa2e-7770d2d61b37",
   "metadata": {},
   "outputs": [
    {
     "data": {
      "text/plain": [
       "['GenericAlias',\n",
       " 'RLock',\n",
       " 'WRAPPER_ASSIGNMENTS',\n",
       " 'WRAPPER_UPDATES',\n",
       " '_CacheInfo',\n",
       " '_HashedSeq',\n",
       " '_NOT_FOUND',\n",
       " '__all__',\n",
       " '__builtins__',\n",
       " '__cached__',\n",
       " '__doc__',\n",
       " '__file__',\n",
       " '__loader__',\n",
       " '__name__',\n",
       " '__package__',\n",
       " '__spec__',\n",
       " '_c3_merge',\n",
       " '_c3_mro',\n",
       " '_compose_mro',\n",
       " '_convert',\n",
       " '_find_impl',\n",
       " '_ge_from_gt',\n",
       " '_ge_from_le',\n",
       " '_ge_from_lt',\n",
       " '_gt_from_ge',\n",
       " '_gt_from_le',\n",
       " '_gt_from_lt',\n",
       " '_initial_missing',\n",
       " '_le_from_ge',\n",
       " '_le_from_gt',\n",
       " '_le_from_lt',\n",
       " '_lru_cache_wrapper',\n",
       " '_lt_from_ge',\n",
       " '_lt_from_gt',\n",
       " '_lt_from_le',\n",
       " '_make_key',\n",
       " '_unwrap_partial',\n",
       " 'cache',\n",
       " 'cached_property',\n",
       " 'cmp_to_key',\n",
       " 'get_cache_token',\n",
       " 'lru_cache',\n",
       " 'namedtuple',\n",
       " 'partial',\n",
       " 'partialmethod',\n",
       " 'recursive_repr',\n",
       " 'reduce',\n",
       " 'singledispatch',\n",
       " 'singledispatchmethod',\n",
       " 'total_ordering',\n",
       " 'update_wrapper',\n",
       " 'wraps']"
      ]
     },
     "execution_count": 33,
     "metadata": {},
     "output_type": "execute_result"
    }
   ],
   "source": [
    "dir(functools)"
   ]
  },
  {
   "cell_type": "code",
   "execution_count": 35,
   "id": "e292f84b-07c6-43c6-add1-17d870af0edf",
   "metadata": {},
   "outputs": [
    {
     "data": {
      "text/plain": [
       "15"
      ]
     },
     "execution_count": 35,
     "metadata": {},
     "output_type": "execute_result"
    }
   ],
   "source": [
    "l1=[1,2,3,4,5]\n",
    "functools.reduce(lambda summ,i :summ+i,l1)"
   ]
  },
  {
   "cell_type": "code",
   "execution_count": 37,
   "id": "4c096801-cd8f-4613-8a38-0129faeabcb5",
   "metadata": {},
   "outputs": [
    {
     "data": {
      "text/plain": [
       "18"
      ]
     },
     "execution_count": 37,
     "metadata": {},
     "output_type": "execute_result"
    }
   ],
   "source": [
    "from functools import reduce\n",
    "l1=[1,4,6,7]\n",
    "reduce(lambda summ,i:summ+i,l1)"
   ]
  },
  {
   "cell_type": "code",
   "execution_count": 38,
   "id": "7ab6c59a-7fd8-4264-b475-f8ee96896b65",
   "metadata": {},
   "outputs": [
    {
     "data": {
      "text/plain": [
       "20"
      ]
     },
     "execution_count": 38,
     "metadata": {},
     "output_type": "execute_result"
    }
   ],
   "source": [
    "import functools as ft\n",
    "l1=[5,7,8]\n",
    "ft.reduce(lambda summ,i:summ+i,l1)"
   ]
  },
  {
   "cell_type": "code",
   "execution_count": 39,
   "id": "e24ac990-85b3-45bb-a74c-8d76d778e140",
   "metadata": {},
   "outputs": [
    {
     "data": {
      "text/plain": [
       "168"
      ]
     },
     "execution_count": 39,
     "metadata": {},
     "output_type": "execute_result"
    }
   ],
   "source": [
    "from functools import reduce\n",
    "l1=[1,4,6,7]\n",
    "reduce(lambda mul,i:mul*i,l1)"
   ]
  },
  {
   "cell_type": "code",
   "execution_count": null,
   "id": "84cf3b94-b231-402f-a8e9-08410331a74e",
   "metadata": {},
   "outputs": [],
   "source": []
  }
 ],
 "metadata": {
  "kernelspec": {
   "display_name": "Python 3 (ipykernel)",
   "language": "python",
   "name": "python3"
  },
  "language_info": {
   "codemirror_mode": {
    "name": "ipython",
    "version": 3
   },
   "file_extension": ".py",
   "mimetype": "text/x-python",
   "name": "python",
   "nbconvert_exporter": "python",
   "pygments_lexer": "ipython3",
   "version": "3.11.7"
  }
 },
 "nbformat": 4,
 "nbformat_minor": 5
}
