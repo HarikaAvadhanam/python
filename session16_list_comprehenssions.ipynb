{
 "cells": [
  {
   "cell_type": "markdown",
   "id": "a9ac1777-3172-4978-bf1e-04bb33ce9dce",
   "metadata": {},
   "source": [
    "- we can store the output values by using append operations\n",
    "\n",
    "- we are taking empty list\n",
    "\n",
    "- we are iterating through elements from a given list\n",
    "\n",
    "- the result we are appendng in a new list"
   ]
  },
  {
   "cell_type": "code",
   "execution_count": 2,
   "id": "12a91fc7-17de-4850-ba40-e0166a8722ca",
   "metadata": {},
   "outputs": [
    {
     "data": {
      "text/plain": [
       "[0, 1, 4, 9, 16, 25, 36, 49, 64, 81]"
      ]
     },
     "execution_count": 2,
     "metadata": {},
     "output_type": "execute_result"
    }
   ],
   "source": [
    "sqr_list=[]\n",
    "for i in range(10):\n",
    "    sqr_list.append(i*i)\n",
    "sqr_list    "
   ]
  },
  {
   "cell_type": "markdown",
   "id": "bc8010dc-3db1-4962-a161-1ee93672bb1c",
   "metadata": {},
   "source": [
    "- There are almost 3 lines are there in the process\n",
    "\n",
    "- the three lines we can make into a single line\n",
    "\n",
    "- this is called as LIST COMPREHENSSION"
   ]
  },
  {
   "cell_type": "markdown",
   "id": "e5d0e937-e146-41f3-b8fa-1f8dbde1d1d4",
   "metadata": {},
   "source": [
    "$pattern-1$"
   ]
  },
  {
   "cell_type": "markdown",
   "id": "5a156740-fc2f-464a-8ec3-14c91c5a4c22",
   "metadata": {},
   "source": [
    "**only for loop**"
   ]
  },
  {
   "cell_type": "code",
   "execution_count": 3,
   "id": "493a7d65-9d5f-43a6-b9d9-6b7c2609f704",
   "metadata": {},
   "outputs": [],
   "source": [
    "#syntax\n",
    "#[<output> <for loop>]"
   ]
  },
  {
   "cell_type": "code",
   "execution_count": 5,
   "id": "bf83e58b-f0a4-4f3e-a79c-85a585b0cd00",
   "metadata": {},
   "outputs": [
    {
     "data": {
      "text/plain": [
       "[0, 1, 4, 9, 16, 25, 36, 49, 64, 81]"
      ]
     },
     "execution_count": 5,
     "metadata": {},
     "output_type": "execute_result"
    }
   ],
   "source": [
    "sqr_list=[]\n",
    "for i in range(10):\n",
    "    sqr_list.append(i*i)\n",
    "sqr_list    \n",
    "\n",
    "#What is the output?\n",
    "#what is the output list name?\n",
    "#what is the for loop?\n",
    "##[<output> <for loop>]\n",
    "sq_list=[i*i for i in range(10)]\n",
    "sq_list\n"
   ]
  },
  {
   "cell_type": "code",
   "execution_count": 14,
   "id": "e5806b66-9829-4867-ac22-b4871dd79de2",
   "metadata": {},
   "outputs": [
    {
     "name": "stdout",
     "output_type": "stream",
     "text": [
      "HYD\n",
      "MUMBAI\n",
      "CHENNAI\n",
      "BLR\n"
     ]
    }
   ],
   "source": [
    "l1=['hyd','mumbai','chennai','blr']\n",
    "for i in l1:\n",
    "    print(i.upper())"
   ]
  },
  {
   "cell_type": "code",
   "execution_count": 17,
   "id": "771e4a0d-0ecc-47a0-b2a4-e56c50212bcb",
   "metadata": {},
   "outputs": [
    {
     "data": {
      "text/plain": [
       "['HYD', 'MUMBAI', 'CHENNAI', 'BLR']"
      ]
     },
     "execution_count": 17,
     "metadata": {},
     "output_type": "execute_result"
    }
   ],
   "source": [
    "l1=['hyd','mumbai','chennai','blr']\n",
    "upp_list=[i.upper() for i in l1]\n",
    "upp_list"
   ]
  },
  {
   "cell_type": "code",
   "execution_count": 18,
   "id": "c556f63c-7438-48fe-9ece-64c794c0cd26",
   "metadata": {},
   "outputs": [
    {
     "name": "stdout",
     "output_type": "stream",
     "text": [
      "hyd\n",
      "mumbai\n",
      "chennai\n",
      "blr\n"
     ]
    }
   ],
   "source": [
    "l2=['HYD', 'MUMBAI', 'CHENNAI', 'BLR']\n",
    "for i in l2:\n",
    "    print(i.lower())"
   ]
  },
  {
   "cell_type": "code",
   "execution_count": 20,
   "id": "70d4f536-bbba-474a-a49f-f88a54423348",
   "metadata": {},
   "outputs": [
    {
     "data": {
      "text/plain": [
       "['hyd', 'mumbai', 'chennai', 'blr']"
      ]
     },
     "execution_count": 20,
     "metadata": {},
     "output_type": "execute_result"
    }
   ],
   "source": [
    "l2=['HYD', 'MUMBAI', 'CHENNAI', 'BLR']\n",
    "lower_list=[i.lower() for i in l2]\n",
    "lower_list"
   ]
  },
  {
   "cell_type": "code",
   "execution_count": 24,
   "id": "1fd1c8e0-e7f2-4f4c-bec4-f880fde64644",
   "metadata": {},
   "outputs": [
    {
     "name": "stdout",
     "output_type": "stream",
     "text": [
      "0\n",
      "1\n",
      "2\n",
      "3\n"
     ]
    }
   ],
   "source": [
    "#sum of the index of all elements\n",
    "l1=['hyd','mumbai','chennai','blr']\n",
    "for i in l1:\n",
    "    print(l1.index(i))"
   ]
  },
  {
   "cell_type": "code",
   "execution_count": 25,
   "id": "f987d0e2-46f3-4ada-a913-9d248c5dbeed",
   "metadata": {},
   "outputs": [
    {
     "data": {
      "text/plain": [
       "6"
      ]
     },
     "execution_count": 25,
     "metadata": {},
     "output_type": "execute_result"
    }
   ],
   "source": [
    "idx_list=[l1.index(i) for i in l1]\n",
    "sum(idx_list)"
   ]
  },
  {
   "cell_type": "markdown",
   "id": "c7bdee65-0d0a-496c-bed2-181d8586ff60",
   "metadata": {},
   "source": [
    "$pattern-2$"
   ]
  },
  {
   "cell_type": "markdown",
   "id": "a3258009-451a-446b-8dd4-972d7a53cc1b",
   "metadata": {},
   "source": [
    "**for loop - if condition**"
   ]
  },
  {
   "cell_type": "code",
   "execution_count": 27,
   "id": "b61a23aa-c400-45fa-a6d2-0f413e54792c",
   "metadata": {},
   "outputs": [],
   "source": [
    "#syntax\n",
    "#[<output> <for loop> <if condition>]"
   ]
  },
  {
   "cell_type": "code",
   "execution_count": 29,
   "id": "69b5815c-0c8c-4ad4-88e1-61956795ba0d",
   "metadata": {},
   "outputs": [
    {
     "name": "stdout",
     "output_type": "stream",
     "text": [
      "Mumbai\n",
      "Chennai\n"
     ]
    }
   ],
   "source": [
    "l1=['Hyd','Mumbai','Chennai','Blr']\n",
    "for i in l1:\n",
    "    if len(i)>4:\n",
    "        print(i)"
   ]
  },
  {
   "cell_type": "code",
   "execution_count": 30,
   "id": "afeb18c6-1352-4f46-9dff-220b18bf3d4f",
   "metadata": {},
   "outputs": [
    {
     "data": {
      "text/plain": [
       "['Mumbai', 'Chennai']"
      ]
     },
     "execution_count": 30,
     "metadata": {},
     "output_type": "execute_result"
    }
   ],
   "source": [
    "len_list=[i for i in l1 if len(i)>4]\n",
    "len_list"
   ]
  },
  {
   "cell_type": "code",
   "execution_count": 32,
   "id": "caa9b4c3-edea-4ee8-8e4e-457d667bf5ff",
   "metadata": {},
   "outputs": [
    {
     "name": "stdout",
     "output_type": "stream",
     "text": [
      "mum#bai\n",
      "chenn#ai\n"
     ]
    }
   ],
   "source": [
    "l1=['hyd','mum#bai','chenn#ai','blr']\n",
    "for i in l1:\n",
    "    if '#' in i:\n",
    "        print(i)"
   ]
  },
  {
   "cell_type": "code",
   "execution_count": 40,
   "id": "d1686b21-540d-4a41-a911-b2a054670632",
   "metadata": {},
   "outputs": [
    {
     "data": {
      "text/plain": [
       "['mum#bai', 'chenn#ai']"
      ]
     },
     "execution_count": 40,
     "metadata": {},
     "output_type": "execute_result"
    }
   ],
   "source": [
    "l1=['hyd','mum#bai','chenn#ai','blr']\n",
    "op=[i for i in l1 if '#' in i]\n",
    "op"
   ]
  },
  {
   "cell_type": "code",
   "execution_count": 35,
   "id": "4ab9b934-640e-46ca-afae-b1dd76485fbf",
   "metadata": {},
   "outputs": [
    {
     "data": {
      "text/plain": [
       "['hyd', 'blr']"
      ]
     },
     "execution_count": 35,
     "metadata": {},
     "output_type": "execute_result"
    }
   ],
   "source": [
    "op_not=[i for i in l1 if '#' not in i]\n",
    "op_not"
   ]
  },
  {
   "cell_type": "code",
   "execution_count": 37,
   "id": "ebd582c3-041a-4f82-a05a-f38540a75b78",
   "metadata": {},
   "outputs": [
    {
     "data": {
      "text/plain": [
       "['Hyd', 'Mumbai', 'Chennai']"
      ]
     },
     "execution_count": 37,
     "metadata": {},
     "output_type": "execute_result"
    }
   ],
   "source": [
    "l1=['Hyd','Mumbai','Chennai','blr']\n",
    "title=[i for i in l1 if i.istitle()]\n",
    "title"
   ]
  },
  {
   "cell_type": "code",
   "execution_count": 43,
   "id": "b30590e7-cbca-4f77-ae3b-7a05ddc9a5ed",
   "metadata": {},
   "outputs": [
    {
     "data": {
      "text/plain": [
       "'virat.kohli@rcb.com'"
      ]
     },
     "execution_count": 43,
     "metadata": {},
     "output_type": "execute_result"
    }
   ],
   "source": [
    "str1='virat.kohli@rcb.com, Rohit.sharma@mi.com'\n",
    "list1=str1.split(',')\n",
    "list1[0]"
   ]
  },
  {
   "cell_type": "code",
   "execution_count": 45,
   "id": "bf188dbf-955d-4e2a-85ca-d7921a10905b",
   "metadata": {},
   "outputs": [
    {
     "data": {
      "text/plain": [
       "5"
      ]
     },
     "execution_count": 45,
     "metadata": {},
     "output_type": "execute_result"
    }
   ],
   "source": [
    "str1='virat.kohli@rcb.com, Rohit.sharma@mi.com'\n",
    "list1=str1.split(',')\n",
    "list1[0].index('.')"
   ]
  },
  {
   "cell_type": "code",
   "execution_count": 46,
   "id": "ebcfefc9-93db-4df0-a6b3-a2180a5c0712",
   "metadata": {},
   "outputs": [
    {
     "data": {
      "text/plain": [
       "'virat'"
      ]
     },
     "execution_count": 46,
     "metadata": {},
     "output_type": "execute_result"
    }
   ],
   "source": [
    "str1='virat.kohli@rcb.com, Rohit.sharma@mi.com'\n",
    "list1=str1.split(',')\n",
    "list1[0][:5]"
   ]
  },
  {
   "cell_type": "code",
   "execution_count": 48,
   "id": "74a48c4e-356b-4aff-9029-5112689b13ee",
   "metadata": {},
   "outputs": [
    {
     "name": "stdout",
     "output_type": "stream",
     "text": [
      "virat\n",
      " Rohit\n"
     ]
    }
   ],
   "source": [
    "for i in list1:\n",
    "    print(i[:i.index('.')])"
   ]
  },
  {
   "cell_type": "markdown",
   "id": "c9a79904-1bc4-41b8-8e3f-a7ababfab324",
   "metadata": {},
   "source": [
    "$pattern-3$"
   ]
  },
  {
   "cell_type": "markdown",
   "id": "9c79658a-7ead-496b-9c05-405ec09e1c41",
   "metadata": {},
   "source": [
    "**if-else**"
   ]
  },
  {
   "cell_type": "code",
   "execution_count": null,
   "id": "6353816c-a367-4d39-8138-5f49f971cc86",
   "metadata": {},
   "outputs": [],
   "source": [
    "[<output> <forloop>] : for loop\n",
    "[<output> <forloop> <if condition>]: for-if\n",
    "[<if_output> <if> <else> <else_output> <for>] : if-else"
   ]
  },
  {
   "cell_type": "markdown",
   "id": "28f50ccf-ca9e-4bad-b0b6-b2ef648addaa",
   "metadata": {},
   "source": [
    "**even-odd**"
   ]
  },
  {
   "cell_type": "code",
   "execution_count": 7,
   "id": "395b8821-c24e-4067-88cc-a7ace5403db9",
   "metadata": {},
   "outputs": [
    {
     "data": {
      "text/plain": [
       "(['even:2',\n",
       "  'even:4',\n",
       "  'even:6',\n",
       "  'even:8',\n",
       "  'even:10',\n",
       "  'even:12',\n",
       "  'even:14',\n",
       "  'even:16',\n",
       "  'even:18'],\n",
       " ['odd:1',\n",
       "  'odd:3',\n",
       "  'odd:5',\n",
       "  'odd:7',\n",
       "  'odd:9',\n",
       "  'odd:11',\n",
       "  'odd:13',\n",
       "  'odd:15',\n",
       "  'odd:17',\n",
       "  'odd:19'])"
      ]
     },
     "execution_count": 7,
     "metadata": {},
     "output_type": "execute_result"
    }
   ],
   "source": [
    "even_list,odd_list=[],[]\n",
    "for i in range(1,20):\n",
    "    if i %2==0:\n",
    "        even_list.append(f\"even:{i}\")\n",
    "    else:\n",
    "       odd_list.append(f\"odd:{i}\")\n",
    "even_list,odd_list       "
   ]
  },
  {
   "cell_type": "code",
   "execution_count": 9,
   "id": "1e8ef579-f46e-4956-893c-4fe878dd9105",
   "metadata": {},
   "outputs": [
    {
     "data": {
      "text/plain": [
       "['odd:1',\n",
       " 'even:2',\n",
       " 'odd:3',\n",
       " 'even:4',\n",
       " 'odd:5',\n",
       " 'even:6',\n",
       " 'odd:7',\n",
       " 'even:8',\n",
       " 'odd:9',\n",
       " 'even:10',\n",
       " 'odd:11',\n",
       " 'even:12',\n",
       " 'odd:13',\n",
       " 'even:14',\n",
       " 'odd:15',\n",
       " 'even:16',\n",
       " 'odd:17',\n",
       " 'even:18',\n",
       " 'odd:19']"
      ]
     },
     "execution_count": 9,
     "metadata": {},
     "output_type": "execute_result"
    }
   ],
   "source": [
    "op_list=[]\n",
    "for i in range(1,20):\n",
    "    if i%2==0:\n",
    "        op_list.append(f\"even:{i}\")\n",
    "    else:\n",
    "        op_list.append(f\"odd:{i}\")   \n",
    "op_list"
   ]
  },
  {
   "cell_type": "code",
   "execution_count": 10,
   "id": "b837bb65-b4f0-461b-8532-190e39364425",
   "metadata": {},
   "outputs": [
    {
     "data": {
      "text/plain": [
       "['odd:1',\n",
       " 'even:2',\n",
       " 'odd:3',\n",
       " 'even:4',\n",
       " 'odd:5',\n",
       " 'even:6',\n",
       " 'odd:7',\n",
       " 'even:8',\n",
       " 'odd:9',\n",
       " 'even:10',\n",
       " 'odd:11',\n",
       " 'even:12',\n",
       " 'odd:13',\n",
       " 'even:14',\n",
       " 'odd:15',\n",
       " 'even:16',\n",
       " 'odd:17',\n",
       " 'even:18',\n",
       " 'odd:19']"
      ]
     },
     "execution_count": 10,
     "metadata": {},
     "output_type": "execute_result"
    }
   ],
   "source": [
    "[f\"even:{i}\" if i%2==0 else f\"odd:{i}\" for i in range(1,20)]"
   ]
  },
  {
   "cell_type": "code",
   "execution_count": null,
   "id": "85f6221c-3d5c-481f-9c89-d6c1bacffdc1",
   "metadata": {},
   "outputs": [],
   "source": []
  }
 ],
 "metadata": {
  "kernelspec": {
   "display_name": "Python 3 (ipykernel)",
   "language": "python",
   "name": "python3"
  },
  "language_info": {
   "codemirror_mode": {
    "name": "ipython",
    "version": 3
   },
   "file_extension": ".py",
   "mimetype": "text/x-python",
   "name": "python",
   "nbconvert_exporter": "python",
   "pygments_lexer": "ipython3",
   "version": "3.11.7"
  }
 },
 "nbformat": 4,
 "nbformat_minor": 5
}
