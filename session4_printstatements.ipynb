{
 "cells": [
  {
   "cell_type": "code",
   "execution_count": 1,
   "id": "438f4a41-29c5-4b1f-8638-3205cafe21a5",
   "metadata": {},
   "outputs": [
    {
     "name": "stdout",
     "output_type": "stream",
     "text": [
      "10\n"
     ]
    }
   ],
   "source": [
    "print(10)"
   ]
  },
  {
   "cell_type": "code",
   "execution_count": 2,
   "id": "dd662321-9e25-4144-9a08-aaa09602baa2",
   "metadata": {},
   "outputs": [
    {
     "name": "stdout",
     "output_type": "stream",
     "text": [
      "python\n"
     ]
    }
   ],
   "source": [
    "print('python')"
   ]
  },
  {
   "cell_type": "code",
   "execution_count": 3,
   "id": "d1e0ac73-fa47-4bab-973d-44f80e66b47e",
   "metadata": {},
   "outputs": [
    {
     "name": "stdout",
     "output_type": "stream",
     "text": [
      "10 20 30\n"
     ]
    }
   ],
   "source": [
    "print(10,20,30)"
   ]
  },
  {
   "cell_type": "code",
   "execution_count": 4,
   "id": "7f6fcff9-6d2d-42d1-923b-6f57b025af4e",
   "metadata": {},
   "outputs": [
    {
     "name": "stdout",
     "output_type": "stream",
     "text": [
      "10 10.5 NareshIT True\n"
     ]
    }
   ],
   "source": [
    "print(10,10.5,'NareshIT',True)"
   ]
  },
  {
   "cell_type": "code",
   "execution_count": 6,
   "id": "6ccea204-1b6a-4aea-a1ce-cd2a32fbd1d0",
   "metadata": {},
   "outputs": [
    {
     "name": "stdout",
     "output_type": "stream",
     "text": [
      "10\n"
     ]
    }
   ],
   "source": [
    "n1=10\n",
    "print(n1)"
   ]
  },
  {
   "cell_type": "code",
   "execution_count": 7,
   "id": "28bafeb3-435c-4947-a8c6-38162fed8e54",
   "metadata": {},
   "outputs": [
    {
     "name": "stdout",
     "output_type": "stream",
     "text": [
      "10 20\n"
     ]
    }
   ],
   "source": [
    "n2=20\n",
    "print(n1,n2)"
   ]
  },
  {
   "cell_type": "code",
   "execution_count": 8,
   "id": "ae6da077-492e-43cc-90db-c23331f2c224",
   "metadata": {},
   "outputs": [
    {
     "name": "stdout",
     "output_type": "stream",
     "text": [
      "10\n",
      "20\n"
     ]
    },
    {
     "data": {
      "text/plain": [
       "(None, None)"
      ]
     },
     "execution_count": 8,
     "metadata": {},
     "output_type": "execute_result"
    }
   ],
   "source": [
    "print(10),print(20)"
   ]
  },
  {
   "cell_type": "code",
   "execution_count": 12,
   "id": "a54b5b3c-003f-4b95-bbe1-095cde42535e",
   "metadata": {},
   "outputs": [
    {
     "name": "stdout",
     "output_type": "stream",
     "text": [
      "addition of  10 and 20 is 30\n"
     ]
    }
   ],
   "source": [
    "a=10\n",
    "b=20\n",
    "c=a+b\n",
    "print(\"addition of \",a,\"and\",b,\"is\",c)"
   ]
  },
  {
   "cell_type": "markdown",
   "id": "0eb74ee0-1d70-46c1-b70b-3ded77e38b71",
   "metadata": {},
   "source": [
    "**format method**"
   ]
  },
  {
   "cell_type": "code",
   "execution_count": 13,
   "id": "7031fe1e-1c38-4fa6-b620-c5e43fcf3f15",
   "metadata": {},
   "outputs": [
    {
     "name": "stdout",
     "output_type": "stream",
     "text": [
      "the addition of 10 and 20 is 30 \n"
     ]
    }
   ],
   "source": [
    "a=10\n",
    "b=20\n",
    "c=a+b\n",
    "print(\"the addition of {} and {} is {} \".format(a,b,c))"
   ]
  },
  {
   "cell_type": "code",
   "execution_count": 23,
   "id": "3c621a5f-2eca-4e37-8892-83eadd558928",
   "metadata": {},
   "outputs": [
    {
     "name": "stdout",
     "output_type": "stream",
     "text": [
      "my name is harika , Im 21 years old Im from obvp\n"
     ]
    }
   ],
   "source": [
    "name='harika'\n",
    "age =21\n",
    "city='obvp'\n",
    "print(\"my name is {} , Im {} years old Im from {}\".format(name,age,city))"
   ]
  },
  {
   "cell_type": "code",
   "execution_count": 26,
   "id": "b552d313-36d2-4925-ae35-e271c86e985b",
   "metadata": {},
   "outputs": [
    {
     "name": "stdout",
     "output_type": "stream",
     "text": [
      "my name is harika , and i want to become data scientist in Google company\n"
     ]
    }
   ],
   "source": [
    "emp_name='harika'\n",
    "emp_role='data scientist'\n",
    "comapny='Google'\n",
    "print(\"my name is {} , and i want to become {} in {} company\".format(emp_name,emp_role,comapny)) "
   ]
  },
  {
   "cell_type": "markdown",
   "id": "fb13ecd1-fd91-443e-a00b-b5d0f74c55fe",
   "metadata": {},
   "source": [
    "**fstring method**"
   ]
  },
  {
   "cell_type": "code",
   "execution_count": 29,
   "id": "f1a347c7-1a2f-4484-ae89-a59575bf3777",
   "metadata": {},
   "outputs": [
    {
     "name": "stdout",
     "output_type": "stream",
     "text": [
      "the addition of100 and 200 is 300\n"
     ]
    }
   ],
   "source": [
    "a=100\n",
    "b=200\n",
    "c=a+b\n",
    "print(f\"the addition of{a} and {b} is {c}\")"
   ]
  },
  {
   "cell_type": "code",
   "execution_count": 31,
   "id": "115c6c2c-f64c-4356-9022-59a6bdb877c4",
   "metadata": {},
   "outputs": [
    {
     "name": "stdout",
     "output_type": "stream",
     "text": [
      "my name is harika,im 21 years old fromobvp\n"
     ]
    }
   ],
   "source": [
    "name='harika'\n",
    "age =21\n",
    "city='obvp'\n",
    "print(f\"my name is {name},im {age} years old from{city}\")"
   ]
  },
  {
   "cell_type": "code",
   "execution_count": 7,
   "id": "26b218d7-f318-440d-a977-f2a458518265",
   "metadata": {},
   "outputs": [
    {
     "name": "stdout",
     "output_type": "stream",
     "text": [
      "the average of 100 and 200 is: 150.0\n",
      "the average of 100 and 200 is 150.0\n"
     ]
    }
   ],
   "source": [
    "num1=100\n",
    "num2=200\n",
    "avg=(num1+num2)/2\n",
    "#the average of 100 and 200 is: 150\n",
    "print(\"the average of {} and {} is: {}\" .format(num1,num2,avg))\n",
    "print(f\"the average of {num1} and {num2} is {avg}\")"
   ]
  },
  {
   "cell_type": "code",
   "execution_count": 12,
   "id": "d473bf5f-26e8-429a-b503-751d1b0b6ce0",
   "metadata": {},
   "outputs": [
    {
     "name": "stdout",
     "output_type": "stream",
     "text": [
      "when radius is 10 and pi is 3.14 then area of circle is 314.0\n",
      "when radius is 10 and pi is 3.14 then area of circle is 314.0\n",
      "area of circle is 314.0\n"
     ]
    }
   ],
   "source": [
    "radius=10\n",
    "pi=3.14\n",
    "area=pi*radius*radius\n",
    "print(\"when radius is {} and pi is {} then area of circle is {}\".format(radius,pi,area))\n",
    "print(f\"when radius is {radius} and pi is {pi} then area of circle is {area}\")\n",
    "print(\"area of circle is {}\".format(area))"
   ]
  },
  {
   "cell_type": "code",
   "execution_count": 17,
   "id": "f9aa995a-5392-4618-8dfe-9dfaad4ba23d",
   "metadata": {},
   "outputs": [
    {
     "name": "stdout",
     "output_type": "stream",
     "text": [
      "area of triangle is 500.0 \n",
      "area of triangle is 500.0 \n"
     ]
    }
   ],
   "source": [
    "base=20\n",
    "height=50\n",
    "area=0.5*base*height\n",
    "print(\"area of triangle is {} \".format(area))\n",
    "print(f\"area of triangle is {area} \")"
   ]
  },
  {
   "cell_type": "code",
   "execution_count": 27,
   "id": "1ae2661c-c070-4bdc-bffa-b26da20f78bd",
   "metadata": {},
   "outputs": [
    {
     "name": "stdout",
     "output_type": "stream",
     "text": [
      "final bill is 1010\n",
      "final bill is 1010\n"
     ]
    }
   ],
   "source": [
    "total_bill=1000 #mistake in logic \n",
    "tip_per=10\n",
    "tip_amount=total_bill*tip_per/100\n",
    "final_bill=total_bill+tip_per\n",
    "print(f\"final bill is {final_bill}\")\n",
    "print(\"final bill is {}\".format(final_bill))"
   ]
  },
  {
   "cell_type": "code",
   "execution_count": 29,
   "id": "4d225848-9a95-4c4c-800f-91e8e144a03a",
   "metadata": {},
   "outputs": [
    {
     "name": "stdout",
     "output_type": "stream",
     "text": [
      "10\n",
      "20\n"
     ]
    },
    {
     "data": {
      "text/plain": [
       "(None, None)"
      ]
     },
     "execution_count": 29,
     "metadata": {},
     "output_type": "execute_result"
    }
   ],
   "source": [
    "print(10),print(20)"
   ]
  },
  {
   "cell_type": "code",
   "execution_count": 30,
   "id": "986cf0df-0b09-454d-9fd3-4f47ce7772c6",
   "metadata": {},
   "outputs": [
    {
     "name": "stdout",
     "output_type": "stream",
     "text": [
      "10 20\n"
     ]
    }
   ],
   "source": [
    "print(10,20)"
   ]
  },
  {
   "cell_type": "markdown",
   "id": "4b30e7f9-cf21-4a25-a750-da1ce48f14b9",
   "metadata": {},
   "source": [
    "**end--operator**"
   ]
  },
  {
   "cell_type": "markdown",
   "id": "0bf524b1-2184-4ad8-b4b6-bf2a96e25c55",
   "metadata": {},
   "source": [
    "- combing multiple print statements in single line"
   ]
  },
  {
   "cell_type": "code",
   "execution_count": 33,
   "id": "fe9f8657-aba5-4cd9-b33f-5e7a53994763",
   "metadata": {},
   "outputs": [
    {
     "name": "stdout",
     "output_type": "stream",
     "text": [
      "10  20\n"
     ]
    }
   ],
   "source": [
    "print(10,end='  ')\n",
    "print(20)"
   ]
  },
  {
   "cell_type": "code",
   "execution_count": 34,
   "id": "169115ae-c965-4354-96d9-24bc6ab49ca9",
   "metadata": {},
   "outputs": [
    {
     "name": "stdout",
     "output_type": "stream",
     "text": [
      "10 & 20\n"
     ]
    }
   ],
   "source": [
    "print(10,end=' & ')\n",
    "print(20)"
   ]
  },
  {
   "cell_type": "code",
   "execution_count": 35,
   "id": "08e227c7-4d2a-4d0d-854c-e6c9c22d3356",
   "metadata": {},
   "outputs": [
    {
     "name": "stdout",
     "output_type": "stream",
     "text": [
      "10 python 20\n"
     ]
    }
   ],
   "source": [
    "print(10,end=' python ')\n",
    "print(20)"
   ]
  },
  {
   "cell_type": "code",
   "execution_count": 39,
   "id": "f0bbca1f-a7c2-429d-a7f9-8353028c10e9",
   "metadata": {},
   "outputs": [
    {
     "name": "stdout",
     "output_type": "stream",
     "text": [
      "10 20 & 30\n"
     ]
    }
   ],
   "source": [
    "print(10,end=' ')\n",
    "print(20,end=' & ')\n",
    "print(30)"
   ]
  },
  {
   "cell_type": "markdown",
   "id": "069fcd30-48b4-4f7c-82c5-770a0d34426a",
   "metadata": {},
   "source": [
    "**separator operator**"
   ]
  },
  {
   "cell_type": "markdown",
   "id": "0c9c8b53-cf34-4d14-b29f-7d696be0ac13",
   "metadata": {},
   "source": [
    "- separate the multiple values in a single print statement"
   ]
  },
  {
   "cell_type": "code",
   "execution_count": 42,
   "id": "621ead71-4428-40ae-b5eb-459cb11b5be5",
   "metadata": {},
   "outputs": [
    {
     "name": "stdout",
     "output_type": "stream",
     "text": [
      "10 & 20 & 30\n"
     ]
    }
   ],
   "source": [
    "print(10,20,30,sep=' & ')"
   ]
  },
  {
   "cell_type": "code",
   "execution_count": 43,
   "id": "d1d5d093-2321-4fe7-a4b5-40592e80e94a",
   "metadata": {},
   "outputs": [
    {
     "name": "stdout",
     "output_type": "stream",
     "text": [
      "10 --> 20 --> 30\n"
     ]
    }
   ],
   "source": [
    "print(10,20,30,sep=' --> ')"
   ]
  },
  {
   "cell_type": "code",
   "execution_count": 46,
   "id": "742b125c-ad70-41ce-b048-0138f668fc93",
   "metadata": {},
   "outputs": [
    {
     "name": "stdout",
     "output_type": "stream",
     "text": [
      "the addition of 10 and 5 is 15.\n"
     ]
    }
   ],
   "source": [
    "print(f\"the addition of {10} and {5} is {10+5}.\")"
   ]
  },
  {
   "cell_type": "code",
   "execution_count": 47,
   "id": "44e3afbe-8eb7-49e5-984c-01627d517c05",
   "metadata": {},
   "outputs": [
    {
     "name": "stdout",
     "output_type": "stream",
     "text": [
      "the addtion of 5 and 3 is 8.\n"
     ]
    }
   ],
   "source": [
    "print('the addtion of 5 and 3 is 8','.',sep='')#no space after 8"
   ]
  },
  {
   "cell_type": "code",
   "execution_count": 48,
   "id": "97d07cb9-6f36-4220-908d-88f036cc47f9",
   "metadata": {},
   "outputs": [
    {
     "name": "stdout",
     "output_type": "stream",
     "text": [
      "the addtion of 5 and 3 is 8 .\n"
     ]
    }
   ],
   "source": [
    "print('the addtion of 5 and 3 is 8','.')#space of 8"
   ]
  },
  {
   "cell_type": "code",
   "execution_count": null,
   "id": "30b6a6d9-b97d-4832-ac87-30ebee3e1a8a",
   "metadata": {},
   "outputs": [],
   "source": []
  }
 ],
 "metadata": {
  "kernelspec": {
   "display_name": "Python 3 (ipykernel)",
   "language": "python",
   "name": "python3"
  },
  "language_info": {
   "codemirror_mode": {
    "name": "ipython",
    "version": 3
   },
   "file_extension": ".py",
   "mimetype": "text/x-python",
   "name": "python",
   "nbconvert_exporter": "python",
   "pygments_lexer": "ipython3",
   "version": "3.11.7"
  }
 },
 "nbformat": 4,
 "nbformat_minor": 5
}
