{
 "cells": [
  {
   "cell_type": "markdown",
   "id": "70b7f81f-88a8-435e-9930-0e7d445887de",
   "metadata": {},
   "source": [
    "## Variables\n",
    "\n",
    "- variables are used to store the values\n",
    "\n",
    "- and values can change"
   ]
  },
  {
   "cell_type": "code",
   "execution_count": 1,
   "id": "a1f04c50-8b3d-4689-b35a-97cc361d133c",
   "metadata": {},
   "outputs": [
    {
     "data": {
      "text/plain": [
       "100"
      ]
     },
     "execution_count": 1,
     "metadata": {},
     "output_type": "execute_result"
    }
   ],
   "source": [
    "number=100 # value 100 stored in a variable name called 'number'\n",
    "number"
   ]
  },
  {
   "cell_type": "code",
   "execution_count": 2,
   "id": "1835def7-39bf-4da5-9a9b-4fc6842e5d94",
   "metadata": {},
   "outputs": [
    {
     "data": {
      "text/plain": [
       "200"
      ]
     },
     "execution_count": 2,
     "metadata": {},
     "output_type": "execute_result"
    }
   ],
   "source": [
    "number=200\n",
    "number"
   ]
  },
  {
   "cell_type": "markdown",
   "id": "11cf0eb9-772b-49c9-a486-82ca403ef471",
   "metadata": {},
   "source": [
    "**Note**\n",
    "\n",
    "- python is step by step process\n",
    "\n",
    "- python will take last output as the latest value\n",
    "\n",
    "- in above code we are using same variable:number\n",
    "\n",
    "- but number value changed twice\n",
    "\n",
    "- first time 100\n",
    "\n",
    "- second time 200\n",
    "\n",
    "- latest value 200"
   ]
  },
  {
   "cell_type": "code",
   "execution_count": 3,
   "id": "e1a52863-cc4b-42f1-a0dd-18c241264b1d",
   "metadata": {},
   "outputs": [
    {
     "data": {
      "text/plain": [
       "200"
      ]
     },
     "execution_count": 3,
     "metadata": {},
     "output_type": "execute_result"
    }
   ],
   "source": [
    "NUMBER=200\n",
    "NUMBER"
   ]
  },
  {
   "cell_type": "code",
   "execution_count": 4,
   "id": "946a9b05-8d71-4590-8e40-c4b235081c5d",
   "metadata": {},
   "outputs": [
    {
     "data": {
      "text/plain": [
       "(200, 200)"
      ]
     },
     "execution_count": 4,
     "metadata": {},
     "output_type": "execute_result"
    }
   ],
   "source": [
    "number , NUMBER\n"
   ]
  },
  {
   "cell_type": "code",
   "execution_count": 5,
   "id": "714d2709-c9c2-4426-b7b9-1f2925068656",
   "metadata": {},
   "outputs": [
    {
     "data": {
      "text/plain": [
       "300"
      ]
     },
     "execution_count": 5,
     "metadata": {},
     "output_type": "execute_result"
    }
   ],
   "source": [
    "NUmber=300\n",
    "NUmber\n"
   ]
  },
  {
   "cell_type": "code",
   "execution_count": 6,
   "id": "ea00f324-08a2-4459-b227-7b6ce73806c9",
   "metadata": {},
   "outputs": [
    {
     "data": {
      "text/plain": [
       "200"
      ]
     },
     "execution_count": 6,
     "metadata": {},
     "output_type": "execute_result"
    }
   ],
   "source": [
    "number123=200\n",
    "number123"
   ]
  },
  {
   "cell_type": "code",
   "execution_count": 7,
   "id": "81e8a352-c7e9-4a31-b4e0-b6f321882837",
   "metadata": {},
   "outputs": [
    {
     "ename": "SyntaxError",
     "evalue": "invalid decimal literal (500108171.py, line 1)",
     "output_type": "error",
     "traceback": [
      "\u001b[1;36m  Cell \u001b[1;32mIn[7], line 1\u001b[1;36m\u001b[0m\n\u001b[1;33m    12num=500\u001b[0m\n\u001b[1;37m     ^\u001b[0m\n\u001b[1;31mSyntaxError\u001b[0m\u001b[1;31m:\u001b[0m invalid decimal literal\n"
     ]
    }
   ],
   "source": [
    "12num=500\n",
    "12num"
   ]
  },
  {
   "cell_type": "code",
   "execution_count": 8,
   "id": "efba6467-c0f7-426a-bd06-d6d8864ce3cf",
   "metadata": {},
   "outputs": [
    {
     "ename": "SyntaxError",
     "evalue": "cannot assign to expression here. Maybe you meant '==' instead of '='? (2187449324.py, line 1)",
     "output_type": "error",
     "traceback": [
      "\u001b[1;36m  Cell \u001b[1;32mIn[8], line 1\u001b[1;36m\u001b[0m\n\u001b[1;33m    num%er=200\u001b[0m\n\u001b[1;37m    ^\u001b[0m\n\u001b[1;31mSyntaxError\u001b[0m\u001b[1;31m:\u001b[0m cannot assign to expression here. Maybe you meant '==' instead of '='?\n"
     ]
    }
   ],
   "source": [
    "num%er=200\n",
    "num%er\n"
   ]
  },
  {
   "cell_type": "code",
   "execution_count": 9,
   "id": "fb9e2b37-bb9f-45bc-b1a9-62c0c5318393",
   "metadata": {},
   "outputs": [
    {
     "data": {
      "text/plain": [
       "100"
      ]
     },
     "execution_count": 9,
     "metadata": {},
     "output_type": "execute_result"
    }
   ],
   "source": [
    "_=100\n",
    "_"
   ]
  },
  {
   "cell_type": "code",
   "execution_count": 10,
   "id": "445965b0-fe29-4e33-8379-1f52c41e9162",
   "metadata": {},
   "outputs": [
    {
     "data": {
      "text/plain": [
       "(100, 200)"
      ]
     },
     "execution_count": 10,
     "metadata": {},
     "output_type": "execute_result"
    }
   ],
   "source": [
    "n1=100,200\n",
    "n1"
   ]
  },
  {
   "cell_type": "code",
   "execution_count": 11,
   "id": "d5b9814c-f70d-47d2-8469-07fef608d7c6",
   "metadata": {},
   "outputs": [
    {
     "data": {
      "text/plain": [
       "(200, 300)"
      ]
     },
     "execution_count": 11,
     "metadata": {},
     "output_type": "execute_result"
    }
   ],
   "source": [
    "n2=200,300\n",
    "n2\n"
   ]
  },
  {
   "cell_type": "code",
   "execution_count": 13,
   "id": "f69c19d4-a4d8-42b1-aea2-8fa71bd7f27d",
   "metadata": {},
   "outputs": [
    {
     "ename": "TypeError",
     "evalue": "cannot unpack non-iterable int object",
     "output_type": "error",
     "traceback": [
      "\u001b[1;31m---------------------------------------------------------------------------\u001b[0m",
      "\u001b[1;31mTypeError\u001b[0m                                 Traceback (most recent call last)",
      "Cell \u001b[1;32mIn[13], line 1\u001b[0m\n\u001b[1;32m----> 1\u001b[0m n2,n3\u001b[38;5;241m=\u001b[39m\u001b[38;5;241m200\u001b[39m\n\u001b[0;32m      2\u001b[0m n2\n",
      "\u001b[1;31mTypeError\u001b[0m: cannot unpack non-iterable int object"
     ]
    }
   ],
   "source": [
    "n2,n3=200\n",
    "n2\n"
   ]
  },
  {
   "cell_type": "code",
   "execution_count": 14,
   "id": "7bcd91fd-a853-44e6-b453-ac01c73dab2e",
   "metadata": {},
   "outputs": [
    {
     "data": {
      "text/plain": [
       "200"
      ]
     },
     "execution_count": 14,
     "metadata": {},
     "output_type": "execute_result"
    }
   ],
   "source": [
    "n4,n5=100,200\n",
    "n4\n",
    "n5"
   ]
  },
  {
   "cell_type": "code",
   "execution_count": 15,
   "id": "c70a8732-6fdb-4bd6-9f73-0096c84e8a5d",
   "metadata": {},
   "outputs": [
    {
     "name": "stdout",
     "output_type": "stream",
     "text": [
      "300\n",
      "400\n"
     ]
    }
   ],
   "source": [
    "n4,n5=300,400\n",
    "print(n4)\n",
    "print(n5)"
   ]
  },
  {
   "cell_type": "markdown",
   "id": "ddf40e92-c503-4c57-937c-0eddea224d3b",
   "metadata": {},
   "source": [
    "number=100 #w\n",
    "\n",
    "Number=200 #w\n",
    "\n",
    "NUMBER=300 #w\n",
    "\n",
    "number123=400#w\n",
    "\n",
    "123number=500#f\n",
    "\n",
    "num%er=600#f\n",
    "\n",
    "number one=700 #f\n",
    "\n",
    "number_one=800 #works\n",
    "\n",
    "_=1000 #w\n",
    "\n",
    "n1=100,200 #w\n",
    "\n",
    "n1,n2=100 #f\n",
    "\n",
    "n1,n2=100,200 #w"
   ]
  },
  {
   "cell_type": "code",
   "execution_count": 17,
   "id": "597540d5-7fde-4949-bf6d-b01f1c236fee",
   "metadata": {},
   "outputs": [],
   "source": [
    "n1,_=100"
   ]
  },
  {
   "cell_type": "markdown",
   "id": "be8dd3b8-6e44-4adb-abf4-de04d2a86a81",
   "metadata": {},
   "source": [
    "- python is case sensitive\n",
    "\n",
    "- variables can declare as captial letters\n",
    "\n",
    "- variables can declare as small letters\n",
    "\n",
    "- cannot start with nums(prefix)\n",
    "\n",
    "- nums can be suffix of varbs\n",
    "\n",
    "- no spcl characters except **_**\n",
    "\n",
    "- no space is allowed\n",
    "\n",
    "- only underscore is allowed as space\n",
    "\n",
    "- keywords cannot use as variables\n",
    "\n",
    "- 2 values can assign to 1 variable\n",
    "\n",
    "- 1 value cannot assign to 2 variables\n",
    "\n"
   ]
  },
  {
   "cell_type": "code",
   "execution_count": null,
   "id": "27365d5b-af36-4fbe-bb5f-a6ffd629ebc1",
   "metadata": {},
   "outputs": [],
   "source": []
  }
 ],
 "metadata": {
  "kernelspec": {
   "display_name": "Python 3 (ipykernel)",
   "language": "python",
   "name": "python3"
  },
  "language_info": {
   "codemirror_mode": {
    "name": "ipython",
    "version": 3
   },
   "file_extension": ".py",
   "mimetype": "text/x-python",
   "name": "python",
   "nbconvert_exporter": "python",
   "pygments_lexer": "ipython3",
   "version": "3.11.7"
  }
 },
 "nbformat": 4,
 "nbformat_minor": 5
}
