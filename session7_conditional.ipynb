{
 "cells": [
  {
   "cell_type": "markdown",
   "id": "ab0fb507-bcbb-4e70-8e33-5e1b560a92e7",
   "metadata": {},
   "source": [
    "**conditional statements**"
   ]
  },
  {
   "cell_type": "markdown",
   "id": "fa5419af-0925-48c8-bb97-5f36d6ae6c08",
   "metadata": {},
   "source": [
    "- we need to run the code lines based on condition\n",
    "\n",
    "- if i get good marks i will go for higher studies else will go for job\n",
    "\n",
    "- if\n",
    "\n",
    "- elif\n",
    "\n",
    "- else    "
   ]
  },
  {
   "cell_type": "markdown",
   "id": "4612ea3e-9e91-4a0a-9953-785a81548696",
   "metadata": {},
   "source": [
    "**if**"
   ]
  },
  {
   "cell_type": "code",
   "execution_count": null,
   "id": "5795ad9e-7f1a-4976-bf4e-8daec20f9602",
   "metadata": {},
   "outputs": [],
   "source": [
    "#syntax:if anything starts with keyword(green clr) then at end of the line we have to use \"colon(:)\" then next line should maintain indentation\n",
    "\n",
    "if <condition>:\n",
    "    <codeline1>\n",
    "    <codeline2>"
   ]
  },
  {
   "cell_type": "markdown",
   "id": "9a167a2a-3ad1-482c-a790-3592f52ba02a",
   "metadata": {},
   "source": [
    "- if it is a conditional statement , it will check the condition is True or False\n",
    "\n",
    "- if that condition is True then only will enter inside if area\n",
    "\n",
    "- and execute those codelines\n",
    "\n",
    "- if that condition was False then it does not enter into the if for execution"
   ]
  },
  {
   "cell_type": "code",
   "execution_count": 2,
   "id": "6e26f20f-6022-4e1a-a2ab-a2c48ab80be5",
   "metadata": {},
   "outputs": [
    {
     "data": {
      "text/plain": [
       "True"
      ]
     },
     "execution_count": 2,
     "metadata": {},
     "output_type": "execute_result"
    }
   ],
   "source": [
    "100>10"
   ]
  },
  {
   "cell_type": "code",
   "execution_count": 3,
   "id": "95191351-025f-4f43-8d98-0037bee57af5",
   "metadata": {},
   "outputs": [
    {
     "name": "stdout",
     "output_type": "stream",
     "text": [
      "Hello\n"
     ]
    }
   ],
   "source": [
    "if 100>10:\n",
    "    print(\"Hello\")"
   ]
  },
  {
   "cell_type": "code",
   "execution_count": 4,
   "id": "7249951e-8ccf-4279-af4e-42d0109cc97d",
   "metadata": {},
   "outputs": [
    {
     "ename": "IndentationError",
     "evalue": "unexpected indent (2924374143.py, line 6)",
     "output_type": "error",
     "traceback": [
      "\u001b[1;36m  Cell \u001b[1;32mIn[4], line 6\u001b[1;36m\u001b[0m\n\u001b[1;33m    print(\"this line gives error\")\u001b[0m\n\u001b[1;37m    ^\u001b[0m\n\u001b[1;31mIndentationError\u001b[0m\u001b[1;31m:\u001b[0m unexpected indent\n"
     ]
    }
   ],
   "source": [
    "if 100>10:\n",
    "    print(\"Hello\")\n",
    "    print(\"hii\")\n",
    "    print(\"good\")\n",
    "print(\"..\")\n",
    "    print(\"this line gives error\")\n",
    "    print(\"becz lack of condition\")"
   ]
  },
  {
   "cell_type": "code",
   "execution_count": 5,
   "id": "4df4b588-d6c4-46d1-a6ab-4f4d198995c9",
   "metadata": {},
   "outputs": [
    {
     "name": "stdout",
     "output_type": "stream",
     "text": [
      "10\n",
      "okay\n",
      "bye\n"
     ]
    }
   ],
   "source": [
    "print(10)\n",
    "if 100<10:\n",
    "    print(\"hii\")\n",
    "    print(\"hello\")\n",
    "print(\"okay\")\n",
    "print(\"bye\")\n"
   ]
  },
  {
   "cell_type": "code",
   "execution_count": 6,
   "id": "ac0ec1bc-6dab-487b-b80a-81279d6db885",
   "metadata": {},
   "outputs": [
    {
     "name": "stdout",
     "output_type": "stream",
     "text": [
      "10\n",
      "hii\n",
      "hello\n",
      "okay\n",
      "bye\n"
     ]
    }
   ],
   "source": [
    "print(10)\n",
    "if 100:\n",
    "    print(\"hii\")\n",
    "    print(\"hello\")\n",
    "print(\"okay\")\n",
    "print(\"bye\")"
   ]
  },
  {
   "cell_type": "code",
   "execution_count": 7,
   "id": "d1705aff-f2e3-4dcd-b5a7-2655930e5663",
   "metadata": {},
   "outputs": [
    {
     "data": {
      "text/plain": [
       "True"
      ]
     },
     "execution_count": 7,
     "metadata": {},
     "output_type": "execute_result"
    }
   ],
   "source": [
    "bool(100)"
   ]
  },
  {
   "cell_type": "code",
   "execution_count": 8,
   "id": "911ebda8-6c8a-43c7-a09b-9c96eeb1a88b",
   "metadata": {},
   "outputs": [
    {
     "name": "stdout",
     "output_type": "stream",
     "text": [
      "10\n",
      "okay\n",
      "bye\n"
     ]
    }
   ],
   "source": [
    "print(10)\n",
    "if 0:\n",
    "    print(\"hii\")\n",
    "    print(\"hello\")\n",
    "print(\"okay\")\n",
    "print(\"bye\")"
   ]
  },
  {
   "cell_type": "code",
   "execution_count": 9,
   "id": "94f27133-39ca-4488-931f-a6b51693d411",
   "metadata": {},
   "outputs": [
    {
     "data": {
      "text/plain": [
       "False"
      ]
     },
     "execution_count": 9,
     "metadata": {},
     "output_type": "execute_result"
    }
   ],
   "source": [
    "bool(0)"
   ]
  },
  {
   "cell_type": "code",
   "execution_count": 10,
   "id": "f807b9f7-092c-4e81-8438-8f40242cd7b5",
   "metadata": {},
   "outputs": [
    {
     "name": "stdout",
     "output_type": "stream",
     "text": [
      "10\n",
      "hii\n",
      "hello\n",
      "okay\n",
      "bye\n"
     ]
    }
   ],
   "source": [
    "print(10)\n",
    "if \"hello\":\n",
    "    print(\"hii\")\n",
    "    print(\"hello\")\n",
    "print(\"okay\")\n",
    "print(\"bye\")"
   ]
  },
  {
   "cell_type": "code",
   "execution_count": 12,
   "id": "92c61295-3df9-43c2-9a55-3a69ea543e99",
   "metadata": {},
   "outputs": [
    {
     "data": {
      "text/plain": [
       "True"
      ]
     },
     "execution_count": 12,
     "metadata": {},
     "output_type": "execute_result"
    }
   ],
   "source": [
    "bool(\"hello\")"
   ]
  },
  {
   "cell_type": "markdown",
   "id": "bea78ea8-d21d-4c4c-b656-a6c6d25fddf7",
   "metadata": {},
   "source": [
    "**if-else**"
   ]
  },
  {
   "cell_type": "markdown",
   "id": "8bac171d-6583-44cb-8af3-e41df5264046",
   "metadata": {},
   "source": [
    "- if condition is true it exexutes statements under if\n",
    "\n",
    "- else compiler directly go to else statements for execution"
   ]
  },
  {
   "cell_type": "code",
   "execution_count": null,
   "id": "4bcb5b92-9c3d-42a7-a413-397ca67464d8",
   "metadata": {},
   "outputs": [],
   "source": [
    "# syntax\n",
    "\n",
    "if <condition<:\n",
    "    <codeline>\n",
    "else:\n",
    "    <codeline>"
   ]
  },
  {
   "cell_type": "code",
   "execution_count": 15,
   "id": "a4bc802f-113b-4e97-9574-7fc26ff0a2c6",
   "metadata": {},
   "outputs": [
    {
     "name": "stdout",
     "output_type": "stream",
     "text": [
      "greater\n",
      "bye\n"
     ]
    }
   ],
   "source": [
    "if 100>10:\n",
    "    print(\"greater\")\n",
    "else:\n",
    "    print(\"smaller\")\n",
    "print(\"bye\")    \n"
   ]
  },
  {
   "cell_type": "code",
   "execution_count": 18,
   "id": "6d2df285-bc0c-4f85-8179-0310be1ac9ad",
   "metadata": {},
   "outputs": [
    {
     "ename": "SyntaxError",
     "evalue": "invalid syntax (2159206479.py, line 4)",
     "output_type": "error",
     "traceback": [
      "\u001b[1;36m  Cell \u001b[1;32mIn[18], line 4\u001b[1;36m\u001b[0m\n\u001b[1;33m    else:\u001b[0m\n\u001b[1;37m    ^\u001b[0m\n\u001b[1;31mSyntaxError\u001b[0m\u001b[1;31m:\u001b[0m invalid syntax\n"
     ]
    }
   ],
   "source": [
    "if 100<10:\n",
    "    print(\"greater\")\n",
    "print(\"hello\")    # if and else should be together no one allowed in between\n",
    "else:\n",
    "    print(\"smaller\")\n",
    "print(\"bye\")    "
   ]
  },
  {
   "cell_type": "code",
   "execution_count": 19,
   "id": "0bc8ba26-1d51-4c25-8038-c4ff6fee16d8",
   "metadata": {},
   "outputs": [
    {
     "name": "stdout",
     "output_type": "stream",
     "text": [
      "10\n",
      "0\n",
      "10\n",
      "0.0\n"
     ]
    },
    {
     "ename": "ZeroDivisionError",
     "evalue": "division by zero",
     "output_type": "error",
     "traceback": [
      "\u001b[1;31m---------------------------------------------------------------------------\u001b[0m",
      "\u001b[1;31mZeroDivisionError\u001b[0m                         Traceback (most recent call last)",
      "Cell \u001b[1;32mIn[19], line 10\u001b[0m\n\u001b[0;32m      8\u001b[0m d\u001b[38;5;241m=\u001b[39mb\u001b[38;5;241m/\u001b[39ma\n\u001b[0;32m      9\u001b[0m \u001b[38;5;28mprint\u001b[39m(d)\n\u001b[1;32m---> 10\u001b[0m e\u001b[38;5;241m=\u001b[39ma\u001b[38;5;241m/\u001b[39mb\n\u001b[0;32m     11\u001b[0m \u001b[38;5;28mprint\u001b[39m(e)\n",
      "\u001b[1;31mZeroDivisionError\u001b[0m: division by zero"
     ]
    }
   ],
   "source": [
    "if True:\n",
    "    a=10       #10\n",
    "    b=0\n",
    "    print(a)\n",
    "    print(b)\n",
    "    c=a+b   #10\n",
    "    print(c)\n",
    "    d=b/a     #0\n",
    "    print(d)\n",
    "    e=a/b      #division by zero error\n",
    "    print(e)"
   ]
  },
  {
   "cell_type": "code",
   "execution_count": 20,
   "id": "df322c6e-c30b-413d-856f-fdff16ce7ee5",
   "metadata": {},
   "outputs": [
    {
     "data": {
      "text/plain": [
       "1.25"
      ]
     },
     "execution_count": 20,
     "metadata": {},
     "output_type": "execute_result"
    }
   ],
   "source": [
    "5/4  #modulus operator"
   ]
  },
  {
   "cell_type": "code",
   "execution_count": 21,
   "id": "b98d406e-89aa-46b2-a337-ecbf47372624",
   "metadata": {},
   "outputs": [
    {
     "data": {
      "text/plain": [
       "1"
      ]
     },
     "execution_count": 21,
     "metadata": {},
     "output_type": "execute_result"
    }
   ],
   "source": [
    "5//4 #floor division"
   ]
  },
  {
   "cell_type": "code",
   "execution_count": 22,
   "id": "cb4d64ff-ab61-4245-9acd-e46ebf15ec6a",
   "metadata": {},
   "outputs": [
    {
     "data": {
      "text/plain": [
       "1"
      ]
     },
     "execution_count": 22,
     "metadata": {},
     "output_type": "execute_result"
    }
   ],
   "source": [
    "5%4 #remainder"
   ]
  },
  {
   "cell_type": "code",
   "execution_count": 26,
   "id": "e6a110fc-dd62-4f6a-bdda-0409ffde30b7",
   "metadata": {},
   "outputs": [
    {
     "name": "stdin",
     "output_type": "stream",
     "text": [
      "enter a number 1\n"
     ]
    },
    {
     "name": "stdout",
     "output_type": "stream",
     "text": [
      "odd\n"
     ]
    }
   ],
   "source": [
    "num=eval(input(\"enter a number\"))\n",
    "if num%2==0 :\n",
    "    print(\"even\")\n",
    "else:\n",
    "    print(\"odd\")\n",
    "    \n"
   ]
  },
  {
   "cell_type": "code",
   "execution_count": 4,
   "id": "f75cfe1c-533a-4a38-a2c7-095ecf9c86da",
   "metadata": {},
   "outputs": [
    {
     "name": "stdout",
     "output_type": "stream",
     "text": [
      "7 is odd\n"
     ]
    }
   ],
   "source": [
    "import random\n",
    "num=random.randint(1,100)\n",
    "if num%2==0 :\n",
    "    print(f\"{num} is even\")\n",
    "else:\n",
    "    print(f\"{num} is odd\")"
   ]
  },
  {
   "cell_type": "code",
   "execution_count": 5,
   "id": "ba893caf-ed79-4efe-93f4-1143e23e80d7",
   "metadata": {},
   "outputs": [
    {
     "name": "stdin",
     "output_type": "stream",
     "text": [
      "enter start value 4\n",
      "enter end value 8\n"
     ]
    },
    {
     "name": "stdout",
     "output_type": "stream",
     "text": [
      "7 is odd\n"
     ]
    }
   ],
   "source": [
    "import random\n",
    "start=eval(input(\"enter start value\"))\n",
    "end=eval(input(\"enter end value\"))\n",
    "num=random.randint(start,end)\n",
    "if num%2==0 :\n",
    "    print(f\"{num} is even\")\n",
    "else:\n",
    "    print(f\"{num} is odd\")"
   ]
  },
  {
   "cell_type": "markdown",
   "id": "29c68d58-1cb0-46fd-8dcc-62be8dab6a87",
   "metadata": {},
   "source": [
    "- we are providing values means it is hard coded\n",
    "\n",
    "- code should be always generic,with out hard codings"
   ]
  },
  {
   "cell_type": "code",
   "execution_count": 10,
   "id": "570d8c0f-69ea-4352-909d-f41fd7474079",
   "metadata": {},
   "outputs": [
    {
     "name": "stdin",
     "output_type": "stream",
     "text": [
      "enter the distance 30\n",
      "enter charge for 1km 2\n"
     ]
    },
    {
     "name": "stdout",
     "output_type": "stream",
     "text": [
      "60\n"
     ]
    }
   ],
   "source": [
    "distance=eval(input(\"enter the distance\"))\n",
    "if distance>25:\n",
    "    charge=eval(input(\"enter charge for 1km\"))\n",
    "    total_cost=distance*charge\n",
    "    print(total_cost)\n",
    "else:\n",
    "    print(\"free ride\")"
   ]
  },
  {
   "cell_type": "code",
   "execution_count": 11,
   "id": "7e369d1e-9f49-4936-ba66-08dec0b31e87",
   "metadata": {},
   "outputs": [
    {
     "name": "stdin",
     "output_type": "stream",
     "text": [
      "enter the distance 26\n",
      "enter the cutoff_distance 25\n"
     ]
    },
    {
     "name": "stdout",
     "output_type": "stream",
     "text": [
      "good news your charge is applicable for remaining distance excluding 25\n"
     ]
    },
    {
     "name": "stdin",
     "output_type": "stream",
     "text": [
      "enter charge for 1km 10\n"
     ]
    },
    {
     "name": "stdout",
     "output_type": "stream",
     "text": [
      "10\n"
     ]
    }
   ],
   "source": [
    "distance=eval(input(\"enter the distance\"))\n",
    "cutoff_dist=eval(input(\"enter the cutoff_distance\"))\n",
    "if distance>25:\n",
    "    print(\"good news your charge is applicable for remaining distance excluding 25\")\n",
    "    charge_distance=distance-cutoff_dist\n",
    "    charge=eval(input(\"enter charge for 1km\"))\n",
    "    total_cost=charge_distance*charge\n",
    "    print(total_cost)\n",
    "else:\n",
    "    print(\"free ride\")"
   ]
  },
  {
   "cell_type": "code",
   "execution_count": 17,
   "id": "f473ee0d-3f0c-4747-b0b9-8c6c49a97923",
   "metadata": {},
   "outputs": [
    {
     "name": "stdin",
     "output_type": "stream",
     "text": [
      "enter course name in capitals without space python\n",
      "enter institure name in capitals without space NARESHIT\n"
     ]
    },
    {
     "name": "stdout",
     "output_type": "stream",
     "text": [
      "good\n"
     ]
    }
   ],
   "source": [
    "course=input(\"enter course name in capitals without space\")\n",
    "institute=input(\"enter institure name in capitals without space\")\n",
    "if course=='DATASCIENCE' or institute=='NARESHIT':\n",
    "    print(\"good\")\n",
    "else:\n",
    "    print(\"bad\")\n",
    "    "
   ]
  },
  {
   "cell_type": "code",
   "execution_count": 18,
   "id": "6d499a82-f369-428d-b6ec-5d65c721d9d3",
   "metadata": {},
   "outputs": [
    {
     "name": "stdin",
     "output_type": "stream",
     "text": [
      "enter course name in capitals without space python\n",
      "enter institure name in capitals without space NARESHIT\n"
     ]
    },
    {
     "name": "stdout",
     "output_type": "stream",
     "text": [
      "bad\n"
     ]
    }
   ],
   "source": [
    "course=input(\"enter course name in capitals without space\")\n",
    "institute=input(\"enter institure name in capitals without space\")\n",
    "if course=='DATASCIENCE' and institute=='NARESHIT':\n",
    "    print(\"good\")\n",
    "else:\n",
    "    print(\"bad\")"
   ]
  },
  {
   "cell_type": "markdown",
   "id": "46f74c3c-fc59-4f0f-bb35-e343c66a5bbb",
   "metadata": {},
   "source": [
    "- and means two conditions need to satisfy\n",
    "\n",
    "- or means any one condition is enough to satisfy"
   ]
  },
  {
   "cell_type": "code",
   "execution_count": 22,
   "id": "b9222bc1-0610-4bd6-a529-20308d8b43cb",
   "metadata": {},
   "outputs": [
    {
     "name": "stdin",
     "output_type": "stream",
     "text": [
      "enter the number 6\n"
     ]
    },
    {
     "name": "stdout",
     "output_type": "stream",
     "text": [
      "you won because 6 is equal to 6\n"
     ]
    }
   ],
   "source": [
    "import random\n",
    "num1=random.randint(1,10)\n",
    "num2=eval(input(\"enter the number\"))\n",
    "if num1==num2 :\n",
    "          print(f\"you won because {num1} is equal to {num2}\")\n",
    "else:\n",
    "         print(f\"you lost because {num1} is not equal to {num2}\")\n",
    "    \n"
   ]
  },
  {
   "cell_type": "code",
   "execution_count": 23,
   "id": "0f891e88-7ab4-44f8-a93f-b2d281c3880c",
   "metadata": {},
   "outputs": [
    {
     "name": "stdin",
     "output_type": "stream",
     "text": [
      "enter the number 3\n"
     ]
    },
    {
     "name": "stdout",
     "output_type": "stream",
     "text": [
      "you lost because 7 is not equal to 3\n"
     ]
    }
   ],
   "source": [
    "import random\n",
    "num1=random.randint(1,10)\n",
    "num2=eval(input(\"enter the number\"))\n",
    "if num1==num2 :\n",
    "          print(f\"you won because {num1} is equal to {num2}\")\n",
    "else:\n",
    "         print(f\"you lost because {num1} is not equal to {num2}\")"
   ]
  },
  {
   "cell_type": "markdown",
   "id": "1df5208c-7212-45d8-af32-dff80a603eba",
   "metadata": {},
   "source": [
    "- till now we have seen one condition(if) and two condition(if-else) problems \n",
    "\n",
    "- for more than 2 conditions we use if-elif-else"
   ]
  },
  {
   "cell_type": "code",
   "execution_count": 26,
   "id": "f311efd4-f263-417a-926d-e673ee2495da",
   "metadata": {},
   "outputs": [
    {
     "name": "stdin",
     "output_type": "stream",
     "text": [
      "enter a num 5\n"
     ]
    },
    {
     "name": "stdout",
     "output_type": "stream",
     "text": [
      "enter the valid num\n"
     ]
    }
   ],
   "source": [
    "num=eval(input(\"enter a num\"))\n",
    "if num==1 :\n",
    "    print(\"one\")\n",
    "elif num==2 :\n",
    "    print(\"Two\")\n",
    "elif num==3 :\n",
    "    print(\"Three\")\n",
    "else:\n",
    "    print(\"enter the valid num\")\n",
    "    "
   ]
  },
  {
   "cell_type": "code",
   "execution_count": 27,
   "id": "ba3a6672-e4e2-4ccf-a5be-8c949dd35374",
   "metadata": {},
   "outputs": [
    {
     "name": "stdin",
     "output_type": "stream",
     "text": [
      "enter a num 2\n"
     ]
    },
    {
     "name": "stdout",
     "output_type": "stream",
     "text": [
      "Two\n"
     ]
    }
   ],
   "source": [
    "num=eval(input(\"enter a num\"))\n",
    "if num==1 :print(\"one\")\n",
    "elif num==2 :print(\"Two\")\n",
    "elif num==3 :print(\"Three\")\n",
    "else:print(\"enter the valid num\")\n",
    "    "
   ]
  },
  {
   "cell_type": "code",
   "execution_count": 31,
   "id": "640926f6-7385-49b7-8cb4-fb510185911f",
   "metadata": {},
   "outputs": [
    {
     "name": "stdin",
     "output_type": "stream",
     "text": [
      "enter a num -9\n"
     ]
    },
    {
     "name": "stdout",
     "output_type": "stream",
     "text": [
      "negative\n"
     ]
    }
   ],
   "source": [
    "num=eval(input(\"enter a num\"))\n",
    "if num>0:\n",
    "    print(\"positive\")\n",
    "elif num<0:\n",
    "    print(\"negative\")\n",
    "else:\n",
    "    print(\"zero\")"
   ]
  },
  {
   "cell_type": "code",
   "execution_count": 34,
   "id": "b9ef09ae-8577-4f2d-9282-4fa108666a18",
   "metadata": {},
   "outputs": [
    {
     "name": "stdin",
     "output_type": "stream",
     "text": [
      "enter a percentage between 1 to 100 91\n"
     ]
    },
    {
     "name": "stdout",
     "output_type": "stream",
     "text": [
      "A grade\n"
     ]
    }
   ],
   "source": [
    "percentage=eval(input(\"enter a percentage between 1 to 100\"))\n",
    "if percentage >=90:\n",
    "    print(\"A grade\")\n",
    "elif percentage>75 and percentage<90 :\n",
    "    print(\"B grade\")\n",
    "elif percentage>50 and percentage<75 :\n",
    "    print(\"C grade\")\n",
    "elif percentage>35 and percentage<50 :\n",
    "    print(\"D grade\")\n",
    "else:\n",
    "    print(\"Fail\")\n",
    "\n",
    "    "
   ]
  },
  {
   "cell_type": "code",
   "execution_count": 37,
   "id": "0aa77572-7660-4c08-ab73-f9a9daabb091",
   "metadata": {},
   "outputs": [
    {
     "name": "stdin",
     "output_type": "stream",
     "text": [
      "enter a percentage between 1 to 100 55\n"
     ]
    },
    {
     "name": "stdout",
     "output_type": "stream",
     "text": [
      "C grade\n"
     ]
    }
   ],
   "source": [
    "percentage=eval(input(\"enter a percentage between 1 to 100\"))\n",
    "if percentage >=90:\n",
    "    print(\"A grade\")\n",
    "elif percentage>=75  :\n",
    "    print(\"B grade\")\n",
    "elif percentage>=50:\n",
    "    print(\"C grade\")\n",
    "elif percentage>=35 :\n",
    "    print(\"D grade\")\n",
    "else:\n",
    "    print(\"Fail\")\n"
   ]
  },
  {
   "cell_type": "code",
   "execution_count": 8,
   "id": "d7452c4e-d62b-4520-ad48-43f067cb24a8",
   "metadata": {},
   "outputs": [
    {
     "name": "stdin",
     "output_type": "stream",
     "text": [
      "enter a num 8\n",
      "enter a num 2\n"
     ]
    },
    {
     "name": "stdout",
     "output_type": "stream",
     "text": [
      "enter operation 1 for addition\n",
      "enter operation 2 for multiplication\n",
      "enter operation 3 for subtraction\n",
      "enter operation 4 for division\n"
     ]
    },
    {
     "name": "stdin",
     "output_type": "stream",
     "text": [
      "enter a num 2\n"
     ]
    },
    {
     "name": "stdout",
     "output_type": "stream",
     "text": [
      "mul 16\n"
     ]
    }
   ],
   "source": [
    "num1=eval(input(\"enter a num\"))\n",
    "num2=eval(input(\"enter a num\"))\n",
    "print(\"enter operation 1 for addition\")\n",
    "print(\"enter operation 2 for multiplication\")\n",
    "print(\"enter operation 3 for subtraction\")\n",
    "print(\"enter operation 4 for division\")\n",
    "operation=eval(input(\"enter a num\"))\n",
    "if operation==1 :\n",
    "    add=num1+num2\n",
    "    print(\"add\",add)\n",
    "elif operation==2 :\n",
    "    mul=num1*num2\n",
    "    print(\"mul\",mul)\n",
    "elif operation==3 :\n",
    "    sub=num1-num2\n",
    "    print(\"sub:\",sub)\n",
    "elif operation==4 :\n",
    "    div=num1/num2\n",
    "    print(\"div\",div)\n",
    "else :\n",
    "    print(\"enter a valid num\")\n",
    "    "
   ]
  },
  {
   "cell_type": "code",
   "execution_count": 9,
   "id": "9a5817da-fe0e-417f-b615-91cf460181c0",
   "metadata": {},
   "outputs": [
    {
     "name": "stdin",
     "output_type": "stream",
     "text": [
      "enter the gender: female\n",
      "enter age from 0 to 100: 70\n"
     ]
    },
    {
     "name": "stdout",
     "output_type": "stream",
     "text": [
      "senior citizen\n"
     ]
    }
   ],
   "source": [
    "gender=input(\"enter the gender:\")\n",
    "if gender=='male' :\n",
    "    age=eval(input(\"enter age from 0 to 100:\"))\n",
    "    if age>=60 :\n",
    "        print(\"senior citizen\")\n",
    "    elif age>=30 and age<60 :\n",
    "        print(\"middle aged man\")\n",
    "    elif age>=15 and age<30:\n",
    "        print(\"young man\")\n",
    "    else:\n",
    "        print(\"boy\")\n",
    "elif gender=='female' :\n",
    "    age=eval(input(\"enter age from 0 to 100:\"))\n",
    "    if age>=60 :\n",
    "        print(\"senior citizen\")\n",
    "    elif age>=30 and age<60 :\n",
    "        print(\"middle aged female\")\n",
    "    elif age>=15 and age<30:\n",
    "        print(\"young girl\")\n",
    "    else:\n",
    "        print(\"girl\")  \n",
    "else :\n",
    "    print(\"enter a valid gender\")"
   ]
  },
  {
   "cell_type": "code",
   "execution_count": 14,
   "id": "5509b84e-f288-498c-a432-d153da2101bb",
   "metadata": {},
   "outputs": [
    {
     "name": "stdin",
     "output_type": "stream",
     "text": [
      "enter a num -1\n"
     ]
    },
    {
     "name": "stdout",
     "output_type": "stream",
     "text": [
      "negative\n"
     ]
    }
   ],
   "source": [
    "num=eval(input(\"enter a num\"))\n",
    "if num>= 0:\n",
    "    if num==0:\n",
    "        print(\"zero\")\n",
    "    else:\n",
    "        print(\"positive\")\n",
    "else:\n",
    "    print(\"negative\")"
   ]
  },
  {
   "cell_type": "code",
   "execution_count": 15,
   "id": "f5ea9e5e-dfae-4758-9fc5-afdc9c1fa5cd",
   "metadata": {},
   "outputs": [],
   "source": [
    "#take three nums\n",
    "#num1,num2,num3\n",
    "#find the max value"
   ]
  },
  {
   "cell_type": "markdown",
   "id": "f338aca2-ebdd-4ba4-91e6-5a124249b000",
   "metadata": {},
   "source": [
    "##### "
   ]
  }
 ],
 "metadata": {
  "kernelspec": {
   "display_name": "Python 3 (ipykernel)",
   "language": "python",
   "name": "python3"
  },
  "language_info": {
   "codemirror_mode": {
    "name": "ipython",
    "version": 3
   },
   "file_extension": ".py",
   "mimetype": "text/x-python",
   "name": "python",
   "nbconvert_exporter": "python",
   "pygments_lexer": "ipython3",
   "version": "3.11.7"
  }
 },
 "nbformat": 4,
 "nbformat_minor": 5
}
