{
 "cells": [
  {
   "cell_type": "markdown",
   "id": "f35cba6c-c472-4647-89df-128e28024b22",
   "metadata": {},
   "source": [
    "**Functions**"
   ]
  },
  {
   "cell_type": "markdown",
   "id": "0e208245-b2e2-46eb-954b-cbca50c74a40",
   "metadata": {},
   "source": [
    "- a block of code which we can use many times"
   ]
  },
  {
   "cell_type": "code",
   "execution_count": null,
   "id": "e52b6901-8fe2-42fa-a6d2-52403df91200",
   "metadata": {},
   "outputs": [],
   "source": [
    "def <function_name>():\n",
    "    codelines"
   ]
  },
  {
   "cell_type": "markdown",
   "id": "b443d69d-61ee-4ee2-a9be-259e8482c7bf",
   "metadata": {},
   "source": [
    "- Function without arguments"
   ]
  },
  {
   "cell_type": "code",
   "execution_count": 2,
   "id": "4bd7a954-0ff8-4e0a-842e-6ac00e31e8f8",
   "metadata": {},
   "outputs": [],
   "source": [
    "def addition():\n",
    "    num1=10\n",
    "    num2=20\n",
    "    add=num1+num2\n",
    "    print(add)"
   ]
  },
  {
   "cell_type": "code",
   "execution_count": 3,
   "id": "d6c7d400-26e0-48b6-a4ab-03e2f1a85134",
   "metadata": {},
   "outputs": [
    {
     "name": "stdout",
     "output_type": "stream",
     "text": [
      "30\n"
     ]
    }
   ],
   "source": [
    "addition()"
   ]
  },
  {
   "cell_type": "markdown",
   "id": "09b2a8f6-116c-4aaf-afdd-9d7b25fe3846",
   "metadata": {},
   "source": [
    "- in order to execute codeline we need to call function"
   ]
  },
  {
   "cell_type": "code",
   "execution_count": 9,
   "id": "2be2f612-8a50-48bd-986b-ea71dd9b91b0",
   "metadata": {},
   "outputs": [
    {
     "name": "stdout",
     "output_type": "stream",
     "text": [
      "num1 is: 10\n",
      "num2 is: 20\n",
      "sum of 10 and 20 is : 30\n"
     ]
    }
   ],
   "source": [
    "def addition():\n",
    "    num1=10\n",
    "    print(\"num1 is:\",num1)\n",
    "    num2=20\n",
    "    print(\"num2 is:\",num2)\n",
    "    add=num1+num2\n",
    "    print(f\"sum of {num1} and {num2} is :\",add)\n",
    "addition()    \n",
    "    "
   ]
  },
  {
   "cell_type": "markdown",
   "id": "6409a82e-922b-4680-b07e-e5cdfdcbb071",
   "metadata": {},
   "source": [
    "- functions names can be anything\n",
    "\n",
    "- same rules applicable as variable rules\n",
    "\n",
    "- whenever u create the function make sure of indentation\n",
    "\n",
    "- starting with keyword,ending with colon then code line start with indentation\n",
    "\n",
    "- brackets means functions\n",
    "\n",
    "- never miss the brackets whenever you call the function\n",
    "\n",
    "- to execute code we need to call the fun\n",
    "\n",
    "- function name and variable name should not be same"
   ]
  },
  {
   "cell_type": "markdown",
   "id": "75043dd9-48ae-457d-93c2-74f3fbdbd72e",
   "metadata": {},
   "source": [
    "**function with arguments**"
   ]
  },
  {
   "cell_type": "code",
   "execution_count": 10,
   "id": "8ce64b47-3bc1-443a-91af-beda4737700e",
   "metadata": {},
   "outputs": [
    {
     "name": "stdout",
     "output_type": "stream",
     "text": [
      "30\n"
     ]
    }
   ],
   "source": [
    "def addition(num1,num2):\n",
    "    add=num1+num2\n",
    "    print(add)\n",
    "addition(10,20)    "
   ]
  },
  {
   "cell_type": "code",
   "execution_count": 11,
   "id": "8d3514d4-a84b-4eb5-8889-274e60ee17a6",
   "metadata": {},
   "outputs": [
    {
     "name": "stdout",
     "output_type": "stream",
     "text": [
      "16\n"
     ]
    }
   ],
   "source": [
    "def area(len,bre):\n",
    "    area=len*bre\n",
    "    print(area)\n",
    "area(2,8)    "
   ]
  },
  {
   "cell_type": "markdown",
   "id": "336717d2-30b8-4343-8312-d7243978f19c",
   "metadata": {},
   "source": [
    "**Default Arguments**"
   ]
  },
  {
   "cell_type": "code",
   "execution_count": 2,
   "id": "74e28fb2-e3f2-4a80-9b72-1ee9ecd85e82",
   "metadata": {},
   "outputs": [
    {
     "name": "stdin",
     "output_type": "stream",
     "text": [
      "enter bill 1000\n",
      "enter tip_percentage 20\n"
     ]
    },
    {
     "name": "stdout",
     "output_type": "stream",
     "text": [
      "1200.0\n"
     ]
    }
   ],
   "source": [
    "bill=eval(input(\"enter bill\"))\n",
    "tip_per=eval(input(\"enter tip_percentage\"))\n",
    "tip_amount=bill*tip_per/100\n",
    "total_bill=bill+tip_amount\n",
    "print(total_bill)"
   ]
  },
  {
   "cell_type": "code",
   "execution_count": 3,
   "id": "ce8b8479-143b-4187-9e5f-acdb177e263f",
   "metadata": {},
   "outputs": [
    {
     "name": "stdin",
     "output_type": "stream",
     "text": [
      "enter bill 1000\n",
      "enter tip_percentage 20\n"
     ]
    },
    {
     "name": "stdout",
     "output_type": "stream",
     "text": [
      "1200.0\n"
     ]
    }
   ],
   "source": [
    "def bill_pay():\n",
    "    bill=eval(input(\"enter bill\"))\n",
    "    tip_per=eval(input(\"enter tip_percentage\"))\n",
    "    tip_amount=bill*tip_per/100\n",
    "    total_bill=bill+tip_amount\n",
    "    print(total_bill)\n",
    "bill_pay()    "
   ]
  },
  {
   "cell_type": "code",
   "execution_count": 4,
   "id": "36e7a4eb-2f94-43fc-ac72-0caecdf32c75",
   "metadata": {},
   "outputs": [
    {
     "name": "stdout",
     "output_type": "stream",
     "text": [
      "1200.0\n"
     ]
    }
   ],
   "source": [
    "def bill_pay(bill,tip_per):\n",
    "    tip_amount=bill*tip_per/100\n",
    "    total_bill=bill+tip_amount\n",
    "    print(total_bill)\n",
    "bill_pay(1000,20)\n"
   ]
  },
  {
   "cell_type": "code",
   "execution_count": 5,
   "id": "b97d51a0-f4f9-443b-8768-79912d0dda75",
   "metadata": {},
   "outputs": [
    {
     "name": "stdout",
     "output_type": "stream",
     "text": [
      "1200.0\n"
     ]
    }
   ],
   "source": [
    "#default value\n",
    "def bill_pay(bill,tip_per=20):\n",
    "    tip_amount=bill*tip_per/100\n",
    "    total_bill=bill+tip_amount\n",
    "    print(total_bill)\n",
    "bill_pay(1000)\n",
    "#here tip_per is default value\n"
   ]
  },
  {
   "cell_type": "code",
   "execution_count": 8,
   "id": "380f5b6e-a55e-4a17-9522-6d426b9409f6",
   "metadata": {},
   "outputs": [
    {
     "name": "stdout",
     "output_type": "stream",
     "text": [
      "30\n",
      "40\n",
      "50\n",
      "40.0\n"
     ]
    }
   ],
   "source": [
    "def avgg(num1,num2,num3=50):\n",
    "    print(num1)\n",
    "    print(num2)\n",
    "    print(num3)\n",
    "    avg=(num1+num2+num3)/3\n",
    "    avg1=round(avg,2)\n",
    "    print(avg)\n",
    "avgg(30,40)    "
   ]
  },
  {
   "cell_type": "code",
   "execution_count": 9,
   "id": "f903018a-4c6e-4066-8b9f-f485dbfe47cf",
   "metadata": {},
   "outputs": [
    {
     "ename": "SyntaxError",
     "evalue": "non-default argument follows default argument (3660491568.py, line 1)",
     "output_type": "error",
     "traceback": [
      "\u001b[1;36m  Cell \u001b[1;32mIn[9], line 1\u001b[1;36m\u001b[0m\n\u001b[1;33m    def avgg(num1,num2=50,num3):\u001b[0m\n\u001b[1;37m                          ^\u001b[0m\n\u001b[1;31mSyntaxError\u001b[0m\u001b[1;31m:\u001b[0m non-default argument follows default argument\n"
     ]
    }
   ],
   "source": [
    "def avgg(num1,num2=50,num3):\n",
    "    print(num1)\n",
    "    print(num2)\n",
    "    print(num3)\n",
    "    avg=(num1+num2+num3)/3\n",
    "    avg1=round(avg,2)\n",
    "    print(avg)\n",
    "avgg(30,40)    \n",
    "#default arguments always should be last"
   ]
  },
  {
   "cell_type": "markdown",
   "id": "ae6237d9-6cc6-439b-9365-c1a4c5ba06ca",
   "metadata": {},
   "source": [
    "**default arguments always should be at last**"
   ]
  },
  {
   "cell_type": "code",
   "execution_count": 10,
   "id": "ab2650b8-a4f4-4d21-b0e1-b3a32c75733d",
   "metadata": {},
   "outputs": [
    {
     "name": "stdout",
     "output_type": "stream",
     "text": [
      "30\n",
      "50\n",
      "40\n",
      "40.0\n"
     ]
    }
   ],
   "source": [
    "def avgg(num1,num3,num2=50):\n",
    "    print(num1)\n",
    "    print(num2)\n",
    "    print(num3)\n",
    "    avg=(num1+num2+num3)/3\n",
    "    avg1=round(avg,2)\n",
    "    print(avg)\n",
    "avgg(30,40)"
   ]
  },
  {
   "cell_type": "code",
   "execution_count": null,
   "id": "4ef6e4ec-ab45-4cfb-b545-e7ec489ee258",
   "metadata": {},
   "outputs": [],
   "source": [
    "average(num1,num2,num3=10) #w\n",
    "average(num1,num2=5,num3)  #F\n",
    "average(num1=2,num2,num3)  #F\n",
    "average(num1,num2=5,num3=10)#W\n",
    "average(num1=2,num2,num3=10)#F\n",
    "average(num1=2,num2=5,num3)#F\n",
    "average(num1=1,num2=2,num3=10)#w"
   ]
  },
  {
   "cell_type": "code",
   "execution_count": 12,
   "id": "e817e21e-ed92-4366-b0ae-24dd458a90b7",
   "metadata": {},
   "outputs": [
    {
     "name": "stdout",
     "output_type": "stream",
     "text": [
      "700\n"
     ]
    }
   ],
   "source": [
    "def addition(n1=100,n2=500):\n",
    "    add=n1+n2\n",
    "    print(add)\n",
    "addition(100,600)    \n",
    "    "
   ]
  },
  {
   "cell_type": "code",
   "execution_count": 14,
   "id": "22acc4d2-3b09-4065-b6ff-0a13bedbcd4d",
   "metadata": {},
   "outputs": [
    {
     "name": "stdout",
     "output_type": "stream",
     "text": [
      "1500\n"
     ]
    }
   ],
   "source": [
    "def addition(n1,n2=600):\n",
    "    add=n1+n2\n",
    "    print(add)\n",
    "addition(500,1000)    \n",
    "#we are defining fun at first\n",
    "#while define the fun we gave n2=600\n",
    "#now we are calling the fun\n",
    "#while calling n2=1000\n",
    "#so value will be overwrite,python takes latest valuse"
   ]
  },
  {
   "cell_type": "code",
   "execution_count": 16,
   "id": "48f0545e-c88c-4d24-99e7-73b343ef7a45",
   "metadata": {},
   "outputs": [
    {
     "name": "stdout",
     "output_type": "stream",
     "text": [
      "2500\n"
     ]
    }
   ],
   "source": [
    "def addition(n1,n2=600):\n",
    "    n2=2000\n",
    "    add=n1+n2\n",
    "    print(add)\n",
    "addition(500,1000) \n",
    "#define fun n2=600\n",
    "#call the func n2=1000\n",
    "#function is running n2=2000\n",
    "#2000 is the latest value"
   ]
  },
  {
   "cell_type": "code",
   "execution_count": 18,
   "id": "f3b69d31-02ad-4f16-9a1f-0c17020e0e56",
   "metadata": {},
   "outputs": [
    {
     "name": "stdout",
     "output_type": "stream",
     "text": [
      "2500\n"
     ]
    }
   ],
   "source": [
    "def addition(n1,n2=600):\n",
    "    n2=2000\n",
    "    add=n1+n2\n",
    "    print(add)\n",
    "n2=3000\n",
    "addition(500,1000)\n",
    "#n2=600\n",
    "#n2=3000\n",
    "#n2=1000\n",
    "#n2=2000 then prints n1+n2\n"
   ]
  },
  {
   "cell_type": "markdown",
   "id": "7566fea9-bdfe-45d0-80da-a6884e279711",
   "metadata": {},
   "source": [
    "**local variable and global variable**"
   ]
  },
  {
   "cell_type": "markdown",
   "id": "f17693b7-f01f-48af-8da0-99fc82bdc250",
   "metadata": {},
   "source": [
    "- local variables means : variables inside the function call\n",
    "\n",
    "- global variable means : variables outside the function call\n",
    "\n",
    "- once you define the variables outside means , you can use those variables anywhere\n",
    "\n",
    "- we can use global variables inside the function also\n",
    "\n",
    "- but we cannot use local variables outside the function"
   ]
  },
  {
   "cell_type": "code",
   "execution_count": 24,
   "id": "68c4fe21-ec8a-4843-a23a-8aff58ead8dd",
   "metadata": {},
   "outputs": [
    {
     "name": "stdout",
     "output_type": "stream",
     "text": [
      "200\n"
     ]
    }
   ],
   "source": [
    "def multiplication():\n",
    "    a=10\n",
    "    b=20\n",
    "    mul=a*b\n",
    "    print(mul)\n",
    "multiplication()    "
   ]
  },
  {
   "cell_type": "code",
   "execution_count": 21,
   "id": "0e2a7906-1800-46ba-8a7f-415aaa74f75b",
   "metadata": {},
   "outputs": [
    {
     "ename": "NameError",
     "evalue": "name 'a' is not defined",
     "output_type": "error",
     "traceback": [
      "\u001b[1;31m---------------------------------------------------------------------------\u001b[0m",
      "\u001b[1;31mNameError\u001b[0m                                 Traceback (most recent call last)",
      "Cell \u001b[1;32mIn[21], line 1\u001b[0m\n\u001b[1;32m----> 1\u001b[0m a\n",
      "\u001b[1;31mNameError\u001b[0m: name 'a' is not defined"
     ]
    }
   ],
   "source": [
    "a #cannot use local variables outside the function"
   ]
  },
  {
   "cell_type": "code",
   "execution_count": 27,
   "id": "6134a010-806f-433c-89d0-8880d6d4a6b7",
   "metadata": {},
   "outputs": [
    {
     "name": "stdout",
     "output_type": "stream",
     "text": [
      "20000\n"
     ]
    }
   ],
   "source": [
    "a1=100\n",
    "b1=200\n",
    "def multiplication():\n",
    "    mul=a1*b1\n",
    "    print(mul)\n",
    "multiplication()    "
   ]
  },
  {
   "cell_type": "code",
   "execution_count": 28,
   "id": "2d6659f4-8b25-406a-a612-9163949ce2b3",
   "metadata": {},
   "outputs": [
    {
     "data": {
      "text/plain": [
       "100"
      ]
     },
     "execution_count": 28,
     "metadata": {},
     "output_type": "execute_result"
    }
   ],
   "source": [
    "a1 #GLOBAl"
   ]
  },
  {
   "cell_type": "code",
   "execution_count": 29,
   "id": "5429ab15-9a8f-4faf-9c51-88eedde00bfc",
   "metadata": {},
   "outputs": [
    {
     "ename": "NameError",
     "evalue": "name 'mul' is not defined",
     "output_type": "error",
     "traceback": [
      "\u001b[1;31m---------------------------------------------------------------------------\u001b[0m",
      "\u001b[1;31mNameError\u001b[0m                                 Traceback (most recent call last)",
      "Cell \u001b[1;32mIn[29], line 1\u001b[0m\n\u001b[1;32m----> 1\u001b[0m mul\n",
      "\u001b[1;31mNameError\u001b[0m: name 'mul' is not defined"
     ]
    }
   ],
   "source": [
    "mul  #LOCAL"
   ]
  },
  {
   "cell_type": "code",
   "execution_count": 31,
   "id": "4d522366-63c0-465e-ab10-347bb44b0fbd",
   "metadata": {},
   "outputs": [
    {
     "name": "stdout",
     "output_type": "stream",
     "text": [
      "70\n"
     ]
    }
   ],
   "source": [
    "a1=10\n",
    "b1=20\n",
    "def addd(a1=50):\n",
    "    add=a1+b1\n",
    "    print(add)\n",
    "addd()    \n",
    "#a1=10====>50 ====>50+20=70\n",
    "#step1:global variable initialisation a1=10\n",
    "#define the func a1=50\n",
    "#call the func a1=50\n",
    "#run the fun"
   ]
  },
  {
   "cell_type": "code",
   "execution_count": 32,
   "id": "624f1795-ca12-4fb9-9cd9-d7abeed2b804",
   "metadata": {},
   "outputs": [
    {
     "name": "stdout",
     "output_type": "stream",
     "text": [
      "220\n"
     ]
    }
   ],
   "source": [
    "a1=10\n",
    "b1=20\n",
    "def addd(a1=50):\n",
    "    add=a1+b1\n",
    "    print(add)\n",
    "addd(a1=200)    "
   ]
  },
  {
   "cell_type": "code",
   "execution_count": 33,
   "id": "e5741e5d-b147-4e80-9a12-4e987097148f",
   "metadata": {},
   "outputs": [
    {
     "name": "stdout",
     "output_type": "stream",
     "text": [
      "520\n"
     ]
    }
   ],
   "source": [
    "a1=10\n",
    "b1=20\n",
    "def addd(a1=50):\n",
    "    a1=500\n",
    "    add=a1+b1\n",
    "    print(add)\n",
    "addd(a1=200) "
   ]
  },
  {
   "cell_type": "code",
   "execution_count": 34,
   "id": "1e846080-bfcc-4496-bf7f-7141a8a05794",
   "metadata": {},
   "outputs": [
    {
     "data": {
      "text/plain": [
       "10"
      ]
     },
     "execution_count": 34,
     "metadata": {},
     "output_type": "execute_result"
    }
   ],
   "source": [
    "a1"
   ]
  },
  {
   "cell_type": "code",
   "execution_count": 35,
   "id": "ca83d9d0-2936-430b-9356-b1768b6fba7d",
   "metadata": {},
   "outputs": [
    {
     "name": "stdout",
     "output_type": "stream",
     "text": [
      "520\n"
     ]
    }
   ],
   "source": [
    "a1=10\n",
    "b1=20\n",
    "def addd(a1=50):\n",
    "    a1=500\n",
    "    add=a1+b1\n",
    "    print(add)\n",
    "a1=600    \n",
    "addd(a1=200) "
   ]
  },
  {
   "cell_type": "code",
   "execution_count": 36,
   "id": "a39c1239-995b-46e1-842c-584ad4541337",
   "metadata": {},
   "outputs": [
    {
     "data": {
      "text/plain": [
       "600"
      ]
     },
     "execution_count": 36,
     "metadata": {},
     "output_type": "execute_result"
    }
   ],
   "source": [
    "a1"
   ]
  },
  {
   "cell_type": "code",
   "execution_count": 38,
   "id": "341dbb41-0b50-4f34-b318-bd6da250d156",
   "metadata": {},
   "outputs": [
    {
     "name": "stdout",
     "output_type": "stream",
     "text": [
      "6200\n"
     ]
    }
   ],
   "source": [
    "b1=200\n",
    "def addd():\n",
    "    add=a1+b1\n",
    "    print(add)\n",
    "a1=6000    \n",
    "addd() \n",
    "# b=200===>fun def ====>a1=6000====>func call====>code execution"
   ]
  },
  {
   "cell_type": "code",
   "execution_count": 39,
   "id": "ab99c142-e813-400e-a06f-65b6c45ca39a",
   "metadata": {},
   "outputs": [
    {
     "name": "stdout",
     "output_type": "stream",
     "text": [
      "5200\n"
     ]
    }
   ],
   "source": [
    "a1=100\n",
    "b1=200\n",
    "def add(a1=1000):\n",
    "    a1=5000\n",
    "    add1=a1+b1\n",
    "    print(add1)\n",
    "a1=6000\n",
    "add(a1=2000)   "
   ]
  },
  {
   "cell_type": "code",
   "execution_count": 3,
   "id": "902520c6-f29a-4ec9-a9fa-467eda678fec",
   "metadata": {},
   "outputs": [
    {
     "ename": "UnboundLocalError",
     "evalue": "cannot access local variable 's' where it is not associated with a value",
     "output_type": "error",
     "traceback": [
      "\u001b[1;31m---------------------------------------------------------------------------\u001b[0m",
      "\u001b[1;31mUnboundLocalError\u001b[0m                         Traceback (most recent call last)",
      "Cell \u001b[1;32mIn[3], line 5\u001b[0m\n\u001b[0;32m      3\u001b[0m     s\u001b[38;5;241m=\u001b[39ms\u001b[38;5;241m+\u001b[39m\u001b[38;5;241m10\u001b[39m\n\u001b[0;32m      4\u001b[0m     \u001b[38;5;28mprint\u001b[39m(s)\n\u001b[1;32m----> 5\u001b[0m add()\n",
      "Cell \u001b[1;32mIn[3], line 3\u001b[0m, in \u001b[0;36madd\u001b[1;34m()\u001b[0m\n\u001b[0;32m      2\u001b[0m \u001b[38;5;28;01mdef\u001b[39;00m \u001b[38;5;21madd\u001b[39m():\n\u001b[1;32m----> 3\u001b[0m     s\u001b[38;5;241m=\u001b[39ms\u001b[38;5;241m+\u001b[39m\u001b[38;5;241m10\u001b[39m\n\u001b[0;32m      4\u001b[0m     \u001b[38;5;28mprint\u001b[39m(s)\n",
      "\u001b[1;31mUnboundLocalError\u001b[0m: cannot access local variable 's' where it is not associated with a value"
     ]
    }
   ],
   "source": [
    "s=0                 #gv\n",
    "def add():\n",
    "    s=s+10          #lv\n",
    "    print(s)\n",
    "add()    \n",
    "    "
   ]
  },
  {
   "cell_type": "code",
   "execution_count": 5,
   "id": "7a43b427-69ba-435c-8539-adf3853c1c18",
   "metadata": {},
   "outputs": [
    {
     "name": "stdout",
     "output_type": "stream",
     "text": [
      "10\n"
     ]
    }
   ],
   "source": [
    "s=0\n",
    "def add():\n",
    "    r=s+10\n",
    "    print(r)\n",
    "add()    \n",
    "    "
   ]
  },
  {
   "cell_type": "code",
   "execution_count": 8,
   "id": "f71b8b1a-d720-4c7d-8296-bb1292ac4dd1",
   "metadata": {},
   "outputs": [
    {
     "ename": "UnboundLocalError",
     "evalue": "cannot access local variable 's' where it is not associated with a value",
     "output_type": "error",
     "traceback": [
      "\u001b[1;31m---------------------------------------------------------------------------\u001b[0m",
      "\u001b[1;31mUnboundLocalError\u001b[0m                         Traceback (most recent call last)",
      "Cell \u001b[1;32mIn[8], line 6\u001b[0m\n\u001b[0;32m      4\u001b[0m     s\u001b[38;5;241m=\u001b[39mc\n\u001b[0;32m      5\u001b[0m     \u001b[38;5;28mprint\u001b[39m(s)\n\u001b[1;32m----> 6\u001b[0m add()\n",
      "Cell \u001b[1;32mIn[8], line 3\u001b[0m, in \u001b[0;36madd\u001b[1;34m()\u001b[0m\n\u001b[0;32m      2\u001b[0m \u001b[38;5;28;01mdef\u001b[39;00m \u001b[38;5;21madd\u001b[39m():\n\u001b[1;32m----> 3\u001b[0m     c\u001b[38;5;241m=\u001b[39ms\u001b[38;5;241m+\u001b[39m\u001b[38;5;241m10\u001b[39m\n\u001b[0;32m      4\u001b[0m     s\u001b[38;5;241m=\u001b[39mc\n\u001b[0;32m      5\u001b[0m     \u001b[38;5;28mprint\u001b[39m(s)\n",
      "\u001b[1;31mUnboundLocalError\u001b[0m: cannot access local variable 's' where it is not associated with a value"
     ]
    }
   ],
   "source": [
    "s=0\n",
    "def add():\n",
    "    c=s+10   #here s+10 is the part of development so occurs error\n",
    "    s=c\n",
    "    print(s)\n",
    "add()    \n",
    "    "
   ]
  },
  {
   "cell_type": "code",
   "execution_count": 9,
   "id": "a81335ea-9a9d-4af5-9b2d-2813cc011912",
   "metadata": {},
   "outputs": [
    {
     "name": "stdout",
     "output_type": "stream",
     "text": [
      "100 200 300\n"
     ]
    }
   ],
   "source": [
    "n1=10\n",
    "def addition():\n",
    "    n1=100           #here n1 is not the part of development it is a variable\n",
    "    n2=200\n",
    "    n3=n1+n2\n",
    "    print(n1,n2,n3)\n",
    "addition()    "
   ]
  },
  {
   "cell_type": "markdown",
   "id": "9fced2f2-1b90-44e9-9a65-987eb7a47bb0",
   "metadata": {},
   "source": [
    "**note**\n",
    "\n",
    "- if you give same variable as global and local\n",
    "\n",
    "- make sure that the variable should not use valsue inside the func"
   ]
  },
  {
   "cell_type": "code",
   "execution_count": 11,
   "id": "475294b2-5795-45c9-85af-98bb45c1347c",
   "metadata": {},
   "outputs": [
    {
     "name": "stdout",
     "output_type": "stream",
     "text": [
      "10 210 220\n"
     ]
    }
   ],
   "source": [
    "n11=10\n",
    "def addition():\n",
    "    n22=200+n11\n",
    "    n33=n11+n22\n",
    "    print(n11,n22,n33)\n",
    "addition()    \n",
    "#step1--n11=10 \n",
    "#step 2:defining the function\n",
    "# step3:call the func\n",
    "#step4:run the function\n",
    "#      n11 is global variable passing inside the func(yes)\n",
    "#      n22=220+n11=200+10=210\n",
    "#      n33=10+210=220\n",
    "#      print(10 210 220)"
   ]
  },
  {
   "cell_type": "code",
   "execution_count": 13,
   "id": "06f4d23f-9c82-4215-b3f2-7bd67803487c",
   "metadata": {},
   "outputs": [
    {
     "ename": "UnboundLocalError",
     "evalue": "cannot access local variable 's' where it is not associated with a value",
     "output_type": "error",
     "traceback": [
      "\u001b[1;31m---------------------------------------------------------------------------\u001b[0m",
      "\u001b[1;31mUnboundLocalError\u001b[0m                         Traceback (most recent call last)",
      "Cell \u001b[1;32mIn[13], line 6\u001b[0m\n\u001b[0;32m      4\u001b[0m     s\u001b[38;5;241m=\u001b[39mc\n\u001b[0;32m      5\u001b[0m     \u001b[38;5;28mprint\u001b[39m(s)\n\u001b[1;32m----> 6\u001b[0m add()\n",
      "Cell \u001b[1;32mIn[13], line 3\u001b[0m, in \u001b[0;36madd\u001b[1;34m()\u001b[0m\n\u001b[0;32m      2\u001b[0m \u001b[38;5;28;01mdef\u001b[39;00m \u001b[38;5;21madd\u001b[39m():\n\u001b[1;32m----> 3\u001b[0m     c\u001b[38;5;241m=\u001b[39ms\u001b[38;5;241m+\u001b[39m\u001b[38;5;241m10\u001b[39m\n\u001b[0;32m      4\u001b[0m     s\u001b[38;5;241m=\u001b[39mc\n\u001b[0;32m      5\u001b[0m     \u001b[38;5;28mprint\u001b[39m(s)\n",
      "\u001b[1;31mUnboundLocalError\u001b[0m: cannot access local variable 's' where it is not associated with a value"
     ]
    }
   ],
   "source": [
    "s=0\n",
    "def add():\n",
    "    c=s+10\n",
    "    s=c #including development\n",
    "    print(s)\n",
    "add()    \n",
    "#s-1  :s=0  gv\n",
    "#s2 :definne the fun\n",
    "# step3:call the func\n",
    "#step4:run the function\n",
    "#       c is lv :c=s+10=c=10\n",
    "#       we are creating a new variable same like as global which causes error \n",
    "#  we are creating a new variable with same name as global variable by using global variable"
   ]
  },
  {
   "cell_type": "code",
   "execution_count": 14,
   "id": "953e6851-754a-4425-aacc-079f67e2021e",
   "metadata": {},
   "outputs": [
    {
     "name": "stdout",
     "output_type": "stream",
     "text": [
      "hello\n"
     ]
    }
   ],
   "source": [
    "a=100\n",
    "def greet():\n",
    "    a=200\n",
    "    print(\"hello\")\n",
    "greet() \n",
    "#here both variable names are same but does not create error becuase here we are not using a in development process we are just updating the variable"
   ]
  },
  {
   "cell_type": "markdown",
   "id": "1e1c91a2-2504-4563-a570-ddc997f75745",
   "metadata": {},
   "source": [
    "**global**\n",
    "\n",
    "- global keyword is used to take the local variable value outside the function"
   ]
  },
  {
   "cell_type": "code",
   "execution_count": 15,
   "id": "6b388a2b-c1b4-4fa5-bf6c-ef5e6fdf3fbd",
   "metadata": {},
   "outputs": [
    {
     "name": "stdout",
     "output_type": "stream",
     "text": [
      "hello\n",
      "200\n"
     ]
    }
   ],
   "source": [
    "value=100\n",
    "def greet():\n",
    "    global value\n",
    "    value=200\n",
    "    print(\"hello\")\n",
    "greet() \n",
    "print(value)"
   ]
  },
  {
   "cell_type": "code",
   "execution_count": 16,
   "id": "d7370aee-913c-43d3-98b9-2798c66ed111",
   "metadata": {},
   "outputs": [
    {
     "name": "stdout",
     "output_type": "stream",
     "text": [
      "10 210 220\n"
     ]
    }
   ],
   "source": [
    "n11=10\n",
    "def addition():\n",
    "    n22=200+n11\n",
    "    n33=n11+n22\n",
    "    print(n11,n22,n33)\n",
    "addition()    "
   ]
  },
  {
   "cell_type": "code",
   "execution_count": 17,
   "id": "b5e56871-28d6-4fcf-8f85-d6ee14da4e74",
   "metadata": {},
   "outputs": [
    {
     "ename": "NameError",
     "evalue": "name 'n33' is not defined",
     "output_type": "error",
     "traceback": [
      "\u001b[1;31m---------------------------------------------------------------------------\u001b[0m",
      "\u001b[1;31mNameError\u001b[0m                                 Traceback (most recent call last)",
      "Cell \u001b[1;32mIn[17], line 1\u001b[0m\n\u001b[1;32m----> 1\u001b[0m n33\n",
      "\u001b[1;31mNameError\u001b[0m: name 'n33' is not defined"
     ]
    }
   ],
   "source": [
    "n33"
   ]
  },
  {
   "cell_type": "code",
   "execution_count": 23,
   "id": "5c6acf9e-47e7-4382-b053-90b377928e0c",
   "metadata": {},
   "outputs": [
    {
     "name": "stdout",
     "output_type": "stream",
     "text": [
      "10 210 220\n",
      "220\n",
      "210\n"
     ]
    }
   ],
   "source": [
    "n11=10\n",
    "def addition():\n",
    "    global n22\n",
    "    n22=200+n11\n",
    "    global n33\n",
    "    n33=n11+n22\n",
    "    print(n11,n22,n33)\n",
    "addition() \n",
    "print(n33)\n",
    "print(n22)"
   ]
  },
  {
   "cell_type": "code",
   "execution_count": 19,
   "id": "9368c9cd-5aac-4b36-9396-eb0d00417613",
   "metadata": {},
   "outputs": [
    {
     "data": {
      "text/plain": [
       "220"
      ]
     },
     "execution_count": 19,
     "metadata": {},
     "output_type": "execute_result"
    }
   ],
   "source": [
    "n33"
   ]
  },
  {
   "cell_type": "code",
   "execution_count": 24,
   "id": "76c1bde5-52df-40f0-82a5-219e4eb12178",
   "metadata": {},
   "outputs": [
    {
     "data": {
      "text/plain": [
       "210"
      ]
     },
     "execution_count": 24,
     "metadata": {},
     "output_type": "execute_result"
    }
   ],
   "source": [
    "n22"
   ]
  },
  {
   "cell_type": "code",
   "execution_count": 25,
   "id": "151a10d8-f5cd-48ba-b74c-de19e4b0a1d4",
   "metadata": {},
   "outputs": [
    {
     "name": "stdout",
     "output_type": "stream",
     "text": [
      "10 210 220\n",
      "220\n",
      "210\n"
     ]
    }
   ],
   "source": [
    "n11=10\n",
    "def addition():\n",
    "    global n22,n33\n",
    "    n22=200+n11\n",
    "    n33=n11+n22\n",
    "    print(n11,n22,n33)\n",
    "addition() \n",
    "print(n33)\n",
    "print(n22)"
   ]
  },
  {
   "cell_type": "markdown",
   "id": "279617f8-e8a2-477d-b1fc-c36a0c552bbe",
   "metadata": {},
   "source": [
    "- outsdie the function is called global variable\n",
    "\n",
    "- inside the func is called local variable\n",
    "\n",
    "- local variable cannot use outside the func \n",
    "\n",
    "- if we want to use outside the func then we have to use **global** keyword"
   ]
  },
  {
   "cell_type": "code",
   "execution_count": 31,
   "id": "d2870057-4038-4627-b809-9d5e6a274e15",
   "metadata": {},
   "outputs": [
    {
     "name": "stdin",
     "output_type": "stream",
     "text": [
      "enter num 20\n",
      "enter num 30\n"
     ]
    },
    {
     "name": "stdout",
     "output_type": "stream",
     "text": [
      "600\n"
     ]
    }
   ],
   "source": [
    "def mul(a,b):\n",
    "    print(a*b)\n",
    "mul(eval(input(\"enter num\")),\n",
    "eval(input(\"enter num\")))  "
   ]
  },
  {
   "cell_type": "markdown",
   "id": "a9df3421-4a0c-4107-aa8e-dc56ccf29d26",
   "metadata": {},
   "source": [
    "**Return**\n",
    "\n",
    "- we can use the local variable or function outputs outside the func\n",
    "\n",
    "- print is diff\n",
    "\n",
    "- return is diff\n",
    "\n",
    "- print is used to print the values\n",
    "\n",
    "- that value you can see , but cannot use\n",
    "\n",
    "- if we want to use outside we will use return"
   ]
  },
  {
   "cell_type": "code",
   "execution_count": 29,
   "id": "23e9a2e7-7648-4054-9e45-ce66c2e30e1b",
   "metadata": {},
   "outputs": [
    {
     "name": "stdout",
     "output_type": "stream",
     "text": [
      "20.0\n"
     ]
    }
   ],
   "source": [
    "def avg():\n",
    "    n1=10\n",
    "        n2=20\n",
    "    n3=30\n",
    "    avge=(n1+n2+n3)/3\n",
    "    print(avge)\n",
    "avg()"
   ]
  },
  {
   "cell_type": "code",
   "execution_count": 35,
   "id": "d9b7b61a-ccb4-4a5e-b7e6-d5ab84ed2a93",
   "metadata": {},
   "outputs": [],
   "source": [
    "def avg():\n",
    "    n1=10\n",
    "    n2=20\n",
    "    n3=30\n",
    "    avge=(n1+n2+n3)/3\n",
    "    return(avge)\n",
    "avge=avg() \n",
    "#fun is ready to return the values\n",
    "# to store those values we have to use variable"
   ]
  },
  {
   "cell_type": "code",
   "execution_count": 36,
   "id": "58179c37-e99e-4f4e-917f-8aab1697d407",
   "metadata": {},
   "outputs": [
    {
     "data": {
      "text/plain": [
       "20.0"
      ]
     },
     "execution_count": 36,
     "metadata": {},
     "output_type": "execute_result"
    }
   ],
   "source": [
    "avge"
   ]
  },
  {
   "cell_type": "code",
   "execution_count": 39,
   "id": "5b6902ab-ab64-4a62-af62-b69e755e71f9",
   "metadata": {},
   "outputs": [],
   "source": [
    "def avg():\n",
    "    n1=10\n",
    "    n2=20\n",
    "    n3=30\n",
    "    avge=(n1+n2+n3)/3\n",
    "    return(n3,avge)\n",
    "n3,avge=avg()\n",
    "#how many values we are returning \n",
    "#we will store each return values in different variables\n",
    "# because two values are different\n",
    "#if you use only variable to store results in tuple value "
   ]
  },
  {
   "cell_type": "code",
   "execution_count": 40,
   "id": "6ef9e6b5-6186-4924-aa7e-1971a9f53fd5",
   "metadata": {},
   "outputs": [
    {
     "name": "stdout",
     "output_type": "stream",
     "text": [
      "20.0\n",
      "30\n"
     ]
    }
   ],
   "source": [
    "print(avge)\n",
    "print(n3)"
   ]
  },
  {
   "cell_type": "code",
   "execution_count": 41,
   "id": "e5c0709f-d485-4c29-98f8-2eda54991fb8",
   "metadata": {},
   "outputs": [
    {
     "data": {
      "text/plain": [
       "5"
      ]
     },
     "execution_count": 41,
     "metadata": {},
     "output_type": "execute_result"
    }
   ],
   "source": [
    "def sub():\n",
    "    a=10\n",
    "    b=5\n",
    "    subb=a-b\n",
    "    return(subb)\n",
    "sub()    "
   ]
  },
  {
   "cell_type": "code",
   "execution_count": 42,
   "id": "99b396e0-b730-426a-9bef-c67ac5ed2f30",
   "metadata": {},
   "outputs": [
    {
     "ename": "NameError",
     "evalue": "name 'subb' is not defined",
     "output_type": "error",
     "traceback": [
      "\u001b[1;31m---------------------------------------------------------------------------\u001b[0m",
      "\u001b[1;31mNameError\u001b[0m                                 Traceback (most recent call last)",
      "Cell \u001b[1;32mIn[42], line 1\u001b[0m\n\u001b[1;32m----> 1\u001b[0m subb\n",
      "\u001b[1;31mNameError\u001b[0m: name 'subb' is not defined"
     ]
    }
   ],
   "source": [
    "subb"
   ]
  },
  {
   "cell_type": "code",
   "execution_count": 43,
   "id": "827c84c0-44e7-4853-8ea9-6830e7af6210",
   "metadata": {},
   "outputs": [],
   "source": [
    "def sub():\n",
    "    a=10\n",
    "    b=5\n",
    "    subb=a-b\n",
    "    return(subb)\n",
    "subb=sub()    "
   ]
  },
  {
   "cell_type": "code",
   "execution_count": 44,
   "id": "280c3853-7353-4222-a783-2d6f02237901",
   "metadata": {},
   "outputs": [
    {
     "data": {
      "text/plain": [
       "5"
      ]
     },
     "execution_count": 44,
     "metadata": {},
     "output_type": "execute_result"
    }
   ],
   "source": [
    "subb"
   ]
  },
  {
   "cell_type": "markdown",
   "id": "623b5bce-528d-4eb0-9f17-5d049963b1e2",
   "metadata": {},
   "source": [
    "- return always at last line of function\n",
    "\n",
    "- not in the middle\n",
    "\n"
   ]
  },
  {
   "cell_type": "code",
   "execution_count": 46,
   "id": "37ab172e-9709-481f-a89f-185afd50caa2",
   "metadata": {},
   "outputs": [],
   "source": [
    "def sub():\n",
    "    a=10\n",
    "    b=5\n",
    "    subb=a-b\n",
    "    return(a,b,subb)\n",
    "a,b,subb=sub()    "
   ]
  },
  {
   "cell_type": "code",
   "execution_count": 47,
   "id": "1d158514-93a0-4cd6-8b9e-fff8d7351f03",
   "metadata": {},
   "outputs": [
    {
     "name": "stdout",
     "output_type": "stream",
     "text": [
      "10\n",
      "5\n",
      "5\n"
     ]
    }
   ],
   "source": [
    "print(a)\n",
    "print(b)\n",
    "print(subb)"
   ]
  },
  {
   "cell_type": "markdown",
   "id": "cc7f5c7b-2c93-4921-a875-d3f5e67b2b36",
   "metadata": {},
   "source": [
    "**unbound local error**"
   ]
  },
  {
   "cell_type": "code",
   "execution_count": 4,
   "id": "283e1bdb-6a9b-4072-ab4c-ee084fd646c9",
   "metadata": {},
   "outputs": [
    {
     "name": "stdout",
     "output_type": "stream",
     "text": [
      "inside func 100\n",
      "outside func 10\n"
     ]
    }
   ],
   "source": [
    "num1=10      #gv\n",
    "def fun1():\n",
    "    num1=100    #lv\n",
    "    print(\"inside func\",num1)\n",
    "fun1()\n",
    "print(\"outside func\",num1)"
   ]
  },
  {
   "cell_type": "code",
   "execution_count": 7,
   "id": "c7c57b5c-884d-4e07-853c-2e961815227c",
   "metadata": {},
   "outputs": [
    {
     "ename": "UnboundLocalError",
     "evalue": "cannot access local variable 'num2' where it is not associated with a value",
     "output_type": "error",
     "traceback": [
      "\u001b[1;31m---------------------------------------------------------------------------\u001b[0m",
      "\u001b[1;31mUnboundLocalError\u001b[0m                         Traceback (most recent call last)",
      "Cell \u001b[1;32mIn[7], line 5\u001b[0m\n\u001b[0;32m      3\u001b[0m     \u001b[38;5;28mprint\u001b[39m(num2)\n\u001b[0;32m      4\u001b[0m     num2\u001b[38;5;241m=\u001b[39m\u001b[38;5;241m100\u001b[39m    \u001b[38;5;66;03m#lv\u001b[39;00m\n\u001b[1;32m----> 5\u001b[0m fun2()\n",
      "Cell \u001b[1;32mIn[7], line 3\u001b[0m, in \u001b[0;36mfun2\u001b[1;34m()\u001b[0m\n\u001b[0;32m      2\u001b[0m \u001b[38;5;28;01mdef\u001b[39;00m \u001b[38;5;21mfun2\u001b[39m():\n\u001b[1;32m----> 3\u001b[0m     \u001b[38;5;28mprint\u001b[39m(num2)\n\u001b[0;32m      4\u001b[0m     num2\u001b[38;5;241m=\u001b[39m\u001b[38;5;241m100\u001b[39m\n",
      "\u001b[1;31mUnboundLocalError\u001b[0m: cannot access local variable 'num2' where it is not associated with a value"
     ]
    }
   ],
   "source": [
    "num2=10       #gv\n",
    "def fun2():\n",
    "    print(num2)\n",
    "    num2=100    #lv\n",
    "fun2()    \n",
    "#when local variable name and global variable name is same ,we are tryng to access local variable before assigning,here num2 is considerd as local variable "
   ]
  },
  {
   "cell_type": "code",
   "execution_count": 8,
   "id": "383151f5-22e3-407e-961d-1d3b0738f000",
   "metadata": {},
   "outputs": [
    {
     "name": "stdout",
     "output_type": "stream",
     "text": [
      "300\n"
     ]
    }
   ],
   "source": [
    "#case-1\n",
    "a1=100\n",
    "b1=200\n",
    "def add111():\n",
    "    add11=a1+b1\n",
    "    print(add11)\n",
    "add111()   "
   ]
  },
  {
   "cell_type": "code",
   "execution_count": 9,
   "id": "27ba05d9-8183-4b4b-bbc1-3200a9c8b7b0",
   "metadata": {},
   "outputs": [
    {
     "name": "stdout",
     "output_type": "stream",
     "text": [
      "1200\n"
     ]
    }
   ],
   "source": [
    "#case-2       lv and gv name is same so a1 b1 considers local variable and it is initialised before the executing statement then no error occurs\n",
    "a1=100\n",
    "b1=200\n",
    "def add111():\n",
    "    a1=500\n",
    "    b1=700\n",
    "    add11=a1+b1\n",
    "    print(add11)\n",
    "add111()   "
   ]
  },
  {
   "cell_type": "code",
   "execution_count": 10,
   "id": "4244634d-a478-4c60-9aeb-8558823ee3a4",
   "metadata": {},
   "outputs": [
    {
     "ename": "UnboundLocalError",
     "evalue": "cannot access local variable 'a1' where it is not associated with a value",
     "output_type": "error",
     "traceback": [
      "\u001b[1;31m---------------------------------------------------------------------------\u001b[0m",
      "\u001b[1;31mUnboundLocalError\u001b[0m                         Traceback (most recent call last)",
      "Cell \u001b[1;32mIn[10], line 8\u001b[0m\n\u001b[0;32m      6\u001b[0m     b1\u001b[38;5;241m=\u001b[39m\u001b[38;5;241m700\u001b[39m\n\u001b[0;32m      7\u001b[0m     \u001b[38;5;28mprint\u001b[39m(add11)\n\u001b[1;32m----> 8\u001b[0m add111()\n",
      "Cell \u001b[1;32mIn[10], line 4\u001b[0m, in \u001b[0;36madd111\u001b[1;34m()\u001b[0m\n\u001b[0;32m      3\u001b[0m \u001b[38;5;28;01mdef\u001b[39;00m \u001b[38;5;21madd111\u001b[39m():\n\u001b[1;32m----> 4\u001b[0m     add11\u001b[38;5;241m=\u001b[39ma1\u001b[38;5;241m+\u001b[39mb1\n\u001b[0;32m      5\u001b[0m     a1\u001b[38;5;241m=\u001b[39m\u001b[38;5;241m500\u001b[39m\n\u001b[0;32m      6\u001b[0m     b1\u001b[38;5;241m=\u001b[39m\u001b[38;5;241m700\u001b[39m\n",
      "\u001b[1;31mUnboundLocalError\u001b[0m: cannot access local variable 'a1' where it is not associated with a value"
     ]
    }
   ],
   "source": [
    "#case-3       lv and gv name is same so a1 b1 considers local variable and it is initialised after the executing statement then error occurs\n",
    "\n",
    "a1=100\n",
    "b1=200\n",
    "def add111():\n",
    "    add11=a1+b1\n",
    "    a1=500\n",
    "    b1=700\n",
    "    print(add11)\n",
    "add111()   "
   ]
  },
  {
   "cell_type": "code",
   "execution_count": 14,
   "id": "6996eff1-7690-4982-be8d-5e9de8865811",
   "metadata": {},
   "outputs": [
    {
     "ename": "UnboundLocalError",
     "evalue": "cannot access local variable 'c' where it is not associated with a value",
     "output_type": "error",
     "traceback": [
      "\u001b[1;31m---------------------------------------------------------------------------\u001b[0m",
      "\u001b[1;31mUnboundLocalError\u001b[0m                         Traceback (most recent call last)",
      "Cell \u001b[1;32mIn[14], line 8\u001b[0m\n\u001b[0;32m      6\u001b[0m     d\u001b[38;5;241m=\u001b[39m\u001b[38;5;241m700\u001b[39m\n\u001b[0;32m      7\u001b[0m     \u001b[38;5;28mprint\u001b[39m(add11)\n\u001b[1;32m----> 8\u001b[0m add111()\n",
      "Cell \u001b[1;32mIn[14], line 4\u001b[0m, in \u001b[0;36madd111\u001b[1;34m()\u001b[0m\n\u001b[0;32m      3\u001b[0m \u001b[38;5;28;01mdef\u001b[39;00m \u001b[38;5;21madd111\u001b[39m():\n\u001b[1;32m----> 4\u001b[0m     add11\u001b[38;5;241m=\u001b[39mc\u001b[38;5;241m+\u001b[39md\n\u001b[0;32m      5\u001b[0m     c\u001b[38;5;241m=\u001b[39m\u001b[38;5;241m500\u001b[39m\n\u001b[0;32m      6\u001b[0m     d\u001b[38;5;241m=\u001b[39m\u001b[38;5;241m700\u001b[39m\n",
      "\u001b[1;31mUnboundLocalError\u001b[0m: cannot access local variable 'c' where it is not associated with a value"
     ]
    }
   ],
   "source": [
    "a1=100\n",
    "b1=200\n",
    "def add111():\n",
    "    add11=c+d\n",
    "    c=500\n",
    "    d=700\n",
    "    print(add11)\n",
    "add111()   "
   ]
  },
  {
   "cell_type": "code",
   "execution_count": 12,
   "id": "d22ef235-f3a4-44e1-8a69-759eb82d719f",
   "metadata": {},
   "outputs": [
    {
     "ename": "UnboundLocalError",
     "evalue": "cannot access local variable 'a1' where it is not associated with a value",
     "output_type": "error",
     "traceback": [
      "\u001b[1;31m---------------------------------------------------------------------------\u001b[0m",
      "\u001b[1;31mUnboundLocalError\u001b[0m                         Traceback (most recent call last)",
      "Cell \u001b[1;32mIn[12], line 8\u001b[0m\n\u001b[0;32m      6\u001b[0m     b1\u001b[38;5;241m=\u001b[39m\u001b[38;5;241m700\u001b[39m\n\u001b[0;32m      7\u001b[0m     \u001b[38;5;28mprint\u001b[39m(add11)\n\u001b[1;32m----> 8\u001b[0m add111()\n",
      "Cell \u001b[1;32mIn[12], line 4\u001b[0m, in \u001b[0;36madd111\u001b[1;34m()\u001b[0m\n\u001b[0;32m      3\u001b[0m \u001b[38;5;28;01mdef\u001b[39;00m \u001b[38;5;21madd111\u001b[39m():\n\u001b[1;32m----> 4\u001b[0m     add11\u001b[38;5;241m=\u001b[39ma1\u001b[38;5;241m+\u001b[39mb1\n\u001b[0;32m      5\u001b[0m     a1\u001b[38;5;241m=\u001b[39m\u001b[38;5;241m500\u001b[39m\n\u001b[0;32m      6\u001b[0m     b1\u001b[38;5;241m=\u001b[39m\u001b[38;5;241m700\u001b[39m\n",
      "\u001b[1;31mUnboundLocalError\u001b[0m: cannot access local variable 'a1' where it is not associated with a value"
     ]
    }
   ],
   "source": [
    "a1=100\n",
    "b1=200\n",
    "def add111():\n",
    "    add11=a1+b1\n",
    "    a1=500\n",
    "    b1=700\n",
    "    print(add11)\n",
    "add111()   "
   ]
  },
  {
   "cell_type": "code",
   "execution_count": 15,
   "id": "cd7271c5-6303-45e4-996e-6d19f8ca83a8",
   "metadata": {},
   "outputs": [
    {
     "ename": "UnboundLocalError",
     "evalue": "cannot access local variable 'a1' where it is not associated with a value",
     "output_type": "error",
     "traceback": [
      "\u001b[1;31m---------------------------------------------------------------------------\u001b[0m",
      "\u001b[1;31mUnboundLocalError\u001b[0m                         Traceback (most recent call last)",
      "Cell \u001b[1;32mIn[15], line 7\u001b[0m\n\u001b[0;32m      5\u001b[0m     a1\u001b[38;5;241m=\u001b[39m\u001b[38;5;241m500\u001b[39m\n\u001b[0;32m      6\u001b[0m     \u001b[38;5;28mprint\u001b[39m(add11)\n\u001b[1;32m----> 7\u001b[0m add111()\n",
      "Cell \u001b[1;32mIn[15], line 4\u001b[0m, in \u001b[0;36madd111\u001b[1;34m()\u001b[0m\n\u001b[0;32m      2\u001b[0m \u001b[38;5;28;01mdef\u001b[39;00m \u001b[38;5;21madd111\u001b[39m():\n\u001b[0;32m      3\u001b[0m     b1\u001b[38;5;241m=\u001b[39m\u001b[38;5;241m500\u001b[39m\n\u001b[1;32m----> 4\u001b[0m     add11\u001b[38;5;241m=\u001b[39ma1\u001b[38;5;241m+\u001b[39mb1\n\u001b[0;32m      5\u001b[0m     a1\u001b[38;5;241m=\u001b[39m\u001b[38;5;241m500\u001b[39m\n\u001b[0;32m      6\u001b[0m     \u001b[38;5;28mprint\u001b[39m(add11)\n",
      "\u001b[1;31mUnboundLocalError\u001b[0m: cannot access local variable 'a1' where it is not associated with a value"
     ]
    }
   ],
   "source": [
    "a1=100\n",
    "def add111():\n",
    "    b1=500\n",
    "    add11=a1+b1\n",
    "    a1=500\n",
    "    print(add11)\n",
    "add111()   "
   ]
  },
  {
   "cell_type": "markdown",
   "id": "fdfd2543-3742-4331-a793-3c71802fee3d",
   "metadata": {},
   "source": [
    "**Functions in functions**"
   ]
  },
  {
   "cell_type": "code",
   "execution_count": 16,
   "id": "83ea4721-d301-45bb-920c-d5ffad800c7b",
   "metadata": {},
   "outputs": [
    {
     "name": "stdout",
     "output_type": "stream",
     "text": [
      "hello good mrng\n",
      "good night\n"
     ]
    }
   ],
   "source": [
    "def greet1():\n",
    "    print(\"hello good mrng\")\n",
    "def greet2():\n",
    "    print(\"good night\")\n",
    "greet1()\n",
    "greet2()"
   ]
  },
  {
   "cell_type": "code",
   "execution_count": 17,
   "id": "ada4ee30-a7d4-45ef-8eed-38d44ac57bca",
   "metadata": {},
   "outputs": [
    {
     "name": "stdout",
     "output_type": "stream",
     "text": [
      "hello good mrng\n",
      "good night\n"
     ]
    }
   ],
   "source": [
    "def greet1():\n",
    "    print(\"hello good mrng\")\n",
    "    greet2()\n",
    "def greet2():\n",
    "    print(\"good night\")\n",
    "greet1()\n"
   ]
  },
  {
   "cell_type": "code",
   "execution_count": 18,
   "id": "c214b3ff-5799-4de0-855c-a9f3be85e8ea",
   "metadata": {},
   "outputs": [],
   "source": [
    "def greet2():\n",
    "    print(\"night\")\n",
    "    greet1()\n",
    "def greet1():\n",
    "    print(\"mrng\")\n",
    "    greet2()\n",
    "greet1()\n",
    "#infinite loop\n",
    "#mrng\n",
    "#night\n",
    "#mrng\n",
    "#night....."
   ]
  },
  {
   "cell_type": "code",
   "execution_count": 23,
   "id": "4e1f4b06-6fd7-4b8d-af5b-3f7f60b1738b",
   "metadata": {},
   "outputs": [
    {
     "name": "stdin",
     "output_type": "stream",
     "text": [
      "enter distance 20\n",
      "enter cutoff distance 40\n"
     ]
    },
    {
     "name": "stdout",
     "output_type": "stream",
     "text": [
      "enjoy free ride\n"
     ]
    }
   ],
   "source": [
    "def prblm():\n",
    "    distance=eval(input(\"enter distance\"))\n",
    "    cutoff_dist=eval(input(\"enter cutoff distance\"))\n",
    "    if distance>cutoff_dist :\n",
    "        final_dist=distance-cutoff_dist\n",
    "        fair=eval(input(\"enter charge\"))\n",
    "        total_amount=fair*final_dist\n",
    "        print(total_amount)\n",
    "    else:\n",
    "        print(\"enjoy free ride\")\n",
    "prblm()        "
   ]
  },
  {
   "cell_type": "code",
   "execution_count": 27,
   "id": "a69a0a4c-b97c-4a34-9ede-e40ace11dba5",
   "metadata": {},
   "outputs": [
    {
     "name": "stdout",
     "output_type": "stream",
     "text": [
      "300\n"
     ]
    }
   ],
   "source": [
    "def prblm(distance,cutoff_dist,fair):\n",
    "    if distance>cutoff_dist :\n",
    "        final_dist=distance-cutoff_dist\n",
    "        total_amount=fair*final_dist\n",
    "        print(total_amount)\n",
    "    else:\n",
    "        print(\"enjoy free ride\")\n",
    "prblm(50,20,10)        "
   ]
  },
  {
   "cell_type": "code",
   "execution_count": 28,
   "id": "8a7bc4f6-f5ff-41ac-9f2f-d82179161319",
   "metadata": {},
   "outputs": [
    {
     "name": "stdin",
     "output_type": "stream",
     "text": [
      "enter distance 50\n",
      "enter charge 10\n"
     ]
    },
    {
     "name": "stdout",
     "output_type": "stream",
     "text": [
      "300\n"
     ]
    }
   ],
   "source": [
    "def prblm(cutoff_dist=20):\n",
    "    distance=eval(input(\"enter distance\"))\n",
    "    if distance>cutoff_dist :\n",
    "        final_dist=distance-cutoff_dist\n",
    "        fair=eval(input(\"enter charge\"))\n",
    "        total_amount=fair*final_dist\n",
    "        print(total_amount)\n",
    "    else:\n",
    "        print(\"enjoy free ride\")\n",
    "prblm()        "
   ]
  },
  {
   "cell_type": "code",
   "execution_count": 32,
   "id": "29b79d59-3a76-46ac-b6fe-014eff247f6e",
   "metadata": {},
   "outputs": [
    {
     "name": "stdin",
     "output_type": "stream",
     "text": [
      "enter distance 10\n",
      "enter cutoff distance 9\n",
      "enter fair 25\n"
     ]
    },
    {
     "name": "stdout",
     "output_type": "stream",
     "text": [
      "25\n"
     ]
    }
   ],
   "source": [
    "distance=eval(input(\"enter distance\"))\n",
    "cutoff_dist=eval(input(\"enter cutoff distance\"))\n",
    "def prblm():\n",
    "    global fair\n",
    "    if distance>cutoff_dist :\n",
    "        final_dist=distance-cutoff_dist\n",
    "        fair=eval(input(\"enter fair\"))\n",
    "        total_amount=fair*final_dist\n",
    "        print(total_amount)\n",
    "    else:\n",
    "        print(\"enjoy free ride\")\n",
    "prblm()        "
   ]
  },
  {
   "cell_type": "code",
   "execution_count": 33,
   "id": "215c8792-c20d-462b-86f4-a39bf0c8ae24",
   "metadata": {},
   "outputs": [
    {
     "name": "stdin",
     "output_type": "stream",
     "text": [
      "enter distance 20\n",
      "enter cutoff distance 19\n",
      "enter fair 10\n"
     ]
    },
    {
     "name": "stdout",
     "output_type": "stream",
     "text": [
      "10\n"
     ]
    },
    {
     "data": {
      "text/plain": [
       "10"
      ]
     },
     "execution_count": 33,
     "metadata": {},
     "output_type": "execute_result"
    }
   ],
   "source": [
    "distance=eval(input(\"enter distance\"))\n",
    "cutoff_dist=eval(input(\"enter cutoff distance\"))\n",
    "def prblm():\n",
    "    if distance>cutoff_dist :\n",
    "        final_dist=distance-cutoff_dist\n",
    "        fair=eval(input(\"enter fair\"))\n",
    "        total_amount=fair*final_dist\n",
    "        print(total_amount)\n",
    "    else:\n",
    "        print(\"enjoy free ride\")\n",
    "    return(fair)\n",
    "prblm()        "
   ]
  },
  {
   "cell_type": "code",
   "execution_count": 34,
   "id": "4d93ac9c-2689-4da6-97ae-8044d3a74902",
   "metadata": {},
   "outputs": [
    {
     "name": "stdin",
     "output_type": "stream",
     "text": [
      "enter distance 15\n",
      "enter cutoff distance 20\n"
     ]
    },
    {
     "name": "stdout",
     "output_type": "stream",
     "text": [
      "enjoy free ride\n"
     ]
    },
    {
     "ename": "UnboundLocalError",
     "evalue": "cannot access local variable 'fair' where it is not associated with a value",
     "output_type": "error",
     "traceback": [
      "\u001b[1;31m---------------------------------------------------------------------------\u001b[0m",
      "\u001b[1;31mUnboundLocalError\u001b[0m                         Traceback (most recent call last)",
      "Cell \u001b[1;32mIn[34], line 12\u001b[0m\n\u001b[0;32m     10\u001b[0m         \u001b[38;5;28mprint\u001b[39m(\u001b[38;5;124m\"\u001b[39m\u001b[38;5;124menjoy free ride\u001b[39m\u001b[38;5;124m\"\u001b[39m)\n\u001b[0;32m     11\u001b[0m     \u001b[38;5;28;01mreturn\u001b[39;00m(fair)\n\u001b[1;32m---> 12\u001b[0m prblm()\n",
      "Cell \u001b[1;32mIn[34], line 11\u001b[0m, in \u001b[0;36mprblm\u001b[1;34m()\u001b[0m\n\u001b[0;32m      9\u001b[0m \u001b[38;5;28;01melse\u001b[39;00m:\n\u001b[0;32m     10\u001b[0m     \u001b[38;5;28mprint\u001b[39m(\u001b[38;5;124m\"\u001b[39m\u001b[38;5;124menjoy free ride\u001b[39m\u001b[38;5;124m\"\u001b[39m)\n\u001b[1;32m---> 11\u001b[0m \u001b[38;5;28;01mreturn\u001b[39;00m(fair)\n",
      "\u001b[1;31mUnboundLocalError\u001b[0m: cannot access local variable 'fair' where it is not associated with a value"
     ]
    }
   ],
   "source": [
    "distance=eval(input(\"enter distance\"))\n",
    "cutoff_dist=eval(input(\"enter cutoff distance\"))\n",
    "def prblm():\n",
    "    if distance>cutoff_dist :\n",
    "        final_dist=distance-cutoff_dist\n",
    "        fair=eval(input(\"enter fair\"))\n",
    "        total_amount=fair*final_dist\n",
    "        print(total_amount)\n",
    "    else:\n",
    "        print(\"enjoy free ride\")\n",
    "    return(fair)\n",
    "prblm()   "
   ]
  },
  {
   "cell_type": "code",
   "execution_count": 36,
   "id": "f15f55a4-00df-4ec9-b7be-c2bd036b3f7f",
   "metadata": {},
   "outputs": [
    {
     "name": "stdin",
     "output_type": "stream",
     "text": [
      "enter distance 15\n",
      "enter cutoff distance 10\n",
      "enter fair 25\n"
     ]
    },
    {
     "name": "stdout",
     "output_type": "stream",
     "text": [
      "125\n"
     ]
    },
    {
     "data": {
      "text/plain": [
       "25"
      ]
     },
     "execution_count": 36,
     "metadata": {},
     "output_type": "execute_result"
    }
   ],
   "source": [
    "distance=eval(input(\"enter distance\"))\n",
    "cutoff_dist=eval(input(\"enter cutoff distance\"))\n",
    "def prblm():\n",
    "    if distance>cutoff_dist :\n",
    "        final_dist=distance-cutoff_dist\n",
    "        fair=eval(input(\"enter fair\"))\n",
    "        total_amount=fair*final_dist\n",
    "        print(total_amount)\n",
    "        return(fair)\n",
    "    else:\n",
    "        print(\"enjoy free ride\")\n",
    "prblm()   "
   ]
  },
  {
   "cell_type": "code",
   "execution_count": null,
   "id": "e3550c98-3268-426d-994b-9b2daaa22a95",
   "metadata": {},
   "outputs": [],
   "source": [
    "#create 4 individusl func\n",
    "#add\n",
    "#sub\n",
    "#mul\n",
    "#div\n",
    "def add(a,b):\n",
    "    print(a+b)\n",
    "#create main func name:calculator\n",
    "#inside main print some statements\n",
    "# option1:addition\n",
    "#option2:sub ,opt3:mul,opt4:div\n",
    "#option=eval(in(1-4\n",
    "#a value\n",
    "#b value\n",
    "#if opt==1\n",
    "#add func call\n",
    "#elif opt ==2\n",
    "#sub func\n",
    "#elif opt ==3\n",
    "#mul func\n",
    "#else opt==4"
   ]
  },
  {
   "cell_type": "code",
   "execution_count": 42,
   "id": "8aa3a563-9207-4760-8514-8804902b4489",
   "metadata": {},
   "outputs": [
    {
     "name": "stdout",
     "output_type": "stream",
     "text": [
      "option 1 is for addition\n",
      "option 2 is for subtraction\n",
      "option 3 is for multiplication\n",
      "option 4 is for division\n"
     ]
    },
    {
     "name": "stdin",
     "output_type": "stream",
     "text": [
      "enter a option num from 1 to 4 3\n",
      "enter a value: 100\n",
      "enter b value: 30\n"
     ]
    },
    {
     "name": "stdout",
     "output_type": "stream",
     "text": [
      "3000\n"
     ]
    }
   ],
   "source": [
    "def add(a,b):\n",
    "    print(a+b)\n",
    "def sub(a,b):\n",
    "    print(a-b)\n",
    "def mul(a,b):\n",
    "    print(a*b)\n",
    "def div(a,b):\n",
    "    print(a/b)   \n",
    "def calculator():\n",
    "    print(\"option 1 is for addition\")\n",
    "    print(\"option 2 is for subtraction\")\n",
    "    print(\"option 3 is for multiplication\")\n",
    "    print(\"option 4 is for division\")\n",
    "    option=eval(input(\"enter a option num from 1 to 4\"))\n",
    "    a=eval(input(\"enter a value:\"))\n",
    "    b=eval(input(\"enter b value:\"))\n",
    "    if option==1:\n",
    "        add(a,b)\n",
    "    elif option==2:\n",
    "        sub(a,b)\n",
    "    elif option==3:\n",
    "        mul(a,b)\n",
    "    else:\n",
    "        div(a,b)\n",
    "calculator()        "
   ]
  },
  {
   "cell_type": "code",
   "execution_count": null,
   "id": "aa8c785c-4e4d-477e-824e-cd56ab471349",
   "metadata": {},
   "outputs": [],
   "source": []
  }
 ],
 "metadata": {
  "kernelspec": {
   "display_name": "Python 3 (ipykernel)",
   "language": "python",
   "name": "python3"
  },
  "language_info": {
   "codemirror_mode": {
    "name": "ipython",
    "version": 3
   },
   "file_extension": ".py",
   "mimetype": "text/x-python",
   "name": "python",
   "nbconvert_exporter": "python",
   "pygments_lexer": "ipython3",
   "version": "3.11.7"
  }
 },
 "nbformat": 4,
 "nbformat_minor": 5
}
