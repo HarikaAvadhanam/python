{
 "cells": [
  {
   "cell_type": "markdown",
   "id": "86380181-5a64-49f7-b299-87dbbc5780e6",
   "metadata": {},
   "source": [
    "**Type casting**"
   ]
  },
  {
   "cell_type": "markdown",
   "id": "a4344d7b-8032-4e62-9875-6b7b3f8bba2c",
   "metadata": {},
   "source": [
    "- convert onedata type to another data type is called typecasting\n",
    "\n",
    "- which means we wants to convert \n",
    "\n",
    "- integer data type to all other(float,str,bool) datatypes\n",
    "\n",
    "- float data type to all other(int,str,bool) datatypes\n",
    "\n",
    "- str data type to all other(int,float,bool) datatypes\n",
    "\n",
    "- bool data type to all other(int,float,str) datatypes"
   ]
  },
  {
   "cell_type": "markdown",
   "id": "763de1c6-3419-4379-9166-a2593beb70d6",
   "metadata": {},
   "source": [
    "**integer to other datatypes**"
   ]
  },
  {
   "cell_type": "markdown",
   "id": "fb3adc50-308e-42fc-a142-f662df139772",
   "metadata": {},
   "source": [
    "$int-float$"
   ]
  },
  {
   "cell_type": "code",
   "execution_count": 2,
   "id": "8d9b246d-7f38-4974-a598-5513d85ed3e3",
   "metadata": {},
   "outputs": [
    {
     "data": {
      "text/plain": [
       "int"
      ]
     },
     "execution_count": 2,
     "metadata": {},
     "output_type": "execute_result"
    }
   ],
   "source": [
    "num=100\n",
    "type(num)"
   ]
  },
  {
   "cell_type": "code",
   "execution_count": 4,
   "id": "8b213b2c-b267-47b2-a55d-0224ef86cc62",
   "metadata": {},
   "outputs": [
    {
     "data": {
      "text/plain": [
       "float"
      ]
     },
     "execution_count": 4,
     "metadata": {},
     "output_type": "execute_result"
    }
   ],
   "source": [
    "floatnum=float(num)\n",
    "type(floatnum)"
   ]
  },
  {
   "cell_type": "code",
   "execution_count": 6,
   "id": "a5a6f49a-e2ae-49d5-8838-4fb7f45f9637",
   "metadata": {},
   "outputs": [
    {
     "data": {
      "text/plain": [
       "'100'"
      ]
     },
     "execution_count": 6,
     "metadata": {},
     "output_type": "execute_result"
    }
   ],
   "source": [
    "a=str(num)\n",
    "a\n"
   ]
  },
  {
   "cell_type": "code",
   "execution_count": 7,
   "id": "5cec63fa-cf3e-40fe-99da-5e4bdb4e1f58",
   "metadata": {},
   "outputs": [
    {
     "data": {
      "text/plain": [
       "str"
      ]
     },
     "execution_count": 7,
     "metadata": {},
     "output_type": "execute_result"
    }
   ],
   "source": [
    "type(a)"
   ]
  },
  {
   "cell_type": "code",
   "execution_count": 8,
   "id": "27fb5323-9845-4414-9880-66731d30e78b",
   "metadata": {},
   "outputs": [
    {
     "data": {
      "text/plain": [
       "True"
      ]
     },
     "execution_count": 8,
     "metadata": {},
     "output_type": "execute_result"
    }
   ],
   "source": [
    "b=bool(num)\n",
    "b"
   ]
  },
  {
   "cell_type": "code",
   "execution_count": 9,
   "id": "a561b20f-2087-4855-a9e6-2248d5cbc4e9",
   "metadata": {},
   "outputs": [
    {
     "data": {
      "text/plain": [
       "(200.0, '200', True)"
      ]
     },
     "execution_count": 9,
     "metadata": {},
     "output_type": "execute_result"
    }
   ],
   "source": [
    "float(200),str(200),bool(200)"
   ]
  },
  {
   "cell_type": "code",
   "execution_count": 10,
   "id": "89171ab8-cd50-4470-baf7-3e39d25d05a6",
   "metadata": {},
   "outputs": [
    {
     "data": {
      "text/plain": [
       "(-200.0, '-200', True)"
      ]
     },
     "execution_count": 10,
     "metadata": {},
     "output_type": "execute_result"
    }
   ],
   "source": [
    "float(-200),str(-200),bool(-200)"
   ]
  },
  {
   "cell_type": "code",
   "execution_count": 11,
   "id": "a411977e-f441-4624-b186-3abb2ede4f5d",
   "metadata": {},
   "outputs": [
    {
     "data": {
      "text/plain": [
       "False"
      ]
     },
     "execution_count": 11,
     "metadata": {},
     "output_type": "execute_result"
    }
   ],
   "source": [
    "bool(0)"
   ]
  },
  {
   "cell_type": "markdown",
   "id": "8df355f1-fe3a-4983-8f3d-f694a79f5765",
   "metadata": {},
   "source": [
    "**note**\n",
    "\n",
    "- boolean conversion false at only integer=0\n",
    "\n",
    "- otherwise for any positive num or any negative num it becomes zero"
   ]
  },
  {
   "cell_type": "markdown",
   "id": "30251b3e-a9f4-4300-9f2a-a82b27d2ac06",
   "metadata": {},
   "source": [
    "$float --  another datatype$"
   ]
  },
  {
   "cell_type": "code",
   "execution_count": 14,
   "id": "3a532065-dcd2-4570-9d07-e8fde20ee4af",
   "metadata": {},
   "outputs": [
    {
     "name": "stdout",
     "output_type": "stream",
     "text": [
      "200\n",
      "200.5\n",
      "True\n"
     ]
    }
   ],
   "source": [
    "print(int(200.5))\n",
    "print(str(200.5))\n",
    "print(bool(200.5))"
   ]
  },
  {
   "cell_type": "markdown",
   "id": "27d2478b-7e04-4842-8494-aea5ac0144b9",
   "metadata": {},
   "source": [
    "$string -- another data type$"
   ]
  },
  {
   "cell_type": "code",
   "execution_count": 16,
   "id": "f575e9ef-41d2-4feb-9785-7e2430e68311",
   "metadata": {},
   "outputs": [],
   "source": [
    "str1='apple'\n",
    "str2='10'\n",
    "str3='10.5'"
   ]
  },
  {
   "cell_type": "code",
   "execution_count": 18,
   "id": "d7eb892f-bc65-47d0-9b1a-e1f673d679cc",
   "metadata": {},
   "outputs": [
    {
     "ename": "ValueError",
     "evalue": "invalid literal for int() with base 10: 'apple'",
     "output_type": "error",
     "traceback": [
      "\u001b[1;31m---------------------------------------------------------------------------\u001b[0m",
      "\u001b[1;31mValueError\u001b[0m                                Traceback (most recent call last)",
      "Cell \u001b[1;32mIn[18], line 1\u001b[0m\n\u001b[1;32m----> 1\u001b[0m \u001b[38;5;28mint\u001b[39m(\u001b[38;5;124m'\u001b[39m\u001b[38;5;124mapple\u001b[39m\u001b[38;5;124m'\u001b[39m)\n",
      "\u001b[1;31mValueError\u001b[0m: invalid literal for int() with base 10: 'apple'"
     ]
    }
   ],
   "source": [
    "int('apple')"
   ]
  },
  {
   "cell_type": "code",
   "execution_count": 19,
   "id": "eb157f03-5a26-48f3-ab91-8ef439a8d309",
   "metadata": {},
   "outputs": [
    {
     "ename": "ValueError",
     "evalue": "could not convert string to float: 'apple'",
     "output_type": "error",
     "traceback": [
      "\u001b[1;31m---------------------------------------------------------------------------\u001b[0m",
      "\u001b[1;31mValueError\u001b[0m                                Traceback (most recent call last)",
      "Cell \u001b[1;32mIn[19], line 1\u001b[0m\n\u001b[1;32m----> 1\u001b[0m \u001b[38;5;28mfloat\u001b[39m(\u001b[38;5;124m'\u001b[39m\u001b[38;5;124mapple\u001b[39m\u001b[38;5;124m'\u001b[39m)\n",
      "\u001b[1;31mValueError\u001b[0m: could not convert string to float: 'apple'"
     ]
    }
   ],
   "source": [
    "float('apple')"
   ]
  },
  {
   "cell_type": "code",
   "execution_count": 20,
   "id": "26b32f6a-5d6e-455a-8398-c25dfa14a171",
   "metadata": {},
   "outputs": [
    {
     "data": {
      "text/plain": [
       "True"
      ]
     },
     "execution_count": 20,
     "metadata": {},
     "output_type": "execute_result"
    }
   ],
   "source": [
    "bool('apple')"
   ]
  },
  {
   "cell_type": "code",
   "execution_count": 21,
   "id": "8a6126d3-62a4-494a-ac8b-235bdc9c944a",
   "metadata": {},
   "outputs": [
    {
     "data": {
      "text/plain": [
       "(10, 10.0, True)"
      ]
     },
     "execution_count": 21,
     "metadata": {},
     "output_type": "execute_result"
    }
   ],
   "source": [
    "int('10'),float('10'),bool('10')"
   ]
  },
  {
   "cell_type": "code",
   "execution_count": 24,
   "id": "18a94308-01db-459e-8dc4-5250194eabaf",
   "metadata": {},
   "outputs": [
    {
     "ename": "ValueError",
     "evalue": "invalid literal for int() with base 10: '10.5'",
     "output_type": "error",
     "traceback": [
      "\u001b[1;31m---------------------------------------------------------------------------\u001b[0m",
      "\u001b[1;31mValueError\u001b[0m                                Traceback (most recent call last)",
      "Cell \u001b[1;32mIn[24], line 1\u001b[0m\n\u001b[1;32m----> 1\u001b[0m \u001b[38;5;28mint\u001b[39m(\u001b[38;5;124m'\u001b[39m\u001b[38;5;124m10.5\u001b[39m\u001b[38;5;124m'\u001b[39m),\u001b[38;5;28mfloat\u001b[39m(\u001b[38;5;124m'\u001b[39m\u001b[38;5;124m10.5\u001b[39m\u001b[38;5;124m'\u001b[39m),\u001b[38;5;28mbool\u001b[39m(\u001b[38;5;124m'\u001b[39m\u001b[38;5;124m10.5\u001b[39m\u001b[38;5;124m'\u001b[39m)\n",
      "\u001b[1;31mValueError\u001b[0m: invalid literal for int() with base 10: '10.5'"
     ]
    }
   ],
   "source": [
    "int('10.5'),float('10.5'),bool('10.5')"
   ]
  },
  {
   "cell_type": "code",
   "execution_count": 25,
   "id": "e4c2383f-b716-4e1b-afbd-0f2bd801172a",
   "metadata": {},
   "outputs": [
    {
     "ename": "ValueError",
     "evalue": "invalid literal for int() with base 10: '10.5'",
     "output_type": "error",
     "traceback": [
      "\u001b[1;31m---------------------------------------------------------------------------\u001b[0m",
      "\u001b[1;31mValueError\u001b[0m                                Traceback (most recent call last)",
      "Cell \u001b[1;32mIn[25], line 1\u001b[0m\n\u001b[1;32m----> 1\u001b[0m \u001b[38;5;28mint\u001b[39m(\u001b[38;5;124m'\u001b[39m\u001b[38;5;124m10.5\u001b[39m\u001b[38;5;124m'\u001b[39m)\n",
      "\u001b[1;31mValueError\u001b[0m: invalid literal for int() with base 10: '10.5'"
     ]
    }
   ],
   "source": [
    "int('10.5')"
   ]
  },
  {
   "cell_type": "code",
   "execution_count": 26,
   "id": "b060ca7d-5556-4db0-bbe7-ab4a76491b4c",
   "metadata": {},
   "outputs": [
    {
     "data": {
      "text/plain": [
       "10.5"
      ]
     },
     "execution_count": 26,
     "metadata": {},
     "output_type": "execute_result"
    }
   ],
   "source": [
    "float('10.5')"
   ]
  },
  {
   "cell_type": "code",
   "execution_count": 27,
   "id": "f55ad2ba-846d-4825-9cb6-ae6facd5d84e",
   "metadata": {},
   "outputs": [
    {
     "data": {
      "text/plain": [
       "True"
      ]
     },
     "execution_count": 27,
     "metadata": {},
     "output_type": "execute_result"
    }
   ],
   "source": [
    "bool('10.5')"
   ]
  },
  {
   "cell_type": "code",
   "execution_count": 29,
   "id": "e4d0a812-e08c-4e6d-8425-798991d25306",
   "metadata": {},
   "outputs": [
    {
     "ename": "ValueError",
     "evalue": "invalid literal for int() with base 10: '10.5'",
     "output_type": "error",
     "traceback": [
      "\u001b[1;31m---------------------------------------------------------------------------\u001b[0m",
      "\u001b[1;31mValueError\u001b[0m                                Traceback (most recent call last)",
      "Cell \u001b[1;32mIn[29], line 1\u001b[0m\n\u001b[1;32m----> 1\u001b[0m \u001b[38;5;28mint\u001b[39m(\u001b[38;5;124m'\u001b[39m\u001b[38;5;124m10.5\u001b[39m\u001b[38;5;124m'\u001b[39m)\u001b[38;5;66;03m#fail\u001b[39;00m\n\u001b[0;32m      2\u001b[0m \u001b[38;5;28mint\u001b[39m(\u001b[38;5;124m'\u001b[39m\u001b[38;5;124m10\u001b[39m\u001b[38;5;124m'\u001b[39m)\n",
      "\u001b[1;31mValueError\u001b[0m: invalid literal for int() with base 10: '10.5'"
     ]
    }
   ],
   "source": [
    "int('10.5')#fail\n",
    "int('10')#pass\n",
    "\n"
   ]
  },
  {
   "cell_type": "markdown",
   "id": "70b800a3-4b09-4fe0-ae27-6757b9118bb2",
   "metadata": {},
   "source": [
    "- float is boss\n",
    "\n",
    "- float of any valuse either it is integer in strings format\n",
    "\n",
    "- or faloat in strings format will works\n",
    "\n",
    "- but integer will works only for integer in string format\n",
    "\n",
    "- integer type casting will fail for float in strings format"
   ]
  },
  {
   "cell_type": "code",
   "execution_count": 30,
   "id": "cbeccaf6-0561-44d0-8dc2-af0b83c0094c",
   "metadata": {},
   "outputs": [
    {
     "data": {
      "text/plain": [
       "False"
      ]
     },
     "execution_count": 30,
     "metadata": {},
     "output_type": "execute_result"
    }
   ],
   "source": [
    "bool('')"
   ]
  },
  {
   "cell_type": "code",
   "execution_count": 31,
   "id": "884d4b7f-19cd-4635-85ab-7178a0da09a8",
   "metadata": {},
   "outputs": [
    {
     "data": {
      "text/plain": [
       "False"
      ]
     },
     "execution_count": 31,
     "metadata": {},
     "output_type": "execute_result"
    }
   ],
   "source": [
    "bool(0)"
   ]
  },
  {
   "cell_type": "markdown",
   "id": "25b311fb-f42c-4b83-b899-f544f0911aed",
   "metadata": {},
   "source": [
    "- empty string of boolean gives false\n",
    "\n",
    "- false means nothing either 0 or empty string "
   ]
  },
  {
   "cell_type": "markdown",
   "id": "78a62949-e344-4aa9-af94-61d771895f5b",
   "metadata": {},
   "source": [
    "$bool -- other  data types$"
   ]
  },
  {
   "cell_type": "code",
   "execution_count": 32,
   "id": "bea7df05-531d-486e-bb6c-5e3a8518bed1",
   "metadata": {},
   "outputs": [
    {
     "data": {
      "text/plain": [
       "(1, 1.0, 'True')"
      ]
     },
     "execution_count": 32,
     "metadata": {},
     "output_type": "execute_result"
    }
   ],
   "source": [
    "int(True),float(True),str(True)"
   ]
  },
  {
   "cell_type": "code",
   "execution_count": 33,
   "id": "ff464dee-50a6-44ef-85a2-ce3f369a58d2",
   "metadata": {},
   "outputs": [
    {
     "data": {
      "text/plain": [
       "(0, 0.0, 'False')"
      ]
     },
     "execution_count": 33,
     "metadata": {},
     "output_type": "execute_result"
    }
   ],
   "source": [
    "int(False),float(False),str(False)"
   ]
  },
  {
   "cell_type": "code",
   "execution_count": 35,
   "id": "c29be561-557a-4dd0-9332-5ef474302355",
   "metadata": {},
   "outputs": [
    {
     "data": {
      "text/plain": [
       "(10.0, '10', True, 11, '11.11', True)"
      ]
     },
     "execution_count": 35,
     "metadata": {},
     "output_type": "execute_result"
    }
   ],
   "source": [
    "float(10),str(10),bool(10)#integer --- other"
   ]
  },
  {
   "cell_type": "code",
   "execution_count": 36,
   "id": "a955201c-8c8d-4810-9d77-ea47cb888637",
   "metadata": {},
   "outputs": [
    {
     "data": {
      "text/plain": [
       "(11, '11.11', True)"
      ]
     },
     "execution_count": 36,
     "metadata": {},
     "output_type": "execute_result"
    }
   ],
   "source": [
    "int(11.11),str(11.11),bool(11.11)#float---other"
   ]
  },
  {
   "cell_type": "code",
   "execution_count": 37,
   "id": "0262c555-f6a4-4723-9a68-7548a4d1d6a8",
   "metadata": {},
   "outputs": [
    {
     "data": {
      "text/plain": [
       "(0, 0.0, 'False')"
      ]
     },
     "execution_count": 37,
     "metadata": {},
     "output_type": "execute_result"
    }
   ],
   "source": [
    "int(False),float(False),str(False)#bool---other"
   ]
  },
  {
   "cell_type": "code",
   "execution_count": 40,
   "id": "42b9b787-f034-4a76-b586-c913870788e3",
   "metadata": {},
   "outputs": [
    {
     "ename": "ValueError",
     "evalue": "invalid literal for int() with base 10: 'abc'",
     "output_type": "error",
     "traceback": [
      "\u001b[1;31m---------------------------------------------------------------------------\u001b[0m",
      "\u001b[1;31mValueError\u001b[0m                                Traceback (most recent call last)",
      "Cell \u001b[1;32mIn[40], line 1\u001b[0m\n\u001b[1;32m----> 1\u001b[0m \u001b[38;5;28mint\u001b[39m(\u001b[38;5;124m'\u001b[39m\u001b[38;5;124mabc\u001b[39m\u001b[38;5;124m'\u001b[39m)\n",
      "\u001b[1;31mValueError\u001b[0m: invalid literal for int() with base 10: 'abc'"
     ]
    }
   ],
   "source": [
    "int('abc')#string --- other"
   ]
  },
  {
   "cell_type": "code",
   "execution_count": 39,
   "id": "599290de-3cca-48ae-8f1b-7814e82c39e3",
   "metadata": {},
   "outputs": [
    {
     "data": {
      "text/plain": [
       "True"
      ]
     },
     "execution_count": 39,
     "metadata": {},
     "output_type": "execute_result"
    }
   ],
   "source": [
    "bool('abc')"
   ]
  },
  {
   "cell_type": "code",
   "execution_count": 41,
   "id": "49620c22-86c0-4a2a-8d2f-e3dd79814897",
   "metadata": {},
   "outputs": [
    {
     "ename": "ValueError",
     "evalue": "could not convert string to float: 'abc'",
     "output_type": "error",
     "traceback": [
      "\u001b[1;31m---------------------------------------------------------------------------\u001b[0m",
      "\u001b[1;31mValueError\u001b[0m                                Traceback (most recent call last)",
      "Cell \u001b[1;32mIn[41], line 1\u001b[0m\n\u001b[1;32m----> 1\u001b[0m \u001b[38;5;28mfloat\u001b[39m(\u001b[38;5;124m'\u001b[39m\u001b[38;5;124mabc\u001b[39m\u001b[38;5;124m'\u001b[39m)\n",
      "\u001b[1;31mValueError\u001b[0m: could not convert string to float: 'abc'"
     ]
    }
   ],
   "source": [
    "float('abc')"
   ]
  },
  {
   "cell_type": "code",
   "execution_count": null,
   "id": "f35fbd7b-1a8d-4f2f-8ed4-8c3f88f8c18b",
   "metadata": {},
   "outputs": [],
   "source": []
  }
 ],
 "metadata": {
  "kernelspec": {
   "display_name": "Python 3 (ipykernel)",
   "language": "python",
   "name": "python3"
  },
  "language_info": {
   "codemirror_mode": {
    "name": "ipython",
    "version": 3
   },
   "file_extension": ".py",
   "mimetype": "text/x-python",
   "name": "python",
   "nbconvert_exporter": "python",
   "pygments_lexer": "ipython3",
   "version": "3.11.7"
  }
 },
 "nbformat": 4,
 "nbformat_minor": 5
}
