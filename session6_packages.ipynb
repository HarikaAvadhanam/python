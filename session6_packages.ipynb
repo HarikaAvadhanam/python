{
 "cells": [
  {
   "cell_type": "markdown",
   "id": "16b7d7b8-31d2-435d-a2d9-8f93e10575cc",
   "metadata": {},
   "source": [
    "**import**"
   ]
  },
  {
   "cell_type": "code",
   "execution_count": 1,
   "id": "e392f94d-512f-4f94-8ee5-359ace8e9e69",
   "metadata": {},
   "outputs": [],
   "source": [
    "#syntax\n",
    "#import <package_name>"
   ]
  },
  {
   "cell_type": "code",
   "execution_count": 2,
   "id": "fe1df51c-705a-45c8-a6d4-f14775c797f3",
   "metadata": {},
   "outputs": [],
   "source": [
    "#package name:random\n",
    "import random"
   ]
  },
  {
   "cell_type": "code",
   "execution_count": 3,
   "id": "2ab7accd-2253-4316-98f3-ee9a08dd1acd",
   "metadata": {},
   "outputs": [],
   "source": [
    "#package name :time\n",
    "import time"
   ]
  },
  {
   "cell_type": "code",
   "execution_count": 4,
   "id": "baa0b47c-3921-47e4-9e89-8e3911e21fee",
   "metadata": {},
   "outputs": [],
   "source": [
    "#package name :math\n",
    "import math"
   ]
  },
  {
   "cell_type": "code",
   "execution_count": 8,
   "id": "0d952c2b-53cf-4a86-b967-22311520b7bd",
   "metadata": {},
   "outputs": [],
   "source": [
    "#package name : streamlit\n",
    "import streamlit"
   ]
  },
  {
   "cell_type": "code",
   "execution_count": null,
   "id": "5530047d-3bdb-4abe-b152-c3a28b330c01",
   "metadata": {},
   "outputs": [],
   "source": [
    "#package or module both are same"
   ]
  },
  {
   "cell_type": "code",
   "execution_count": 6,
   "id": "7ee1000b-c7a2-4f10-98a9-acb7f4f6cbd8",
   "metadata": {},
   "outputs": [
    {
     "ename": "ModuleNotFoundError",
     "evalue": "No module named 'cv2'",
     "output_type": "error",
     "traceback": [
      "\u001b[1;31m---------------------------------------------------------------------------\u001b[0m",
      "\u001b[1;31mModuleNotFoundError\u001b[0m                       Traceback (most recent call last)",
      "Cell \u001b[1;32mIn[6], line 1\u001b[0m\n\u001b[1;32m----> 1\u001b[0m \u001b[38;5;28;01mimport\u001b[39;00m \u001b[38;5;21;01mcv2\u001b[39;00m\n",
      "\u001b[1;31mModuleNotFoundError\u001b[0m: No module named 'cv2'"
     ]
    }
   ],
   "source": [
    "import cv2"
   ]
  },
  {
   "cell_type": "code",
   "execution_count": 7,
   "id": "bc077c3e-bf51-446c-b137-3edf04d574d1",
   "metadata": {},
   "outputs": [],
   "source": [
    "#cv2 guy not tie with anaconda \n",
    "#so no module name error occured\n"
   ]
  },
  {
   "cell_type": "code",
   "execution_count": 10,
   "id": "dd316cc8-8ca8-4b7b-9476-dff6eb49cb95",
   "metadata": {},
   "outputs": [
    {
     "ename": "IndentationError",
     "evalue": "unexpected indent (1545469001.py, line 2)",
     "output_type": "error",
     "traceback": [
      "\u001b[1;36m  Cell \u001b[1;32mIn[10], line 2\u001b[1;36m\u001b[0m\n\u001b[1;33m    addition\u001b[0m\n\u001b[1;37m    ^\u001b[0m\n\u001b[1;31mIndentationError\u001b[0m\u001b[1;31m:\u001b[0m unexpected indent\n"
     ]
    }
   ],
   "source": [
    "math operations\n",
    "    addition\n",
    "    subtraction\n",
    "    multplication\n",
    "    division"
   ]
  },
  {
   "cell_type": "code",
   "execution_count": 11,
   "id": "7b26bd98-1d2b-4ccc-986e-a803cf6523ef",
   "metadata": {},
   "outputs": [
    {
     "data": {
      "text/plain": [
       "['BPF',\n",
       " 'LOG4',\n",
       " 'NV_MAGICCONST',\n",
       " 'RECIP_BPF',\n",
       " 'Random',\n",
       " 'SG_MAGICCONST',\n",
       " 'SystemRandom',\n",
       " 'TWOPI',\n",
       " '_ONE',\n",
       " '_Sequence',\n",
       " '_Set',\n",
       " '__all__',\n",
       " '__builtins__',\n",
       " '__cached__',\n",
       " '__doc__',\n",
       " '__file__',\n",
       " '__loader__',\n",
       " '__name__',\n",
       " '__package__',\n",
       " '__spec__',\n",
       " '_accumulate',\n",
       " '_acos',\n",
       " '_bisect',\n",
       " '_ceil',\n",
       " '_cos',\n",
       " '_e',\n",
       " '_exp',\n",
       " '_floor',\n",
       " '_index',\n",
       " '_inst',\n",
       " '_isfinite',\n",
       " '_log',\n",
       " '_os',\n",
       " '_pi',\n",
       " '_random',\n",
       " '_repeat',\n",
       " '_sha512',\n",
       " '_sin',\n",
       " '_sqrt',\n",
       " '_test',\n",
       " '_test_generator',\n",
       " '_urandom',\n",
       " '_warn',\n",
       " 'betavariate',\n",
       " 'choice',\n",
       " 'choices',\n",
       " 'expovariate',\n",
       " 'gammavariate',\n",
       " 'gauss',\n",
       " 'getrandbits',\n",
       " 'getstate',\n",
       " 'lognormvariate',\n",
       " 'normalvariate',\n",
       " 'paretovariate',\n",
       " 'randbytes',\n",
       " 'randint',\n",
       " 'random',\n",
       " 'randrange',\n",
       " 'sample',\n",
       " 'seed',\n",
       " 'setstate',\n",
       " 'shuffle',\n",
       " 'triangular',\n",
       " 'uniform',\n",
       " 'vonmisesvariate',\n",
       " 'weibullvariate']"
      ]
     },
     "execution_count": 11,
     "metadata": {},
     "output_type": "execute_result"
    }
   ],
   "source": [
    "import random\n",
    "dir(random)"
   ]
  },
  {
   "cell_type": "code",
   "execution_count": 12,
   "id": "aa39dac9-b57c-4b6d-8a24-c293d8960bf9",
   "metadata": {},
   "outputs": [],
   "source": [
    "#under random package there were many methods"
   ]
  },
  {
   "cell_type": "code",
   "execution_count": null,
   "id": "7f5b5026-42ac-4d4d-aed8-1d7270fef5ea",
   "metadata": {},
   "outputs": [],
   "source": [
    "#synatx\n",
    "# <package_name>.<method_name>\n",
    "#packagename:random\n",
    "#methodname:randint"
   ]
  },
  {
   "cell_type": "code",
   "execution_count": 15,
   "id": "5a45d2fa-6191-411a-89df-a49232f3393b",
   "metadata": {},
   "outputs": [
    {
     "name": "stdout",
     "output_type": "stream",
     "text": [
      "Help on method randint in module random:\n",
      "\n",
      "randint(a, b) method of random.Random instance\n",
      "    Return random integer in range [a, b], including both end points.\n",
      "\n"
     ]
    }
   ],
   "source": [
    "#help(<packagename.methodname>)\n",
    "#help will give the understanding of\n",
    "#how a method will work\n",
    "#here i want to what randint will do ?\n",
    "\n",
    "help(random.randint)"
   ]
  },
  {
   "cell_type": "code",
   "execution_count": 17,
   "id": "2a4a6d8d-54d2-4505-84ff-2373666aab14",
   "metadata": {},
   "outputs": [
    {
     "data": {
      "text/plain": [
       "41"
      ]
     },
     "execution_count": 17,
     "metadata": {},
     "output_type": "execute_result"
    }
   ],
   "source": [
    "random.randint(1,50)"
   ]
  },
  {
   "cell_type": "code",
   "execution_count": 18,
   "id": "24412109-efa4-4d0a-8720-5d5f7c0daf4b",
   "metadata": {},
   "outputs": [
    {
     "data": {
      "text/plain": [
       "10"
      ]
     },
     "execution_count": 18,
     "metadata": {},
     "output_type": "execute_result"
    }
   ],
   "source": [
    "random.randint(1,50)"
   ]
  },
  {
   "cell_type": "code",
   "execution_count": null,
   "id": "f2768bb4-3f41-49af-b170-8dac57569c97",
   "metadata": {},
   "outputs": [],
   "source": [
    "# step1: import <packagename>\n",
    "#step2: dir(Package_name)\n",
    "#step3 help(<package_name>.<method_name>)\n"
   ]
  },
  {
   "cell_type": "code",
   "execution_count": 19,
   "id": "26acdb9e-95ae-43e0-880d-3de71db2d661",
   "metadata": {},
   "outputs": [],
   "source": [
    "import random"
   ]
  },
  {
   "cell_type": "code",
   "execution_count": 20,
   "id": "ef3ab514-2236-48af-8bc8-91ac69f44062",
   "metadata": {},
   "outputs": [
    {
     "data": {
      "text/plain": [
       "['BPF',\n",
       " 'LOG4',\n",
       " 'NV_MAGICCONST',\n",
       " 'RECIP_BPF',\n",
       " 'Random',\n",
       " 'SG_MAGICCONST',\n",
       " 'SystemRandom',\n",
       " 'TWOPI',\n",
       " '_ONE',\n",
       " '_Sequence',\n",
       " '_Set',\n",
       " '__all__',\n",
       " '__builtins__',\n",
       " '__cached__',\n",
       " '__doc__',\n",
       " '__file__',\n",
       " '__loader__',\n",
       " '__name__',\n",
       " '__package__',\n",
       " '__spec__',\n",
       " '_accumulate',\n",
       " '_acos',\n",
       " '_bisect',\n",
       " '_ceil',\n",
       " '_cos',\n",
       " '_e',\n",
       " '_exp',\n",
       " '_floor',\n",
       " '_index',\n",
       " '_inst',\n",
       " '_isfinite',\n",
       " '_log',\n",
       " '_os',\n",
       " '_pi',\n",
       " '_random',\n",
       " '_repeat',\n",
       " '_sha512',\n",
       " '_sin',\n",
       " '_sqrt',\n",
       " '_test',\n",
       " '_test_generator',\n",
       " '_urandom',\n",
       " '_warn',\n",
       " 'betavariate',\n",
       " 'choice',\n",
       " 'choices',\n",
       " 'expovariate',\n",
       " 'gammavariate',\n",
       " 'gauss',\n",
       " 'getrandbits',\n",
       " 'getstate',\n",
       " 'lognormvariate',\n",
       " 'normalvariate',\n",
       " 'paretovariate',\n",
       " 'randbytes',\n",
       " 'randint',\n",
       " 'random',\n",
       " 'randrange',\n",
       " 'sample',\n",
       " 'seed',\n",
       " 'setstate',\n",
       " 'shuffle',\n",
       " 'triangular',\n",
       " 'uniform',\n",
       " 'vonmisesvariate',\n",
       " 'weibullvariate']"
      ]
     },
     "execution_count": 20,
     "metadata": {},
     "output_type": "execute_result"
    }
   ],
   "source": [
    "dir(random)\n"
   ]
  },
  {
   "cell_type": "code",
   "execution_count": 21,
   "id": "09e1bb90-8be9-4f94-b813-1a9a31cff03c",
   "metadata": {},
   "outputs": [
    {
     "name": "stdout",
     "output_type": "stream",
     "text": [
      "Help on built-in function random:\n",
      "\n",
      "random() method of random.Random instance\n",
      "    random() -> x in the interval [0, 1).\n",
      "\n"
     ]
    }
   ],
   "source": [
    "help(random.random)"
   ]
  },
  {
   "cell_type": "code",
   "execution_count": 22,
   "id": "a6519157-3244-474b-9ddf-dbbe03d5aee1",
   "metadata": {},
   "outputs": [
    {
     "data": {
      "text/plain": [
       "0.506787174533638"
      ]
     },
     "execution_count": 22,
     "metadata": {},
     "output_type": "execute_result"
    }
   ],
   "source": [
    "random.random()"
   ]
  },
  {
   "cell_type": "markdown",
   "id": "e15ee3a6-eb23-49ef-a468-9c0db142d0d3",
   "metadata": {},
   "source": [
    "**math**"
   ]
  },
  {
   "cell_type": "code",
   "execution_count": null,
   "id": "d6a5e272-1b7c-4ab0-a11b-b0d7d9b430f4",
   "metadata": {},
   "outputs": [],
   "source": [
    "#package name:math\n",
    "#method pi\n",
    "#       sqrt\n",
    "#       sin"
   ]
  },
  {
   "cell_type": "code",
   "execution_count": 23,
   "id": "a6ec3f73-2774-407b-a88e-e7d295be5c0b",
   "metadata": {},
   "outputs": [],
   "source": [
    "import math"
   ]
  },
  {
   "cell_type": "code",
   "execution_count": 24,
   "id": "973f4809-acb3-42d1-b5f7-b1d966862a2c",
   "metadata": {},
   "outputs": [
    {
     "data": {
      "text/plain": [
       "['__doc__',\n",
       " '__loader__',\n",
       " '__name__',\n",
       " '__package__',\n",
       " '__spec__',\n",
       " 'acos',\n",
       " 'acosh',\n",
       " 'asin',\n",
       " 'asinh',\n",
       " 'atan',\n",
       " 'atan2',\n",
       " 'atanh',\n",
       " 'cbrt',\n",
       " 'ceil',\n",
       " 'comb',\n",
       " 'copysign',\n",
       " 'cos',\n",
       " 'cosh',\n",
       " 'degrees',\n",
       " 'dist',\n",
       " 'e',\n",
       " 'erf',\n",
       " 'erfc',\n",
       " 'exp',\n",
       " 'exp2',\n",
       " 'expm1',\n",
       " 'fabs',\n",
       " 'factorial',\n",
       " 'floor',\n",
       " 'fmod',\n",
       " 'frexp',\n",
       " 'fsum',\n",
       " 'gamma',\n",
       " 'gcd',\n",
       " 'hypot',\n",
       " 'inf',\n",
       " 'isclose',\n",
       " 'isfinite',\n",
       " 'isinf',\n",
       " 'isnan',\n",
       " 'isqrt',\n",
       " 'lcm',\n",
       " 'ldexp',\n",
       " 'lgamma',\n",
       " 'log',\n",
       " 'log10',\n",
       " 'log1p',\n",
       " 'log2',\n",
       " 'modf',\n",
       " 'nan',\n",
       " 'nextafter',\n",
       " 'perm',\n",
       " 'pi',\n",
       " 'pow',\n",
       " 'prod',\n",
       " 'radians',\n",
       " 'remainder',\n",
       " 'sin',\n",
       " 'sinh',\n",
       " 'sqrt',\n",
       " 'tan',\n",
       " 'tanh',\n",
       " 'tau',\n",
       " 'trunc',\n",
       " 'ulp']"
      ]
     },
     "execution_count": 24,
     "metadata": {},
     "output_type": "execute_result"
    }
   ],
   "source": [
    "dir(math)"
   ]
  },
  {
   "cell_type": "code",
   "execution_count": 25,
   "id": "3048791b-f2ff-4fd3-bf0a-e0f2e1605f0e",
   "metadata": {},
   "outputs": [
    {
     "name": "stdout",
     "output_type": "stream",
     "text": [
      "Help on built-in function log in module math:\n",
      "\n",
      "log(...)\n",
      "    log(x, [base=math.e])\n",
      "    Return the logarithm of x to the given base.\n",
      "    \n",
      "    If the base not specified, returns the natural logarithm (base e) of x.\n",
      "\n"
     ]
    }
   ],
   "source": [
    "help(math.log)"
   ]
  },
  {
   "cell_type": "code",
   "execution_count": 26,
   "id": "32b21d69-ca7b-42a9-904d-a1b7b25c5467",
   "metadata": {},
   "outputs": [
    {
     "name": "stdout",
     "output_type": "stream",
     "text": [
      "Help on float object:\n",
      "\n",
      "class float(object)\n",
      " |  float(x=0, /)\n",
      " |  \n",
      " |  Convert a string or number to a floating point number, if possible.\n",
      " |  \n",
      " |  Methods defined here:\n",
      " |  \n",
      " |  __abs__(self, /)\n",
      " |      abs(self)\n",
      " |  \n",
      " |  __add__(self, value, /)\n",
      " |      Return self+value.\n",
      " |  \n",
      " |  __bool__(self, /)\n",
      " |      True if self else False\n",
      " |  \n",
      " |  __ceil__(self, /)\n",
      " |      Return the ceiling as an Integral.\n",
      " |  \n",
      " |  __divmod__(self, value, /)\n",
      " |      Return divmod(self, value).\n",
      " |  \n",
      " |  __eq__(self, value, /)\n",
      " |      Return self==value.\n",
      " |  \n",
      " |  __float__(self, /)\n",
      " |      float(self)\n",
      " |  \n",
      " |  __floor__(self, /)\n",
      " |      Return the floor as an Integral.\n",
      " |  \n",
      " |  __floordiv__(self, value, /)\n",
      " |      Return self//value.\n",
      " |  \n",
      " |  __format__(self, format_spec, /)\n",
      " |      Formats the float according to format_spec.\n",
      " |  \n",
      " |  __ge__(self, value, /)\n",
      " |      Return self>=value.\n",
      " |  \n",
      " |  __getattribute__(self, name, /)\n",
      " |      Return getattr(self, name).\n",
      " |  \n",
      " |  __getnewargs__(self, /)\n",
      " |  \n",
      " |  __gt__(self, value, /)\n",
      " |      Return self>value.\n",
      " |  \n",
      " |  __hash__(self, /)\n",
      " |      Return hash(self).\n",
      " |  \n",
      " |  __int__(self, /)\n",
      " |      int(self)\n",
      " |  \n",
      " |  __le__(self, value, /)\n",
      " |      Return self<=value.\n",
      " |  \n",
      " |  __lt__(self, value, /)\n",
      " |      Return self<value.\n",
      " |  \n",
      " |  __mod__(self, value, /)\n",
      " |      Return self%value.\n",
      " |  \n",
      " |  __mul__(self, value, /)\n",
      " |      Return self*value.\n",
      " |  \n",
      " |  __ne__(self, value, /)\n",
      " |      Return self!=value.\n",
      " |  \n",
      " |  __neg__(self, /)\n",
      " |      -self\n",
      " |  \n",
      " |  __pos__(self, /)\n",
      " |      +self\n",
      " |  \n",
      " |  __pow__(self, value, mod=None, /)\n",
      " |      Return pow(self, value, mod).\n",
      " |  \n",
      " |  __radd__(self, value, /)\n",
      " |      Return value+self.\n",
      " |  \n",
      " |  __rdivmod__(self, value, /)\n",
      " |      Return divmod(value, self).\n",
      " |  \n",
      " |  __repr__(self, /)\n",
      " |      Return repr(self).\n",
      " |  \n",
      " |  __rfloordiv__(self, value, /)\n",
      " |      Return value//self.\n",
      " |  \n",
      " |  __rmod__(self, value, /)\n",
      " |      Return value%self.\n",
      " |  \n",
      " |  __rmul__(self, value, /)\n",
      " |      Return value*self.\n",
      " |  \n",
      " |  __round__(self, ndigits=None, /)\n",
      " |      Return the Integral closest to x, rounding half toward even.\n",
      " |      \n",
      " |      When an argument is passed, work like built-in round(x, ndigits).\n",
      " |  \n",
      " |  __rpow__(self, value, mod=None, /)\n",
      " |      Return pow(value, self, mod).\n",
      " |  \n",
      " |  __rsub__(self, value, /)\n",
      " |      Return value-self.\n",
      " |  \n",
      " |  __rtruediv__(self, value, /)\n",
      " |      Return value/self.\n",
      " |  \n",
      " |  __sub__(self, value, /)\n",
      " |      Return self-value.\n",
      " |  \n",
      " |  __truediv__(self, value, /)\n",
      " |      Return self/value.\n",
      " |  \n",
      " |  __trunc__(self, /)\n",
      " |      Return the Integral closest to x between 0 and x.\n",
      " |  \n",
      " |  as_integer_ratio(self, /)\n",
      " |      Return integer ratio.\n",
      " |      \n",
      " |      Return a pair of integers, whose ratio is exactly equal to the original float\n",
      " |      and with a positive denominator.\n",
      " |      \n",
      " |      Raise OverflowError on infinities and a ValueError on NaNs.\n",
      " |      \n",
      " |      >>> (10.0).as_integer_ratio()\n",
      " |      (10, 1)\n",
      " |      >>> (0.0).as_integer_ratio()\n",
      " |      (0, 1)\n",
      " |      >>> (-.25).as_integer_ratio()\n",
      " |      (-1, 4)\n",
      " |  \n",
      " |  conjugate(self, /)\n",
      " |      Return self, the complex conjugate of any float.\n",
      " |  \n",
      " |  hex(self, /)\n",
      " |      Return a hexadecimal representation of a floating-point number.\n",
      " |      \n",
      " |      >>> (-0.1).hex()\n",
      " |      '-0x1.999999999999ap-4'\n",
      " |      >>> 3.14159.hex()\n",
      " |      '0x1.921f9f01b866ep+1'\n",
      " |  \n",
      " |  is_integer(self, /)\n",
      " |      Return True if the float is an integer.\n",
      " |  \n",
      " |  ----------------------------------------------------------------------\n",
      " |  Class methods defined here:\n",
      " |  \n",
      " |  __getformat__(typestr, /) from builtins.type\n",
      " |      You probably don't want to use this function.\n",
      " |      \n",
      " |        typestr\n",
      " |          Must be 'double' or 'float'.\n",
      " |      \n",
      " |      It exists mainly to be used in Python's test suite.\n",
      " |      \n",
      " |      This function returns whichever of 'unknown', 'IEEE, big-endian' or 'IEEE,\n",
      " |      little-endian' best describes the format of floating point numbers used by the\n",
      " |      C type named by typestr.\n",
      " |  \n",
      " |  fromhex(string, /) from builtins.type\n",
      " |      Create a floating-point number from a hexadecimal string.\n",
      " |      \n",
      " |      >>> float.fromhex('0x1.ffffp10')\n",
      " |      2047.984375\n",
      " |      >>> float.fromhex('-0x1p-1074')\n",
      " |      -5e-324\n",
      " |  \n",
      " |  ----------------------------------------------------------------------\n",
      " |  Static methods defined here:\n",
      " |  \n",
      " |  __new__(*args, **kwargs) from builtins.type\n",
      " |      Create and return a new object.  See help(type) for accurate signature.\n",
      " |  \n",
      " |  ----------------------------------------------------------------------\n",
      " |  Data descriptors defined here:\n",
      " |  \n",
      " |  imag\n",
      " |      the imaginary part of a complex number\n",
      " |  \n",
      " |  real\n",
      " |      the real part of a complex number\n",
      "\n"
     ]
    }
   ],
   "source": [
    "help(math.pi)"
   ]
  },
  {
   "cell_type": "code",
   "execution_count": 27,
   "id": "ca93d177-15ab-43cc-87b7-d78666da0649",
   "metadata": {},
   "outputs": [
    {
     "name": "stdout",
     "output_type": "stream",
     "text": [
      "Help on built-in function sin in module math:\n",
      "\n",
      "sin(x, /)\n",
      "    Return the sine of x (measured in radians).\n",
      "\n"
     ]
    }
   ],
   "source": [
    "help(math.sin)"
   ]
  },
  {
   "cell_type": "code",
   "execution_count": 32,
   "id": "dac635bc-fb0e-4c6c-9a17-d17eb01014a0",
   "metadata": {},
   "outputs": [
    {
     "data": {
      "text/plain": [
       "0.8414709848078965"
      ]
     },
     "execution_count": 32,
     "metadata": {},
     "output_type": "execute_result"
    }
   ],
   "source": [
    "math.sin(1)"
   ]
  },
  {
   "cell_type": "code",
   "execution_count": 33,
   "id": "520e1d92-944c-44bd-b55e-73c3afb90390",
   "metadata": {},
   "outputs": [
    {
     "data": {
      "text/plain": [
       "2.23606797749979"
      ]
     },
     "execution_count": 33,
     "metadata": {},
     "output_type": "execute_result"
    }
   ],
   "source": [
    "math.sqrt(5)"
   ]
  },
  {
   "cell_type": "code",
   "execution_count": 35,
   "id": "dc6c7c53-9f50-436e-ab0b-bfb6c27bc5c0",
   "metadata": {},
   "outputs": [
    {
     "name": "stdout",
     "output_type": "stream",
     "text": [
      "Help on built-in function sqrt in module math:\n",
      "\n",
      "sqrt(x, /)\n",
      "    Return the square root of x.\n",
      "\n"
     ]
    },
    {
     "data": {
      "text/plain": [
       "5.0"
      ]
     },
     "execution_count": 35,
     "metadata": {},
     "output_type": "execute_result"
    }
   ],
   "source": [
    "import math\n",
    "dir(math)\n",
    "help(math.sqrt)\n",
    "math.sqrt(25)"
   ]
  },
  {
   "cell_type": "code",
   "execution_count": 36,
   "id": "59097582-639c-427c-a18b-44dee15e9e40",
   "metadata": {},
   "outputs": [
    {
     "name": "stdout",
     "output_type": "stream",
     "text": [
      "Help on built-in function pow in module math:\n",
      "\n",
      "pow(x, y, /)\n",
      "    Return x**y (x to the power of y).\n",
      "\n"
     ]
    }
   ],
   "source": [
    "help(math.pow)"
   ]
  },
  {
   "cell_type": "code",
   "execution_count": 37,
   "id": "3a3254cf-1c0e-4c6b-b4f4-6288f95efffc",
   "metadata": {},
   "outputs": [
    {
     "data": {
      "text/plain": [
       "8.0"
      ]
     },
     "execution_count": 37,
     "metadata": {},
     "output_type": "execute_result"
    }
   ],
   "source": [
    "math.pow(2,3)"
   ]
  },
  {
   "cell_type": "code",
   "execution_count": 38,
   "id": "ae111121-7c1a-44f4-8658-3846e7a07885",
   "metadata": {},
   "outputs": [
    {
     "data": {
      "text/plain": [
       "0.0"
      ]
     },
     "execution_count": 38,
     "metadata": {},
     "output_type": "execute_result"
    }
   ],
   "source": [
    "math.sin(0)"
   ]
  },
  {
   "cell_type": "code",
   "execution_count": 39,
   "id": "c04bc687-553e-4b93-a8bf-9a09e89d1510",
   "metadata": {},
   "outputs": [
    {
     "data": {
      "text/plain": [
       "0.479425538604203"
      ]
     },
     "execution_count": 39,
     "metadata": {},
     "output_type": "execute_result"
    }
   ],
   "source": [
    "math.sin(1/2)"
   ]
  },
  {
   "cell_type": "code",
   "execution_count": 40,
   "id": "257d76c1-df76-4747-9df5-ae51921a6804",
   "metadata": {},
   "outputs": [
    {
     "data": {
      "text/plain": [
       "0.8939966636005579"
      ]
     },
     "execution_count": 40,
     "metadata": {},
     "output_type": "execute_result"
    }
   ],
   "source": [
    "math.sin(90)"
   ]
  },
  {
   "cell_type": "code",
   "execution_count": null,
   "id": "874def6f-173f-42f0-963b-6af96c9ccbc1",
   "metadata": {},
   "outputs": [],
   "source": [
    "math.sqrt()\n",
    "#cursor inside the bracket\n",
    "#then apply shift+tab to understand instead of helpmethod while importing"
   ]
  },
  {
   "cell_type": "code",
   "execution_count": 41,
   "id": "d6f48575-cd0b-4473-8739-cd9bf375d737",
   "metadata": {},
   "outputs": [],
   "source": [
    "#not callable means remove the brackets"
   ]
  },
  {
   "cell_type": "code",
   "execution_count": 42,
   "id": "a398ab58-c915-4aae-ad86-b27d524441c2",
   "metadata": {},
   "outputs": [],
   "source": [
    "#package name:keyword\n",
    "#method name:kwlist"
   ]
  },
  {
   "cell_type": "code",
   "execution_count": 44,
   "id": "6f80b417-121c-4b19-ac9d-01264bf49034",
   "metadata": {},
   "outputs": [
    {
     "data": {
      "text/plain": [
       "['__all__',\n",
       " '__builtins__',\n",
       " '__cached__',\n",
       " '__doc__',\n",
       " '__file__',\n",
       " '__loader__',\n",
       " '__name__',\n",
       " '__package__',\n",
       " '__spec__',\n",
       " 'iskeyword',\n",
       " 'issoftkeyword',\n",
       " 'kwlist',\n",
       " 'softkwlist']"
      ]
     },
     "execution_count": 44,
     "metadata": {},
     "output_type": "execute_result"
    }
   ],
   "source": [
    "import keyword\n",
    "dir(keyword)"
   ]
  },
  {
   "cell_type": "code",
   "execution_count": 45,
   "id": "8d0ec6ca-2fe8-4ef8-b6ed-a760950168ab",
   "metadata": {},
   "outputs": [
    {
     "name": "stdout",
     "output_type": "stream",
     "text": [
      "Help on list object:\n",
      "\n",
      "class list(object)\n",
      " |  list(iterable=(), /)\n",
      " |  \n",
      " |  Built-in mutable sequence.\n",
      " |  \n",
      " |  If no argument is given, the constructor creates a new empty list.\n",
      " |  The argument must be an iterable if specified.\n",
      " |  \n",
      " |  Built-in subclasses:\n",
      " |      MyList\n",
      " |  \n",
      " |  Methods defined here:\n",
      " |  \n",
      " |  __add__(self, value, /)\n",
      " |      Return self+value.\n",
      " |  \n",
      " |  __contains__(self, key, /)\n",
      " |      Return key in self.\n",
      " |  \n",
      " |  __delitem__(self, key, /)\n",
      " |      Delete self[key].\n",
      " |  \n",
      " |  __eq__(self, value, /)\n",
      " |      Return self==value.\n",
      " |  \n",
      " |  __ge__(self, value, /)\n",
      " |      Return self>=value.\n",
      " |  \n",
      " |  __getattribute__(self, name, /)\n",
      " |      Return getattr(self, name).\n",
      " |  \n",
      " |  __getitem__(...)\n",
      " |      x.__getitem__(y) <==> x[y]\n",
      " |  \n",
      " |  __gt__(self, value, /)\n",
      " |      Return self>value.\n",
      " |  \n",
      " |  __iadd__(self, value, /)\n",
      " |      Implement self+=value.\n",
      " |  \n",
      " |  __imul__(self, value, /)\n",
      " |      Implement self*=value.\n",
      " |  \n",
      " |  __init__(self, /, *args, **kwargs)\n",
      " |      Initialize self.  See help(type(self)) for accurate signature.\n",
      " |  \n",
      " |  __iter__(self, /)\n",
      " |      Implement iter(self).\n",
      " |  \n",
      " |  __le__(self, value, /)\n",
      " |      Return self<=value.\n",
      " |  \n",
      " |  __len__(self, /)\n",
      " |      Return len(self).\n",
      " |  \n",
      " |  __lt__(self, value, /)\n",
      " |      Return self<value.\n",
      " |  \n",
      " |  __mul__(self, value, /)\n",
      " |      Return self*value.\n",
      " |  \n",
      " |  __ne__(self, value, /)\n",
      " |      Return self!=value.\n",
      " |  \n",
      " |  __repr__(self, /)\n",
      " |      Return repr(self).\n",
      " |  \n",
      " |  __reversed__(self, /)\n",
      " |      Return a reverse iterator over the list.\n",
      " |  \n",
      " |  __rmul__(self, value, /)\n",
      " |      Return value*self.\n",
      " |  \n",
      " |  __setitem__(self, key, value, /)\n",
      " |      Set self[key] to value.\n",
      " |  \n",
      " |  __sizeof__(self, /)\n",
      " |      Return the size of the list in memory, in bytes.\n",
      " |  \n",
      " |  append(self, object, /)\n",
      " |      Append object to the end of the list.\n",
      " |  \n",
      " |  clear(self, /)\n",
      " |      Remove all items from list.\n",
      " |  \n",
      " |  copy(self, /)\n",
      " |      Return a shallow copy of the list.\n",
      " |  \n",
      " |  count(self, value, /)\n",
      " |      Return number of occurrences of value.\n",
      " |  \n",
      " |  extend(self, iterable, /)\n",
      " |      Extend list by appending elements from the iterable.\n",
      " |  \n",
      " |  index(self, value, start=0, stop=9223372036854775807, /)\n",
      " |      Return first index of value.\n",
      " |      \n",
      " |      Raises ValueError if the value is not present.\n",
      " |  \n",
      " |  insert(self, index, object, /)\n",
      " |      Insert object before index.\n",
      " |  \n",
      " |  pop(self, index=-1, /)\n",
      " |      Remove and return item at index (default last).\n",
      " |      \n",
      " |      Raises IndexError if list is empty or index is out of range.\n",
      " |  \n",
      " |  remove(self, value, /)\n",
      " |      Remove first occurrence of value.\n",
      " |      \n",
      " |      Raises ValueError if the value is not present.\n",
      " |  \n",
      " |  reverse(self, /)\n",
      " |      Reverse *IN PLACE*.\n",
      " |  \n",
      " |  sort(self, /, *, key=None, reverse=False)\n",
      " |      Sort the list in ascending order and return None.\n",
      " |      \n",
      " |      The sort is in-place (i.e. the list itself is modified) and stable (i.e. the\n",
      " |      order of two equal elements is maintained).\n",
      " |      \n",
      " |      If a key function is given, apply it once to each list item and sort them,\n",
      " |      ascending or descending, according to their function values.\n",
      " |      \n",
      " |      The reverse flag can be set to sort in descending order.\n",
      " |  \n",
      " |  ----------------------------------------------------------------------\n",
      " |  Class methods defined here:\n",
      " |  \n",
      " |  __class_getitem__(...) from builtins.type\n",
      " |      See PEP 585\n",
      " |  \n",
      " |  ----------------------------------------------------------------------\n",
      " |  Static methods defined here:\n",
      " |  \n",
      " |  __new__(*args, **kwargs) from builtins.type\n",
      " |      Create and return a new object.  See help(type) for accurate signature.\n",
      " |  \n",
      " |  ----------------------------------------------------------------------\n",
      " |  Data and other attributes defined here:\n",
      " |  \n",
      " |  __hash__ = None\n",
      "\n"
     ]
    }
   ],
   "source": [
    "help(keyword.kwlist)"
   ]
  },
  {
   "cell_type": "code",
   "execution_count": 46,
   "id": "629cb44e-5189-4924-a06c-704979bc7d8c",
   "metadata": {},
   "outputs": [
    {
     "data": {
      "text/plain": [
       "['False',\n",
       " 'None',\n",
       " 'True',\n",
       " 'and',\n",
       " 'as',\n",
       " 'assert',\n",
       " 'async',\n",
       " 'await',\n",
       " 'break',\n",
       " 'class',\n",
       " 'continue',\n",
       " 'def',\n",
       " 'del',\n",
       " 'elif',\n",
       " 'else',\n",
       " 'except',\n",
       " 'finally',\n",
       " 'for',\n",
       " 'from',\n",
       " 'global',\n",
       " 'if',\n",
       " 'import',\n",
       " 'in',\n",
       " 'is',\n",
       " 'lambda',\n",
       " 'nonlocal',\n",
       " 'not',\n",
       " 'or',\n",
       " 'pass',\n",
       " 'raise',\n",
       " 'return',\n",
       " 'try',\n",
       " 'while',\n",
       " 'with',\n",
       " 'yield']"
      ]
     },
     "execution_count": 46,
     "metadata": {},
     "output_type": "execute_result"
    }
   ],
   "source": [
    "keyword.kwlist"
   ]
  },
  {
   "cell_type": "code",
   "execution_count": 47,
   "id": "ac038ef7-ded1-4663-9092-ef9cbb6f459f",
   "metadata": {},
   "outputs": [
    {
     "data": {
      "text/plain": [
       "35"
      ]
     },
     "execution_count": 47,
     "metadata": {},
     "output_type": "execute_result"
    }
   ],
   "source": [
    "len(keyword.kwlist)"
   ]
  },
  {
   "cell_type": "markdown",
   "id": "c9a053a9-7674-4e59-a507-3f5d6f963c00",
   "metadata": {},
   "source": [
    "- bound method means add the bracket\n",
    "\n",
    "- not callable means remove the bracket"
   ]
  },
  {
   "cell_type": "markdown",
   "id": "8f1e549b-2f42-448d-b6ed-b46e55f8c817",
   "metadata": {},
   "source": [
    "**time package**"
   ]
  },
  {
   "cell_type": "code",
   "execution_count": 6,
   "id": "3cd8d38f-e333-4496-b38b-02c31c9cd995",
   "metadata": {},
   "outputs": [
    {
     "name": "stdout",
     "output_type": "stream",
     "text": [
      "Father:hello\n",
      "D:hai papa \n",
      "Father:do you have the scl today\n"
     ]
    }
   ],
   "source": [
    "import time\n",
    "print('Father:hello')\n",
    "time.sleep(1)\n",
    "print('D:hai papa ')\n",
    "time.sleep(2)\n",
    "print('Father:do you have the scl today')"
   ]
  },
  {
   "cell_type": "code",
   "execution_count": 7,
   "id": "32062e21-2a17-4a32-b250-a2c2605b25a4",
   "metadata": {},
   "outputs": [
    {
     "ename": "ModuleNotFoundError",
     "evalue": "No module named 'cv2'",
     "output_type": "error",
     "traceback": [
      "\u001b[1;31m---------------------------------------------------------------------------\u001b[0m",
      "\u001b[1;31mModuleNotFoundError\u001b[0m                       Traceback (most recent call last)",
      "Cell \u001b[1;32mIn[7], line 1\u001b[0m\n\u001b[1;32m----> 1\u001b[0m \u001b[38;5;28;01mimport\u001b[39;00m \u001b[38;5;21;01mcv2\u001b[39;00m\n",
      "\u001b[1;31mModuleNotFoundError\u001b[0m: No module named 'cv2'"
     ]
    }
   ],
   "source": [
    "import cv2"
   ]
  },
  {
   "cell_type": "markdown",
   "id": "171e277e-864d-4aba-a619-a30ed5c05a89",
   "metadata": {},
   "source": [
    "- whenever module not found we need to nstall it\n",
    "\n",
    "- here our package name is cv2\n",
    "\n",
    "- 99% the installation will be like this\n",
    "\n",
    "- pip install <packagename>\n",
    "\n",
    "- some package installation name will be different and python import name is different\n",
    "\n",
    "- for installation we require internet\n",
    "\n"
   ]
  },
  {
   "cell_type": "code",
   "execution_count": 8,
   "id": "c306356c-009a-4bd7-9491-4105943cd60b",
   "metadata": {},
   "outputs": [],
   "source": [
    "import cv2"
   ]
  },
  {
   "cell_type": "markdown",
   "id": "2809bcb9-9541-4dba-8eb8-6b73abed0666",
   "metadata": {},
   "source": [
    "- if we get any error while installing package then go to chrome type <package name install> then we get pypi organisation click on that and \n",
    "- copy the installation command and paste in jupyter notebook with ! before command or in anaconda prompt then import "
   ]
  },
  {
   "cell_type": "code",
   "execution_count": 10,
   "id": "fcf95283-21cf-4edb-94ad-14b5b9fd8eca",
   "metadata": {},
   "outputs": [],
   "source": [
    "import streamlit"
   ]
  },
  {
   "cell_type": "markdown",
   "id": "3c7879b6-ecd4-4376-a99c-86402b083496",
   "metadata": {},
   "source": [
    "**Note**\n",
    "\n",
    "pip freeze is the command to know the already existed packages in our laptop"
   ]
  },
  {
   "cell_type": "code",
   "execution_count": 12,
   "id": "f309f95f-043e-40a4-9f6d-8a0fcb4acd76",
   "metadata": {},
   "outputs": [],
   "source": [
    "import numpy"
   ]
  },
  {
   "cell_type": "code",
   "execution_count": 13,
   "id": "07eaff24-3546-40e2-8d54-79bddb0603ba",
   "metadata": {},
   "outputs": [
    {
     "data": {
      "text/plain": [
       "<module 'numpy' from 'C:\\\\Users\\\\91970\\\\anaconda3\\\\Lib\\\\site-packages\\\\numpy\\\\__init__.py'>"
      ]
     },
     "execution_count": 13,
     "metadata": {},
     "output_type": "execute_result"
    }
   ],
   "source": [
    "numpy"
   ]
  },
  {
   "cell_type": "code",
   "execution_count": 14,
   "id": "e821c8c7-63ed-4ff6-aa7d-f785f255cd6f",
   "metadata": {},
   "outputs": [
    {
     "name": "stdout",
     "output_type": "stream",
     "text": [
      "aiobotocore @ file:///C:/b/abs_3cwz1w13nn/croot/aiobotocore_1701291550158/workNote: you may need to restart the kernel to use updated packages.\n",
      "\n",
      "aiohttp @ file:///C:/b/abs_27h_1rpxgd/croot/aiohttp_1707342354614/work\n",
      "aioitertools @ file:///tmp/build/80754af9/aioitertools_1607109665762/work\n",
      "aiosignal @ file:///tmp/build/80754af9/aiosignal_1637843061372/work\n",
      "alabaster @ file:///home/ktietz/src/ci/alabaster_1611921544520/work\n",
      "altair @ file:///C:/b/abs_27reu1igbg/croot/altair_1687526066495/work\n",
      "anaconda-anon-usage @ file:///C:/b/abs_95v3x0wy8p/croot/anaconda-anon-usage_1697038984188/work\n",
      "anaconda-catalogs @ file:///C:/b/abs_8btyy0o8s8/croot/anaconda-catalogs_1685727315626/work\n",
      "anaconda-client @ file:///C:/b/abs_34txutm0ue/croot/anaconda-client_1708640705294/work\n",
      "anaconda-cloud-auth @ file:///C:/b/abs_410afndtyf/croot/anaconda-cloud-auth_1697462767853/work\n",
      "anaconda-navigator @ file:///C:/b/abs_cfvv8k_j21/croot/anaconda-navigator_1704813334508/work\n",
      "anaconda-project @ file:///C:/ci_311/anaconda-project_1676458365912/work\n",
      "anyio @ file:///C:/b/abs_847uobe7ea/croot/anyio_1706220224037/work\n",
      "appdirs==1.4.4\n",
      "archspec @ file:///croot/archspec_1697725767277/work\n",
      "argon2-cffi @ file:///opt/conda/conda-bld/argon2-cffi_1645000214183/work\n",
      "argon2-cffi-bindings @ file:///C:/ci_311/argon2-cffi-bindings_1676424443321/work\n",
      "arrow @ file:///C:/ci_311/arrow_1678249767083/work\n",
      "astroid @ file:///C:/ci_311/astroid_1678740610167/work\n",
      "astropy @ file:///C:/b/abs_2fb3x_tapx/croot/astropy_1697468987983/work\n",
      "asttokens @ file:///opt/conda/conda-bld/asttokens_1646925590279/work\n",
      "async-lru @ file:///C:/b/abs_e0hjkvwwb5/croot/async-lru_1699554572212/work\n",
      "atomicwrites==1.4.0\n",
      "attrs @ file:///C:/b/abs_35n0jusce8/croot/attrs_1695717880170/work\n",
      "Automat @ file:///tmp/build/80754af9/automat_1600298431173/work\n",
      "autopep8 @ file:///opt/conda/conda-bld/autopep8_1650463822033/work\n",
      "Babel @ file:///C:/ci_311/babel_1676427169844/work\n",
      "backports.functools-lru-cache @ file:///tmp/build/80754af9/backports.functools_lru_cache_1618170165463/work\n",
      "backports.tempfile @ file:///home/linux1/recipes/ci/backports.tempfile_1610991236607/work\n",
      "backports.weakref==1.0.post1\n",
      "bcrypt @ file:///C:/ci_311/bcrypt_1676435170049/work\n",
      "beautifulsoup4 @ file:///C:/b/abs_0agyz1wsr4/croot/beautifulsoup4-split_1681493048687/work\n",
      "binaryornot @ file:///tmp/build/80754af9/binaryornot_1617751525010/work\n",
      "black @ file:///C:/b/abs_29gqa9a44y/croot/black_1701097690150/work\n",
      "bleach @ file:///opt/conda/conda-bld/bleach_1641577558959/work\n",
      "blinker @ file:///C:/b/abs_d9y2dm7cw2/croot/blinker_1696539752170/work\n",
      "bokeh @ file:///C:/b/abs_74ungdyhwc/croot/bokeh_1706912192007/work\n",
      "boltons @ file:///C:/ci_311/boltons_1677729932371/work\n",
      "botocore @ file:///C:/b/abs_5a285dtc94/croot/botocore_1701286504141/work\n",
      "Bottleneck @ file:///C:/b/abs_f05kqh7yvj/croot/bottleneck_1707864273291/work\n",
      "Brotli @ file:///C:/ci_311/brotli-split_1676435766766/work\n",
      "cachetools @ file:///tmp/build/80754af9/cachetools_1619597386817/work\n",
      "certifi @ file:///C:/b/abs_35d7n66oz9/croot/certifi_1707229248467/work/certifi\n",
      "cffi @ file:///C:/b/abs_924gv1kxzj/croot/cffi_1700254355075/work\n",
      "chardet @ file:///C:/ci_311/chardet_1676436134885/work\n",
      "charset-normalizer @ file:///tmp/build/80754af9/charset-normalizer_1630003229654/work\n",
      "click @ file:///C:/b/abs_f9ihnt72pu/croot/click_1698129847492/work\n",
      "cloudpickle @ file:///C:/b/abs_3796yxesic/croot/cloudpickle_1683040098851/work\n",
      "clyent==1.2.2\n",
      "colorama @ file:///C:/ci_311/colorama_1676422310965/work\n",
      "colorcet @ file:///C:/ci_311/colorcet_1676440389947/work\n",
      "comm @ file:///C:/ci_311/comm_1678376562840/work\n",
      "conda @ file:///C:/b/abs_89vd8hj61u/croot/conda_1708369170790/work\n",
      "conda-build @ file:///C:/b/abs_3ed9gavxgz/croot/conda-build_1708025907525/work\n",
      "conda-content-trust @ file:///C:/b/abs_e3bcpyv7sw/croot/conda-content-trust_1693490654398/work\n",
      "conda-libmamba-solver @ file:///croot/conda-libmamba-solver_1706733287605/work/src\n",
      "conda-pack @ file:///tmp/build/80754af9/conda-pack_1611163042455/work\n",
      "conda-package-handling @ file:///C:/b/abs_b9wp3lr1gn/croot/conda-package-handling_1691008700066/work\n",
      "conda-repo-cli==1.0.75\n",
      "conda-token @ file:///Users/paulyim/miniconda3/envs/c3i/conda-bld/conda-token_1662660369760/work\n",
      "conda-verify==3.4.2\n",
      "conda_index @ file:///croot/conda-index_1706633791028/work\n",
      "conda_package_streaming @ file:///C:/b/abs_6c28n38aaj/croot/conda-package-streaming_1690988019210/work\n",
      "constantly @ file:///C:/b/abs_cbuavw4443/croot/constantly_1703165617403/work\n",
      "contourpy @ file:///C:/b/abs_853rfy8zse/croot/contourpy_1700583617587/work\n",
      "cookiecutter @ file:///C:/b/abs_3d1730toam/croot/cookiecutter_1700677089156/work\n",
      "cryptography @ file:///C:/b/abs_531eqmhgsd/croot/cryptography_1707523768330/work\n",
      "cssselect @ file:///C:/b/abs_71gnjab7b0/croot/cssselect_1707339955530/work\n",
      "cycler @ file:///tmp/build/80754af9/cycler_1637851556182/work\n",
      "cytoolz @ file:///C:/b/abs_d43s8lnb60/croot/cytoolz_1701723636699/work\n",
      "dask @ file:///C:/b/abs_1899k8plyj/croot/dask-core_1701396135885/work\n",
      "datashader @ file:///C:/b/abs_cb5s63ty8z/croot/datashader_1699544282143/work\n",
      "debugpy @ file:///C:/b/abs_c0y1fjipt2/croot/debugpy_1690906864587/work\n",
      "decorator @ file:///opt/conda/conda-bld/decorator_1643638310831/work\n",
      "defusedxml @ file:///tmp/build/80754af9/defusedxml_1615228127516/work\n",
      "diff-match-patch @ file:///Users/ktietz/demo/mc3/conda-bld/diff-match-patch_1630511840874/work\n",
      "dill @ file:///C:/b/abs_084unuus3z/croot/dill_1692271268687/work\n",
      "distributed @ file:///C:/b/abs_5eren88ku4/croot/distributed_1701398076011/work\n",
      "distro @ file:///C:/b/abs_a3uni_yez3/croot/distro_1701455052240/work\n",
      "docstring-to-markdown @ file:///C:/ci_311/docstring-to-markdown_1677742566583/work\n",
      "docutils @ file:///C:/ci_311/docutils_1676428078664/work\n",
      "entrypoints @ file:///C:/ci_311/entrypoints_1676423328987/work\n",
      "et-xmlfile==1.1.0\n",
      "executing @ file:///opt/conda/conda-bld/executing_1646925071911/work\n",
      "fastjsonschema @ file:///C:/ci_311/python-fastjsonschema_1679500568724/work\n",
      "filelock @ file:///C:/b/abs_f2gie28u58/croot/filelock_1700591233643/work\n",
      "flake8 @ file:///C:/ci_311/flake8_1678376624746/work\n",
      "Flask @ file:///C:/b/abs_efc024w7fv/croot/flask_1702980041157/work\n",
      "fonttools==4.25.0\n",
      "frozenlist @ file:///C:/b/abs_d8e__s1ys3/croot/frozenlist_1698702612014/work\n",
      "fsspec @ file:///C:/b/abs_97mpfsesn0/croot/fsspec_1701286534629/work\n",
      "future @ file:///C:/ci_311_rebuilds/future_1678998246262/work\n",
      "gensim @ file:///C:/ci_311/gensim_1677743037820/work\n",
      "gitdb @ file:///tmp/build/80754af9/gitdb_1617117951232/work\n",
      "GitPython @ file:///C:/b/abs_e1lwow9h41/croot/gitpython_1696937027832/work\n",
      "gmpy2 @ file:///C:/ci_311/gmpy2_1677743390134/work\n",
      "greenlet @ file:///C:/b/abs_a6c75ie0bc/croot/greenlet_1702060012174/work\n",
      "h5py @ file:///C:/b/abs_17fav01gwy/croot/h5py_1691589733413/work\n",
      "HeapDict @ file:///Users/ktietz/demo/mc3/conda-bld/heapdict_1630598515714/work\n",
      "holoviews @ file:///C:/b/abs_704uucojt7/croot/holoviews_1707836477070/work\n",
      "hvplot @ file:///C:/b/abs_3627uzd5h0/croot/hvplot_1706712443782/work\n",
      "hyperlink @ file:///tmp/build/80754af9/hyperlink_1610130746837/work\n",
      "idna @ file:///C:/ci_311/idna_1676424932545/work\n",
      "imagecodecs @ file:///C:/b/abs_e2g5zbs1q0/croot/imagecodecs_1695065012000/work\n",
      "imageio @ file:///C:/b/abs_aeqerw_nps/croot/imageio_1707247365204/work\n",
      "imagesize @ file:///C:/ci_311/imagesize_1676431905616/work\n",
      "imbalanced-learn @ file:///C:/b/abs_87es3kd5fi/croot/imbalanced-learn_1700648276799/work\n",
      "importlib-metadata @ file:///C:/b/abs_c1egths604/croot/importlib_metadata-suite_1704813568388/work\n",
      "incremental @ file:///croot/incremental_1708639938299/work\n",
      "inflection==0.5.1\n",
      "iniconfig @ file:///home/linux1/recipes/ci/iniconfig_1610983019677/work\n",
      "intake @ file:///C:/ci_311_rebuilds/intake_1678999914269/work\n",
      "intervaltree @ file:///Users/ktietz/demo/mc3/conda-bld/intervaltree_1630511889664/work\n",
      "ipykernel @ file:///C:/b/abs_c2u94kxcy6/croot/ipykernel_1705933907920/work\n",
      "ipython @ file:///C:/b/abs_b6pfgmrqnd/croot/ipython_1704833422163/work\n",
      "ipython-genutils @ file:///tmp/build/80754af9/ipython_genutils_1606773439826/work\n",
      "ipywidgets @ file:///croot/ipywidgets_1701289330913/work\n",
      "isort @ file:///tmp/build/80754af9/isort_1628603791788/work\n",
      "itemadapter @ file:///tmp/build/80754af9/itemadapter_1626442940632/work\n",
      "itemloaders @ file:///C:/b/abs_5e3azgv25z/croot/itemloaders_1708639993442/work\n",
      "itsdangerous @ file:///tmp/build/80754af9/itsdangerous_1621432558163/work\n",
      "jaraco.classes @ file:///tmp/build/80754af9/jaraco.classes_1620983179379/work\n",
      "jedi @ file:///C:/ci_311/jedi_1679427407646/work\n",
      "jellyfish @ file:///C:/b/abs_50kgvtnrbj/croot/jellyfish_1695193564091/work\n",
      "Jinja2 @ file:///C:/b/abs_f7x5a8op2h/croot/jinja2_1706733672594/work\n",
      "jmespath @ file:///C:/b/abs_59jpuaows7/croot/jmespath_1700144635019/work\n",
      "joblib @ file:///C:/b/abs_1anqjntpan/croot/joblib_1685113317150/work\n",
      "json5 @ file:///tmp/build/80754af9/json5_1624432770122/work\n",
      "jsonpatch @ file:///tmp/build/80754af9/jsonpatch_1615747632069/work\n",
      "jsonpointer==2.1\n",
      "jsonschema @ file:///C:/b/abs_d1c4sm8drk/croot/jsonschema_1699041668863/work\n",
      "jsonschema-specifications @ file:///C:/b/abs_0brvm6vryw/croot/jsonschema-specifications_1699032417323/work\n",
      "jupyter @ file:///C:/b/abs_4e102rc6e5/croot/jupyter_1707947170513/work\n",
      "jupyter-console @ file:///C:/b/abs_82xaa6i2y4/croot/jupyter_console_1680000189372/work\n",
      "jupyter-events @ file:///C:/b/abs_17ajfqnlz0/croot/jupyter_events_1699282519713/work\n",
      "jupyter-lsp @ file:///C:/b/abs_ecle3em9d4/croot/jupyter-lsp-meta_1699978291372/work\n",
      "jupyter_client @ file:///C:/b/abs_a6h3c8hfdq/croot/jupyter_client_1699455939372/work\n",
      "jupyter_core @ file:///C:/b/abs_c769pbqg9b/croot/jupyter_core_1698937367513/work\n",
      "jupyter_server @ file:///C:/b/abs_7esjvdakg9/croot/jupyter_server_1699466495151/work\n",
      "jupyter_server_terminals @ file:///C:/b/abs_ec0dq4b50j/croot/jupyter_server_terminals_1686870763512/work\n",
      "jupyterlab @ file:///C:/b/abs_43venm28fu/croot/jupyterlab_1706802651134/work\n",
      "jupyterlab-pygments @ file:///tmp/build/80754af9/jupyterlab_pygments_1601490720602/work\n",
      "jupyterlab-widgets @ file:///C:/b/abs_adrrqr26no/croot/jupyterlab_widgets_1700169018974/work\n",
      "jupyterlab_server @ file:///C:/b/abs_e08i7qn9m8/croot/jupyterlab_server_1699555481806/work\n",
      "keyring @ file:///C:/b/abs_dbjc7g0dh2/croot/keyring_1678999228878/work\n",
      "kiwisolver @ file:///C:/ci_311/kiwisolver_1676431979301/work\n",
      "lazy-object-proxy @ file:///C:/ci_311/lazy-object-proxy_1676432050939/work\n",
      "lazy_loader @ file:///C:/b/abs_3bn4_r4g42/croot/lazy_loader_1695850158046/work\n",
      "lckr_jupyterlab_variableinspector @ file:///C:/b/abs_b5yb2mprx2/croot/jupyterlab-variableinspector_1701096592545/work\n",
      "libarchive-c @ file:///tmp/build/80754af9/python-libarchive-c_1617780486945/work\n",
      "libmambapy @ file:///C:/b/abs_2euls_1a38/croot/mamba-split_1704219444888/work/libmambapy\n",
      "linkify-it-py @ file:///C:/ci_311/linkify-it-py_1676474436187/work\n",
      "llvmlite @ file:///C:/b/abs_da15r8vkf8/croot/llvmlite_1706910779994/work\n",
      "lmdb @ file:///C:/b/abs_556ronuvb2/croot/python-lmdb_1682522366268/work\n",
      "locket @ file:///C:/ci_311/locket_1676428325082/work\n",
      "lxml @ file:///C:/b/abs_9e7tpg2vv9/croot/lxml_1695058219431/work\n",
      "lz4 @ file:///C:/b/abs_064u6aszy3/croot/lz4_1686057967376/work\n",
      "Markdown @ file:///C:/ci_311/markdown_1676437912393/work\n",
      "markdown-it-py @ file:///C:/b/abs_a5bfngz6fu/croot/markdown-it-py_1684279915556/work\n",
      "MarkupSafe @ file:///C:/b/abs_ecfdqh67b_/croot/markupsafe_1704206030535/work\n",
      "matplotlib @ file:///C:/b/abs_e26vnvd5s1/croot/matplotlib-suite_1698692153288/work\n",
      "matplotlib-inline @ file:///C:/ci_311/matplotlib-inline_1676425798036/work\n",
      "mccabe @ file:///opt/conda/conda-bld/mccabe_1644221741721/work\n",
      "mdit-py-plugins @ file:///C:/ci_311/mdit-py-plugins_1676481827414/work\n",
      "mdurl @ file:///C:/ci_311/mdurl_1676442676678/work\n",
      "menuinst @ file:///C:/b/abs_099kybla52/croot/menuinst_1706732987063/work\n",
      "mistune @ file:///C:/ci_311/mistune_1676425111783/work\n",
      "mkl-fft @ file:///C:/b/abs_19i1y8ykas/croot/mkl_fft_1695058226480/work\n",
      "mkl-random @ file:///C:/b/abs_edwkj1_o69/croot/mkl_random_1695059866750/work\n",
      "mkl-service==2.4.0\n",
      "more-itertools @ file:///C:/b/abs_36p38zj5jx/croot/more-itertools_1700662194485/work\n",
      "mpmath @ file:///C:/b/abs_7833jrbiox/croot/mpmath_1690848321154/work\n",
      "msgpack @ file:///C:/ci_311/msgpack-python_1676427482892/work\n",
      "multidict @ file:///C:/b/abs_44ido987fv/croot/multidict_1701097803486/work\n",
      "multipledispatch @ file:///C:/ci_311/multipledispatch_1676442767760/work\n",
      "munkres==1.1.4\n",
      "mypy @ file:///C:/b/abs_3880czibje/croot/mypy-split_1708366584048/work\n",
      "mypy-extensions @ file:///C:/b/abs_8f7xiidjya/croot/mypy_extensions_1695131051147/work\n",
      "navigator-updater @ file:///C:/b/abs_895otdwmo9/croot/navigator-updater_1695210220239/work\n",
      "nbclient @ file:///C:/b/abs_cal0q5fyju/croot/nbclient_1698934263135/work\n",
      "nbconvert @ file:///C:/b/abs_17p29f_rx4/croot/nbconvert_1699022793097/work\n",
      "nbformat @ file:///C:/b/abs_5a2nea1iu2/croot/nbformat_1694616866197/work\n",
      "nest-asyncio @ file:///C:/b/abs_65d6lblmoi/croot/nest-asyncio_1708532721305/work\n",
      "networkx @ file:///C:/b/abs_e6gi1go5op/croot/networkx_1690562046966/work\n",
      "nltk @ file:///C:/b/abs_a638z6l1z0/croot/nltk_1688114186909/work\n",
      "notebook @ file:///C:/b/abs_65xjlnf9q4/croot/notebook_1708029957105/work\n",
      "notebook_shim @ file:///C:/b/abs_a5xysln3lb/croot/notebook-shim_1699455926920/work\n",
      "numba @ file:///C:/b/abs_3e3co1qfvo/croot/numba_1707085143481/work\n",
      "numexpr @ file:///C:/b/abs_5fucrty5dc/croot/numexpr_1696515448831/work\n",
      "numpy @ file:///C:/b/abs_c1ywpu18ar/croot/numpy_and_numpy_base_1708638681471/work/dist/numpy-1.26.4-cp311-cp311-win_amd64.whl#sha256=5dfd3e04dc1c2826d3f404fdc7f93c097901f5da9b91f4f394f79d4e038ed81d\n",
      "numpydoc @ file:///C:/ci_311/numpydoc_1676453412027/work\n",
      "opencv-python==4.10.0.84\n",
      "openpyxl==3.0.10\n",
      "overrides @ file:///C:/b/abs_cfh89c8yf4/croot/overrides_1699371165349/work\n",
      "packaging @ file:///C:/b/abs_28t5mcoltc/croot/packaging_1693575224052/work\n",
      "pandas @ file:///C:/b/abs_fej9bi0gew/croot/pandas_1702318041921/work/dist/pandas-2.1.4-cp311-cp311-win_amd64.whl#sha256=d3609b7cc3e3c4d99ad640a4b8e710ba93ccf967ab8e5245b91033e0200f9286\n",
      "pandocfilters @ file:///opt/conda/conda-bld/pandocfilters_1643405455980/work\n",
      "panel @ file:///C:/b/abs_abnm_ot327/croot/panel_1706539613212/work\n",
      "param @ file:///C:/b/abs_39ncjvb7lu/croot/param_1705937833389/work\n",
      "paramiko @ file:///opt/conda/conda-bld/paramiko_1640109032755/work\n",
      "parsel @ file:///C:/b/abs_ebc3tzm_c4/croot/parsel_1707503517596/work\n",
      "parso @ file:///opt/conda/conda-bld/parso_1641458642106/work\n",
      "partd @ file:///C:/b/abs_46awex0fd7/croot/partd_1698702622970/work\n",
      "pathlib @ file:///Users/ktietz/demo/mc3/conda-bld/pathlib_1629713961906/work\n",
      "pathspec @ file:///C:/ci_311/pathspec_1679427644142/work\n",
      "patsy==0.5.3\n",
      "pexpect @ file:///tmp/build/80754af9/pexpect_1605563209008/work\n",
      "pickleshare @ file:///tmp/build/80754af9/pickleshare_1606932040724/work\n",
      "pillow @ file:///C:/b/abs_e22m71t0cb/croot/pillow_1707233126420/work\n",
      "pkce @ file:///C:/b/abs_d0z4444tb0/croot/pkce_1690384879799/work\n",
      "pkginfo @ file:///C:/b/abs_d18srtr68x/croot/pkginfo_1679431192239/work\n",
      "platformdirs @ file:///C:/b/abs_b6z_yqw_ii/croot/platformdirs_1692205479426/work\n",
      "plotly @ file:///C:/ci_311/plotly_1676443558683/work\n",
      "pluggy @ file:///C:/ci_311/pluggy_1676422178143/work\n",
      "ply==3.11\n",
      "prometheus-client @ file:///C:/ci_311/prometheus_client_1679591942558/work\n",
      "prompt-toolkit @ file:///C:/b/abs_68uwr58ed1/croot/prompt-toolkit_1704404394082/work\n",
      "Protego @ file:///tmp/build/80754af9/protego_1598657180827/work\n",
      "protobuf==3.20.3\n",
      "psutil @ file:///C:/ci_311_rebuilds/psutil_1679005906571/work\n",
      "ptyprocess @ file:///tmp/build/80754af9/ptyprocess_1609355006118/work/dist/ptyprocess-0.7.0-py2.py3-none-any.whl\n",
      "pure-eval @ file:///opt/conda/conda-bld/pure_eval_1646925070566/work\n",
      "py-cpuinfo @ file:///C:/b/abs_9ej7u6shci/croot/py-cpuinfo_1698068121579/work\n",
      "pyarrow @ file:///C:/b/abs_93i_y2dub4/croot/pyarrow_1707330894046/work/python\n",
      "pyasn1 @ file:///Users/ktietz/demo/mc3/conda-bld/pyasn1_1629708007385/work\n",
      "pyasn1-modules==0.2.8\n",
      "pycodestyle @ file:///C:/ci_311/pycodestyle_1678376707834/work\n",
      "pycosat @ file:///C:/b/abs_31zywn1be3/croot/pycosat_1696537126223/work\n",
      "pycparser @ file:///tmp/build/80754af9/pycparser_1636541352034/work\n",
      "pyct @ file:///C:/ci_311/pyct_1676438538057/work\n",
      "pycurl==7.45.2\n",
      "pydantic @ file:///C:/b/abs_9byjrk31gl/croot/pydantic_1695798904828/work\n",
      "pydeck @ file:///C:/b/abs_ad9p880wi1/croot/pydeck_1706194121328/work\n",
      "PyDispatcher==2.0.5\n",
      "pydocstyle @ file:///C:/ci_311/pydocstyle_1678402028085/work\n",
      "pyerfa @ file:///C:/ci_311/pyerfa_1676503994641/work\n",
      "pyflakes @ file:///C:/ci_311/pyflakes_1678402101687/work\n",
      "Pygments @ file:///C:/b/abs_fay9dpq4n_/croot/pygments_1684279990574/work\n",
      "PyJWT @ file:///C:/ci_311/pyjwt_1676438890509/work\n",
      "pylint @ file:///C:/ci_311/pylint_1678740302984/work\n",
      "pylint-venv @ file:///C:/ci_311/pylint-venv_1678402170638/work\n",
      "pyls-spyder==0.4.0\n",
      "PyNaCl @ file:///C:/ci_311/pynacl_1676445861112/work\n",
      "pyodbc @ file:///C:/b/abs_90kly0uuwz/croot/pyodbc_1705431396548/work\n",
      "pyOpenSSL @ file:///C:/b/abs_baj0aupznq/croot/pyopenssl_1708380486701/work\n",
      "pyparsing @ file:///C:/ci_311/pyparsing_1678502182533/work\n",
      "PyQt5==5.15.10\n",
      "PyQt5-sip @ file:///C:/b/abs_c0pi2mimq3/croot/pyqt-split_1698769125270/work/pyqt_sip\n",
      "PyQtWebEngine==5.15.6\n",
      "PySocks @ file:///C:/ci_311/pysocks_1676425991111/work\n",
      "pytest @ file:///C:/b/abs_48heoo_k8y/croot/pytest_1690475385915/work\n",
      "python-dateutil @ file:///tmp/build/80754af9/python-dateutil_1626374649649/work\n",
      "python-dotenv @ file:///C:/ci_311/python-dotenv_1676455170580/work\n",
      "python-json-logger @ file:///C:/b/abs_cblnsm6puj/croot/python-json-logger_1683824130469/work\n",
      "python-lsp-black @ file:///C:/ci_311/python-lsp-black_1678721855627/work\n",
      "python-lsp-jsonrpc==1.0.0\n",
      "python-lsp-server @ file:///C:/b/abs_catecj7fv1/croot/python-lsp-server_1681930405912/work\n",
      "python-slugify @ file:///tmp/build/80754af9/python-slugify_1620405669636/work\n",
      "python-snappy @ file:///C:/ci_311/python-snappy_1676446060182/work\n",
      "pytoolconfig @ file:///C:/b/abs_f2j_xsvrpn/croot/pytoolconfig_1701728751207/work\n",
      "pytz @ file:///C:/b/abs_19q3ljkez4/croot/pytz_1695131651401/work\n",
      "pyviz_comms @ file:///C:/b/abs_31r9afnand/croot/pyviz_comms_1701728067143/work\n",
      "pywavelets @ file:///C:/b/abs_7est386xsb/croot/pywavelets_1705049855879/work\n",
      "pywin32==305.1\n",
      "pywin32-ctypes @ file:///C:/ci_311/pywin32-ctypes_1676427747089/work\n",
      "pywinpty @ file:///C:/ci_311/pywinpty_1677707791185/work/target/wheels/pywinpty-2.0.10-cp311-none-win_amd64.whl\n",
      "PyYAML @ file:///C:/b/abs_782o3mbw7z/croot/pyyaml_1698096085010/work\n",
      "pyzmq @ file:///C:/b/abs_89aq69t0up/croot/pyzmq_1705605705281/work\n",
      "QDarkStyle @ file:///tmp/build/80754af9/qdarkstyle_1617386714626/work\n",
      "qstylizer @ file:///C:/ci_311/qstylizer_1678502012152/work/dist/qstylizer-0.2.2-py2.py3-none-any.whl\n",
      "QtAwesome @ file:///C:/ci_311/qtawesome_1678402331535/work\n",
      "qtconsole @ file:///C:/b/abs_eb4u9jg07y/croot/qtconsole_1681402843494/work\n",
      "QtPy @ file:///C:/b/abs_derqu__3p8/croot/qtpy_1700144907661/work\n",
      "queuelib @ file:///C:/b/abs_563lpxcne9/croot/queuelib_1696951148213/work\n",
      "referencing @ file:///C:/b/abs_09f4hj6adf/croot/referencing_1699012097448/work\n",
      "regex @ file:///C:/b/abs_d5e2e5uqmr/croot/regex_1696515472506/work\n",
      "requests @ file:///C:/b/abs_474vaa3x9e/croot/requests_1707355619957/work\n",
      "requests-file @ file:///Users/ktietz/demo/mc3/conda-bld/requests-file_1629455781986/work\n",
      "requests-toolbelt @ file:///C:/b/abs_2fsmts66wp/croot/requests-toolbelt_1690874051210/work\n",
      "rfc3339-validator @ file:///C:/b/abs_ddfmseb_vm/croot/rfc3339-validator_1683077054906/work\n",
      "rfc3986-validator @ file:///C:/b/abs_6e9azihr8o/croot/rfc3986-validator_1683059049737/work\n",
      "rich @ file:///C:/b/abs_09j2g5qnu8/croot/rich_1684282185530/work\n",
      "rope @ file:///C:/ci_311/rope_1678402524346/work\n",
      "rpds-py @ file:///C:/b/abs_76j4g4la23/croot/rpds-py_1698947348047/work\n",
      "Rtree @ file:///C:/ci_311/rtree_1676455758391/work\n",
      "ruamel-yaml-conda @ file:///C:/ci_311/ruamel_yaml_1676455799258/work\n",
      "ruamel.yaml @ file:///C:/ci_311/ruamel.yaml_1676439214109/work\n",
      "s3fs @ file:///C:/b/abs_24vbfcawyu/croot/s3fs_1701294224436/work\n",
      "scikit-image @ file:///C:/b/abs_f7z1pjjn6f/croot/scikit-image_1707346180040/work\n",
      "scikit-learn @ file:///C:/b/abs_38k7ridbgr/croot/scikit-learn_1684954723009/work\n",
      "scipy==1.11.4\n",
      "Scrapy @ file:///C:/ci_311/scrapy_1678502587780/work\n",
      "seaborn @ file:///C:/ci_311/seaborn_1676446547861/work\n",
      "semver @ file:///tmp/build/80754af9/semver_1603822362442/work\n",
      "Send2Trash @ file:///C:/b/abs_08dh49ew26/croot/send2trash_1699371173324/work\n",
      "service-identity @ file:///Users/ktietz/demo/mc3/conda-bld/service_identity_1629460757137/work\n",
      "sip @ file:///C:/b/abs_edevan3fce/croot/sip_1698675983372/work\n",
      "six @ file:///tmp/build/80754af9/six_1644875935023/work\n",
      "smart-open @ file:///C:/ci_311/smart_open_1676439339434/work\n",
      "smmap @ file:///tmp/build/80754af9/smmap_1611694433573/work\n",
      "sniffio @ file:///C:/b/abs_3akdewudo_/croot/sniffio_1705431337396/work\n",
      "snowballstemmer @ file:///tmp/build/80754af9/snowballstemmer_1637937080595/work\n",
      "sortedcontainers @ file:///tmp/build/80754af9/sortedcontainers_1623949099177/work\n",
      "soupsieve @ file:///C:/b/abs_bbsvy9t4pl/croot/soupsieve_1696347611357/work\n",
      "Sphinx @ file:///C:/ci_311/sphinx_1676434546244/work\n",
      "sphinxcontrib-applehelp @ file:///home/ktietz/src/ci/sphinxcontrib-applehelp_1611920841464/work\n",
      "sphinxcontrib-devhelp @ file:///home/ktietz/src/ci/sphinxcontrib-devhelp_1611920923094/work\n",
      "sphinxcontrib-htmlhelp @ file:///tmp/build/80754af9/sphinxcontrib-htmlhelp_1623945626792/work\n",
      "sphinxcontrib-jsmath @ file:///home/ktietz/src/ci/sphinxcontrib-jsmath_1611920942228/work\n",
      "sphinxcontrib-qthelp @ file:///home/ktietz/src/ci/sphinxcontrib-qthelp_1611921055322/work\n",
      "sphinxcontrib-serializinghtml @ file:///tmp/build/80754af9/sphinxcontrib-serializinghtml_1624451540180/work\n",
      "spyder @ file:///C:/b/abs_e99kl7d8t0/croot/spyder_1681934304813/work\n",
      "spyder-kernels @ file:///C:/b/abs_e788a8_4y9/croot/spyder-kernels_1691599588437/work\n",
      "SQLAlchemy @ file:///C:/b/abs_876dxwqqu8/croot/sqlalchemy_1705089154696/work\n",
      "stack-data @ file:///opt/conda/conda-bld/stack_data_1646927590127/work\n",
      "statsmodels @ file:///C:/b/abs_7bth810rna/croot/statsmodels_1689937298619/work\n",
      "streamlit @ file:///C:/b/abs_ba5je7xxy7/croot/streamlit_1706200559831/work\n",
      "sympy @ file:///C:/b/abs_82njkonm7f/croot/sympy_1701397685028/work\n",
      "tables @ file:///C:/b/abs_411740ajo7/croot/pytables_1705614883108/work\n",
      "tabulate @ file:///C:/b/abs_21rf8iibnh/croot/tabulate_1701354830521/work\n",
      "tblib @ file:///Users/ktietz/demo/mc3/conda-bld/tblib_1629402031467/work\n",
      "tenacity @ file:///C:/b/abs_ddkoa9nju6/croot/tenacity_1682972298929/work\n",
      "terminado @ file:///C:/ci_311/terminado_1678228513830/work\n",
      "text-unidecode @ file:///Users/ktietz/demo/mc3/conda-bld/text-unidecode_1629401354553/work\n",
      "textdistance @ file:///tmp/build/80754af9/textdistance_1612461398012/work\n",
      "threadpoolctl @ file:///Users/ktietz/demo/mc3/conda-bld/threadpoolctl_1629802263681/work\n",
      "three-merge @ file:///tmp/build/80754af9/three-merge_1607553261110/work\n",
      "tifffile @ file:///C:/b/abs_45o5chuqwt/croot/tifffile_1695107511025/work\n",
      "tinycss2 @ file:///C:/ci_311/tinycss2_1676425376744/work\n",
      "tldextract @ file:///opt/conda/conda-bld/tldextract_1646638314385/work\n",
      "toml @ file:///tmp/build/80754af9/toml_1616166611790/work\n",
      "tomlkit @ file:///C:/ci_311/tomlkit_1676425418821/work\n",
      "toolz @ file:///C:/ci_311/toolz_1676431406517/work\n",
      "tornado @ file:///C:/b/abs_0cbrstidzg/croot/tornado_1696937003724/work\n",
      "tqdm @ file:///C:/b/abs_f76j9hg7pv/croot/tqdm_1679561871187/work\n",
      "traitlets @ file:///C:/ci_311/traitlets_1676423290727/work\n",
      "truststore @ file:///C:/b/abs_55z7b3r045/croot/truststore_1695245455435/work\n",
      "Twisted @ file:///C:/b/abs_e7yqd811in/croot/twisted_1708702883769/work\n",
      "twisted-iocpsupport @ file:///C:/ci_311/twisted-iocpsupport_1676447612160/work\n",
      "typing_extensions @ file:///C:/b/abs_72cdotwc_6/croot/typing_extensions_1705599364138/work\n",
      "tzdata @ file:///croot/python-tzdata_1690578112552/work\n",
      "tzlocal @ file:///C:/ci_311/tzlocal_1676439620276/work\n",
      "uc-micro-py @ file:///C:/ci_311/uc-micro-py_1676457695423/work\n",
      "ujson @ file:///C:/ci_311/ujson_1676434714224/work\n",
      "Unidecode @ file:///tmp/build/80754af9/unidecode_1614712377438/work\n",
      "urllib3 @ file:///C:/b/abs_0c3739ssy1/croot/urllib3_1707349314852/work\n",
      "validators @ file:///tmp/build/80754af9/validators_1612286467315/work\n",
      "w3lib @ file:///C:/b/abs_957begrwnl/croot/w3lib_1708640020760/work\n",
      "watchdog @ file:///C:/ci_311/watchdog_1676457923624/work\n",
      "wcwidth @ file:///Users/ktietz/demo/mc3/conda-bld/wcwidth_1629357192024/work\n",
      "webencodings==0.5.1\n",
      "websocket-client @ file:///C:/ci_311/websocket-client_1676426063281/work\n",
      "Werkzeug @ file:///C:/b/abs_8578rs2ra_/croot/werkzeug_1679489759009/work\n",
      "whatthepatch @ file:///C:/ci_311/whatthepatch_1678402578113/work\n",
      "widgetsnbextension @ file:///C:/b/abs_derxhz1biv/croot/widgetsnbextension_1701273671518/work\n",
      "win-inet-pton @ file:///C:/ci_311/win_inet_pton_1676425458225/work\n",
      "wrapt @ file:///C:/ci_311/wrapt_1676432805090/work\n",
      "xarray @ file:///C:/b/abs_5bkjiynp4e/croot/xarray_1689041498548/work\n",
      "xlwings @ file:///C:/ci_311_rebuilds/xlwings_1679013429160/work\n",
      "xyzservices @ file:///C:/ci_311/xyzservices_1676434829315/work\n",
      "yapf @ file:///tmp/build/80754af9/yapf_1615749224965/work\n",
      "yarl @ file:///C:/b/abs_8bxwdyhjvp/croot/yarl_1701105248152/work\n",
      "zict @ file:///C:/b/abs_780gyydtbp/croot/zict_1695832899404/work\n",
      "zipp @ file:///C:/b/abs_b0beoc27oa/croot/zipp_1704206963359/work\n",
      "zope.interface @ file:///C:/ci_311/zope.interface_1676439868776/work\n",
      "zstandard==0.19.0\n"
     ]
    }
   ],
   "source": [
    "pip freeze"
   ]
  },
  {
   "cell_type": "markdown",
   "id": "4116c766-76e4-4303-abb6-4c3e3777377f",
   "metadata": {},
   "source": [
    "!pip install opencv-python\n",
    "\n",
    "- in jupyter we need to add ! mark\n",
    "\n",
    "- in anaconda prompt we need not ! mark\n",
    "\n",
    "\n"
   ]
  },
  {
   "cell_type": "code",
   "execution_count": 15,
   "id": "cff082ab-233b-4d12-979f-cc6ba5702d62",
   "metadata": {},
   "outputs": [
    {
     "name": "stdout",
     "output_type": "stream",
     "text": [
      "50\n"
     ]
    }
   ],
   "source": [
    "#hard coding(we r fixing the value)\n",
    "a=20\n",
    "b=30\n",
    "c=a+b\n",
    "print(c)\n"
   ]
  },
  {
   "cell_type": "code",
   "execution_count": 17,
   "id": "b984f08a-d944-4afb-ac5c-51f45f43f4e6",
   "metadata": {},
   "outputs": [
    {
     "name": "stdin",
     "output_type": "stream",
     "text": [
      "enter a num 10\n",
      "enter a num 6\n"
     ]
    },
    {
     "name": "stdout",
     "output_type": "stream",
     "text": [
      "16\n"
     ]
    }
   ],
   "source": [
    "a=eval(input(\"enter a num\"))\n",
    "b=eval(input(\"enter a num\"))\n",
    "c=a+b\n",
    "print(c)"
   ]
  },
  {
   "cell_type": "code",
   "execution_count": 19,
   "id": "0058be3f-4dd7-4d5c-904a-103f99e14ef2",
   "metadata": {},
   "outputs": [
    {
     "name": "stdout",
     "output_type": "stream",
     "text": [
      "addition of 61 and 18 is 79 \n"
     ]
    }
   ],
   "source": [
    "#we can also take the numbers randomly \n",
    "import random\n",
    "num1=random.randint(1,100)\n",
    "num2=random.randint(2,30)\n",
    "num3=num1+num2\n",
    "print(f\"addition of {num1} and {num2} is {num3} \")"
   ]
  },
  {
   "cell_type": "code",
   "execution_count": 21,
   "id": "ccc8f254-1424-4269-a474-f9650a6fed8e",
   "metadata": {},
   "outputs": [
    {
     "name": "stdin",
     "output_type": "stream",
     "text": [
      "enter a num 2\n"
     ]
    },
    {
     "name": "stdout",
     "output_type": "stream",
     "text": [
      "sum of 10 , 2 and 5 is 17 \n"
     ]
    }
   ],
   "source": [
    "n1=10\n",
    "n2=eval(input(\"enter a num\"))\n",
    "n3=random.randint(2,7)\n",
    "sum=n1+n2+n3\n",
    "print(f\"sum of {n1} , {n2} and {n3} is {sum} \")"
   ]
  },
  {
   "cell_type": "markdown",
   "id": "87abe076-0a4d-4311-8f54-bae93f20e4b0",
   "metadata": {},
   "source": [
    "**round**"
   ]
  },
  {
   "cell_type": "code",
   "execution_count": 22,
   "id": "6f5b7ed5-a6dc-4a83-bee3-bbb440951452",
   "metadata": {},
   "outputs": [
    {
     "data": {
      "text/plain": [
       "23"
      ]
     },
     "execution_count": 22,
     "metadata": {},
     "output_type": "execute_result"
    }
   ],
   "source": [
    "avg=22.66666788997543\n",
    "round(avg)"
   ]
  },
  {
   "cell_type": "code",
   "execution_count": 23,
   "id": "844c2a78-7a4a-4619-b69e-1ae5590239cb",
   "metadata": {},
   "outputs": [
    {
     "data": {
      "text/plain": [
       "21"
      ]
     },
     "execution_count": 23,
     "metadata": {},
     "output_type": "execute_result"
    }
   ],
   "source": [
    "avg=21.1111111\n",
    "round(avg)"
   ]
  },
  {
   "cell_type": "code",
   "execution_count": 24,
   "id": "73cd2947-acc3-4ce1-9610-f9a321412c46",
   "metadata": {},
   "outputs": [
    {
     "data": {
      "text/plain": [
       "21.111"
      ]
     },
     "execution_count": 24,
     "metadata": {},
     "output_type": "execute_result"
    }
   ],
   "source": [
    "avg=21.1111111\n",
    "round(avg,3)"
   ]
  },
  {
   "cell_type": "code",
   "execution_count": 25,
   "id": "14e2842c-aad7-4065-8292-d5738a3319eb",
   "metadata": {},
   "outputs": [
    {
     "data": {
      "text/plain": [
       "21.1"
      ]
     },
     "execution_count": 25,
     "metadata": {},
     "output_type": "execute_result"
    }
   ],
   "source": [
    "avg=21.1111111\n",
    "round(avg,1)"
   ]
  },
  {
   "cell_type": "code",
   "execution_count": 26,
   "id": "2537bb80-9c76-4949-86ad-38098ca96e15",
   "metadata": {},
   "outputs": [
    {
     "data": {
      "text/plain": [
       "22"
      ]
     },
     "execution_count": 26,
     "metadata": {},
     "output_type": "execute_result"
    }
   ],
   "source": [
    "a=22.500000\n",
    "round(a)"
   ]
  },
  {
   "cell_type": "code",
   "execution_count": 27,
   "id": "9d7701cb-3c96-438e-bcf1-ca5b17b91409",
   "metadata": {},
   "outputs": [
    {
     "data": {
      "text/plain": [
       "23"
      ]
     },
     "execution_count": 27,
     "metadata": {},
     "output_type": "execute_result"
    }
   ],
   "source": [
    "a=22.511\n",
    "round(a)"
   ]
  },
  {
   "cell_type": "code",
   "execution_count": null,
   "id": "741178fe-d6d3-41e4-ba1b-11760ae4e43e",
   "metadata": {},
   "outputs": [],
   "source": []
  }
 ],
 "metadata": {
  "kernelspec": {
   "display_name": "Python 3 (ipykernel)",
   "language": "python",
   "name": "python3"
  },
  "language_info": {
   "codemirror_mode": {
    "name": "ipython",
    "version": 3
   },
   "file_extension": ".py",
   "mimetype": "text/x-python",
   "name": "python",
   "nbconvert_exporter": "python",
   "pygments_lexer": "ipython3",
   "version": "3.11.7"
  }
 },
 "nbformat": 4,
 "nbformat_minor": 5
}
