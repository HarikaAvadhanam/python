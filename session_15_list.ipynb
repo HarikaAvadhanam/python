{
 "cells": [
  {
   "cell_type": "code",
   "execution_count": 2,
   "id": "4891cc27-d6ae-43a1-90bc-1fd310dc138a",
   "metadata": {},
   "outputs": [
    {
     "name": "stdout",
     "output_type": "stream",
     "text": [
      "[1, 2, 3, 4]\n",
      "['A', 'B', 'C', 'D']\n",
      "[1, 2, 3, 4, 'A', 'B', 'C', 'D']\n",
      "[1, 2, 3, 'Apple', 'Ball', 'Cat', True, False]\n",
      "['naresh it']\n",
      "[100, 100, 100]\n",
      "[100, 'Apple', ['A', 2]]\n"
     ]
    }
   ],
   "source": [
    "l1=[1,2,3,4]\n",
    "l2=['A','B','C','D']\n",
    "l3=[1,2,3,4,'A','B','C','D']\n",
    "l4=[1,2,3,'Apple','Ball','Cat',True,False]\n",
    "name='naresh it'\n",
    "l5=[name]\n",
    "l6=[100,100,100]\n",
    "l7=[100,'Apple',['A',2]]\n",
    "print(l1)\n",
    "print(l2)\n",
    "print(l3)\n",
    "print(l4)\n",
    "print(l5)\n",
    "print(l6)\n",
    "print(l7)"
   ]
  },
  {
   "cell_type": "markdown",
   "id": "646027e9-07f7-4422-b1f3-8b52447e638b",
   "metadata": {},
   "source": [
    "- len\n",
    "\n",
    "- max\n",
    "\n",
    "- min\n",
    "\n",
    "- sorted\n",
    "\n",
    "- reversed\n",
    " "
   ]
  },
  {
   "cell_type": "code",
   "execution_count": 3,
   "id": "fabf349c-9022-499c-9f2f-769f3a07fecf",
   "metadata": {},
   "outputs": [
    {
     "data": {
      "text/plain": [
       "4"
      ]
     },
     "execution_count": 3,
     "metadata": {},
     "output_type": "execute_result"
    }
   ],
   "source": [
    "len(l1)"
   ]
  },
  {
   "cell_type": "code",
   "execution_count": 6,
   "id": "826e9568-faf2-4746-b8c6-a92a100db2cc",
   "metadata": {},
   "outputs": [
    {
     "name": "stdout",
     "output_type": "stream",
     "text": [
      "4\n",
      "8\n",
      "8\n",
      "1\n",
      "3\n",
      "3\n"
     ]
    }
   ],
   "source": [
    "print(len(l2))\n",
    "print(len(l3))\n",
    "print(len(l4))\n",
    "print(len(l5))\n",
    "print(len(l6))\n",
    "print(len(l7))"
   ]
  },
  {
   "cell_type": "code",
   "execution_count": 8,
   "id": "078012ce-1686-44c5-88f7-bf4581ded276",
   "metadata": {},
   "outputs": [
    {
     "name": "stdout",
     "output_type": "stream",
     "text": [
      "4\n",
      "D\n"
     ]
    },
    {
     "ename": "TypeError",
     "evalue": "'>' not supported between instances of 'str' and 'int'",
     "output_type": "error",
     "traceback": [
      "\u001b[1;31m---------------------------------------------------------------------------\u001b[0m",
      "\u001b[1;31mTypeError\u001b[0m                                 Traceback (most recent call last)",
      "Cell \u001b[1;32mIn[8], line 3\u001b[0m\n\u001b[0;32m      1\u001b[0m \u001b[38;5;28mprint\u001b[39m(\u001b[38;5;28mmax\u001b[39m(l1))\n\u001b[0;32m      2\u001b[0m \u001b[38;5;28mprint\u001b[39m(\u001b[38;5;28mmax\u001b[39m(l2))\n\u001b[1;32m----> 3\u001b[0m \u001b[38;5;28mprint\u001b[39m(\u001b[38;5;28mmax\u001b[39m(l3))\n\u001b[0;32m      4\u001b[0m \u001b[38;5;28mprint\u001b[39m(\u001b[38;5;28mmax\u001b[39m(l4))\n\u001b[0;32m      5\u001b[0m \u001b[38;5;28mprint\u001b[39m(\u001b[38;5;28mmax\u001b[39m(l5))\n",
      "\u001b[1;31mTypeError\u001b[0m: '>' not supported between instances of 'str' and 'int'"
     ]
    }
   ],
   "source": [
    "print(max(l1))\n",
    "print(max(l2))\n",
    "print(max(l3))\n",
    "print(max(l4))\n",
    "print(max(l5))\n",
    "print(max(l6))\n",
    "print(max(l7))"
   ]
  },
  {
   "cell_type": "code",
   "execution_count": 9,
   "id": "95b25c14-7e0b-4933-af47-4a75bb4c0816",
   "metadata": {},
   "outputs": [
    {
     "ename": "TypeError",
     "evalue": "'>' not supported between instances of 'str' and 'int'",
     "output_type": "error",
     "traceback": [
      "\u001b[1;31m---------------------------------------------------------------------------\u001b[0m",
      "\u001b[1;31mTypeError\u001b[0m                                 Traceback (most recent call last)",
      "Cell \u001b[1;32mIn[9], line 1\u001b[0m\n\u001b[1;32m----> 1\u001b[0m \u001b[38;5;28mprint\u001b[39m(\u001b[38;5;28mmax\u001b[39m(l4))\n\u001b[0;32m      2\u001b[0m \u001b[38;5;28mprint\u001b[39m(\u001b[38;5;28mmax\u001b[39m(l5))\n\u001b[0;32m      3\u001b[0m \u001b[38;5;28mprint\u001b[39m(\u001b[38;5;28mmax\u001b[39m(l6))\n",
      "\u001b[1;31mTypeError\u001b[0m: '>' not supported between instances of 'str' and 'int'"
     ]
    }
   ],
   "source": [
    "print(max(l4))\n",
    "print(max(l5))\n",
    "print(max(l6))\n",
    "print(max(l7))"
   ]
  },
  {
   "cell_type": "code",
   "execution_count": 15,
   "id": "46e68175-660b-439d-886d-b2a07f8ccaa7",
   "metadata": {},
   "outputs": [
    {
     "name": "stdout",
     "output_type": "stream",
     "text": [
      "<list_reverseiterator object at 0x0000021807A5D240>\n",
      "<list_reverseiterator object at 0x0000021807A5C490>\n",
      "<list_reverseiterator object at 0x0000021807A5D240>\n",
      "<list_reverseiterator object at 0x0000021807A586D0>\n",
      "['naresh it']\n",
      "[100, 100, 100]\n",
      "[['A', 2], 'Apple', 100]\n"
     ]
    }
   ],
   "source": [
    "print(reversed(l1))\n",
    "print(reversed(l2))\n",
    "print(reversed(l3))\n",
    "print(reversed(l4))\n",
    "print(list(reversed(l5)))\n",
    "print(list(reversed(l6)))\n",
    "print(list(reversed(l7)))"
   ]
  },
  {
   "cell_type": "code",
   "execution_count": 13,
   "id": "f1c83f03-e1ae-4a22-8952-7f8d9e70232d",
   "metadata": {},
   "outputs": [
    {
     "name": "stdout",
     "output_type": "stream",
     "text": [
      "[1, 2, 3, 4]\n",
      "['A', 'B', 'C', 'D']\n"
     ]
    },
    {
     "ename": "TypeError",
     "evalue": "'<' not supported between instances of 'str' and 'int'",
     "output_type": "error",
     "traceback": [
      "\u001b[1;31m---------------------------------------------------------------------------\u001b[0m",
      "\u001b[1;31mTypeError\u001b[0m                                 Traceback (most recent call last)",
      "Cell \u001b[1;32mIn[13], line 3\u001b[0m\n\u001b[0;32m      1\u001b[0m \u001b[38;5;28mprint\u001b[39m(\u001b[38;5;28msorted\u001b[39m(l1))\n\u001b[0;32m      2\u001b[0m \u001b[38;5;28mprint\u001b[39m(\u001b[38;5;28msorted\u001b[39m(l2))\n\u001b[1;32m----> 3\u001b[0m \u001b[38;5;28mprint\u001b[39m(\u001b[38;5;28msorted\u001b[39m(l3))\n\u001b[0;32m      4\u001b[0m \u001b[38;5;28mprint\u001b[39m(\u001b[38;5;28msorted\u001b[39m(l4))\n\u001b[0;32m      5\u001b[0m \u001b[38;5;28mprint\u001b[39m(\u001b[38;5;28msorted\u001b[39m(l5))\n",
      "\u001b[1;31mTypeError\u001b[0m: '<' not supported between instances of 'str' and 'int'"
     ]
    }
   ],
   "source": [
    "print(sorted(l1))\n",
    "print(sorted(l2))\n",
    "print(sorted(l3))\n",
    "print(sorted(l4))\n",
    "print(sorted(l5))\n",
    "print(sorted(l6))\n",
    "print(sorted(l7))"
   ]
  },
  {
   "cell_type": "code",
   "execution_count": 14,
   "id": "8f324e79-4d58-4aef-907f-05f345613fdf",
   "metadata": {},
   "outputs": [
    {
     "name": "stdout",
     "output_type": "stream",
     "text": [
      "['naresh it']\n",
      "[100, 100, 100]\n"
     ]
    },
    {
     "ename": "TypeError",
     "evalue": "'<' not supported between instances of 'str' and 'int'",
     "output_type": "error",
     "traceback": [
      "\u001b[1;31m---------------------------------------------------------------------------\u001b[0m",
      "\u001b[1;31mTypeError\u001b[0m                                 Traceback (most recent call last)",
      "Cell \u001b[1;32mIn[14], line 3\u001b[0m\n\u001b[0;32m      1\u001b[0m \u001b[38;5;28mprint\u001b[39m(\u001b[38;5;28msorted\u001b[39m(l5))\n\u001b[0;32m      2\u001b[0m \u001b[38;5;28mprint\u001b[39m(\u001b[38;5;28msorted\u001b[39m(l6))\n\u001b[1;32m----> 3\u001b[0m \u001b[38;5;28mprint\u001b[39m(\u001b[38;5;28msorted\u001b[39m(l7))\n",
      "\u001b[1;31mTypeError\u001b[0m: '<' not supported between instances of 'str' and 'int'"
     ]
    }
   ],
   "source": [
    "print(sorted(l5))\n",
    "print(sorted(l6))\n",
    "print(sorted(l7))"
   ]
  },
  {
   "cell_type": "code",
   "execution_count": 16,
   "id": "d7c42076-b3cb-455d-a05f-f907c319fa30",
   "metadata": {},
   "outputs": [
    {
     "data": {
      "text/plain": [
       "97"
      ]
     },
     "execution_count": 16,
     "metadata": {},
     "output_type": "execute_result"
    }
   ],
   "source": [
    "ord('a')"
   ]
  },
  {
   "cell_type": "code",
   "execution_count": 17,
   "id": "deecfe49-b059-4a66-9703-da3e171bc730",
   "metadata": {},
   "outputs": [
    {
     "data": {
      "text/plain": [
       "65"
      ]
     },
     "execution_count": 17,
     "metadata": {},
     "output_type": "execute_result"
    }
   ],
   "source": [
    "ord('A')"
   ]
  },
  {
   "cell_type": "code",
   "execution_count": 21,
   "id": "836f7cb3-497f-48a3-b8fe-23c6a6199e2a",
   "metadata": {},
   "outputs": [
    {
     "name": "stdout",
     "output_type": "stream",
     "text": [
      "Aditya\n"
     ]
    }
   ],
   "source": [
    "l8=['aditya','Aditya']\n",
    "print(min(l8))  #A is having less ascii value thean a"
   ]
  },
  {
   "cell_type": "code",
   "execution_count": 20,
   "id": "7a40b340-126b-4de5-9f20-363ea64488be",
   "metadata": {},
   "outputs": [
    {
     "name": "stdout",
     "output_type": "stream",
     "text": [
      "aditya\n"
     ]
    }
   ],
   "source": [
    "l8=['aditya','arjun']\n",
    "print(min(l8))    #if both first letters are same then compare second value"
   ]
  },
  {
   "cell_type": "code",
   "execution_count": 23,
   "id": "decf0602-d34b-46b5-bebc-0b9bb4f663a1",
   "metadata": {},
   "outputs": [
    {
     "ename": "TypeError",
     "evalue": "'>' not supported between instances of 'str' and 'int'",
     "output_type": "error",
     "traceback": [
      "\u001b[1;31m---------------------------------------------------------------------------\u001b[0m",
      "\u001b[1;31mTypeError\u001b[0m                                 Traceback (most recent call last)",
      "Cell \u001b[1;32mIn[23], line 2\u001b[0m\n\u001b[0;32m      1\u001b[0m list1\u001b[38;5;241m=\u001b[39m[\u001b[38;5;241m65\u001b[39m,\u001b[38;5;124m'\u001b[39m\u001b[38;5;124mA\u001b[39m\u001b[38;5;124m'\u001b[39m]\n\u001b[1;32m----> 2\u001b[0m \u001b[38;5;28mmax\u001b[39m(list1)\n",
      "\u001b[1;31mTypeError\u001b[0m: '>' not supported between instances of 'str' and 'int'"
     ]
    }
   ],
   "source": [
    "list1=[65,'A']\n",
    "max(list1)    #same data type only comparable"
   ]
  },
  {
   "cell_type": "markdown",
   "id": "5c9b4100-7d7d-4b9b-82f2-2db5e75f0698",
   "metadata": {},
   "source": [
    "**indexing**"
   ]
  },
  {
   "cell_type": "code",
   "execution_count": 26,
   "id": "d6e4f03d-d2ca-42d5-8f51-bb1ef1982cef",
   "metadata": {},
   "outputs": [
    {
     "data": {
      "text/plain": [
       "('Apple', 'Ball')"
      ]
     },
     "execution_count": 26,
     "metadata": {},
     "output_type": "execute_result"
    }
   ],
   "source": [
    "l4=[1,2,3,'Apple','Ball','Cat',True,False]\n",
    "\n",
    "#-8       -7       -6        -5            -4       -3         -2         -1\n",
    "\n",
    "#1        2         3       apple        ball       cat       True       False\n",
    "\n",
    "#0        1          2        3            4          5         6         7\n",
    "l4[3],l4[-4]"
   ]
  },
  {
   "cell_type": "code",
   "execution_count": 27,
   "id": "da1aae9f-b1e3-4ce7-9943-9e45816a5f52",
   "metadata": {},
   "outputs": [
    {
     "data": {
      "text/plain": [
       "[2, 3, 'Apple', 'Ball', 'Cat', True]"
      ]
     },
     "execution_count": 27,
     "metadata": {},
     "output_type": "execute_result"
    }
   ],
   "source": [
    "l4[1:7]"
   ]
  },
  {
   "cell_type": "code",
   "execution_count": 28,
   "id": "3d5af6f8-f055-49ff-bc9e-f1a77884b6da",
   "metadata": {},
   "outputs": [
    {
     "data": {
      "text/plain": [
       "[]"
      ]
     },
     "execution_count": 28,
     "metadata": {},
     "output_type": "execute_result"
    }
   ],
   "source": [
    "l4[-1:-8]"
   ]
  },
  {
   "cell_type": "code",
   "execution_count": 29,
   "id": "25c57781-1a6e-4539-a283-6880bb069fa8",
   "metadata": {},
   "outputs": [
    {
     "data": {
      "text/plain": [
       "[1, 2, 3, 'Apple', 'Ball', 'Cat', True]"
      ]
     },
     "execution_count": 29,
     "metadata": {},
     "output_type": "execute_result"
    }
   ],
   "source": [
    "l4[-8:-1]"
   ]
  },
  {
   "cell_type": "code",
   "execution_count": 30,
   "id": "1c7a0c60-3387-44d5-b253-be480f9139e7",
   "metadata": {},
   "outputs": [
    {
     "data": {
      "text/plain": [
       "[]"
      ]
     },
     "execution_count": 30,
     "metadata": {},
     "output_type": "execute_result"
    }
   ],
   "source": [
    "l4[-1:-3]"
   ]
  },
  {
   "cell_type": "code",
   "execution_count": 31,
   "id": "33065f07-20e8-44da-9164-3e1f48d06086",
   "metadata": {},
   "outputs": [
    {
     "data": {
      "text/plain": [
       "['Cat', True]"
      ]
     },
     "execution_count": 31,
     "metadata": {},
     "output_type": "execute_result"
    }
   ],
   "source": [
    "l4[-3:-1]"
   ]
  },
  {
   "cell_type": "code",
   "execution_count": 32,
   "id": "5c05656a-8d41-414e-bd35-8e2b3d3f53ae",
   "metadata": {},
   "outputs": [
    {
     "data": {
      "text/plain": [
       "[1, [2]]"
      ]
     },
     "execution_count": 32,
     "metadata": {},
     "output_type": "execute_result"
    }
   ],
   "source": [
    "l1=[1,[2]]\n",
    "l1"
   ]
  },
  {
   "cell_type": "code",
   "execution_count": 33,
   "id": "310b9e82-f915-45b4-9dfa-8c24784a4d8e",
   "metadata": {},
   "outputs": [
    {
     "data": {
      "text/plain": [
       "[2]"
      ]
     },
     "execution_count": 33,
     "metadata": {},
     "output_type": "execute_result"
    }
   ],
   "source": [
    "l1[1]"
   ]
  },
  {
   "cell_type": "code",
   "execution_count": 34,
   "id": "506b8d62-60d0-4127-91c6-8eb7c1ef5d11",
   "metadata": {},
   "outputs": [
    {
     "data": {
      "text/plain": [
       "1"
      ]
     },
     "execution_count": 34,
     "metadata": {},
     "output_type": "execute_result"
    }
   ],
   "source": [
    "l1[0]"
   ]
  },
  {
   "cell_type": "code",
   "execution_count": 36,
   "id": "e323aa53-d2c8-4676-bc6b-785ee10ba205",
   "metadata": {},
   "outputs": [
    {
     "data": {
      "text/plain": [
       "2"
      ]
     },
     "execution_count": 36,
     "metadata": {},
     "output_type": "execute_result"
    }
   ],
   "source": [
    "# to print 2 in l1\n",
    "l1[1][0]"
   ]
  },
  {
   "cell_type": "code",
   "execution_count": 38,
   "id": "7d9dbde4-0518-415d-a754-78f3960db963",
   "metadata": {},
   "outputs": [
    {
     "data": {
      "text/plain": [
       "'A'"
      ]
     },
     "execution_count": 38,
     "metadata": {},
     "output_type": "execute_result"
    }
   ],
   "source": [
    "l2=[1,[2,'A']]\n",
    "l2[1][1]\n",
    "#a is represented at index 1\n",
    "#so we given l2[1] :[2,'a'] it is also a list\n",
    "#the list has two elements\n",
    "#'a' is at last index\n",
    "#l2[1][1]"
   ]
  },
  {
   "cell_type": "code",
   "execution_count": 40,
   "id": "bad9e005-3510-4d01-b5ba-6cc7d2e216d5",
   "metadata": {},
   "outputs": [
    {
     "data": {
      "text/plain": [
       "'b'"
      ]
     },
     "execution_count": 40,
     "metadata": {},
     "output_type": "execute_result"
    }
   ],
   "source": [
    "l3=[1,[2,5],['a','b','c']]\n",
    "l3[2][1]"
   ]
  },
  {
   "cell_type": "code",
   "execution_count": 54,
   "id": "ef953e17-a7bd-4005-9cb7-4bd0ea359798",
   "metadata": {},
   "outputs": [
    {
     "name": "stdout",
     "output_type": "stream",
     "text": [
      "3\n"
     ]
    },
    {
     "data": {
      "text/plain": [
       "'Apple'"
      ]
     },
     "execution_count": 54,
     "metadata": {},
     "output_type": "execute_result"
    }
   ],
   "source": [
    "l1=[1,2,[3,[4,[5,['Apple']]]]]\n",
    "print(len(l1))\n",
    "l1[2][1][1][1][0]"
   ]
  },
  {
   "cell_type": "code",
   "execution_count": 55,
   "id": "a3cf1962-9458-4742-8d68-fa0d0c8790a1",
   "metadata": {},
   "outputs": [],
   "source": [
    "list1=['apple',\n",
    "       1,\n",
    "       'solapur',\n",
    "       ['cherry','papaya',70,[123,'banana'],\n",
    "        'tomato'],\n",
    "       'python']"
   ]
  },
  {
   "cell_type": "code",
   "execution_count": 56,
   "id": "12618742-64d4-40f8-9ab3-0f5a34c2ab86",
   "metadata": {},
   "outputs": [
    {
     "data": {
      "text/plain": [
       "5"
      ]
     },
     "execution_count": 56,
     "metadata": {},
     "output_type": "execute_result"
    }
   ],
   "source": [
    "len(list1)"
   ]
  },
  {
   "cell_type": "code",
   "execution_count": 59,
   "id": "3a0eb7ff-269b-4650-8a0d-b903f840e1df",
   "metadata": {},
   "outputs": [
    {
     "data": {
      "text/plain": [
       "'banana'"
      ]
     },
     "execution_count": 59,
     "metadata": {},
     "output_type": "execute_result"
    }
   ],
   "source": [
    "list1[3][3][1]"
   ]
  },
  {
   "cell_type": "code",
   "execution_count": 62,
   "id": "1f2e5da8-f468-417b-bb6d-9f417bea4c40",
   "metadata": {},
   "outputs": [
    {
     "data": {
      "text/plain": [
       "'cherry'"
      ]
     },
     "execution_count": 62,
     "metadata": {},
     "output_type": "execute_result"
    }
   ],
   "source": [
    "list1=[[[[[[[1,'cherry']]]]]]]\n",
    "list1[0][0][0][0][0][0][1]"
   ]
  },
  {
   "cell_type": "code",
   "execution_count": 63,
   "id": "9c5cf725-3b30-44e9-862a-b37adb2014a3",
   "metadata": {},
   "outputs": [
    {
     "data": {
      "text/plain": [
       "[[[1, 'cherry']]]"
      ]
     },
     "execution_count": 63,
     "metadata": {},
     "output_type": "execute_result"
    }
   ],
   "source": [
    "list1[0][0][0][0]"
   ]
  },
  {
   "cell_type": "code",
   "execution_count": 69,
   "id": "430a976e-a87f-46b7-9c37-4cd8d0310d01",
   "metadata": {},
   "outputs": [
    {
     "data": {
      "text/plain": [
       "2"
      ]
     },
     "execution_count": 69,
     "metadata": {},
     "output_type": "execute_result"
    }
   ],
   "source": [
    "list1=['mh',\n",
    "       ['nagpur',['orange',['likes',['king'],['sivaji',['son',['shambaji']]]]]\n",
    "       ]]\n",
    "len(list1)"
   ]
  },
  {
   "cell_type": "code",
   "execution_count": 79,
   "id": "fdbfb6fe-c4e5-4587-a3c4-e46dfef0a0c1",
   "metadata": {},
   "outputs": [
    {
     "data": {
      "text/plain": [
       "'shambaji'"
      ]
     },
     "execution_count": 79,
     "metadata": {},
     "output_type": "execute_result"
    }
   ],
   "source": [
    "list1[1][1][1][2][1][1][0]"
   ]
  },
  {
   "cell_type": "code",
   "execution_count": 2,
   "id": "5d46c238-d1a3-442c-b9fb-f8f3788ada9f",
   "metadata": {},
   "outputs": [
    {
     "name": "stdout",
     "output_type": "stream",
     "text": [
      "positive index of 1 is 0\n",
      "positive index of 2 is 1\n",
      "positive index of 3 is 2\n",
      "positive index of Apple is 3\n",
      "positive index of Ball is 4\n",
      "positive index of Cat is 5\n",
      "positive index of True is 6\n",
      "positive index of False is 7\n"
     ]
    }
   ],
   "source": [
    "l4=[1,2,3,'Apple','Ball','Cat',True,False]\n",
    "for i in range(len(l4)):\n",
    "    print(f\"positive index of {l4[i]} is {i}\")"
   ]
  },
  {
   "cell_type": "code",
   "execution_count": 3,
   "id": "bfe216df-d001-4968-8e95-6325cefd95da",
   "metadata": {},
   "outputs": [
    {
     "name": "stdout",
     "output_type": "stream",
     "text": [
      "[1, 'hi', 3, 4]\n"
     ]
    }
   ],
   "source": [
    "l=[1,2,3,4]\n",
    "l[1]=\"hi\"\n",
    "print(l)"
   ]
  },
  {
   "cell_type": "code",
   "execution_count": 8,
   "id": "24ac2f97-2577-4639-a986-85b4acaffe99",
   "metadata": {},
   "outputs": [
    {
     "data": {
      "text/plain": [
       "[1, 3]"
      ]
     },
     "execution_count": 8,
     "metadata": {},
     "output_type": "execute_result"
    }
   ],
   "source": [
    "l[0:3:2]"
   ]
  },
  {
   "cell_type": "code",
   "execution_count": 10,
   "id": "4bd0af4e-8e10-4a7e-9a82-051726ee481e",
   "metadata": {},
   "outputs": [
    {
     "data": {
      "text/plain": [
       "[4, 5, 'B']"
      ]
     },
     "execution_count": 10,
     "metadata": {},
     "output_type": "execute_result"
    }
   ],
   "source": [
    "l=[1,2,3,4,5,5,'A','B','C','D','E','F','G']\n",
    "l[3:9:2]     #p\n",
    "l[3:9:-2]    #np\n",
    "l[3:-9:2]    \n",
    "l[3:-9:-2]   \n",
    "l[-3:9:2]    \n",
    "l[-3:-9:-2]  \n",
    "l[-3:9:2]    "
   ]
  },
  {
   "cell_type": "code",
   "execution_count": 11,
   "id": "59fe3547-b3a5-47da-aea4-36bf793b368f",
   "metadata": {},
   "outputs": [
    {
     "data": {
      "text/plain": [
       "[4, 5, 'B']"
      ]
     },
     "execution_count": 11,
     "metadata": {},
     "output_type": "execute_result"
    }
   ],
   "source": [
    "l[3:9:2]     "
   ]
  },
  {
   "cell_type": "code",
   "execution_count": 12,
   "id": "6f5418ce-3633-4ecc-a950-a28a7699683f",
   "metadata": {},
   "outputs": [
    {
     "data": {
      "text/plain": [
       "[]"
      ]
     },
     "execution_count": 12,
     "metadata": {},
     "output_type": "execute_result"
    }
   ],
   "source": [
    "l[3:9:-2]    "
   ]
  },
  {
   "cell_type": "code",
   "execution_count": 13,
   "id": "e7ff0908-dbca-499e-9219-ceb295f98c0f",
   "metadata": {},
   "outputs": [
    {
     "data": {
      "text/plain": [
       "[4]"
      ]
     },
     "execution_count": 13,
     "metadata": {},
     "output_type": "execute_result"
    }
   ],
   "source": [
    "l[3:-9:2]\n",
    "#start \n",
    "#stop:last-1:-9-1=-10"
   ]
  },
  {
   "cell_type": "markdown",
   "id": "5a1d138d-c4da-4437-adec-057f01e9ae12",
   "metadata": {},
   "source": [
    "**list methods**"
   ]
  },
  {
   "cell_type": "code",
   "execution_count": 14,
   "id": "205eb57f-ae95-4560-82f2-2aa0c29948d4",
   "metadata": {},
   "outputs": [
    {
     "data": {
      "text/plain": [
       "['__add__',\n",
       " '__class__',\n",
       " '__class_getitem__',\n",
       " '__contains__',\n",
       " '__delattr__',\n",
       " '__delitem__',\n",
       " '__dir__',\n",
       " '__doc__',\n",
       " '__eq__',\n",
       " '__format__',\n",
       " '__ge__',\n",
       " '__getattribute__',\n",
       " '__getitem__',\n",
       " '__getstate__',\n",
       " '__gt__',\n",
       " '__hash__',\n",
       " '__iadd__',\n",
       " '__imul__',\n",
       " '__init__',\n",
       " '__init_subclass__',\n",
       " '__iter__',\n",
       " '__le__',\n",
       " '__len__',\n",
       " '__lt__',\n",
       " '__mul__',\n",
       " '__ne__',\n",
       " '__new__',\n",
       " '__reduce__',\n",
       " '__reduce_ex__',\n",
       " '__repr__',\n",
       " '__reversed__',\n",
       " '__rmul__',\n",
       " '__setattr__',\n",
       " '__setitem__',\n",
       " '__sizeof__',\n",
       " '__str__',\n",
       " '__subclasshook__',\n",
       " 'append',\n",
       " 'clear',\n",
       " 'copy',\n",
       " 'count',\n",
       " 'extend',\n",
       " 'index',\n",
       " 'insert',\n",
       " 'pop',\n",
       " 'remove',\n",
       " 'reverse',\n",
       " 'sort']"
      ]
     },
     "execution_count": 14,
     "metadata": {},
     "output_type": "execute_result"
    }
   ],
   "source": [
    "dir(list)"
   ]
  },
  {
   "cell_type": "code",
   "execution_count": null,
   "id": "6d6a951b-1511-4288-ae34-ac68023bada2",
   "metadata": {},
   "outputs": [],
   "source": [
    "'append',\n",
    " 'clear',\n",
    " 'copy',\n",
    " 'count',\n",
    " 'extend',\n",
    " 'index',\n",
    " 'insert',\n",
    " 'pop',\n",
    " 'remove',\n",
    " 'reverse',\n",
    " 'sort'\n"
   ]
  },
  {
   "cell_type": "markdown",
   "id": "ca13d930-2b2b-4b4a-9fa5-164d36bbfad6",
   "metadata": {},
   "source": [
    "**append**"
   ]
  },
  {
   "cell_type": "markdown",
   "id": "065ff78f-7072-4519-be53-49d70699402e",
   "metadata": {},
   "source": [
    "- adding element at the end of list\n",
    "\n",
    "- when you add the values original list will be overwrite"
   ]
  },
  {
   "cell_type": "code",
   "execution_count": 38,
   "id": "f8630a98-65fd-4932-b3a9-f65bbae29d2f",
   "metadata": {},
   "outputs": [
    {
     "data": {
      "text/plain": [
       "['apple', 'ball', 'cat']"
      ]
     },
     "execution_count": 38,
     "metadata": {},
     "output_type": "execute_result"
    }
   ],
   "source": [
    "l=['apple','ball','cat']\n",
    "l"
   ]
  },
  {
   "cell_type": "code",
   "execution_count": 39,
   "id": "bc95dc52-b97b-4a82-bb09-d3c2a0d10830",
   "metadata": {},
   "outputs": [
    {
     "data": {
      "text/plain": [
       "['apple', 'ball', 'cat', 'dog']"
      ]
     },
     "execution_count": 39,
     "metadata": {},
     "output_type": "execute_result"
    }
   ],
   "source": [
    "l.append('dog')\n",
    "l"
   ]
  },
  {
   "cell_type": "code",
   "execution_count": 34,
   "id": "553596cd-8b6c-44e7-bb01-2738aab50d19",
   "metadata": {},
   "outputs": [
    {
     "data": {
      "text/plain": [
       "[10, 20, 'apple', ['a', 1], True]"
      ]
     },
     "execution_count": 34,
     "metadata": {},
     "output_type": "execute_result"
    }
   ],
   "source": [
    "l2=[]\n",
    "l2.append(10)\n",
    "l2.append(20)\n",
    "l2.append('apple')\n",
    "l2.append(['a',1])\n",
    "l2.append(True)\n",
    "l2"
   ]
  },
  {
   "cell_type": "code",
   "execution_count": 41,
   "id": "accd5adf-cdb1-4262-8fe6-a4d6fefcc1ce",
   "metadata": {},
   "outputs": [
    {
     "data": {
      "text/plain": [
       "[10, 20, 'apple', ['a', 1], True, 50, 50]"
      ]
     },
     "execution_count": 41,
     "metadata": {},
     "output_type": "execute_result"
    }
   ],
   "source": [
    "#list append exactly takes only one argument\n",
    "l2.append(50)\n",
    "l2"
   ]
  },
  {
   "cell_type": "code",
   "execution_count": 42,
   "id": "d34a3c6b-69e3-4f7e-9b0c-0ee46ba938ae",
   "metadata": {},
   "outputs": [
    {
     "ename": "TypeError",
     "evalue": "list.append() takes exactly one argument (2 given)",
     "output_type": "error",
     "traceback": [
      "\u001b[1;31m---------------------------------------------------------------------------\u001b[0m",
      "\u001b[1;31mTypeError\u001b[0m                                 Traceback (most recent call last)",
      "Cell \u001b[1;32mIn[42], line 1\u001b[0m\n\u001b[1;32m----> 1\u001b[0m l2\u001b[38;5;241m.\u001b[39mappend(\u001b[38;5;241m60\u001b[39m,\u001b[38;5;241m70\u001b[39m)\n\u001b[0;32m      2\u001b[0m l2\n",
      "\u001b[1;31mTypeError\u001b[0m: list.append() takes exactly one argument (2 given)"
     ]
    }
   ],
   "source": [
    "l2.append(60,70)\n",
    "l2"
   ]
  },
  {
   "cell_type": "code",
   "execution_count": 52,
   "id": "83d23855-58a6-46a8-b11c-492ac3762014",
   "metadata": {},
   "outputs": [
    {
     "name": "stdout",
     "output_type": "stream",
     "text": [
      "1\n",
      "4\n",
      "9\n",
      "16\n",
      "25\n"
     ]
    }
   ],
   "source": [
    "for i in range(1,6):\n",
    "    print(i*i)"
   ]
  },
  {
   "cell_type": "code",
   "execution_count": 46,
   "id": "0fed6695-8e51-406b-b37c-006ca5e26749",
   "metadata": {},
   "outputs": [
    {
     "data": {
      "text/plain": [
       "[1, 4, 9, 16, 25]"
      ]
     },
     "execution_count": 46,
     "metadata": {},
     "output_type": "execute_result"
    }
   ],
   "source": [
    "square_list=[]\n",
    "for i in range(1,6):\n",
    "    square_list.append(i*i)\n",
    "square_list    \n",
    "    "
   ]
  },
  {
   "cell_type": "code",
   "execution_count": 53,
   "id": "d24af1be-3f33-4b2b-8fc0-d58a6ad7b328",
   "metadata": {},
   "outputs": [
    {
     "data": {
      "text/plain": [
       "'python'"
      ]
     },
     "execution_count": 53,
     "metadata": {},
     "output_type": "execute_result"
    }
   ],
   "source": [
    "s=''\n",
    "for i in 'python':\n",
    "    s=s+i\n",
    "s    "
   ]
  },
  {
   "cell_type": "code",
   "execution_count": 70,
   "id": "352b0ae4-e29d-4be2-b27f-4955fcfae67a",
   "metadata": {},
   "outputs": [
    {
     "data": {
      "text/plain": [
       "[1, 5, 9]"
      ]
     },
     "execution_count": 70,
     "metadata": {},
     "output_type": "execute_result"
    }
   ],
   "source": [
    "str='hai hai hai'\n",
    "id=[]\n",
    "for i in range(len(str)):\n",
    "    if str[i] =='a':\n",
    "        id.append(i)\n",
    "id \n",
    "\n"
   ]
  },
  {
   "cell_type": "code",
   "execution_count": 67,
   "id": "d4e3f212-df78-4263-9335-f36d96afd07a",
   "metadata": {},
   "outputs": [
    {
     "data": {
      "text/plain": [
       "15"
      ]
     },
     "execution_count": 67,
     "metadata": {},
     "output_type": "execute_result"
    }
   ],
   "source": [
    "sum=0\n",
    "str='hai hai hai'\n",
    "for i in range(len(str)):\n",
    "    if str[i] =='a':\n",
    "        sum=sum+i\n",
    "sum        \n"
   ]
  },
  {
   "cell_type": "code",
   "execution_count": 71,
   "id": "0b6954a1-1793-44a0-a290-909d4c35ae62",
   "metadata": {},
   "outputs": [],
   "source": [
    "#l1=['hyd','mumbai','chennai','blr']\n",
    "#we want elements which are len of element>4\n",
    "#ans:mumbai,chennai\n",
    "\n",
    "#l1=['hyd','mum#bai','chen#nai','blr']\n",
    "#want elements which include #\n",
    "\n"
   ]
  },
  {
   "cell_type": "code",
   "execution_count": 83,
   "id": "6fe6b73a-06a5-42f0-889f-b5dd319e360f",
   "metadata": {},
   "outputs": [
    {
     "name": "stdout",
     "output_type": "stream",
     "text": [
      "hyd\n",
      "mumbai\n",
      "chennai\n"
     ]
    }
   ],
   "source": [
    "l1=['hyd','mumbai','chennai','blr']\n",
    "count=0\n",
    "for i in range (len(l1)):\n",
    "    if l1[i]>l1[3]:\n",
    "        count=count+1\n",
    "        print(l1[i])"
   ]
  },
  {
   "cell_type": "markdown",
   "id": "47601df5-b455-4531-8b18-0a741a161cfa",
   "metadata": {},
   "source": [
    "**split-join**"
   ]
  },
  {
   "cell_type": "markdown",
   "id": "5d129672-2ff9-4be4-8d9b-caad4c74cd25",
   "metadata": {},
   "source": [
    "- split apply for string , to divide the words or characters\n",
    "\n",
    "- when we split the elements will be stored in list"
   ]
  },
  {
   "cell_type": "code",
   "execution_count": 1,
   "id": "e7b8abf7-7758-4bd2-8260-2ca6a56b9a15",
   "metadata": {},
   "outputs": [
    {
     "data": {
      "text/plain": [
       "'Hello Im Learning Python'"
      ]
     },
     "execution_count": 1,
     "metadata": {},
     "output_type": "execute_result"
    }
   ],
   "source": [
    "str1=\"hello im learning python\"\n",
    "words=str1.split()\n",
    "new_words=[]\n",
    "for i in words:\n",
    "    new_words.append(i.capitalize())\n",
    "' '.join(new_words)    "
   ]
  },
  {
   "cell_type": "code",
   "execution_count": 5,
   "id": "5f965c00-1cc3-48a2-96ab-13e36919149a",
   "metadata": {},
   "outputs": [
    {
     "name": "stdin",
     "output_type": "stream",
     "text": [
      "what is captial of India delhi\n",
      "Who is PM of india modi\n",
      "who is ICT ODI captain virat\n"
     ]
    },
    {
     "name": "stdout",
     "output_type": "stream",
     "text": [
      "total marks: 2\n"
     ]
    }
   ],
   "source": [
    "qns=['what is captial of India',\n",
    "     'Who is PM of india',\n",
    "     'who is ICT ODI captain']\n",
    "ans=['Delhi','modi','rohith']\n",
    "marks=0\n",
    "for i in range(len(qns)):\n",
    "    a=input(qns[i])\n",
    "    \n",
    "    if a.lower()==ans[i].lower():\n",
    "        marks=marks+1\n",
    "print(\"total marks:\",marks)        "
   ]
  },
  {
   "cell_type": "code",
   "execution_count": 6,
   "id": "d050b003-d51f-4b38-8691-78eeb821acfc",
   "metadata": {},
   "outputs": [
    {
     "data": {
      "text/plain": [
       "['__add__',\n",
       " '__class__',\n",
       " '__class_getitem__',\n",
       " '__contains__',\n",
       " '__delattr__',\n",
       " '__delitem__',\n",
       " '__dir__',\n",
       " '__doc__',\n",
       " '__eq__',\n",
       " '__format__',\n",
       " '__ge__',\n",
       " '__getattribute__',\n",
       " '__getitem__',\n",
       " '__getstate__',\n",
       " '__gt__',\n",
       " '__hash__',\n",
       " '__iadd__',\n",
       " '__imul__',\n",
       " '__init__',\n",
       " '__init_subclass__',\n",
       " '__iter__',\n",
       " '__le__',\n",
       " '__len__',\n",
       " '__lt__',\n",
       " '__mul__',\n",
       " '__ne__',\n",
       " '__new__',\n",
       " '__reduce__',\n",
       " '__reduce_ex__',\n",
       " '__repr__',\n",
       " '__reversed__',\n",
       " '__rmul__',\n",
       " '__setattr__',\n",
       " '__setitem__',\n",
       " '__sizeof__',\n",
       " '__str__',\n",
       " '__subclasshook__',\n",
       " 'append',\n",
       " 'clear',\n",
       " 'copy',\n",
       " 'count',\n",
       " 'extend',\n",
       " 'index',\n",
       " 'insert',\n",
       " 'pop',\n",
       " 'remove',\n",
       " 'reverse',\n",
       " 'sort']"
      ]
     },
     "execution_count": 6,
     "metadata": {},
     "output_type": "execute_result"
    }
   ],
   "source": [
    "dir(list)"
   ]
  },
  {
   "cell_type": "code",
   "execution_count": null,
   "id": "5949759c-955f-4d8b-933d-8af867d17cc8",
   "metadata": {},
   "outputs": [],
   "source": [
    "'clear',\n",
    " 'copy',\n",
    " 'count',\n",
    " 'extend',\n",
    " 'index',\n",
    " 'insert',\n",
    " 'pop',\n",
    " 'remove',\n",
    " 'reverse',\n",
    " 'sort'"
   ]
  },
  {
   "cell_type": "code",
   "execution_count": 21,
   "id": "23bf78c6-996a-4024-b0c5-1c5eeeb98132",
   "metadata": {},
   "outputs": [
    {
     "name": "stdout",
     "output_type": "stream",
     "text": [
      "[2, 1, 3, 4]\n"
     ]
    }
   ],
   "source": [
    "list=[2,1,3]\n",
    "list.append(4)\n",
    "print(list)"
   ]
  },
  {
   "cell_type": "code",
   "execution_count": 26,
   "id": "59a3d51a-bfab-43ca-bdd8-08c8d2db0f6a",
   "metadata": {},
   "outputs": [
    {
     "name": "stdout",
     "output_type": "stream",
     "text": [
      "[4, 3, 2, 1]\n"
     ]
    }
   ],
   "source": [
    "list.reverse()\n",
    "print(list)"
   ]
  },
  {
   "cell_type": "code",
   "execution_count": 27,
   "id": "57f2922f-35f5-4ca7-bb29-d6562f2a122e",
   "metadata": {},
   "outputs": [
    {
     "name": "stdout",
     "output_type": "stream",
     "text": [
      "[1, 2, 3, 4]\n"
     ]
    }
   ],
   "source": [
    "list.sort()\n",
    "print(list)"
   ]
  },
  {
   "cell_type": "code",
   "execution_count": 28,
   "id": "be8fcff1-707f-4475-a08c-7e45a274f657",
   "metadata": {},
   "outputs": [
    {
     "name": "stdout",
     "output_type": "stream",
     "text": [
      "[4, 3, 2, 1]\n"
     ]
    }
   ],
   "source": [
    "list.sort(reverse=True)\n",
    "print(list)"
   ]
  },
  {
   "cell_type": "code",
   "execution_count": 30,
   "id": "36a8ad41-6187-4f15-9a1c-de07697e1d72",
   "metadata": {},
   "outputs": [
    {
     "data": {
      "text/plain": [
       "[4, 3, 2]"
      ]
     },
     "execution_count": 30,
     "metadata": {},
     "output_type": "execute_result"
    }
   ],
   "source": [
    "list.remove(1)\n",
    "list"
   ]
  },
  {
   "cell_type": "code",
   "execution_count": 31,
   "id": "f83f0df0-2f12-41bf-b987-94d61b967180",
   "metadata": {},
   "outputs": [
    {
     "data": {
      "text/plain": [
       "[4, 3]"
      ]
     },
     "execution_count": 31,
     "metadata": {},
     "output_type": "execute_result"
    }
   ],
   "source": [
    "list.pop()\n",
    "list"
   ]
  },
  {
   "cell_type": "code",
   "execution_count": 32,
   "id": "491601bc-b2d0-467b-9a04-140d9d90a3d6",
   "metadata": {},
   "outputs": [
    {
     "data": {
      "text/plain": [
       "[3]"
      ]
     },
     "execution_count": 32,
     "metadata": {},
     "output_type": "execute_result"
    }
   ],
   "source": [
    "list.pop(0)#(value) represents index value of list\n",
    "list"
   ]
  },
  {
   "cell_type": "code",
   "execution_count": 34,
   "id": "15df103d-eb60-47f6-802e-35d716e71e84",
   "metadata": {},
   "outputs": [
    {
     "data": {
      "text/plain": [
       "[3, 10, 40, 30, 10, 40, 30]"
      ]
     },
     "execution_count": 34,
     "metadata": {},
     "output_type": "execute_result"
    }
   ],
   "source": [
    "list.append(10)\n",
    "list.append(40)\n",
    "list.append(30)\n",
    "list"
   ]
  },
  {
   "cell_type": "code",
   "execution_count": 35,
   "id": "f3b6e6dc-51c0-4986-bef8-2487e31dff72",
   "metadata": {},
   "outputs": [
    {
     "data": {
      "text/plain": [
       "10"
      ]
     },
     "execution_count": 35,
     "metadata": {},
     "output_type": "execute_result"
    }
   ],
   "source": [
    "list.pop(4)"
   ]
  },
  {
   "cell_type": "code",
   "execution_count": 36,
   "id": "a38cb1af-f56a-4381-aa26-7faff8c72589",
   "metadata": {},
   "outputs": [
    {
     "data": {
      "text/plain": [
       "40"
      ]
     },
     "execution_count": 36,
     "metadata": {},
     "output_type": "execute_result"
    }
   ],
   "source": [
    "list.pop(4)"
   ]
  },
  {
   "cell_type": "code",
   "execution_count": 37,
   "id": "57b0ceef-a6a8-4a18-a798-a367d26863ee",
   "metadata": {},
   "outputs": [
    {
     "data": {
      "text/plain": [
       "30"
      ]
     },
     "execution_count": 37,
     "metadata": {},
     "output_type": "execute_result"
    }
   ],
   "source": [
    "list.pop(4)"
   ]
  },
  {
   "cell_type": "code",
   "execution_count": 38,
   "id": "1e0cfb01-6067-4822-b801-8bd0b0628cc0",
   "metadata": {},
   "outputs": [
    {
     "data": {
      "text/plain": [
       "[3, 10, 40, 30]"
      ]
     },
     "execution_count": 38,
     "metadata": {},
     "output_type": "execute_result"
    }
   ],
   "source": [
    "list"
   ]
  },
  {
   "cell_type": "code",
   "execution_count": 48,
   "id": "9f197c5e-100c-4457-81e9-24cdfff37490",
   "metadata": {},
   "outputs": [
    {
     "data": {
      "text/plain": [
       "[3, 5, 5, 10, 40, 100, 30]"
      ]
     },
     "execution_count": 48,
     "metadata": {},
     "output_type": "execute_result"
    }
   ],
   "source": [
    "list.insert(5,100) #(index,value)\n",
    "list"
   ]
  },
  {
   "cell_type": "markdown",
   "id": "4f399a68-479f-4803-916a-70c5086883aa",
   "metadata": {},
   "source": [
    "**copy**"
   ]
  },
  {
   "cell_type": "code",
   "execution_count": 45,
   "id": "6ea1cecb-2566-4bd9-8944-3729d7f4a70c",
   "metadata": {},
   "outputs": [
    {
     "data": {
      "text/plain": [
       "[1, 2, 3, 100, 200, 80, 60]"
      ]
     },
     "execution_count": 45,
     "metadata": {},
     "output_type": "execute_result"
    }
   ],
   "source": [
    "l1=[1,2,3,100,200,80,60]\n",
    "l2=l1.copy()\n",
    "l2"
   ]
  },
  {
   "cell_type": "code",
   "execution_count": 46,
   "id": "d29afcd3-7f65-456b-b5c9-2be50a5d521b",
   "metadata": {},
   "outputs": [
    {
     "data": {
      "text/plain": [
       "([1, 2, 3, 100, 200, 80, 60], [1, 2, 3, 100, 200, 80, 60])"
      ]
     },
     "execution_count": 46,
     "metadata": {},
     "output_type": "execute_result"
    }
   ],
   "source": [
    "l1,l2"
   ]
  },
  {
   "cell_type": "markdown",
   "id": "a55174ff-61db-4721-baaf-c11d0d4f1b2c",
   "metadata": {},
   "source": [
    "**clear**"
   ]
  },
  {
   "cell_type": "code",
   "execution_count": 49,
   "id": "bd855d6b-4cc9-4bb8-b535-1c90c327b82b",
   "metadata": {},
   "outputs": [
    {
     "data": {
      "text/plain": [
       "[]"
      ]
     },
     "execution_count": 49,
     "metadata": {},
     "output_type": "execute_result"
    }
   ],
   "source": [
    "l1.clear()\n",
    "l1"
   ]
  },
  {
   "cell_type": "code",
   "execution_count": 50,
   "id": "152494e8-b57a-4a71-90c1-26c8128d7916",
   "metadata": {},
   "outputs": [
    {
     "data": {
      "text/plain": [
       "[1, 2, 3, 100, 200, 80, 60]"
      ]
     },
     "execution_count": 50,
     "metadata": {},
     "output_type": "execute_result"
    }
   ],
   "source": [
    "l2"
   ]
  },
  {
   "cell_type": "markdown",
   "id": "e76388ec-53ca-4c08-b2ce-be4bb46b5667",
   "metadata": {},
   "source": [
    "**append-extend-concatenation-insert**"
   ]
  },
  {
   "cell_type": "code",
   "execution_count": 56,
   "id": "787566f0-6b5a-4daa-bc5b-17e860872aed",
   "metadata": {},
   "outputs": [
    {
     "name": "stdout",
     "output_type": "stream",
     "text": [
      "[1, 2, 3, 4, 'A', 'B', 'C', 'D']\n",
      "['A', 'B', 'C', 'D']\n"
     ]
    }
   ],
   "source": [
    "l1=[1,2,3,4]\n",
    "l2=['A','B','C','D']\n",
    "l1.extend(l2)#extends both the list and store in l1\n",
    "print(l1)\n",
    "print(l2)"
   ]
  },
  {
   "cell_type": "code",
   "execution_count": 61,
   "id": "7a5e3735-2b25-4fcb-a0f5-8781ca780d9d",
   "metadata": {},
   "outputs": [
    {
     "name": "stdout",
     "output_type": "stream",
     "text": [
      "[1, 2, 3, 4, 'A', 'B', 'C', 'D']\n",
      "['A', 'B', 'C', 'D', 1, 2, 3, 4]\n",
      "[1, 2, 3, 4]\n",
      "['A', 'B', 'C', 'D']\n"
     ]
    }
   ],
   "source": [
    "l1=[1,2,3,4]\n",
    "l2=['A','B','C','D']\n",
    "print(l1+l2)\n",
    "print(l2+l1)#both extend and concatenation results same but output is not stored in l1\n",
    "print(l1)\n",
    "print(l2)"
   ]
  },
  {
   "cell_type": "code",
   "execution_count": 64,
   "id": "71b01519-d1b7-4c65-83c6-e0b52e3119cd",
   "metadata": {},
   "outputs": [
    {
     "name": "stdout",
     "output_type": "stream",
     "text": [
      "[1, 2, 3, 4, ['A', 'B', 'C', 'D']]\n",
      "['A', 'B', 'C', 'D']\n"
     ]
    }
   ],
   "source": [
    "l5=[1,2,3,4]\n",
    "l6=['A','B','C','D']\n",
    "l5.append(l6)\n",
    "print(l5)\n",
    "print(l6) #l5 overwrites with l6"
   ]
  },
  {
   "cell_type": "code",
   "execution_count": 66,
   "id": "2f3582f2-8d17-45e2-8be5-8508d19be2e0",
   "metadata": {},
   "outputs": [
    {
     "data": {
      "text/plain": [
       "[1, 2, 3, 4, 'a', 'p', 'p', 'l', 'e']"
      ]
     },
     "execution_count": 66,
     "metadata": {},
     "output_type": "execute_result"
    }
   ],
   "source": [
    "l1=[1,2,3,4]\n",
    "l1.extend('apple')\n",
    "l1"
   ]
  },
  {
   "cell_type": "code",
   "execution_count": 67,
   "id": "71f3d600-13c0-4c7e-8819-a476d1ed6984",
   "metadata": {},
   "outputs": [
    {
     "ename": "TypeError",
     "evalue": "list.extend() takes exactly one argument (3 given)",
     "output_type": "error",
     "traceback": [
      "\u001b[1;31m---------------------------------------------------------------------------\u001b[0m",
      "\u001b[1;31mTypeError\u001b[0m                                 Traceback (most recent call last)",
      "Cell \u001b[1;32mIn[67], line 2\u001b[0m\n\u001b[0;32m      1\u001b[0m l1\u001b[38;5;241m=\u001b[39m[\u001b[38;5;241m1\u001b[39m,\u001b[38;5;241m2\u001b[39m,\u001b[38;5;241m3\u001b[39m]\n\u001b[1;32m----> 2\u001b[0m l1\u001b[38;5;241m.\u001b[39mextend(\u001b[38;5;241m10\u001b[39m,\u001b[38;5;241m20\u001b[39m,\u001b[38;5;241m30\u001b[39m)\n\u001b[0;32m      3\u001b[0m l1\n",
      "\u001b[1;31mTypeError\u001b[0m: list.extend() takes exactly one argument (3 given)"
     ]
    }
   ],
   "source": [
    "l1=[1,2,3]\n",
    "l1.extend(10,20,30)\n",
    "l1 #extend allows on;y one argument so we can write as [10,20,30] ,(10,20,30)"
   ]
  },
  {
   "cell_type": "code",
   "execution_count": 68,
   "id": "2eb07444-1289-4f62-9f40-275ae9ce954b",
   "metadata": {},
   "outputs": [
    {
     "data": {
      "text/plain": [
       "[1, 2, 3, 10, 20, 30]"
      ]
     },
     "execution_count": 68,
     "metadata": {},
     "output_type": "execute_result"
    }
   ],
   "source": [
    "l1=[1,2,3]\n",
    "l1.extend([10,20,30])\n",
    "l1"
   ]
  },
  {
   "cell_type": "code",
   "execution_count": 69,
   "id": "f52c2371-0c4d-41d8-9160-5d1e55a38d09",
   "metadata": {},
   "outputs": [
    {
     "data": {
      "text/plain": [
       "[1, 2, 3, 10, 20, 30]"
      ]
     },
     "execution_count": 69,
     "metadata": {},
     "output_type": "execute_result"
    }
   ],
   "source": [
    "l1=[1,2,3]\n",
    "l1.extend((10,20,30))\n",
    "l1"
   ]
  },
  {
   "cell_type": "markdown",
   "id": "e2703415-1108-4a41-b0e8-92283270b44d",
   "metadata": {},
   "source": [
    "**index**"
   ]
  },
  {
   "cell_type": "code",
   "execution_count": 70,
   "id": "f9574ec1-d4ad-4027-a208-f952ebfbd39b",
   "metadata": {},
   "outputs": [
    {
     "data": {
      "text/plain": [
       "3"
      ]
     },
     "execution_count": 70,
     "metadata": {},
     "output_type": "execute_result"
    }
   ],
   "source": [
    "l1=[1, 2, 3, 10, 20, 30]\n",
    "l1.index(10)"
   ]
  },
  {
   "cell_type": "code",
   "execution_count": 71,
   "id": "25a3930f-07db-44ca-b39a-4c42cb9b769d",
   "metadata": {},
   "outputs": [
    {
     "data": {
      "text/plain": [
       "3"
      ]
     },
     "execution_count": 71,
     "metadata": {},
     "output_type": "execute_result"
    }
   ],
   "source": [
    "l1=[1, 2, 3,'apple', 10, 20, 30]\n",
    "l1.index('apple')"
   ]
  },
  {
   "cell_type": "code",
   "execution_count": 72,
   "id": "aa8b7b50-b0f7-4fbf-bda1-4de9dcf508e3",
   "metadata": {},
   "outputs": [
    {
     "data": {
      "text/plain": [
       "3"
      ]
     },
     "execution_count": 72,
     "metadata": {},
     "output_type": "execute_result"
    }
   ],
   "source": [
    "l1=[1, 2, 3,'apple', 10, 20,'apple', 30]\n",
    "l1.index('apple')"
   ]
  },
  {
   "cell_type": "code",
   "execution_count": 78,
   "id": "c02cd3e8-8b48-4200-8a83-9ce248b5a709",
   "metadata": {},
   "outputs": [
    {
     "name": "stdout",
     "output_type": "stream",
     "text": [
      "3 first apple idx\n",
      "6 second apple idx\n",
      "3\n"
     ]
    }
   ],
   "source": [
    "i1=l1.index('apple')\n",
    "i2=l1.index('apple',i1+1)\n",
    "i3=l1.index('apple',2,5)\n",
    "print(i1,'first apple idx')\n",
    "print(i2,'second apple idx')\n",
    "print(i3)"
   ]
  },
  {
   "cell_type": "markdown",
   "id": "df1c5724-f330-447e-802e-a6e0819e4447",
   "metadata": {},
   "source": [
    "**insert**"
   ]
  },
  {
   "cell_type": "markdown",
   "id": "130b0683-890c-4a9b-bc9e-a08a760a0ee1",
   "metadata": {},
   "source": [
    "- will insert element based on index\n",
    "\n",
    "- append will add the element at last only"
   ]
  },
  {
   "cell_type": "code",
   "execution_count": 2,
   "id": "bdf063f8-73eb-460f-ba90-143069527a1f",
   "metadata": {},
   "outputs": [
    {
     "data": {
      "text/plain": [
       "[1, 2, 3, 'banana', 'apple', 10, 20, 'apple', 30]"
      ]
     },
     "execution_count": 2,
     "metadata": {},
     "output_type": "execute_result"
    }
   ],
   "source": [
    "l1=[1, 2, 3,'apple', 10, 20,'apple', 30]\n",
    "l1.insert(3,'banana')\n",
    "l1"
   ]
  },
  {
   "cell_type": "code",
   "execution_count": 6,
   "id": "cb66f289-e96d-45de-b47c-65bbd84f8028",
   "metadata": {},
   "outputs": [
    {
     "data": {
      "text/plain": [
       "[1, 2, 3, 'kivi', 'apple', 10, 20, 'apple', 30]"
      ]
     },
     "execution_count": 6,
     "metadata": {},
     "output_type": "execute_result"
    }
   ],
   "source": [
    "[1, 2, 3, 'banana', 'apple', 10, 20, 'apple', 30]\n",
    "i1=l1.index('apple')\n",
    "l1.insert(i1,'kivi')\n",
    "l1"
   ]
  },
  {
   "cell_type": "code",
   "execution_count": 7,
   "id": "1d809583-3f61-43d4-99ad-7816c8d5765b",
   "metadata": {},
   "outputs": [
    {
     "data": {
      "text/plain": [
       "[1, 2, 3, 'apple', 10, 20, 'apple', 'Cherry', 30]"
      ]
     },
     "execution_count": 7,
     "metadata": {},
     "output_type": "execute_result"
    }
   ],
   "source": [
    "l1=[1, 2, 3,'apple', 10, 20,'apple', 30]\n",
    "i1=l1.index(30)\n",
    "l1.insert(i1,'Cherry')\n",
    "l1"
   ]
  },
  {
   "cell_type": "code",
   "execution_count": 16,
   "id": "a7598df1-b472-44ee-8a2a-45c191f965b5",
   "metadata": {},
   "outputs": [
    {
     "name": "stdout",
     "output_type": "stream",
     "text": [
      "6\n"
     ]
    },
    {
     "data": {
      "text/plain": [
       "[1, 2, 3, 'apple', 10, 20, 'cherry', 'apple', 30]"
      ]
     },
     "execution_count": 16,
     "metadata": {},
     "output_type": "execute_result"
    }
   ],
   "source": [
    "l1=[1, 2, 3,'apple', 10, 20,'apple', 30]\n",
    "a=l1.index('apple')\n",
    "print(l1.index('apple',a+1))\n",
    "l1.insert(6,'cherry')\n",
    "l1"
   ]
  },
  {
   "cell_type": "markdown",
   "id": "6b393d29-a5bc-4001-9483-723af16d7fec",
   "metadata": {},
   "source": [
    "**pop-remove-del**"
   ]
  },
  {
   "cell_type": "markdown",
   "id": "a4908f5c-f09a-4407-a0dd-110505a945f5",
   "metadata": {},
   "source": [
    "- pop will remove the item\n",
    "\n",
    "- pop also display the item which is removing\n",
    "\n",
    "- pop will take one argument : index\n",
    "\n",
    "- pop will remove the item based on index\n",
    "\n",
    "- if you dont provide any index, by default it will remove last value\n",
    "\n",
    "- because the default index value is -1"
   ]
  },
  {
   "cell_type": "code",
   "execution_count": 20,
   "id": "3015e60a-afae-4c30-9516-1dffff6f5248",
   "metadata": {},
   "outputs": [
    {
     "data": {
      "text/plain": [
       "[1, 2, 3, 'apple', 10, 20, 'apple']"
      ]
     },
     "execution_count": 20,
     "metadata": {},
     "output_type": "execute_result"
    }
   ],
   "source": [
    "l1=[1, 2, 3,'apple', 10, 20,'apple', 30]\n",
    "l1.pop()\n",
    "l1"
   ]
  },
  {
   "cell_type": "code",
   "execution_count": 37,
   "id": "234e5802-b141-4ad2-bef9-48e1f5f635a1",
   "metadata": {},
   "outputs": [
    {
     "data": {
      "text/plain": [
       "[1, 2, 3, 10, 20, 'apple']"
      ]
     },
     "execution_count": 37,
     "metadata": {},
     "output_type": "execute_result"
    }
   ],
   "source": [
    "l5=[1, 2, 3, 'apple', 10, 20, 'apple'] #removes fisrt apple\n",
    "i1=l5.index('apple')\n",
    "l5.pop(i1)\n",
    "l5"
   ]
  },
  {
   "cell_type": "code",
   "execution_count": 35,
   "id": "5fea7f9b-c02d-483b-99b9-eb6ffa651161",
   "metadata": {},
   "outputs": [
    {
     "name": "stdout",
     "output_type": "stream",
     "text": [
      "3\n"
     ]
    },
    {
     "data": {
      "text/plain": [
       "[1, 2, 3, 'apple', 10, 20]"
      ]
     },
     "execution_count": 35,
     "metadata": {},
     "output_type": "execute_result"
    }
   ],
   "source": [
    "a=[1, 2, 3, 'apple', 10, 20, 'apple'] #removes second apple\n",
    "i1=a.index('apple')\n",
    "print(i1)\n",
    "i2=a.index('apple',i1+1)\n",
    "a.pop(i2)\n",
    "a"
   ]
  },
  {
   "cell_type": "code",
   "execution_count": 39,
   "id": "f5b5d175-981f-4c98-bfb4-e53b2be3b983",
   "metadata": {},
   "outputs": [
    {
     "data": {
      "text/plain": [
       "[1, 2, 3, 10, 20, 30]"
      ]
     },
     "execution_count": 39,
     "metadata": {},
     "output_type": "execute_result"
    }
   ],
   "source": [
    "#removing both apples at a time\n",
    "l1=[1, 2, 3,'apple', 10, 20,'apple', 30]\n",
    "i1=l1.index('apple')\n",
    "l1.pop(i1) #first apple removed here\n",
    "#################\n",
    "i1=l1.index('apple')\n",
    "l1.pop(i1)\n",
    "l1"
   ]
  },
  {
   "cell_type": "code",
   "execution_count": 49,
   "id": "07a00387-342e-40d5-bf01-21b1e958a35c",
   "metadata": {},
   "outputs": [
    {
     "name": "stdout",
     "output_type": "stream",
     "text": [
      "[1, 2, 3, 10, 20, 'apple', 30]\n",
      "[1, 2, 3, 10, 20, 30]\n",
      "[1, 2, 3, 10, 20, 30]\n"
     ]
    }
   ],
   "source": [
    "l1=[1, 2, 3,'apple', 10, 20,'apple', 30]\n",
    "for i in range(2):\n",
    "    i1=l1.index('apple')\n",
    "    l1.pop(i1)\n",
    "    print(l1)\n",
    "print(l1)    "
   ]
  },
  {
   "cell_type": "code",
   "execution_count": 53,
   "id": "9f95102a-bc8e-45a4-b495-bad9cf0882d7",
   "metadata": {},
   "outputs": [
    {
     "data": {
      "text/plain": [
       "'hai how are you im good thank you'"
      ]
     },
     "execution_count": 53,
     "metadata": {},
     "output_type": "execute_result"
    }
   ],
   "source": [
    "string='hai apple how are you apple im good apple thank you apple'\n",
    "list1=string.split(' ')\n",
    "count=list1.count('apple')\n",
    "for i in range(count):\n",
    "    i1=list1.index('apple')\n",
    "    list1.pop(i1)\n",
    "' '.join(list1)    \n",
    "    "
   ]
  },
  {
   "cell_type": "markdown",
   "id": "44f6f6e6-b0f1-41c8-af91-09f378c2dbf2",
   "metadata": {},
   "source": [
    "**remove**"
   ]
  },
  {
   "cell_type": "markdown",
   "id": "d81c03ac-6d86-40b6-af7f-183d2ab25724",
   "metadata": {},
   "source": [
    "- pop will take the index\n",
    "\n",
    "- remove will take value\n",
    "\n",
    "- remove deletes the first occurance of value"
   ]
  },
  {
   "cell_type": "code",
   "execution_count": 58,
   "id": "31de62ba-7cd5-41b6-a343-f98ecdf315f7",
   "metadata": {},
   "outputs": [
    {
     "data": {
      "text/plain": [
       "[1, 2, 3, 10, 20, 'apple', 30]"
      ]
     },
     "execution_count": 58,
     "metadata": {},
     "output_type": "execute_result"
    }
   ],
   "source": [
    "l1=[1, 2, 3,'apple', 10, 20,'apple', 30]\n",
    "l1.remove('apple')\n",
    "l1"
   ]
  },
  {
   "cell_type": "markdown",
   "id": "34942197-e4eb-4e1b-b049-b63cfaff7e41",
   "metadata": {},
   "source": [
    "**del**"
   ]
  },
  {
   "cell_type": "code",
   "execution_count": 1,
   "id": "5bfa9a8b-3703-40e1-a0ea-826a74b9f136",
   "metadata": {},
   "outputs": [
    {
     "data": {
      "text/plain": [
       "[1, 2, 3, 10, 20, 'apple', 30]"
      ]
     },
     "execution_count": 1,
     "metadata": {},
     "output_type": "execute_result"
    }
   ],
   "source": [
    "l1=[1, 2, 3,'apple', 10, 20,'apple', 30]\n",
    "del(l1[3])\n",
    "l1"
   ]
  },
  {
   "cell_type": "code",
   "execution_count": null,
   "id": "9d70a94b-4671-449e-9043-4e323e272cd0",
   "metadata": {},
   "outputs": [],
   "source": []
  }
 ],
 "metadata": {
  "kernelspec": {
   "display_name": "Python 3 (ipykernel)",
   "language": "python",
   "name": "python3"
  },
  "language_info": {
   "codemirror_mode": {
    "name": "ipython",
    "version": 3
   },
   "file_extension": ".py",
   "mimetype": "text/x-python",
   "name": "python",
   "nbconvert_exporter": "python",
   "pygments_lexer": "ipython3",
   "version": "3.11.7"
  }
 },
 "nbformat": 4,
 "nbformat_minor": 5
}
