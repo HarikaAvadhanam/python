{
 "cells": [
  {
   "cell_type": "markdown",
   "id": "2f02d48d-7d6b-4bf6-a5f4-3fc119c177b5",
   "metadata": {},
   "source": [
    "**Square of a num**"
   ]
  },
  {
   "cell_type": "code",
   "execution_count": 3,
   "id": "091bc962-e394-41e9-9030-14b48cfd9ae9",
   "metadata": {},
   "outputs": [
    {
     "name": "stdin",
     "output_type": "stream",
     "text": [
      "Enter a number: 5\n"
     ]
    },
    {
     "name": "stdout",
     "output_type": "stream",
     "text": [
      "The square of 5 is 25\n"
     ]
    }
   ],
   "source": [
    "num=eval(input(\"Enter a number:\"))\n",
    "square=num*num\n",
    "print(f\"The square of {num} is {square}\")"
   ]
  },
  {
   "cell_type": "markdown",
   "id": "a37dedfd-3784-4bca-8e40-8340edf5c235",
   "metadata": {},
   "source": [
    "**using sep operator**"
   ]
  },
  {
   "cell_type": "code",
   "execution_count": 5,
   "id": "da82d2de-3c22-40ef-94d9-324f00439c6d",
   "metadata": {},
   "outputs": [
    {
     "name": "stdin",
     "output_type": "stream",
     "text": [
      "Enter a number: 7\n"
     ]
    },
    {
     "name": "stdout",
     "output_type": "stream",
     "text": [
      "7---14---21---28---35\n"
     ]
    }
   ],
   "source": [
    "x=eval(input(\"Enter a number:\"))\n",
    "print(1*x,2*x,3*x,4*x,5*x,sep='---')"
   ]
  },
  {
   "cell_type": "markdown",
   "id": "c52a9fc7-6073-403e-9a3a-86dd741f8d25",
   "metadata": {},
   "source": [
    "**weight in kg to pounds**"
   ]
  },
  {
   "cell_type": "code",
   "execution_count": 7,
   "id": "5c606c54-645b-4d71-87d4-5fe3efacab75",
   "metadata": {},
   "outputs": [
    {
     "name": "stdin",
     "output_type": "stream",
     "text": [
      "enter weight in kgs: 5\n"
     ]
    },
    {
     "name": "stdout",
     "output_type": "stream",
     "text": [
      "11.0\n"
     ]
    }
   ],
   "source": [
    "weight_in_kg=eval(input(\"enter weight in kgs:\"))\n",
    "weight_in_pounds=2.2*weight_in_kg\n",
    "print(weight_in_pounds)"
   ]
  },
  {
   "cell_type": "markdown",
   "id": "c9374d4b-bbda-41b4-be09-57cda836f72a",
   "metadata": {},
   "source": [
    "**average of nums**"
   ]
  },
  {
   "cell_type": "code",
   "execution_count": 8,
   "id": "5735af4c-ac21-455b-b31d-2cfb80bd8b81",
   "metadata": {},
   "outputs": [
    {
     "name": "stdin",
     "output_type": "stream",
     "text": [
      "enter a number 100\n",
      "enter a number 200\n",
      "enter a number 300\n"
     ]
    },
    {
     "name": "stdout",
     "output_type": "stream",
     "text": [
      "the total of three numbers is 600\n",
      "the average of three numbers is 200.0\n"
     ]
    }
   ],
   "source": [
    "num1=eval(input(\"enter a number\"))\n",
    "num2=eval(input(\"enter a number\"))\n",
    "num3=eval(input(\"enter a number\"))\n",
    "total=num1+num2+num3\n",
    "average=total/3\n",
    "print(f\"the total of three numbers is {total}\")\n",
    "print(f\"the average of three numbers is {average}\")"
   ]
  },
  {
   "cell_type": "markdown",
   "id": "b67d088b-81af-4e45-8007-ea1e61102f97",
   "metadata": {},
   "source": [
    "**tip calculator**"
   ]
  },
  {
   "cell_type": "code",
   "execution_count": 10,
   "id": "3582fb9b-c40c-4094-8054-b39d59ae8094",
   "metadata": {},
   "outputs": [
    {
     "name": "stdin",
     "output_type": "stream",
     "text": [
      "enter the amount 500\n",
      "enter tip percent 10\n"
     ]
    },
    {
     "name": "stdout",
     "output_type": "stream",
     "text": [
      "tip amount is 50.0\n",
      "final bill is 550.0\n"
     ]
    }
   ],
   "source": [
    "bill=eval(input(\"enter the amount\"))\n",
    "percent_tip_user_want_to_leave=eval(input(\"enter tip percent\"))\n",
    "tip_amount=bill*(percent_tip_user_want_to_leave/100)\n",
    "final_bill=bill+tip_amount\n",
    "print(f\"tip amount is {tip_amount}\")\n",
    "print(f\"final bill is {final_bill}\")"
   ]
  },
  {
   "cell_type": "markdown",
   "id": "2425da7b-1045-43ce-9f9b-6eaeec0b3067",
   "metadata": {},
   "source": [
    "**add,sum,mul,div of nums**"
   ]
  },
  {
   "cell_type": "code",
   "execution_count": 12,
   "id": "23fee267-a78d-4eba-ac93-50c9230391a3",
   "metadata": {},
   "outputs": [
    {
     "name": "stdin",
     "output_type": "stream",
     "text": [
      "enter a num 200\n",
      "enter a num 20\n"
     ]
    },
    {
     "name": "stdout",
     "output_type": "stream",
     "text": [
      "addition of 200 and 20 is 220 \n",
      "subtraction of 200 and 20 is 180 \n",
      "multiplication of 200 and 20 is 4000 \n",
      "division of 200 and 20 is 10.0 \n"
     ]
    }
   ],
   "source": [
    "num1=eval(input(\"enter a num\"))\n",
    "num2=eval(input(\"enter a num\"))\n",
    "add=num1+num2\n",
    "sub=num1-num2\n",
    "mul=num1*num2\n",
    "div=num1/num2\n",
    "print(f\"addition of {num1} and {num2} is {add} \")\n",
    "print(f\"subtraction of {num1} and {num2} is {sub} \")\n",
    "print(f\"multiplication of {num1} and {num2} is {mul} \")\n",
    "print(f\"division of {num1} and {num2} is {div} \")"
   ]
  },
  {
   "cell_type": "markdown",
   "id": "490dd53e-1599-4b6d-a4db-d16ad9201b38",
   "metadata": {},
   "source": [
    "**area of circle**"
   ]
  },
  {
   "cell_type": "code",
   "execution_count": 14,
   "id": "43ec99fc-8f6d-4927-b0fb-58394005c110",
   "metadata": {},
   "outputs": [
    {
     "name": "stdin",
     "output_type": "stream",
     "text": [
      "enter radius of circle 5\n"
     ]
    },
    {
     "name": "stdout",
     "output_type": "stream",
     "text": [
      "area of circle is 78.5\n"
     ]
    }
   ],
   "source": [
    "radius=eval(input(\"enter radius of circle\"))\n",
    "pi=3.14\n",
    "area_of_circle=pi*radius*radius\n",
    "print(f\"area of circle is {area_of_circle}\")\n",
    "            "
   ]
  },
  {
   "cell_type": "markdown",
   "id": "8d7e4d3d-29f3-4bd4-a124-d6a79c06b2b3",
   "metadata": {},
   "source": [
    "**total bill from dollars to rupees**"
   ]
  },
  {
   "cell_type": "code",
   "execution_count": 17,
   "id": "53565d70-fefe-4a1a-a89e-4ec0bc3fd372",
   "metadata": {},
   "outputs": [
    {
     "name": "stdin",
     "output_type": "stream",
     "text": [
      "enter the amount in dollars 50\n",
      "enter how much indian rupee for one dollar 80\n"
     ]
    },
    {
     "name": "stdout",
     "output_type": "stream",
     "text": [
      "Total bill in rupees is 4000\n"
     ]
    }
   ],
   "source": [
    "bill_amount_in_dollars=eval(input(\"enter the amount in dollars\"))\n",
    "dollar_to_rupee=eval(input(\"enter how much indian rupee for one dollar\"))\n",
    "bill_amount_in_rupees=bill_amount_in_dollars*dollar_to_rupee\n",
    "print(f\"Total bill in rupees is {bill_amount_in_rupees}\")\n"
   ]
  },
  {
   "cell_type": "markdown",
   "id": "a43c8987-77b1-434a-9b16-73dd091669f0",
   "metadata": {},
   "source": [
    "**area of triangle**"
   ]
  },
  {
   "cell_type": "code",
   "execution_count": 26,
   "id": "986f1210-ccd6-4b23-855b-61c5b1be9d15",
   "metadata": {},
   "outputs": [
    {
     "name": "stdin",
     "output_type": "stream",
     "text": [
      "enter base of a triangle 10\n",
      "enter height of triangle 5\n"
     ]
    },
    {
     "name": "stdout",
     "output_type": "stream",
     "text": [
      "area of triangle 25.0 \n"
     ]
    }
   ],
   "source": [
    "base=eval(input(\"enter base of a triangle\"))\n",
    "height=eval(input(\"enter height of triangle\"))\n",
    "area_of_triangle=1/2*(base*height)\n",
    "print(f\"area of triangle {area_of_triangle} \")"
   ]
  },
  {
   "cell_type": "markdown",
   "id": "bc575f9f-646b-4846-94f0-62f5b42a6edd",
   "metadata": {},
   "source": [
    "**area of rectangle**"
   ]
  },
  {
   "cell_type": "code",
   "execution_count": 28,
   "id": "52b01863-1c70-436e-bb7f-93a7a4c20a54",
   "metadata": {},
   "outputs": [
    {
     "name": "stdin",
     "output_type": "stream",
     "text": [
      "enter length of rectangle 20\n",
      "enter breadth of a rectangle 10\n"
     ]
    },
    {
     "name": "stdout",
     "output_type": "stream",
     "text": [
      "area of rectangle with length 20 and breadth 10 is 200\n"
     ]
    }
   ],
   "source": [
    "length=eval(input(\"enter length of rectangle\"))\n",
    "breadth=eval(input(\"enter breadth of a rectangle\"))\n",
    "area=length*breadth\n",
    "print(\"area of rectangle with length {} and breadth {} is {}\".format(length,breadth,area))"
   ]
  },
  {
   "cell_type": "code",
   "execution_count": 32,
   "id": "00d42768-b5ad-42f0-b811-1486b06c1251",
   "metadata": {},
   "outputs": [
    {
     "name": "stdin",
     "output_type": "stream",
     "text": [
      "Father: Hey Baby! \n",
      "Daughter: Hello Daddy \n",
      "Father: I heard your exams are over, what about result \n",
      "Daughter: Yes dad! Results are out. \n",
      "Father: What is the percentage? \n",
      "Daughter: I will give my subject-wise marks, you tell me the percentage \n",
      "Father: Okay! \n",
      "First Language:  100\n",
      "Second Language:  50\n",
      "Third Language:  60\n",
      "Science:  70\n",
      "Maths:  80\n",
      "Daughter: Dad, now tell me how much percentage I got \n",
      "Father: Tell me the max marks of each subject \n",
      "Daughter:  100\n"
     ]
    },
    {
     "name": "stdout",
     "output_type": "stream",
     "text": [
      "Father: You scored 72.0%\n"
     ]
    }
   ],
   "source": [
    "input(\"Father: Hey Baby!\")\n",
    "input(\"Daughter: Hello Daddy\")\n",
    "input(\"Father: I heard your exams are over, what about result\")\n",
    "input(\"Daughter: Yes dad! Results are out.\")\n",
    "input(\"Father: What is the percentage?\")\n",
    "input(\"Daughter: I will give my subject-wise marks, you tell me the percentage\")\n",
    "input(\"Father: Okay!\")\n",
    "sub1 = eval(input(\"First Language: \"))\n",
    "sub2 = eval(input(\"Second Language: \"))\n",
    "sub3 = eval(input(\"Third Language: \"))\n",
    "sub4 = eval(input(\"Science: \"))\n",
    "sub5 = eval(input(\"Maths: \"))\n",
    "input(\"Daughter: Dad, now tell me how much percentage I got\")\n",
    "input(\"Father: Tell me the max marks of each subject\")\n",
    "max_marks = eval(input(\"Daughter: \"))\n",
    "total_marks= sub1 + sub2 + sub3 + sub4 + sub5\n",
    "total_max_marks = 5 * max_marks\n",
    "percentage = (total_marks / total_max_marks) * 100\n",
    "print(f\"Father: You scored {percentage}%\")\n",
    "\n"
   ]
  },
  {
   "cell_type": "markdown",
   "id": "d3b5b412-38ec-4f22-bbb2-bcb1d2c23d06",
   "metadata": {},
   "source": [
    "# "
   ]
  }
 ],
 "metadata": {
  "kernelspec": {
   "display_name": "Python 3 (ipykernel)",
   "language": "python",
   "name": "python3"
  },
  "language_info": {
   "codemirror_mode": {
    "name": "ipython",
    "version": 3
   },
   "file_extension": ".py",
   "mimetype": "text/x-python",
   "name": "python",
   "nbconvert_exporter": "python",
   "pygments_lexer": "ipython3",
   "version": "3.11.7"
  }
 },
 "nbformat": 4,
 "nbformat_minor": 5
}
