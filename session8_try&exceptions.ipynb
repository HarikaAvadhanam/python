{
 "cells": [
  {
   "cell_type": "markdown",
   "id": "53721603-7157-4db9-8590-cc301cc2985e",
   "metadata": {},
   "source": [
    "**try-exception**"
   ]
  },
  {
   "cell_type": "markdown",
   "id": "17113b52-eacc-47d0-8df6-813eb8590514",
   "metadata": {},
   "source": [
    "- generally in real time we will write n number of lines\n",
    "\n",
    "- there is a situation we might get an error , that error might be unknown\n",
    "\n",
    "- this unknown errors does not cause any harm\n",
    "\n",
    "- even though we are getting error we need to proceed further\n",
    "\n",
    "- also we need to catch that error\n",
    "\n",
    "- because we already known python is a sequential process\n",
    "\n",
    "- means the lines will execute step by step\n",
    "\n",
    "- suppose you have an error at particular line,the code execution will stop at that line only\n",
    "\n",
    "- but you know that error is not harmful\n",
    "\n",
    "- so you want to continue the exception"
   ]
  },
  {
   "cell_type": "markdown",
   "id": "74fb9389-6b55-4815-ae4b-910b29c52f00",
   "metadata": {},
   "source": [
    "- try except has two blocks\n",
    "\n",
    "- try block has actual code\n",
    "\n",
    "- except block will catch the error"
   ]
  },
  {
   "cell_type": "code",
   "execution_count": 1,
   "id": "351ae372-a6f9-4c0b-af89-96d7b7d4eaa2",
   "metadata": {},
   "outputs": [
    {
     "name": "stdin",
     "output_type": "stream",
     "text": [
      "enter a num 10\n",
      "enter a num ten\n"
     ]
    },
    {
     "ename": "NameError",
     "evalue": "name 'ten' is not defined",
     "output_type": "error",
     "traceback": [
      "\u001b[1;31m---------------------------------------------------------------------------\u001b[0m",
      "\u001b[1;31mNameError\u001b[0m                                 Traceback (most recent call last)",
      "Cell \u001b[1;32mIn[1], line 2\u001b[0m\n\u001b[0;32m      1\u001b[0m n1\u001b[38;5;241m=\u001b[39m\u001b[38;5;28meval\u001b[39m(\u001b[38;5;28minput\u001b[39m(\u001b[38;5;124m\"\u001b[39m\u001b[38;5;124menter a num\u001b[39m\u001b[38;5;124m\"\u001b[39m))\n\u001b[1;32m----> 2\u001b[0m n2\u001b[38;5;241m=\u001b[39m\u001b[38;5;28meval\u001b[39m(\u001b[38;5;28minput\u001b[39m(\u001b[38;5;124m\"\u001b[39m\u001b[38;5;124menter a num\u001b[39m\u001b[38;5;124m\"\u001b[39m))\n\u001b[0;32m      3\u001b[0m add\u001b[38;5;241m=\u001b[39mn1\u001b[38;5;241m+\u001b[39mn2\n\u001b[0;32m      4\u001b[0m \u001b[38;5;28mprint\u001b[39m(add)\n",
      "File \u001b[1;32m<string>:1\u001b[0m\n",
      "\u001b[1;31mNameError\u001b[0m: name 'ten' is not defined"
     ]
    }
   ],
   "source": [
    "n1=eval(input(\"enter a num\"))\n",
    "n2=eval(input(\"enter a num\"))\n",
    "add=n1+n2\n",
    "print(add)"
   ]
  },
  {
   "cell_type": "code",
   "execution_count": 2,
   "id": "11f0e34d-c397-43cd-8e3a-6ce376365f91",
   "metadata": {},
   "outputs": [
    {
     "name": "stdin",
     "output_type": "stream",
     "text": [
      "enter a num 10\n",
      "enter a num ten\n"
     ]
    },
    {
     "name": "stdout",
     "output_type": "stream",
     "text": [
      "hello\n",
      "getting error\n",
      "check properly\n"
     ]
    }
   ],
   "source": [
    "try:\n",
    "    n1=eval(input(\"enter a num\"))\n",
    "    n2=eval(input(\"enter a num\"))\n",
    "    add=n1+n2\n",
    "    print(add)\n",
    "except:\n",
    "    print(\"hello\")\n",
    "    print(\"getting error\")\n",
    "    print(\"check properly\")"
   ]
  },
  {
   "cell_type": "markdown",
   "id": "29d0947d-468a-4e81-9859-18b27adb9014",
   "metadata": {},
   "source": [
    "**Note**"
   ]
  },
  {
   "cell_type": "markdown",
   "id": "e135ae0a-2250-4530-8058-167727a6be37",
   "metadata": {},
   "source": [
    "- Generally try except block will use to catch the errors"
   ]
  },
  {
   "cell_type": "code",
   "execution_count": 1,
   "id": "7917e53f-a521-44fd-8007-aed9b080c5f9",
   "metadata": {},
   "outputs": [
    {
     "name": "stdin",
     "output_type": "stream",
     "text": [
      "enter the number1: 10\n",
      "enter the number2: 0\n"
     ]
    },
    {
     "name": "stdout",
     "output_type": "stream",
     "text": [
      "the error is division by zero\n"
     ]
    }
   ],
   "source": [
    "try:\n",
    "    n1=eval(input(\"enter the number1:\"))\n",
    "    n2=eval(input(\"enter the number2:\"))\n",
    "    add=n1+n2\n",
    "    div=n1/n2\n",
    "    print(add)\n",
    "except Exception as e:\n",
    "    print(f\"the error is {e}\")"
   ]
  },
  {
   "cell_type": "code",
   "execution_count": 3,
   "id": "5e94954a-ac38-4de6-be40-88ebe57aa14c",
   "metadata": {},
   "outputs": [
    {
     "name": "stdin",
     "output_type": "stream",
     "text": [
      "enter the number: 10\n"
     ]
    },
    {
     "name": "stdout",
     "output_type": "stream",
     "text": [
      "the 10 is even\n"
     ]
    }
   ],
   "source": [
    "num=eval(input(\"enter the number:\"))\n",
    "if num%2==0:\n",
    "    print(f\"the {num} is even\")\n",
    "else:\n",
    "    print(f\"the {num} is odd\")"
   ]
  },
  {
   "cell_type": "code",
   "execution_count": 4,
   "id": "aa2216bd-6ccd-4fdc-b313-eff1b1fb1e47",
   "metadata": {},
   "outputs": [
    {
     "name": "stdin",
     "output_type": "stream",
     "text": [
      "enter the number: ten\n"
     ]
    },
    {
     "name": "stdout",
     "output_type": "stream",
     "text": [
      "name 'ten' is not defined\n"
     ]
    }
   ],
   "source": [
    "try:\n",
    "    num=eval(input(\"enter the number:\"))\n",
    "    if num%2==0:\n",
    "        print(f\"the {num} is even\")\n",
    "    else:\n",
    "        print(f\"the {num} is odd\")\n",
    "except Exception as e:\n",
    "    print(e)"
   ]
  },
  {
   "cell_type": "markdown",
   "id": "942981c8-e2c2-413a-9d8f-30046d5f9d68",
   "metadata": {},
   "source": [
    "# import random\n",
    "try:\n",
    "    start=eval(input(\"enter the start value:\"))\n",
    "    end=eval(input(\"enter the end value:\"))\n",
    "    num=random.randint(start,end)\n",
    "    if num%2==0:\n",
    "        print(f\"the {num} is even\")\n",
    "    else:\n",
    "        print(f\"the {num} is odd\")\n",
    "except Exception as e:\n",
    "    print(e)"
   ]
  },
  {
   "cell_type": "code",
   "execution_count": null,
   "id": "3cfb9552-39b8-472f-a8c6-5e8e49e97323",
   "metadata": {},
   "outputs": [],
   "source": []
  }
 ],
 "metadata": {
  "kernelspec": {
   "display_name": "Python 3 (ipykernel)",
   "language": "python",
   "name": "python3"
  },
  "language_info": {
   "codemirror_mode": {
    "name": "ipython",
    "version": 3
   },
   "file_extension": ".py",
   "mimetype": "text/x-python",
   "name": "python",
   "nbconvert_exporter": "python",
   "pygments_lexer": "ipython3",
   "version": "3.11.7"
  }
 },
 "nbformat": 4,
 "nbformat_minor": 5
}
