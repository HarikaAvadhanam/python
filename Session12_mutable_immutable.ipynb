{
 "cells": [
  {
   "cell_type": "markdown",
   "id": "aaddd6de-8315-4ea4-8dac-9fd796a8ae4a",
   "metadata": {},
   "source": [
    "**mutable-immutable**\n",
    "\n",
    "- mutable: which can be changed\n",
    "\n",
    "- immutable: which cannot be changed through indexing"
   ]
  },
  {
   "cell_type": "code",
   "execution_count": 1,
   "id": "a13b7fac-9e99-4d6f-b26c-5ba1225cd6ae",
   "metadata": {},
   "outputs": [
    {
     "ename": "TypeError",
     "evalue": "'str' object does not support item assignment",
     "output_type": "error",
     "traceback": [
      "\u001b[1;31m---------------------------------------------------------------------------\u001b[0m",
      "\u001b[1;31mTypeError\u001b[0m                                 Traceback (most recent call last)",
      "Cell \u001b[1;32mIn[1], line 2\u001b[0m\n\u001b[0;32m      1\u001b[0m str1\u001b[38;5;241m=\u001b[39m\u001b[38;5;124m\"\u001b[39m\u001b[38;5;124mwelcome\u001b[39m\u001b[38;5;124m\"\u001b[39m\n\u001b[1;32m----> 2\u001b[0m str1[\u001b[38;5;241m2\u001b[39m]\u001b[38;5;241m=\u001b[39m\u001b[38;5;124m'\u001b[39m\u001b[38;5;124mL\u001b[39m\u001b[38;5;124m'\u001b[39m\n",
      "\u001b[1;31mTypeError\u001b[0m: 'str' object does not support item assignment"
     ]
    }
   ],
   "source": [
    "str1=\"welcome\"\n",
    "str1[2]='L'"
   ]
  },
  {
   "cell_type": "markdown",
   "id": "de4b0346-243e-4097-b885-741cae944311",
   "metadata": {},
   "source": [
    "**strings are immutable**"
   ]
  },
  {
   "cell_type": "code",
   "execution_count": 3,
   "id": "86f51807-d0b3-4caa-9289-6cea3d1093e8",
   "metadata": {},
   "outputs": [
    {
     "data": {
      "text/plain": [
       "[1, 200, 3, 4]"
      ]
     },
     "execution_count": 3,
     "metadata": {},
     "output_type": "execute_result"
    }
   ],
   "source": [
    "l=[1,2,3,4]\n",
    "l[1]=200\n",
    "l"
   ]
  },
  {
   "cell_type": "markdown",
   "id": "4e499705-15f8-4452-9e3c-9a0303fb42b4",
   "metadata": {},
   "source": [
    "**list are mutable**"
   ]
  },
  {
   "cell_type": "code",
   "execution_count": 6,
   "id": "07de16ae-c0ad-4b9e-8ab4-dca72c28a2ab",
   "metadata": {},
   "outputs": [
    {
     "name": "stdout",
     "output_type": "stream",
     "text": [
      "w\n",
      "e\n",
      "l\n",
      "c\n",
      "o\n",
      "m\n",
      "e\n"
     ]
    }
   ],
   "source": [
    "s='welcome'\n",
    "for i in s:\n",
    "    print(i)"
   ]
  },
  {
   "cell_type": "code",
   "execution_count": 7,
   "id": "40f330af-0b68-4f60-9a9e-17526c6f5e9d",
   "metadata": {},
   "outputs": [
    {
     "name": "stdout",
     "output_type": "stream",
     "text": [
      "w\n",
      "e\n",
      "l\n",
      "c\n",
      "o\n",
      "m\n",
      "e\n"
     ]
    }
   ],
   "source": [
    "#range belongs to math family\n",
    "#inside brackets we need to provide a num\n",
    "#how many nums we need to provide=len(string)\n",
    "#num of letters = 7\n",
    "#how to access a letter using num\n",
    "s='welcome'\n",
    "for i in range(7):\n",
    "    print(s[i])\n",
    "#i=0  s[0]=w\n",
    "#i=1  s[1]=e"
   ]
  },
  {
   "cell_type": "code",
   "execution_count": 8,
   "id": "2e1d4d9f-0873-49ee-ad70-fc38b87e458b",
   "metadata": {},
   "outputs": [
    {
     "name": "stdout",
     "output_type": "stream",
     "text": [
      "w\n",
      "e\n",
      "l\n",
      "c\n",
      "o\n",
      "m\n",
      "e\n",
      " \n",
      "t\n",
      "o\n",
      " \n",
      "n\n",
      "a\n",
      "r\n",
      "e\n",
      "s\n",
      "h\n",
      " \n",
      "i\n",
      "t\n"
     ]
    }
   ],
   "source": [
    "s=\"welcome to naresh it\"\n",
    "for i in range(len(s)):\n",
    "    print(s[i])"
   ]
  },
  {
   "cell_type": "markdown",
   "id": "c80d00ec-aaa3-4f8a-acf7-af3cbee0e702",
   "metadata": {},
   "source": [
    "- for in directly acess the letters\n",
    "\n",
    "- for range will access using index"
   ]
  },
  {
   "cell_type": "code",
   "execution_count": 1,
   "id": "794ef9d0-e697-4826-9127-90ed6333f2fa",
   "metadata": {},
   "outputs": [],
   "source": [
    "#write a program ask the user irerate using a string\n",
    "#print the positive index of w is 0\n",
    "#      the positive index of e is 1\n",
    "#      the positive index of l is 2\n",
    "\n",
    "#vice versa negative"
   ]
  },
  {
   "cell_type": "code",
   "execution_count": 2,
   "id": "ee916e46-7771-4d12-bac4-d197f0c5617d",
   "metadata": {},
   "outputs": [
    {
     "name": "stdout",
     "output_type": "stream",
     "text": [
      "the positive index of w is 0\n",
      "the positive index of e is 1\n",
      "the positive index of l is 2\n",
      "the positive index of c is 3\n",
      "the positive index of o is 4\n",
      "the positive index of m is 5\n",
      "the positive index of e is 6\n"
     ]
    }
   ],
   "source": [
    "str='welcome'\n",
    "for i in range(len(str)):\n",
    "    print(f\"the positive index of {str[i]} is {i}\")\n",
    "    "
   ]
  },
  {
   "cell_type": "code",
   "execution_count": 7,
   "id": "e79330d7-9e1c-48c5-9a0a-e4e0f0cec6d4",
   "metadata": {},
   "outputs": [
    {
     "name": "stdout",
     "output_type": "stream",
     "text": [
      "0 -7\n",
      "1 -6\n",
      "2 -5\n",
      "3 -4\n",
      "4 -3\n",
      "5 -2\n",
      "6 -1\n"
     ]
    }
   ],
   "source": [
    "str='welcome'\n",
    "for i in range(len(str)):\n",
    "    print(i,i-len(str))\n",
    "#0-7==-7\n",
    "#1-7==-6\n",
    "#2-7==-5\n",
    "....."
   ]
  },
  {
   "cell_type": "code",
   "execution_count": 9,
   "id": "f083a40a-1c57-456a-bb16-e62b9dd6d184",
   "metadata": {},
   "outputs": [
    {
     "name": "stdout",
     "output_type": "stream",
     "text": [
      "the negative index of w is -7\n",
      "the negative index of e is -6\n",
      "the negative index of l is -5\n",
      "the negative index of c is -4\n",
      "the negative index of o is -3\n",
      "the negative index of m is -2\n",
      "the negative index of e is -1\n"
     ]
    }
   ],
   "source": [
    "str='welcome'\n",
    "for i in range(len(str)):\n",
    "    print(f\"the negative index of {str[i]} is {i-len(str)}\")"
   ]
  },
  {
   "cell_type": "code",
   "execution_count": 12,
   "id": "1c75dace-f32f-4b17-8fcf-0fbb426ecbd9",
   "metadata": {},
   "outputs": [
    {
     "name": "stdout",
     "output_type": "stream",
     "text": [
      "the positive index is 0  and the negative index of is -7 for w\n",
      "the positive index is 1  and the negative index of is -6 for e\n",
      "the positive index is 2  and the negative index of is -5 for l\n",
      "the positive index is 3  and the negative index of is -4 for c\n",
      "the positive index is 4  and the negative index of is -3 for o\n",
      "the positive index is 5  and the negative index of is -2 for m\n",
      "the positive index is 6  and the negative index of is -1 for e\n"
     ]
    }
   ],
   "source": [
    "str='welcome'\n",
    "for i in range(len(str)):\n",
    "    print(f\"the positive index is {i}  and the negative index of is {i-len(str)} for {str[i]}\")"
   ]
  },
  {
   "cell_type": "code",
   "execution_count": 13,
   "id": "d3c5a985-86a7-4a20-8f7d-1213d79d8d74",
   "metadata": {},
   "outputs": [],
   "source": [
    "#prgrm ask the user get the index of each a in given string\n",
    "#s='hai how are you im good'"
   ]
  },
  {
   "cell_type": "code",
   "execution_count": 26,
   "id": "f4089c20-f711-4ae4-8ee6-de1df027a766",
   "metadata": {},
   "outputs": [
    {
     "name": "stdout",
     "output_type": "stream",
     "text": [
      "1\n",
      "8\n",
      "18\n"
     ]
    }
   ],
   "source": [
    "s='hai how are you i am good'\n",
    "for i in range(len(s)):\n",
    "    if s[i]=='a':\n",
    "        print(i)\n",
    "        "
   ]
  },
  {
   "cell_type": "code",
   "execution_count": 27,
   "id": "0e312845-84b7-4b67-ac5d-760b5f01f9b1",
   "metadata": {},
   "outputs": [
    {
     "data": {
      "text/plain": [
       "3"
      ]
     },
     "execution_count": 27,
     "metadata": {},
     "output_type": "execute_result"
    }
   ],
   "source": [
    "#count using for range\n",
    "count=0\n",
    "s='hai how are you i am good'\n",
    "for i in range(len(s)):\n",
    "    if s[i]=='a':\n",
    "        count=count+1\n",
    "count        \n",
    "        "
   ]
  },
  {
   "cell_type": "code",
   "execution_count": 28,
   "id": "bbeff418-247e-4723-83d9-594b3e15ae5f",
   "metadata": {},
   "outputs": [
    {
     "data": {
      "text/plain": [
       "27"
      ]
     },
     "execution_count": 28,
     "metadata": {},
     "output_type": "execute_result"
    }
   ],
   "source": [
    "#sum using for range\n",
    "count=0\n",
    "sum=0\n",
    "s='hai how are you i am good'\n",
    "for i in range(len(s)):\n",
    "    if s[i]=='a':\n",
    "        count=count+1\n",
    "        sum=sum+i\n",
    "sum        \n",
    "        "
   ]
  },
  {
   "cell_type": "code",
   "execution_count": 29,
   "id": "aebc8d71-e97d-435a-be43-6213a7cdd501",
   "metadata": {},
   "outputs": [
    {
     "name": "stdout",
     "output_type": "stream",
     "text": [
      "a\n",
      "i\n",
      "o\n",
      "a\n",
      "e\n",
      "o\n",
      "u\n",
      "i\n",
      "a\n",
      "o\n",
      "o\n"
     ]
    }
   ],
   "source": [
    "#vowels for i in range\n",
    "s='hai how are you i am good'\n",
    "for i in range(len(s)):\n",
    "    if s[i] in 'aeiou':\n",
    "        print(s[i])\n",
    "        \n",
    "        "
   ]
  },
  {
   "cell_type": "code",
   "execution_count": 30,
   "id": "5642ba8d-7551-4eeb-aa50-a6eae10a4cea",
   "metadata": {},
   "outputs": [
    {
     "name": "stdout",
     "output_type": "stream",
     "text": [
      "a\n",
      "i\n",
      "o\n",
      "a\n",
      "e\n",
      "o\n",
      "u\n",
      "i\n",
      "a\n",
      "o\n",
      "o\n"
     ]
    },
    {
     "data": {
      "text/plain": [
       "11"
      ]
     },
     "execution_count": 30,
     "metadata": {},
     "output_type": "execute_result"
    }
   ],
   "source": [
    "s='hai how are you i am good'\n",
    "count=0\n",
    "for i in range(len(s)):\n",
    "    if s[i] in 'aeiou':\n",
    "        print(s[i])\n",
    "        count=count+1\n",
    "count        "
   ]
  },
  {
   "cell_type": "code",
   "execution_count": 31,
   "id": "abb91ea6-760c-4ff3-992d-1bcd1482799f",
   "metadata": {},
   "outputs": [
    {
     "name": "stdout",
     "output_type": "stream",
     "text": [
      "a\n",
      "i\n",
      "o\n",
      "e\n",
      "u\n"
     ]
    },
    {
     "data": {
      "text/plain": [
       "5"
      ]
     },
     "execution_count": 31,
     "metadata": {},
     "output_type": "execute_result"
    }
   ],
   "source": [
    "#unique vowels\n",
    "s='hai how are you i am good'\n",
    "s1=''\n",
    "count=0\n",
    "for i in range(len(s)):\n",
    "    if s[i] not in s1: #we are checking the letter is available in s1(it should not)\n",
    "        if s[i] in 'aeiou':# we are checking vowel condition\n",
    "            print(s[i])\n",
    "            s1=s1+s[i] # we need to update the s1\n",
    "            count=count+1\n",
    "count        "
   ]
  },
  {
   "cell_type": "code",
   "execution_count": 33,
   "id": "c452ef58-b7d8-422b-af1d-43ae4be24cc1",
   "metadata": {},
   "outputs": [
    {
     "name": "stdout",
     "output_type": "stream",
     "text": [
      "a\n",
      "i\n",
      "o\n",
      "e\n",
      "u\n"
     ]
    },
    {
     "data": {
      "text/plain": [
       "5"
      ]
     },
     "execution_count": 33,
     "metadata": {},
     "output_type": "execute_result"
    }
   ],
   "source": [
    "s='hai how are you i am good'\n",
    "s1=''\n",
    "count=0\n",
    "for i in range(len(s)):\n",
    "    if s[i] not in s1 and  s[i] in 'aeiou' :\n",
    "            print(s[i])\n",
    "            s1=s1+s[i] # we need to update the s1\n",
    "            count=count+1\n",
    "count        "
   ]
  },
  {
   "cell_type": "code",
   "execution_count": 34,
   "id": "63e9b6c5-38cf-4c05-99d1-fcc03ec206a0",
   "metadata": {},
   "outputs": [],
   "source": [
    "#string ='ola ola ola\" num of ola = ?\n",
    "\n",
    "#string1=\"hello hello hello how how how how are you\" most repeated word = ? ans how\n",
    "\n",
    "#str1=\"hellooooooooooo hhooowww areee u \" ,max len of word:hellooooooooo,min len of word:u\n",
    "\n",
    "#without using sorted sort the letters('hello')\n"
   ]
  },
  {
   "cell_type": "markdown",
   "id": "e3d79a35-8dc3-4f1c-9a7f-d8baea389d6f",
   "metadata": {},
   "source": [
    "**slice**"
   ]
  },
  {
   "cell_type": "markdown",
   "id": "4b46e72e-9ed3-4471-a26d-4579d209024c",
   "metadata": {},
   "source": [
    "- we can cut into pieces\n",
    "\n",
    "- similar to range concept\n",
    "\n",
    "- start , stop , step here also"
   ]
  },
  {
   "cell_type": "code",
   "execution_count": 1,
   "id": "2098f42b-6092-4e42-9eeb-32c95a28396f",
   "metadata": {},
   "outputs": [],
   "source": [
    "str1='hai how are you'"
   ]
  },
  {
   "cell_type": "code",
   "execution_count": null,
   "id": "c852d74a-3d3d-4dc5-bf24-60714c371e9d",
   "metadata": {},
   "outputs": [],
   "source": [
    "-13  -12  -11  -10  -9    -8    -7   -6   -5   -4    -3   -2  -1\n",
    "\n",
    "h     h   a     i    h    o     w     a    r     e    y   o    u\n",
    "\n",
    "0    1     2   3   4   5    6       7   8    9    10   11  12"
   ]
  },
  {
   "cell_type": "markdown",
   "id": "c714950e-9831-4b9d-882a-0acbd89a50a2",
   "metadata": {},
   "source": [
    "str1[start:stop:step]\n",
    "\n",
    "**start1[start:]**\n",
    "\n",
    "- by default start value = start value\n",
    "\n",
    "- last value nothing mentioned automatically it will go till = last only\n",
    "\n",
    "- stop method mentinoed means , it is a positiive direction and incremented by 1"
   ]
  },
  {
   "cell_type": "code",
   "execution_count": 2,
   "id": "9580018d-331e-4976-aec2-52489a2c9382",
   "metadata": {},
   "outputs": [
    {
     "data": {
      "text/plain": [
       "'ow are you'"
      ]
     },
     "execution_count": 2,
     "metadata": {},
     "output_type": "execute_result"
    }
   ],
   "source": [
    "str1='hai how are you'\n",
    "str1[5:]"
   ]
  },
  {
   "cell_type": "code",
   "execution_count": 3,
   "id": "911610df-4f95-4e11-ae1f-2a38dfaaa3d1",
   "metadata": {},
   "outputs": [
    {
     "data": {
      "text/plain": [
       "'hai how are '"
      ]
     },
     "execution_count": 3,
     "metadata": {},
     "output_type": "execute_result"
    }
   ],
   "source": [
    "str1='hai how are you'\n",
    "str1[:12]"
   ]
  },
  {
   "cell_type": "code",
   "execution_count": 4,
   "id": "a9504269-9b3c-4ba6-836e-667a55bdfdfd",
   "metadata": {},
   "outputs": [
    {
     "data": {
      "text/plain": [
       "'hai how are you'"
      ]
     },
     "execution_count": 4,
     "metadata": {},
     "output_type": "execute_result"
    }
   ],
   "source": [
    "str1='hai how are you'\n",
    "str1[ : ]"
   ]
  },
  {
   "cell_type": "code",
   "execution_count": 5,
   "id": "cfb3b2bf-3991-4ac6-bfe2-d6ee7caf348c",
   "metadata": {},
   "outputs": [
    {
     "data": {
      "text/plain": [
       "'e you'"
      ]
     },
     "execution_count": 5,
     "metadata": {},
     "output_type": "execute_result"
    }
   ],
   "source": [
    "str1[-5:]"
   ]
  },
  {
   "cell_type": "markdown",
   "id": "7ab93a02-8636-4fb4-aa07-ec7d17860b67",
   "metadata": {},
   "source": [
    "**str1= [start :stop]**\n",
    "\n",
    "- start value means by default start only\n",
    "\n",
    "- step is not mentioned means positive direction\n",
    "\n",
    "- last=stop-1"
   ]
  },
  {
   "cell_type": "code",
   "execution_count": 10,
   "id": "c14bb448-7167-47bc-bba0-a5999c996982",
   "metadata": {},
   "outputs": [
    {
     "data": {
      "text/plain": [
       "'hai how are yo'"
      ]
     },
     "execution_count": 10,
     "metadata": {},
     "output_type": "execute_result"
    }
   ],
   "source": [
    "str1[0:14] #excludes last value"
   ]
  },
  {
   "cell_type": "code",
   "execution_count": 12,
   "id": "0c5fdbb9-7644-436e-a0d7-e4e1b8752940",
   "metadata": {},
   "outputs": [
    {
     "data": {
      "text/plain": [
       "''"
      ]
     },
     "execution_count": 12,
     "metadata": {},
     "output_type": "execute_result"
    }
   ],
   "source": [
    "str1[5:-14]"
   ]
  },
  {
   "cell_type": "code",
   "execution_count": 14,
   "id": "68989bd1-e88e-45b9-bf2d-0a0878077730",
   "metadata": {},
   "outputs": [
    {
     "data": {
      "text/plain": [
       "''"
      ]
     },
     "execution_count": 14,
     "metadata": {},
     "output_type": "execute_result"
    }
   ],
   "source": [
    "str1[-5:-14]"
   ]
  },
  {
   "cell_type": "markdown",
   "id": "33a0bc11-6ff2-4e76-a60f-d67f8e69253b",
   "metadata": {},
   "source": [
    "**step is not mentioned so it moves only iin positive direction so 5 cannot reach -14 and -5 cannot reach -14 as it is moving in positive direction**"
   ]
  },
  {
   "cell_type": "code",
   "execution_count": null,
   "id": "78005370-499e-4589-9cea-3b1c20909943",
   "metadata": {},
   "outputs": [],
   "source": [
    "str1[5:14]\n",
    "str1[-5:14]\n",
    "str1[5:-14]       #  no answer\n",
    "str1[-5:-14]      #  no answer"
   ]
  },
  {
   "cell_type": "code",
   "execution_count": null,
   "id": "cf7e04d0-3f1f-48f5-95c8-0415921ed829",
   "metadata": {},
   "outputs": [],
   "source": []
  }
 ],
 "metadata": {
  "kernelspec": {
   "display_name": "Python 3 (ipykernel)",
   "language": "python",
   "name": "python3"
  },
  "language_info": {
   "codemirror_mode": {
    "name": "ipython",
    "version": 3
   },
   "file_extension": ".py",
   "mimetype": "text/x-python",
   "name": "python",
   "nbconvert_exporter": "python",
   "pygments_lexer": "ipython3",
   "version": "3.11.7"
  }
 },
 "nbformat": 4,
 "nbformat_minor": 5
}
