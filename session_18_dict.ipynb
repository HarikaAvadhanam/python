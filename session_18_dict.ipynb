{
 "cells": [
  {
   "cell_type": "markdown",
   "id": "a29edded-ab5d-4621-8e5b-f509c2c16227",
   "metadata": {},
   "source": [
    "**Dictionary**"
   ]
  },
  {
   "cell_type": "code",
   "execution_count": 3,
   "id": "34f150de-c225-4a90-b037-6410b9dd181f",
   "metadata": {},
   "outputs": [
    {
     "name": "stdout",
     "output_type": "stream",
     "text": [
      "ramesh\n",
      "suresh\n",
      "satish\n"
     ]
    }
   ],
   "source": [
    "names=['ramesh','suresh','satish']\n",
    "age=[20,40,25]\n",
    "for i in names:\n",
    "    print(i)"
   ]
  },
  {
   "cell_type": "markdown",
   "id": "5a9d9511-aafd-4bed-8425-ecd905a7df86",
   "metadata": {},
   "source": [
    "**zip**"
   ]
  },
  {
   "cell_type": "code",
   "execution_count": 4,
   "id": "240ceef0-2173-49d6-a63e-a2d21316499e",
   "metadata": {},
   "outputs": [
    {
     "name": "stdout",
     "output_type": "stream",
     "text": [
      "ramesh 20\n",
      "suresh 40\n",
      "satish 25\n"
     ]
    }
   ],
   "source": [
    "names=['ramesh','suresh','satish']\n",
    "age=[20,40,25]\n",
    "for i , j in zip(names,age):\n",
    "    print(i,j)"
   ]
  },
  {
   "cell_type": "code",
   "execution_count": 5,
   "id": "cc8f69d0-9698-4e76-b4c4-39b4f1e96335",
   "metadata": {},
   "outputs": [
    {
     "data": {
      "text/plain": [
       "[('ramesh', 20), ('suresh', 40), ('satish', 25)]"
      ]
     },
     "execution_count": 5,
     "metadata": {},
     "output_type": "execute_result"
    }
   ],
   "source": [
    "list(zip(names,age))"
   ]
  },
  {
   "cell_type": "code",
   "execution_count": 6,
   "id": "b31c9758-ad21-44e8-9360-947433abdd68",
   "metadata": {},
   "outputs": [
    {
     "data": {
      "text/plain": [
       "{'ramesh': 20, 'suresh': 40, 'satish': 25}"
      ]
     },
     "execution_count": 6,
     "metadata": {},
     "output_type": "execute_result"
    }
   ],
   "source": [
    "dict(zip(names,age))"
   ]
  },
  {
   "cell_type": "code",
   "execution_count": null,
   "id": "c9b48248-aa9c-4bdd-8d50-1fd1d88d5a79",
   "metadata": {},
   "outputs": [],
   "source": [
    "dict1={<key>:<vale>}"
   ]
  },
  {
   "cell_type": "code",
   "execution_count": 7,
   "id": "7f5ece18-974c-44a7-bfc9-db44e4c2a915",
   "metadata": {},
   "outputs": [
    {
     "data": {
      "text/plain": [
       "dict"
      ]
     },
     "execution_count": 7,
     "metadata": {},
     "output_type": "execute_result"
    }
   ],
   "source": [
    "dict1={'ramesh': 20, 'suresh': 40, 'satish': 25}\n",
    "type(dict1)"
   ]
  },
  {
   "cell_type": "code",
   "execution_count": 8,
   "id": "d4da1ba9-fbbf-432d-a26d-cdbaf985dc5b",
   "metadata": {},
   "outputs": [
    {
     "data": {
      "text/plain": [
       "['ramesh', 'suresh', 'satish']"
      ]
     },
     "execution_count": 8,
     "metadata": {},
     "output_type": "execute_result"
    }
   ],
   "source": [
    "list(dict1)"
   ]
  },
  {
   "cell_type": "code",
   "execution_count": 11,
   "id": "26225875-cdc7-4a30-9600-1a885dee721f",
   "metadata": {},
   "outputs": [
    {
     "data": {
      "text/plain": [
       "[20, 40, 25]"
      ]
     },
     "execution_count": 11,
     "metadata": {},
     "output_type": "execute_result"
    }
   ],
   "source": [
    "list(dict1.values())"
   ]
  },
  {
   "cell_type": "code",
   "execution_count": 12,
   "id": "bd34da39-65a3-4f0c-8445-2198399a2f42",
   "metadata": {},
   "outputs": [
    {
     "data": {
      "text/plain": [
       "{'ramesh': 20, 'suresh': 40, 'satish': 25}"
      ]
     },
     "execution_count": 12,
     "metadata": {},
     "output_type": "execute_result"
    }
   ],
   "source": [
    "d1={'ramesh': 20, 'suresh': 40, 'satish': 25}\n",
    "d1"
   ]
  },
  {
   "cell_type": "code",
   "execution_count": 14,
   "id": "831c125d-5c70-4ba2-8d43-2263b099e6d7",
   "metadata": {},
   "outputs": [
    {
     "data": {
      "text/plain": [
       "{'ramesh': '20', 'suresh': '40', 'satish': '25'}"
      ]
     },
     "execution_count": 14,
     "metadata": {},
     "output_type": "execute_result"
    }
   ],
   "source": [
    "d2={'ramesh': '20', 'suresh': '40', 'satish': '25'}\n",
    "d2"
   ]
  },
  {
   "cell_type": "code",
   "execution_count": 15,
   "id": "2503efa2-f4f2-4566-aa6d-406a283be1db",
   "metadata": {},
   "outputs": [
    {
     "data": {
      "text/plain": [
       "{20: 'ramesh', 25: 'suresh', 30: 'satish'}"
      ]
     },
     "execution_count": 15,
     "metadata": {},
     "output_type": "execute_result"
    }
   ],
   "source": [
    "d3={20:'ramesh',25 :'suresh',30: 'satish'}\n",
    "d3"
   ]
  },
  {
   "cell_type": "code",
   "execution_count": 16,
   "id": "a62ee3a7-8113-47b7-9e54-aa0b3cd01421",
   "metadata": {},
   "outputs": [
    {
     "data": {
      "text/plain": [
       "{20: 30}"
      ]
     },
     "execution_count": 16,
     "metadata": {},
     "output_type": "execute_result"
    }
   ],
   "source": [
    "d4={20:30}\n",
    "d4"
   ]
  },
  {
   "cell_type": "code",
   "execution_count": 17,
   "id": "99fc3f65-ca61-4893-afba-4a4c11d7f27f",
   "metadata": {},
   "outputs": [
    {
     "data": {
      "text/plain": [
       "{'fruits': ['apple', 'cherry']}"
      ]
     },
     "execution_count": 17,
     "metadata": {},
     "output_type": "execute_result"
    }
   ],
   "source": [
    "d5={'fruits':['apple','cherry']}\n",
    "d5"
   ]
  },
  {
   "cell_type": "code",
   "execution_count": 18,
   "id": "357cee92-9cd0-4bb9-bdd1-de2ecb970d7e",
   "metadata": {},
   "outputs": [
    {
     "ename": "TypeError",
     "evalue": "unhashable type: 'list'",
     "output_type": "error",
     "traceback": [
      "\u001b[1;31m---------------------------------------------------------------------------\u001b[0m",
      "\u001b[1;31mTypeError\u001b[0m                                 Traceback (most recent call last)",
      "Cell \u001b[1;32mIn[18], line 1\u001b[0m\n\u001b[1;32m----> 1\u001b[0m d6\u001b[38;5;241m=\u001b[39m{[\u001b[38;5;124m'\u001b[39m\u001b[38;5;124mapple\u001b[39m\u001b[38;5;124m'\u001b[39m,\u001b[38;5;124m'\u001b[39m\u001b[38;5;124mcherry\u001b[39m\u001b[38;5;124m'\u001b[39m]:\u001b[38;5;124m'\u001b[39m\u001b[38;5;124mfruits\u001b[39m\u001b[38;5;124m'\u001b[39m}\n\u001b[0;32m      2\u001b[0m d6\n",
      "\u001b[1;31mTypeError\u001b[0m: unhashable type: 'list'"
     ]
    }
   ],
   "source": [
    "d6={['apple','cherry']:'fruits'}\n",
    "d6"
   ]
  },
  {
   "cell_type": "code",
   "execution_count": 19,
   "id": "78d63e6e-619f-47dd-9614-6b8549327e16",
   "metadata": {},
   "outputs": [
    {
     "data": {
      "text/plain": [
       "{('apple', 'cherry'): 'fruits'}"
      ]
     },
     "execution_count": 19,
     "metadata": {},
     "output_type": "execute_result"
    }
   ],
   "source": [
    "d7={('apple','cherry'):'fruits'}\n",
    "d7"
   ]
  },
  {
   "cell_type": "code",
   "execution_count": 20,
   "id": "ccb8a98b-dc80-40e5-85b1-4914075272a1",
   "metadata": {},
   "outputs": [
    {
     "data": {
      "text/plain": [
       "{'Ajay': 30}"
      ]
     },
     "execution_count": 20,
     "metadata": {},
     "output_type": "execute_result"
    }
   ],
   "source": [
    "d8={'Ajay':25,'Ajay':30}\n",
    "d8"
   ]
  },
  {
   "cell_type": "code",
   "execution_count": 21,
   "id": "fb309a35-336a-4bca-9f11-8944955dacc0",
   "metadata": {},
   "outputs": [
    {
     "data": {
      "text/plain": [
       "{25: 'Ajay', 30: 'Ajay'}"
      ]
     },
     "execution_count": 21,
     "metadata": {},
     "output_type": "execute_result"
    }
   ],
   "source": [
    "d9={25:'Ajay',30:'Ajay'}\n",
    "d9"
   ]
  },
  {
   "cell_type": "markdown",
   "id": "7d9b94bc-d161-45cb-ac25-a7604493ac7f",
   "metadata": {},
   "source": [
    "- keys have only latest value\n",
    "\n",
    "- list cannot be a key because list is mutable\n",
    "\n",
    "- tuple can be a key as tuple is immutable\n",
    "\n",
    "- no duplicates\n",
    "\n",
    "- keys should be only one"
   ]
  },
  {
   "cell_type": "code",
   "execution_count": 24,
   "id": "42a26e85-0492-4174-a1f1-1b99a86c5c88",
   "metadata": {},
   "outputs": [
    {
     "data": {
      "text/plain": [
       "{'fruits': {'apple': 'red'}}"
      ]
     },
     "execution_count": 24,
     "metadata": {},
     "output_type": "execute_result"
    }
   ],
   "source": [
    "d10={'fruits':{'apple':'red'}}\n",
    "d10\n"
   ]
  },
  {
   "cell_type": "code",
   "execution_count": 25,
   "id": "b90b540f-a716-43cc-9ec8-288381b07204",
   "metadata": {},
   "outputs": [
    {
     "data": {
      "text/plain": [
       "3"
      ]
     },
     "execution_count": 25,
     "metadata": {},
     "output_type": "execute_result"
    }
   ],
   "source": [
    "len(d1)"
   ]
  },
  {
   "cell_type": "code",
   "execution_count": 26,
   "id": "3bd0d2d4-40dd-45cd-b189-d26458c93984",
   "metadata": {},
   "outputs": [
    {
     "data": {
      "text/plain": [
       "'suresh'"
      ]
     },
     "execution_count": 26,
     "metadata": {},
     "output_type": "execute_result"
    }
   ],
   "source": [
    "max(d1)"
   ]
  },
  {
   "cell_type": "code",
   "execution_count": 27,
   "id": "ad963214-903f-4168-a376-c9fcebb043b7",
   "metadata": {},
   "outputs": [
    {
     "data": {
      "text/plain": [
       "'suresh'"
      ]
     },
     "execution_count": 27,
     "metadata": {},
     "output_type": "execute_result"
    }
   ],
   "source": [
    "max(d2)"
   ]
  },
  {
   "cell_type": "code",
   "execution_count": 28,
   "id": "8c14b2b6-5673-4bb7-aafd-9c98ae3b9941",
   "metadata": {},
   "outputs": [
    {
     "data": {
      "text/plain": [
       "30"
      ]
     },
     "execution_count": 28,
     "metadata": {},
     "output_type": "execute_result"
    }
   ],
   "source": [
    "max(d3)"
   ]
  },
  {
   "cell_type": "code",
   "execution_count": null,
   "id": "fa63e3d0-00d5-43d1-85d9-44a95202950b",
   "metadata": {},
   "outputs": [],
   "source": [
    "#priority is given to keys (Ascii)\n",
    "d1={'ramesh': 20, 'suresh': 40, 'satish': 25}\n",
    "d2=={'ramesh': '20', 'suresh': '40', 'satish': '25'}\n",
    "d3={'ramesh': 20, 'suresh': '40', 'satish': 25}\n",
    "d4={20:'ramesh',25 :'suresh',30: 'satish'}\n",
    "d5={20:'ramesh','25' :'suresh',30: 'satish'} #keys are diff type so it raises error\n",
    "d6={'ramesh':20 ,'suresh':20, 'satish':20}\n",
    "d7={20:'ramesh',20 :'suresh',20: 'satish'}\n"
   ]
  },
  {
   "cell_type": "code",
   "execution_count": 33,
   "id": "63224fce-fb86-4840-8d9c-d79e1bd9f8ad",
   "metadata": {},
   "outputs": [
    {
     "data": {
      "text/plain": [
       "'zatish'"
      ]
     },
     "execution_count": 33,
     "metadata": {},
     "output_type": "execute_result"
    }
   ],
   "source": [
    "d1={'ramesh': 20, 'suresh': 40, 'zatish': 25}\n",
    "max(d1)"
   ]
  },
  {
   "cell_type": "code",
   "execution_count": 30,
   "id": "3b16b035-4100-425f-9ad7-b6f9bf63e9a5",
   "metadata": {},
   "outputs": [
    {
     "data": {
      "text/plain": [
       "'suresh'"
      ]
     },
     "execution_count": 30,
     "metadata": {},
     "output_type": "execute_result"
    }
   ],
   "source": [
    "d2=={'ramesh': '20', 'suresh': '40', 'satish': '25'}\n",
    "max(d2)"
   ]
  },
  {
   "cell_type": "code",
   "execution_count": 31,
   "id": "fd2e177a-880e-4fcc-a6e8-6c621a6f0b2b",
   "metadata": {},
   "outputs": [
    {
     "data": {
      "text/plain": [
       "'suresh'"
      ]
     },
     "execution_count": 31,
     "metadata": {},
     "output_type": "execute_result"
    }
   ],
   "source": [
    "d3={'ramesh': 20, 'suresh': '40', 'satish': 25}\n",
    "max(d3)"
   ]
  },
  {
   "cell_type": "code",
   "execution_count": 32,
   "id": "79dc41a7-ee0d-4333-bceb-5f65eb5ba369",
   "metadata": {},
   "outputs": [
    {
     "data": {
      "text/plain": [
       "20"
      ]
     },
     "execution_count": 32,
     "metadata": {},
     "output_type": "execute_result"
    }
   ],
   "source": [
    "d7={20:'ramesh',20 :'suresh',20: 'satish'}\n",
    "max(d7)"
   ]
  },
  {
   "cell_type": "markdown",
   "id": "34afbc9a-e7a7-4a5b-8cfc-310f62c9a720",
   "metadata": {},
   "source": [
    "**reversed**\n",
    "\n",
    "- keys will come in reverse order"
   ]
  },
  {
   "cell_type": "code",
   "execution_count": 34,
   "id": "85e4b3f7-6508-4de4-8063-66550092b7c3",
   "metadata": {},
   "outputs": [
    {
     "data": {
      "text/plain": [
       "['zatish', 'suresh', 'ramesh']"
      ]
     },
     "execution_count": 34,
     "metadata": {},
     "output_type": "execute_result"
    }
   ],
   "source": [
    "d1={'ramesh': 20, 'suresh': 40, 'zatish': 25}\n",
    "list(reversed(d1))"
   ]
  },
  {
   "cell_type": "code",
   "execution_count": 36,
   "id": "5ad84750-fb09-4d7b-8ef5-bbecfcfae5d7",
   "metadata": {},
   "outputs": [
    {
     "data": {
      "text/plain": [
       "['ramesh', 'suresh', 'zatish']"
      ]
     },
     "execution_count": 36,
     "metadata": {},
     "output_type": "execute_result"
    }
   ],
   "source": [
    "d1={'ramesh': 20, 'suresh': 40, 'zatish': 25}\n",
    "list(sorted(d1))"
   ]
  },
  {
   "cell_type": "code",
   "execution_count": 37,
   "id": "55f88c8e-3688-4d09-b01d-1894c42882b4",
   "metadata": {},
   "outputs": [
    {
     "data": {
      "text/plain": [
       "['zatish', 'suresh', 'ramesh']"
      ]
     },
     "execution_count": 37,
     "metadata": {},
     "output_type": "execute_result"
    }
   ],
   "source": [
    "d1={'ramesh': 20, 'suresh': 40, 'zatish': 25}\n",
    "list(sorted(d1,reverse=True))"
   ]
  },
  {
   "cell_type": "code",
   "execution_count": 38,
   "id": "05958353-967c-4bcb-b9c8-b51c726fb7f4",
   "metadata": {},
   "outputs": [
    {
     "name": "stdout",
     "output_type": "stream",
     "text": [
      "ramesh\n",
      "suresh\n",
      "zatish\n"
     ]
    }
   ],
   "source": [
    "d1={'ramesh': 20, 'suresh': 40, 'zatish': 25}\n",
    "for i in d1:\n",
    "    print(i)"
   ]
  },
  {
   "cell_type": "markdown",
   "id": "4df44cff-5d0b-4f9c-8e88-ca3e6c95c46a",
   "metadata": {},
   "source": [
    "**indexing**"
   ]
  },
  {
   "cell_type": "code",
   "execution_count": 39,
   "id": "1b0baf78-e92f-46c6-8397-f4d9b3dfca3d",
   "metadata": {},
   "outputs": [
    {
     "ename": "KeyError",
     "evalue": "0",
     "output_type": "error",
     "traceback": [
      "\u001b[1;31m---------------------------------------------------------------------------\u001b[0m",
      "\u001b[1;31mKeyError\u001b[0m                                  Traceback (most recent call last)",
      "Cell \u001b[1;32mIn[39], line 2\u001b[0m\n\u001b[0;32m      1\u001b[0m d1\u001b[38;5;241m=\u001b[39m{\u001b[38;5;124m'\u001b[39m\u001b[38;5;124mramesh\u001b[39m\u001b[38;5;124m'\u001b[39m: \u001b[38;5;241m20\u001b[39m, \u001b[38;5;124m'\u001b[39m\u001b[38;5;124msuresh\u001b[39m\u001b[38;5;124m'\u001b[39m: \u001b[38;5;241m40\u001b[39m, \u001b[38;5;124m'\u001b[39m\u001b[38;5;124mzatish\u001b[39m\u001b[38;5;124m'\u001b[39m: \u001b[38;5;241m25\u001b[39m}\n\u001b[1;32m----> 2\u001b[0m d1[\u001b[38;5;241m0\u001b[39m]\n",
      "\u001b[1;31mKeyError\u001b[0m: 0"
     ]
    }
   ],
   "source": [
    "d1={'ramesh': 20, 'suresh': 40, 'zatish': 25}\n",
    "d1[0]"
   ]
  },
  {
   "cell_type": "code",
   "execution_count": 40,
   "id": "8d3edf67-6f39-4bd5-ad4e-f4a8c4c91107",
   "metadata": {},
   "outputs": [
    {
     "data": {
      "text/plain": [
       "20"
      ]
     },
     "execution_count": 40,
     "metadata": {},
     "output_type": "execute_result"
    }
   ],
   "source": [
    "d1['ramesh']"
   ]
  },
  {
   "cell_type": "code",
   "execution_count": 7,
   "id": "f40a85c3-2b18-48a2-9f7d-4e39a045bf8e",
   "metadata": {},
   "outputs": [
    {
     "data": {
      "text/plain": [
       "25"
      ]
     },
     "execution_count": 7,
     "metadata": {},
     "output_type": "execute_result"
    }
   ],
   "source": [
    "d1={'Manish':25,'Shubham':20,'Govindh':15}\n",
    "d1['Manish']\n",
    "#index in dictionary can be accessed throgh key"
   ]
  },
  {
   "cell_type": "code",
   "execution_count": 2,
   "id": "e8bf09cb-74d0-4fb4-a38b-73a6e787fd44",
   "metadata": {},
   "outputs": [
    {
     "data": {
      "text/plain": [
       "15"
      ]
     },
     "execution_count": 2,
     "metadata": {},
     "output_type": "execute_result"
    }
   ],
   "source": [
    "d1['Govindh']"
   ]
  },
  {
   "cell_type": "code",
   "execution_count": 5,
   "id": "6b4232d2-f3b7-4e57-b7fd-cb381878baa3",
   "metadata": {},
   "outputs": [
    {
     "name": "stdout",
     "output_type": "stream",
     "text": [
      "Manish has age 25\n",
      "Shubham has age 20\n",
      "Govindh has age 15\n"
     ]
    }
   ],
   "source": [
    "for i in d1:\n",
    "    print(f\"{i} has age {d1[i]}\")"
   ]
  },
  {
   "cell_type": "code",
   "execution_count": 6,
   "id": "465a388c-0403-44d6-85e5-4c77eb8d68c0",
   "metadata": {},
   "outputs": [
    {
     "name": "stdout",
     "output_type": "stream",
     "text": [
      "Vignesh has age 20\n",
      "Mohith has age 40\n",
      "Nagesh has age 30\n"
     ]
    }
   ],
   "source": [
    "names=['Vignesh','Mohith','Nagesh']\n",
    "age=[20,40,30]\n",
    "for i , j in zip(names,age):\n",
    "    print(f\"{i} has age {j}\")"
   ]
  },
  {
   "cell_type": "markdown",
   "id": "0ef034de-2a34-4220-8863-cad68031c9ce",
   "metadata": {},
   "source": [
    "**Dictionary to list**"
   ]
  },
  {
   "cell_type": "code",
   "execution_count": 19,
   "id": "58bd658d-a4e2-4597-831d-eee26809ff5f",
   "metadata": {},
   "outputs": [
    {
     "name": "stdout",
     "output_type": "stream",
     "text": [
      "Manish 25\n",
      "Shubham 20\n",
      "Govindh 15\n",
      "['Manish', 'Shubham', 'Govindh']\n",
      "[25, 20, 15]\n"
     ]
    }
   ],
   "source": [
    "d1={'Manish':25,'Shubham':20,'Govindh':15}\n",
    "keys,values=[],[]\n",
    "for i in d1:\n",
    "    print(i,d1[i])\n",
    "    keys.append(i)\n",
    "    values.append(d1[i])    \n",
    "print(keys) \n",
    "print(values)\n",
    "\n"
   ]
  },
  {
   "cell_type": "code",
   "execution_count": null,
   "id": "c2a1a488-01a0-4d5c-891c-8f6e08d68ab4",
   "metadata": {},
   "outputs": [],
   "source": [
    "keys=[i for i in d1]\n",
    "values=[d1 for i in d1]"
   ]
  },
  {
   "cell_type": "markdown",
   "id": "c4dcc004-6380-4066-a7e9-44bdecd53211",
   "metadata": {},
   "source": [
    "**How to create a empty list**"
   ]
  },
  {
   "cell_type": "code",
   "execution_count": 20,
   "id": "28f1ccbc-e323-4c7a-bcb8-c739cd0d99cd",
   "metadata": {},
   "outputs": [
    {
     "data": {
      "text/plain": [
       "[20]"
      ]
     },
     "execution_count": 20,
     "metadata": {},
     "output_type": "execute_result"
    }
   ],
   "source": [
    "l=[]\n",
    "l.append(20)\n",
    "l"
   ]
  },
  {
   "cell_type": "markdown",
   "id": "94222762-0afb-450c-a126-b109a90de92c",
   "metadata": {},
   "source": [
    "**empty string**"
   ]
  },
  {
   "cell_type": "code",
   "execution_count": 21,
   "id": "bf7d1140-cd24-46de-b42f-e54da7249a2f",
   "metadata": {},
   "outputs": [
    {
     "data": {
      "text/plain": [
       "'a'"
      ]
     },
     "execution_count": 21,
     "metadata": {},
     "output_type": "execute_result"
    }
   ],
   "source": [
    "s=''\n",
    "s=s+'a'\n",
    "s"
   ]
  },
  {
   "cell_type": "code",
   "execution_count": 23,
   "id": "382ef319-8ddf-4d66-971b-c8cbb93431af",
   "metadata": {},
   "outputs": [
    {
     "data": {
      "text/plain": [
       "'welcome'"
      ]
     },
     "execution_count": 23,
     "metadata": {},
     "output_type": "execute_result"
    }
   ],
   "source": [
    "a=''\n",
    "a=a+'welcome'\n",
    "a"
   ]
  },
  {
   "cell_type": "markdown",
   "id": "0e5c45b8-f82d-42f6-b7aa-7fef035b8d2d",
   "metadata": {},
   "source": [
    "**empty dictionary**"
   ]
  },
  {
   "cell_type": "code",
   "execution_count": null,
   "id": "2205ae58-7113-4b97-9faf-509d31178c3c",
   "metadata": {},
   "outputs": [],
   "source": [
    "d={}\n",
    "d[<key>]=<value>"
   ]
  },
  {
   "cell_type": "code",
   "execution_count": 24,
   "id": "4cad7b2f-bafe-4dc7-85e8-84e896a52cf7",
   "metadata": {},
   "outputs": [
    {
     "data": {
      "text/plain": [
       "{'vignesh': 20, 'Mohith': 25, 'Nagesh': 30}"
      ]
     },
     "execution_count": 24,
     "metadata": {},
     "output_type": "execute_result"
    }
   ],
   "source": [
    "d={}\n",
    "d['vignesh']=20\n",
    "d['Mohith']=25\n",
    "d['Nagesh']=30\n",
    "d"
   ]
  },
  {
   "cell_type": "code",
   "execution_count": 25,
   "id": "ac43761e-4a33-4c18-814e-07ba2b2d922d",
   "metadata": {},
   "outputs": [
    {
     "data": {
      "text/plain": [
       "{'Vignesh': 20, 'Mohith': 40, 'Nagesh': 30}"
      ]
     },
     "execution_count": 25,
     "metadata": {},
     "output_type": "execute_result"
    }
   ],
   "source": [
    "names=['Vignesh','Mohith','Nagesh']\n",
    "age=[20,40,30]\n",
    "NAMES={}\n",
    "for i,j in zip(names,age):\n",
    "    NAMES[i]=j\n",
    "NAMES    "
   ]
  },
  {
   "cell_type": "markdown",
   "id": "d54630fe-4f27-4721-bc44-ca522bf0b50e",
   "metadata": {},
   "source": [
    "**string to list**"
   ]
  },
  {
   "cell_type": "code",
   "execution_count": 27,
   "id": "69ef8196-c52b-478a-887d-bc84f8331cb6",
   "metadata": {},
   "outputs": [
    {
     "data": {
      "text/plain": [
       "['hello', 'hai', 'how', 'are', 'you']"
      ]
     },
     "execution_count": 27,
     "metadata": {},
     "output_type": "execute_result"
    }
   ],
   "source": [
    "s='hello hai how are you'\n",
    "s.split()"
   ]
  },
  {
   "cell_type": "code",
   "execution_count": 29,
   "id": "b8218e05-af81-40bd-88f0-28d79241cce1",
   "metadata": {},
   "outputs": [
    {
     "data": {
      "text/plain": [
       "['hello', 'hai', 'hai', 'how', 'how', 'are', 'you']"
      ]
     },
     "execution_count": 29,
     "metadata": {},
     "output_type": "execute_result"
    }
   ],
   "source": [
    "s='hello hai hai how how are you'\n",
    "s.split()"
   ]
  },
  {
   "cell_type": "markdown",
   "id": "d218c3ce-3386-43c4-9a0b-0f74f89af43e",
   "metadata": {},
   "source": [
    "**word frequency**"
   ]
  },
  {
   "cell_type": "code",
   "execution_count": 32,
   "id": "819a68d3-9d6e-4ad0-86b4-9f69ed4116e8",
   "metadata": {},
   "outputs": [],
   "source": [
    "#ip :s='hello hai hai how how are you'\n",
    "#op : {'hello':1,'hai':2,'how':2,'are':1,'you':1}\n",
    "#1:split the strinh\n",
    "#2 :iterate using the list\n",
    "#   each word will come apply the count\n",
    "#   wordslist=[],countlist=[]\n",
    "#3.make a dictionary"
   ]
  },
  {
   "cell_type": "code",
   "execution_count": 35,
   "id": "89f04b14-c7fd-492a-9ed0-d12d3f10d8b6",
   "metadata": {},
   "outputs": [
    {
     "data": {
      "text/plain": [
       "{'hello': 1, 'hai': 2, 'how': 2, 'are': 1, 'you': 1}"
      ]
     },
     "execution_count": 35,
     "metadata": {},
     "output_type": "execute_result"
    }
   ],
   "source": [
    "s='hello hai hai how how are you'\n",
    "wordslist=s.split()\n",
    "wordslist\n",
    "dict1={}\n",
    "for i in wordslist:\n",
    "    dict1[i]=s.count(i)\n",
    "dict1    "
   ]
  },
  {
   "cell_type": "code",
   "execution_count": 37,
   "id": "640f1ab3-d39a-4c77-a49b-71f32d331370",
   "metadata": {},
   "outputs": [
    {
     "data": {
      "text/plain": [
       "{'fruits': [{'apple': {'kashmir': ['india']}}]}"
      ]
     },
     "execution_count": 37,
     "metadata": {},
     "output_type": "execute_result"
    }
   ],
   "source": [
    "d={'fruits':[\n",
    "    {'apple':\n",
    "     {'kashmir':\n",
    "      ['india']\n",
    "     }\n",
    "    }\n",
    "     ]\n",
    "  }\n",
    "d"
   ]
  },
  {
   "cell_type": "code",
   "execution_count": 38,
   "id": "2b20ec71-b15b-489c-b397-28d16ca0906b",
   "metadata": {},
   "outputs": [
    {
     "data": {
      "text/plain": [
       "{'kashmir': ['india']}"
      ]
     },
     "execution_count": 38,
     "metadata": {},
     "output_type": "execute_result"
    }
   ],
   "source": [
    "d['fruits'][0]['apple']"
   ]
  },
  {
   "cell_type": "markdown",
   "id": "203261d6-467e-43ef-9b26-d83f6e5706cf",
   "metadata": {},
   "source": [
    "**Dictonary methods**"
   ]
  },
  {
   "cell_type": "code",
   "execution_count": 1,
   "id": "9ac8d287-1262-4319-a9a5-f8d61fa1b3a9",
   "metadata": {},
   "outputs": [
    {
     "data": {
      "text/plain": [
       "['__and__',\n",
       " '__class__',\n",
       " '__class_getitem__',\n",
       " '__contains__',\n",
       " '__delattr__',\n",
       " '__dir__',\n",
       " '__doc__',\n",
       " '__eq__',\n",
       " '__format__',\n",
       " '__ge__',\n",
       " '__getattribute__',\n",
       " '__getstate__',\n",
       " '__gt__',\n",
       " '__hash__',\n",
       " '__iand__',\n",
       " '__init__',\n",
       " '__init_subclass__',\n",
       " '__ior__',\n",
       " '__isub__',\n",
       " '__iter__',\n",
       " '__ixor__',\n",
       " '__le__',\n",
       " '__len__',\n",
       " '__lt__',\n",
       " '__ne__',\n",
       " '__new__',\n",
       " '__or__',\n",
       " '__rand__',\n",
       " '__reduce__',\n",
       " '__reduce_ex__',\n",
       " '__repr__',\n",
       " '__ror__',\n",
       " '__rsub__',\n",
       " '__rxor__',\n",
       " '__setattr__',\n",
       " '__sizeof__',\n",
       " '__str__',\n",
       " '__sub__',\n",
       " '__subclasshook__',\n",
       " '__xor__',\n",
       " 'add',\n",
       " 'clear',\n",
       " 'copy',\n",
       " 'difference',\n",
       " 'difference_update',\n",
       " 'discard',\n",
       " 'intersection',\n",
       " 'intersection_update',\n",
       " 'isdisjoint',\n",
       " 'issubset',\n",
       " 'issuperset',\n",
       " 'pop',\n",
       " 'remove',\n",
       " 'symmetric_difference',\n",
       " 'symmetric_difference_update',\n",
       " 'union',\n",
       " 'update']"
      ]
     },
     "execution_count": 1,
     "metadata": {},
     "output_type": "execute_result"
    }
   ],
   "source": [
    "dir(' ')#string methods\n",
    "dir([]) #list methods\n",
    "dir(())#tuple methods\n",
    "dir({})#dictionary methods\n",
    "dir(set)#set methods"
   ]
  },
  {
   "cell_type": "markdown",
   "id": "8127394f-7c8c-4b04-a602-fd020ee72ab6",
   "metadata": {},
   "source": [
    "**items-keys-values**"
   ]
  },
  {
   "cell_type": "code",
   "execution_count": 3,
   "id": "79b949dc-8186-4b02-a29c-975a980f2b88",
   "metadata": {},
   "outputs": [
    {
     "data": {
      "text/plain": [
       "dict_items([('Manish', 25), ('Shubham', 20), ('Govindh', 15)])"
      ]
     },
     "execution_count": 3,
     "metadata": {},
     "output_type": "execute_result"
    }
   ],
   "source": [
    "d1={'Manish':25,'Shubham':20,'Govindh':15}\n",
    "d1.items()"
   ]
  },
  {
   "cell_type": "code",
   "execution_count": 4,
   "id": "5d8082d6-a766-4acf-816d-b5a341489974",
   "metadata": {},
   "outputs": [
    {
     "data": {
      "text/plain": [
       "dict_keys(['Manish', 'Shubham', 'Govindh'])"
      ]
     },
     "execution_count": 4,
     "metadata": {},
     "output_type": "execute_result"
    }
   ],
   "source": [
    "d1.keys()"
   ]
  },
  {
   "cell_type": "code",
   "execution_count": 5,
   "id": "6aaa27f1-4c4d-4fd8-a64f-2b01bbb872b3",
   "metadata": {},
   "outputs": [
    {
     "data": {
      "text/plain": [
       "dict_values([25, 20, 15])"
      ]
     },
     "execution_count": 5,
     "metadata": {},
     "output_type": "execute_result"
    }
   ],
   "source": [
    "d1.values()"
   ]
  },
  {
   "cell_type": "code",
   "execution_count": 7,
   "id": "1d26a197-e715-4295-9214-fff364d7bee7",
   "metadata": {},
   "outputs": [
    {
     "name": "stdout",
     "output_type": "stream",
     "text": [
      "Manish 25\n",
      "Shubham 20\n",
      "Govindh 15\n",
      "['Manish', 'Shubham', 'Govindh']\n",
      "[25, 20, 15]\n"
     ]
    }
   ],
   "source": [
    "#dictionary to list\n",
    "d1={'Manish':25,'Shubham':20,'Govindh':15}\n",
    "keys,values=[],[]\n",
    "for i in d1:\n",
    "    print(i,d1[i])\n",
    "    keys.append(i)\n",
    "    values.append(d1[i])    \n",
    "print(keys) \n",
    "print(values)"
   ]
  },
  {
   "cell_type": "code",
   "execution_count": 10,
   "id": "e35ef959-0174-45f5-b949-a663fad70e1b",
   "metadata": {},
   "outputs": [
    {
     "data": {
      "text/plain": [
       "['Manish', 'Shubham', 'Govindh']"
      ]
     },
     "execution_count": 10,
     "metadata": {},
     "output_type": "execute_result"
    }
   ],
   "source": [
    "list(d1.keys())"
   ]
  },
  {
   "cell_type": "code",
   "execution_count": 11,
   "id": "c524dcfc-9b1d-4d7b-af2b-67d7fcb39bc5",
   "metadata": {},
   "outputs": [
    {
     "data": {
      "text/plain": [
       "[25, 20, 15]"
      ]
     },
     "execution_count": 11,
     "metadata": {},
     "output_type": "execute_result"
    }
   ],
   "source": [
    "list(d1.values())"
   ]
  },
  {
   "cell_type": "code",
   "execution_count": 13,
   "id": "0605bd9b-d585-4389-81fa-843b9e0d331d",
   "metadata": {},
   "outputs": [
    {
     "name": "stdout",
     "output_type": "stream",
     "text": [
      "*list[dict_keys(['Manish', 'Shubham', 'Govindh'])]\n"
     ]
    }
   ],
   "source": [
    "for i in list[d1.keys()]:\n",
    "    print(i)"
   ]
  },
  {
   "cell_type": "code",
   "execution_count": 15,
   "id": "849e3ffe-8a12-43d7-a8e6-f4a2a85e48cd",
   "metadata": {},
   "outputs": [
    {
     "name": "stdout",
     "output_type": "stream",
     "text": [
      "('Manish', 25)\n",
      "('Shubham', 20)\n",
      "('Govindh', 15)\n"
     ]
    }
   ],
   "source": [
    "for i in d1.items():\n",
    "    print(i)"
   ]
  },
  {
   "cell_type": "code",
   "execution_count": 21,
   "id": "8bee0de7-32ad-40a5-8352-8a4da48b0dfd",
   "metadata": {},
   "outputs": [
    {
     "name": "stdout",
     "output_type": "stream",
     "text": [
      "Manish 25\n",
      "Shubham 20\n",
      "Govindh 15\n",
      "['Manish', 'Shubham', 'Govindh']\n",
      "[25, 20, 15]\n"
     ]
    }
   ],
   "source": [
    "keys,values=[],[]\n",
    "for i,j in d1.items():\n",
    "    print(i,j)\n",
    "    keys.append(i)\n",
    "    values.append(j)\n",
    "print(keys)\n",
    "print(values)\n",
    "    "
   ]
  },
  {
   "cell_type": "code",
   "execution_count": null,
   "id": "cdfbb7b9-6e9d-4695-afdd-cc5dd00d294c",
   "metadata": {},
   "outputs": [],
   "source": []
  }
 ],
 "metadata": {
  "kernelspec": {
   "display_name": "Python 3 (ipykernel)",
   "language": "python",
   "name": "python3"
  },
  "language_info": {
   "codemirror_mode": {
    "name": "ipython",
    "version": 3
   },
   "file_extension": ".py",
   "mimetype": "text/x-python",
   "name": "python",
   "nbconvert_exporter": "python",
   "pygments_lexer": "ipython3",
   "version": "3.11.7"
  }
 },
 "nbformat": 4,
 "nbformat_minor": 5
}
