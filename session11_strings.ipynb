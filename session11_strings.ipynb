{
 "cells": [
  {
   "cell_type": "markdown",
   "id": "289d5adb-1f14-4d68-a52b-fc9e3ce4eec5",
   "metadata": {},
   "source": [
    "**Intializtion**"
   ]
  },
  {
   "cell_type": "code",
   "execution_count": 1,
   "id": "cc49fcd2-985b-446c-94c5-1f22a2ee5fc3",
   "metadata": {},
   "outputs": [
    {
     "data": {
      "text/plain": [
       "'python'"
      ]
     },
     "execution_count": 1,
     "metadata": {},
     "output_type": "execute_result"
    }
   ],
   "source": [
    "str1='python'\n",
    "str1"
   ]
  },
  {
   "cell_type": "code",
   "execution_count": 3,
   "id": "02d60461-d81d-4752-b474-1cc53f9b46a1",
   "metadata": {},
   "outputs": [
    {
     "data": {
      "text/plain": [
       "'python'"
      ]
     },
     "execution_count": 3,
     "metadata": {},
     "output_type": "execute_result"
    }
   ],
   "source": [
    "str2=\"python\"\n",
    "str2"
   ]
  },
  {
   "cell_type": "markdown",
   "id": "be659559-20b1-4fd8-88ff-bc68ac5817a2",
   "metadata": {},
   "source": [
    "**Note**\n",
    "\n",
    "- If we mentioned single quotes or double quotes by default python provides in single quotes only\n",
    "\n",
    "- if we print strings , we will ans without quotes\n",
    "\n",
    "- anything inside quotes considered as string"
   ]
  },
  {
   "cell_type": "markdown",
   "id": "82c5ab0f-4889-4045-bd77-2675448514f1",
   "metadata": {},
   "source": [
    "**Triple quotes**\n",
    "\n",
    "  "
   ]
  },
  {
   "cell_type": "code",
   "execution_count": 5,
   "id": "ba76befd-4a58-4512-b85d-6425324212a6",
   "metadata": {},
   "outputs": [
    {
     "data": {
      "text/plain": [
       "'hi how are you \\n        im good'"
      ]
     },
     "execution_count": 5,
     "metadata": {},
     "output_type": "execute_result"
    }
   ],
   "source": [
    "str3=\"\"\"hi how are you \n",
    "        im good\"\"\"\n",
    "str3"
   ]
  },
  {
   "cell_type": "code",
   "execution_count": 6,
   "id": "c56dc621-b98f-4f77-9d78-0ddfae532ec1",
   "metadata": {},
   "outputs": [
    {
     "name": "stdout",
     "output_type": "stream",
     "text": [
      "hi how are you \n",
      "        im good\n"
     ]
    }
   ],
   "source": [
    "str3=\"\"\"hi how are you \n",
    "        im good\"\"\"\n",
    "print(str3)"
   ]
  },
  {
   "cell_type": "markdown",
   "id": "2975cd31-fd87-4b99-8e9f-818472113db4",
   "metadata": {},
   "source": [
    "- triple quotes are used for doc string \n",
    "\n",
    "- in order to convey the info about coding part we will use doc string"
   ]
  },
  {
   "cell_type": "markdown",
   "id": "636a33af-2564-41b0-a217-18e6f97958bb",
   "metadata": {},
   "source": [
    "**Type**"
   ]
  },
  {
   "cell_type": "code",
   "execution_count": 7,
   "id": "83ee0888-2b41-4bd6-a41d-5f3ea378f839",
   "metadata": {},
   "outputs": [
    {
     "data": {
      "text/plain": [
       "str"
      ]
     },
     "execution_count": 7,
     "metadata": {},
     "output_type": "execute_result"
    }
   ],
   "source": [
    "type(str1)"
   ]
  },
  {
   "cell_type": "code",
   "execution_count": 8,
   "id": "82fbfe8f-a897-4e7a-9866-f3c3a3d780a4",
   "metadata": {},
   "outputs": [],
   "source": [
    "str4='10'            #integer value in the form of string\n",
    "str5='10.5'          #float value in the form of string\n",
    "str6='123abc'        #Alpha numeric in the form of string\n",
    "str7='True'          #Boolean in the form of string\n",
    "str8='sinx'          "
   ]
  },
  {
   "cell_type": "markdown",
   "id": "8f92074d-6706-49d1-a17d-425acd370c8c",
   "metadata": {},
   "source": [
    "**len**"
   ]
  },
  {
   "cell_type": "code",
   "execution_count": 10,
   "id": "fdc6e539-f02d-43e4-a804-5ba2af5fa0c6",
   "metadata": {},
   "outputs": [
    {
     "data": {
      "text/plain": [
       "6"
      ]
     },
     "execution_count": 10,
     "metadata": {},
     "output_type": "execute_result"
    }
   ],
   "source": [
    "str1='python'\n",
    "len(str1)"
   ]
  },
  {
   "cell_type": "code",
   "execution_count": 11,
   "id": "476b3ed9-4c61-42f5-a833-b706d1cc9dd8",
   "metadata": {},
   "outputs": [
    {
     "name": "stdout",
     "output_type": "stream",
     "text": [
      "harika\n"
     ]
    }
   ],
   "source": [
    "str2='harika'\n",
    "print(str2)"
   ]
  },
  {
   "cell_type": "markdown",
   "id": "a877813e-dbfd-4557-af92-aecdcb22f681",
   "metadata": {},
   "source": [
    "**max and min**"
   ]
  },
  {
   "cell_type": "code",
   "execution_count": 12,
   "id": "115c1f97-6587-4804-9f48-48080c157c9f",
   "metadata": {},
   "outputs": [
    {
     "data": {
      "text/plain": [
       "'r'"
      ]
     },
     "execution_count": 12,
     "metadata": {},
     "output_type": "execute_result"
    }
   ],
   "source": [
    "str3='harika'\n",
    "max(str3)"
   ]
  },
  {
   "cell_type": "code",
   "execution_count": 13,
   "id": "f350602c-1e8d-45e1-8936-bd56fa726ba0",
   "metadata": {},
   "outputs": [
    {
     "data": {
      "text/plain": [
       "'a'"
      ]
     },
     "execution_count": 13,
     "metadata": {},
     "output_type": "execute_result"
    }
   ],
   "source": [
    "min(str3)"
   ]
  },
  {
   "cell_type": "code",
   "execution_count": 14,
   "id": "5768117a-3f99-4b0a-86cb-131df977eaf5",
   "metadata": {},
   "outputs": [
    {
     "data": {
      "text/plain": [
       "'10'"
      ]
     },
     "execution_count": 14,
     "metadata": {},
     "output_type": "execute_result"
    }
   ],
   "source": [
    "min(str4,str5)"
   ]
  },
  {
   "cell_type": "code",
   "execution_count": 15,
   "id": "6c4150fa-552a-4475-ae48-5fa927fd33da",
   "metadata": {},
   "outputs": [
    {
     "data": {
      "text/plain": [
       "'10.5'"
      ]
     },
     "execution_count": 15,
     "metadata": {},
     "output_type": "execute_result"
    }
   ],
   "source": [
    "max(str4,str5)"
   ]
  },
  {
   "cell_type": "code",
   "execution_count": 16,
   "id": "6c53c66e-98a0-438d-8520-f586e2b6143b",
   "metadata": {},
   "outputs": [
    {
     "data": {
      "text/plain": [
       "'123abc'"
      ]
     },
     "execution_count": 16,
     "metadata": {},
     "output_type": "execute_result"
    }
   ],
   "source": [
    "max(str5,str6)"
   ]
  },
  {
   "cell_type": "code",
   "execution_count": 17,
   "id": "b3208d5d-5485-41db-8425-ab60a9163d74",
   "metadata": {},
   "outputs": [
    {
     "data": {
      "text/plain": [
       "112"
      ]
     },
     "execution_count": 17,
     "metadata": {},
     "output_type": "execute_result"
    }
   ],
   "source": [
    "ord('p')"
   ]
  },
  {
   "cell_type": "markdown",
   "id": "70017e8c-de41-4a4f-9db9-6e28e3056af2",
   "metadata": {},
   "source": [
    "**keywords vs methods**"
   ]
  },
  {
   "cell_type": "code",
   "execution_count": null,
   "id": "b5b63707-82b9-46de-a16b-f83629587ec3",
   "metadata": {},
   "outputs": [],
   "source": [
    "#keywords\n",
    "type(<>)\n",
    "len(<>)\n",
    "print(<>)\n",
    "max(<>)\n",
    "min(<>)\n",
    "eval(<>)\n",
    "input(<>)\n",
    "sum(<>)"
   ]
  },
  {
   "cell_type": "markdown",
   "id": "4537764c-f301-4ace-901b-f0f39ed0d8a4",
   "metadata": {},
   "source": [
    "- in order to use method we need to call package\n"
   ]
  },
  {
   "cell_type": "code",
   "execution_count": null,
   "id": "720e0e3b-00cb-4483-8469-f33107abfd06",
   "metadata": {},
   "outputs": [],
   "source": [
    "import random \n",
    "random.randint()\n",
    "\n",
    "import math\n",
    "math.sqrt()\n",
    "\n",
    "import time\n",
    "time.sleep()"
   ]
  },
  {
   "cell_type": "code",
   "execution_count": 18,
   "id": "85a61255-662a-4251-b622-e839b21d76f6",
   "metadata": {},
   "outputs": [
    {
     "data": {
      "text/plain": [
       "'y'"
      ]
     },
     "execution_count": 18,
     "metadata": {},
     "output_type": "execute_result"
    }
   ],
   "source": [
    "str1='python123'\n",
    "max(str1)"
   ]
  },
  {
   "cell_type": "markdown",
   "id": "11e5b9df-12fb-468f-b3f1-edc2be14c61e",
   "metadata": {},
   "source": [
    "**sum**"
   ]
  },
  {
   "cell_type": "code",
   "execution_count": 19,
   "id": "21e77519-7044-49e3-8373-43b6f835669d",
   "metadata": {},
   "outputs": [
    {
     "ename": "TypeError",
     "evalue": "unsupported operand type(s) for +: 'int' and 'str'",
     "output_type": "error",
     "traceback": [
      "\u001b[1;31m---------------------------------------------------------------------------\u001b[0m",
      "\u001b[1;31mTypeError\u001b[0m                                 Traceback (most recent call last)",
      "Cell \u001b[1;32mIn[19], line 2\u001b[0m\n\u001b[0;32m      1\u001b[0m str1\u001b[38;5;241m=\u001b[39m\u001b[38;5;124m'\u001b[39m\u001b[38;5;124mpython\u001b[39m\u001b[38;5;124m'\u001b[39m\n\u001b[1;32m----> 2\u001b[0m \u001b[38;5;28msum\u001b[39m(str1)\n",
      "\u001b[1;31mTypeError\u001b[0m: unsupported operand type(s) for +: 'int' and 'str'"
     ]
    }
   ],
   "source": [
    "str1='python'\n",
    "sum(str1)"
   ]
  },
  {
   "cell_type": "code",
   "execution_count": 20,
   "id": "b3143ad1-8fc7-4e85-9a32-1c71a8ea9c6d",
   "metadata": {},
   "outputs": [
    {
     "data": {
      "text/plain": [
       "21"
      ]
     },
     "execution_count": 20,
     "metadata": {},
     "output_type": "execute_result"
    }
   ],
   "source": [
    "sum([1,2,3,4,5,6])"
   ]
  },
  {
   "cell_type": "markdown",
   "id": "925724dc-d2d6-49ac-a900-f59e5dae7cdc",
   "metadata": {},
   "source": [
    "**sorted**"
   ]
  },
  {
   "cell_type": "raw",
   "id": "66a56a0a-c14c-4b68-80af-31db9ad86d19",
   "metadata": {},
   "source": [
    "sorted('python')"
   ]
  },
  {
   "cell_type": "markdown",
   "id": "e81d4695-9837-4de7-b215-63fc361a9563",
   "metadata": {},
   "source": [
    "- sorted gives ascending order based on ASCII nums "
   ]
  },
  {
   "cell_type": "markdown",
   "id": "8b23de01-fa06-410c-a1da-1821aff1e716",
   "metadata": {},
   "source": [
    "- we can change the order by using **reverse=True**"
   ]
  },
  {
   "cell_type": "code",
   "execution_count": 25,
   "id": "469b7e30-e798-4674-a455-5c316295ff15",
   "metadata": {},
   "outputs": [
    {
     "data": {
      "text/plain": [
       "['y', 't', 'p', 'o', 'n', 'h']"
      ]
     },
     "execution_count": 25,
     "metadata": {},
     "output_type": "execute_result"
    }
   ],
   "source": [
    "sorted('python',reverse=True)"
   ]
  },
  {
   "cell_type": "code",
   "execution_count": 26,
   "id": "6ceddb6d-a7c0-4863-9576-e6fc10b46988",
   "metadata": {},
   "outputs": [
    {
     "data": {
      "text/plain": [
       "0j"
      ]
     },
     "execution_count": 26,
     "metadata": {},
     "output_type": "execute_result"
    }
   ],
   "source": [
    "complex()"
   ]
  },
  {
   "cell_type": "code",
   "execution_count": 27,
   "id": "1aec2d10-06b7-4a2c-b452-54c435a32ed3",
   "metadata": {},
   "outputs": [
    {
     "data": {
      "text/plain": [
       "(10+20j)"
      ]
     },
     "execution_count": 27,
     "metadata": {},
     "output_type": "execute_result"
    }
   ],
   "source": [
    "complex(10,20)"
   ]
  },
  {
   "cell_type": "code",
   "execution_count": 28,
   "id": "d86996cb-e631-4d30-8f3c-dad7bfb0a225",
   "metadata": {},
   "outputs": [
    {
     "data": {
      "text/plain": [
       "(10+30j)"
      ]
     },
     "execution_count": 28,
     "metadata": {},
     "output_type": "execute_result"
    }
   ],
   "source": [
    "complex(real=10,imag=30)"
   ]
  },
  {
   "cell_type": "code",
   "execution_count": 29,
   "id": "e2d39cd2-2610-4206-b99a-9ff55c0866ee",
   "metadata": {},
   "outputs": [
    {
     "ename": "TypeError",
     "evalue": "Random.randint() missing 2 required positional arguments: 'a' and 'b'",
     "output_type": "error",
     "traceback": [
      "\u001b[1;31m---------------------------------------------------------------------------\u001b[0m",
      "\u001b[1;31mTypeError\u001b[0m                                 Traceback (most recent call last)",
      "Cell \u001b[1;32mIn[29], line 2\u001b[0m\n\u001b[0;32m      1\u001b[0m \u001b[38;5;28;01mimport\u001b[39;00m \u001b[38;5;21;01mrandom\u001b[39;00m\n\u001b[1;32m----> 2\u001b[0m random\u001b[38;5;241m.\u001b[39mrandint()\n",
      "\u001b[1;31mTypeError\u001b[0m: Random.randint() missing 2 required positional arguments: 'a' and 'b'"
     ]
    }
   ],
   "source": [
    "import random\n",
    "random.randint()"
   ]
  },
  {
   "cell_type": "code",
   "execution_count": null,
   "id": "697437f9-29bf-42d7-9067-ee65b2a44fb8",
   "metadata": {},
   "outputs": [],
   "source": [
    "function()\n",
    "function(a,b)\n",
    "function(a=10,b=10)"
   ]
  },
  {
   "cell_type": "code",
   "execution_count": 32,
   "id": "4f0aee5e-04d1-4b69-a7c5-b9ad9cf09a2f",
   "metadata": {},
   "outputs": [
    {
     "data": {
      "text/plain": [
       "0.670076126103941"
      ]
     },
     "execution_count": 32,
     "metadata": {},
     "output_type": "execute_result"
    }
   ],
   "source": [
    "import random\n",
    "random.random()"
   ]
  },
  {
   "cell_type": "code",
   "execution_count": 33,
   "id": "0d11f968-17fa-48d1-b57c-ec99d78428c4",
   "metadata": {},
   "outputs": [
    {
     "data": {
      "text/plain": [
       "19"
      ]
     },
     "execution_count": 33,
     "metadata": {},
     "output_type": "execute_result"
    }
   ],
   "source": [
    "import random\n",
    "random.randint(10,20)"
   ]
  },
  {
   "cell_type": "code",
   "execution_count": 36,
   "id": "359785b9-164b-4931-932e-2b2eda500a2f",
   "metadata": {},
   "outputs": [
    {
     "ename": "TypeError",
     "evalue": "sorted expected 1 argument, got 0",
     "output_type": "error",
     "traceback": [
      "\u001b[1;31m---------------------------------------------------------------------------\u001b[0m",
      "\u001b[1;31mTypeError\u001b[0m                                 Traceback (most recent call last)",
      "Cell \u001b[1;32mIn[36], line 1\u001b[0m\n\u001b[1;32m----> 1\u001b[0m \u001b[38;5;28msorted\u001b[39m(iterable\u001b[38;5;241m=\u001b[39m\u001b[38;5;124m'\u001b[39m\u001b[38;5;124mpython\u001b[39m\u001b[38;5;124m'\u001b[39m)\n\u001b[0;32m      2\u001b[0m random\u001b[38;5;241m.\u001b[39mrandint(a\u001b[38;5;241m=\u001b[39m\u001b[38;5;241m10\u001b[39m,b\u001b[38;5;241m=\u001b[39m\u001b[38;5;241m30\u001b[39m)\n",
      "\u001b[1;31mTypeError\u001b[0m: sorted expected 1 argument, got 0"
     ]
    }
   ],
   "source": [
    "sorted(iterable='python')\n",
    "random.randint(a=10,b=30)\n",
    "#error"
   ]
  },
  {
   "cell_type": "code",
   "execution_count": 37,
   "id": "dd62796a-3f86-4fad-9e08-f7770b5813d0",
   "metadata": {},
   "outputs": [
    {
     "data": {
      "text/plain": [
       "['h', 'n', 'o', 'p', 't', 'y']"
      ]
     },
     "execution_count": 37,
     "metadata": {},
     "output_type": "execute_result"
    }
   ],
   "source": [
    "sorted('python')"
   ]
  },
  {
   "cell_type": "code",
   "execution_count": 38,
   "id": "3f14b3e4-135a-4d32-9483-8a8f85af026e",
   "metadata": {},
   "outputs": [
    {
     "data": {
      "text/plain": [
       "['y', 't', 'p', 'o', 'n', 'h']"
      ]
     },
     "execution_count": 38,
     "metadata": {},
     "output_type": "execute_result"
    }
   ],
   "source": [
    "sorted('python')\n",
    "sorted('python',reverse=True)"
   ]
  },
  {
   "cell_type": "markdown",
   "id": "f9a4e670-d59e-456e-a7cb-d51fc5838c5c",
   "metadata": {},
   "source": [
    "**Note **\n",
    "\n",
    "- we have arguments before/and after slash\n",
    "\n",
    "- we can use the argument names after / only\n",
    "\n",
    "- for ex sorted has two arguments one is iterable amd another one is reverse\n",
    "\n",
    "- iterable is mentioned before / symbol\n",
    "\n",
    "- reverse is mentioned after / symbol\n",
    "\n",
    "- so we can use only reverse argument name while we are doing the work\n",
    "\n",
    "- we can not use iterable argument name\n",
    "\n",
    "- Instead of using iterable nsme,we can provide direct value at that position"
   ]
  },
  {
   "cell_type": "code",
   "execution_count": 40,
   "id": "f33effa1-df50-4d0a-b9c0-633cf5bc0e85",
   "metadata": {},
   "outputs": [
    {
     "name": "stdout",
     "output_type": "stream",
     "text": [
      "d\n",
      "c\n",
      "y\n",
      "z\n",
      "a\n"
     ]
    }
   ],
   "source": [
    "str1='azycd'\n",
    "output=reversed(str1)\n",
    "for i in output:\n",
    "    print(i)"
   ]
  },
  {
   "cell_type": "code",
   "execution_count": 2,
   "id": "d2f4e83c-6d53-4bc6-9c51-969cc397928f",
   "metadata": {},
   "outputs": [
    {
     "data": {
      "text/plain": [
       "['a', 'e', 'h', 'n', 'r', 's']"
      ]
     },
     "execution_count": 2,
     "metadata": {},
     "output_type": "execute_result"
    }
   ],
   "source": [
    "sorted('naresh') #by default we will get ascending order "
   ]
  },
  {
   "cell_type": "code",
   "execution_count": 3,
   "id": "a2c5263e-f4ca-4d62-9f10-c1c805233c35",
   "metadata": {},
   "outputs": [],
   "source": [
    "#shift tab to get description"
   ]
  },
  {
   "cell_type": "code",
   "execution_count": 5,
   "id": "26dfabce-dca5-4292-879f-6234fa5ed415",
   "metadata": {},
   "outputs": [
    {
     "data": {
      "text/plain": [
       "['s', 'r', 'n', 'h', 'e', 'a']"
      ]
     },
     "execution_count": 5,
     "metadata": {},
     "output_type": "execute_result"
    }
   ],
   "source": [
    "sorted('naresh',reverse=True)"
   ]
  },
  {
   "cell_type": "code",
   "execution_count": 6,
   "id": "eced516d-9bf7-48b5-baeb-a36763023f93",
   "metadata": {},
   "outputs": [
    {
     "data": {
      "text/plain": [
       "<reversed at 0x22c486d8df0>"
      ]
     },
     "execution_count": 6,
     "metadata": {},
     "output_type": "execute_result"
    }
   ],
   "source": [
    "reversed('naresh')"
   ]
  },
  {
   "cell_type": "code",
   "execution_count": 7,
   "id": "5e87e858-e2b2-4d56-90a2-c84ee88339f8",
   "metadata": {},
   "outputs": [
    {
     "name": "stdout",
     "output_type": "stream",
     "text": [
      "h\n",
      "s\n",
      "e\n",
      "r\n",
      "a\n",
      "n\n"
     ]
    }
   ],
   "source": [
    "for i in reversed('naresh'):\n",
    "    print(i)"
   ]
  },
  {
   "cell_type": "markdown",
   "id": "d7cd314d-a924-4e5d-a5c0-f50ecef09845",
   "metadata": {},
   "source": [
    "**in**"
   ]
  },
  {
   "cell_type": "code",
   "execution_count": 13,
   "id": "5155d478-54bc-4d00-a8cd-66f565ae48ff",
   "metadata": {},
   "outputs": [
    {
     "data": {
      "text/plain": [
       "True"
      ]
     },
     "execution_count": 13,
     "metadata": {},
     "output_type": "execute_result"
    }
   ],
   "source": [
    "str1='naresh'\n",
    "\"ha\" not in str1"
   ]
  },
  {
   "cell_type": "code",
   "execution_count": 16,
   "id": "98c112ee-2dc2-49cc-871d-18a728b9a6b4",
   "metadata": {},
   "outputs": [
    {
     "name": "stdout",
     "output_type": "stream",
     "text": [
      "h\n",
      "a\n",
      "i\n",
      " \n",
      "n\n",
      "a\n",
      "r\n",
      "e\n",
      "s\n",
      "h\n",
      " \n",
      "h\n",
      "o\n",
      "w\n",
      " \n",
      "a\n",
      "r\n",
      "e\n",
      " \n",
      "y\n",
      "o\n",
      "u\n"
     ]
    }
   ],
   "source": [
    "str1=\"hai naresh how are you\"\n",
    "count=0\n",
    "for i in str1:\n",
    "    print(i)"
   ]
  },
  {
   "cell_type": "code",
   "execution_count": 18,
   "id": "90433c66-3978-44d5-af62-a0d485c1c94b",
   "metadata": {},
   "outputs": [
    {
     "name": "stdout",
     "output_type": "stream",
     "text": [
      "3\n"
     ]
    }
   ],
   "source": [
    "str1=\"hai naresh how are you\"\n",
    "count=0\n",
    "for i in str1:\n",
    "    if i=='a':\n",
    "        count=count+1\n",
    "#step1:i='h' if 'h'=='a' False\n",
    "#step2:i='a' if 'a'='a' True  count=0+1=1 and so on\n",
    "print(count)"
   ]
  },
  {
   "cell_type": "code",
   "execution_count": 24,
   "id": "402f401b-02ac-4f5d-9460-b3d995912dca",
   "metadata": {},
   "outputs": [
    {
     "name": "stdout",
     "output_type": "stream",
     "text": [
      "9\n"
     ]
    }
   ],
   "source": [
    "#count of vowels\n",
    "str1=\"hai naresh how are you\"\n",
    "count=0\n",
    "for i in str1:\n",
    "    if i=='a' or i=='e' or i=='i' or i=='o' or i=='u' :\n",
    "        count=count+1\n",
    "print(count)    \n",
    "    "
   ]
  },
  {
   "cell_type": "code",
   "execution_count": 25,
   "id": "78a563fe-de7d-4b08-a4a6-131128e437bd",
   "metadata": {},
   "outputs": [
    {
     "name": "stdout",
     "output_type": "stream",
     "text": [
      "9\n"
     ]
    }
   ],
   "source": [
    "count=0\n",
    "str1=\"hai naresh how are you\"\n",
    "for i in str1:\n",
    "    if i in 'aeiou':\n",
    "        count=count+1\n",
    "print(count)        "
   ]
  },
  {
   "cell_type": "code",
   "execution_count": 29,
   "id": "86b3dbc5-dd1b-46b1-8fd6-97557b209bb5",
   "metadata": {},
   "outputs": [
    {
     "name": "stdout",
     "output_type": "stream",
     "text": [
      "0\n"
     ]
    }
   ],
   "source": [
    "#count of vowels without repetition\n",
    "count=0\n",
    "str2=''\n",
    "str1=\"hai naresh how are you\"\n",
    "for i in str1:\n",
    "    if i in str2:\n",
    "        if i in 'aeiou':\n",
    "            count=count+1\n",
    "            str2=str2+i\n",
    "print(count)            \n",
    "#need to check mistake in logic\n"
   ]
  },
  {
   "cell_type": "markdown",
   "id": "5cd9b0e3-039e-4376-8ddb-0646ad727f4d",
   "metadata": {},
   "source": [
    "**how to update empty string**"
   ]
  },
  {
   "cell_type": "code",
   "execution_count": 31,
   "id": "1c04b0c3-53bf-45cf-a8f1-ec07d0a1d488",
   "metadata": {},
   "outputs": [
    {
     "data": {
      "text/plain": [
       "'python'"
      ]
     },
     "execution_count": 31,
     "metadata": {},
     "output_type": "execute_result"
    }
   ],
   "source": [
    "s1='python'\n",
    "s2=''\n",
    "for i in s1:\n",
    "    s2=s2+i\n",
    "s2    "
   ]
  },
  {
   "cell_type": "code",
   "execution_count": 32,
   "id": "87a6036a-85e6-4907-84e1-37d9743b1270",
   "metadata": {},
   "outputs": [
    {
     "data": {
      "text/plain": [
       "'hellohellohello'"
      ]
     },
     "execution_count": 32,
     "metadata": {},
     "output_type": "execute_result"
    }
   ],
   "source": [
    "s1='hello'\n",
    "s2=3\n",
    "s1*s2"
   ]
  },
  {
   "cell_type": "code",
   "execution_count": 34,
   "id": "ef96f4a8-1073-4e44-b246-475982f2f80c",
   "metadata": {},
   "outputs": [],
   "source": [
    "s1+s1+s1====>s1*3"
   ]
  },
  {
   "cell_type": "markdown",
   "id": "ea5c1d8b-0582-4aff-ba3a-5bf6f3d6b783",
   "metadata": {},
   "source": [
    "**index**"
   ]
  },
  {
   "cell_type": "markdown",
   "id": "3c4d5e02-c326-49c5-98a2-0503f8f5488c",
   "metadata": {},
   "source": [
    "- index starts with zero\n",
    "\n",
    "    - positive direction\n",
    "\n",
    "        - starts with zero\n",
    "\n",
    "    - negative direction\n",
    "\n",
    "        - starts with -1 applicable to last letter"
   ]
  },
  {
   "cell_type": "code",
   "execution_count": null,
   "id": "224e41cf-c783-4534-955f-60513beac6d0",
   "metadata": {},
   "outputs": [],
   "source": [
    "s1='python \n",
    "\n",
    "-6 -5 -4 -3 -2 -1====>negative\n",
    "\n",
    "p  y  t  h  o  n\n",
    "\n",
    "0  1  2  3  4  5======>postive"
   ]
  },
  {
   "cell_type": "code",
   "execution_count": 37,
   "id": "f2568f0d-2042-4552-9fb7-ded0d839d1d4",
   "metadata": {},
   "outputs": [
    {
     "data": {
      "text/plain": [
       "('p', 'y', 't', 'h', 'o', 'n')"
      ]
     },
     "execution_count": 37,
     "metadata": {},
     "output_type": "execute_result"
    }
   ],
   "source": [
    "s1='python'\n",
    "s1[0],s1[1],s1[2],s1[3],s1[4],s1[5]"
   ]
  },
  {
   "cell_type": "code",
   "execution_count": 38,
   "id": "bea8b7b0-48b3-4465-8ee4-73c5d2c8d5bf",
   "metadata": {},
   "outputs": [
    {
     "data": {
      "text/plain": [
       "('n', 'o', 'h', 't', 'y', 'p')"
      ]
     },
     "execution_count": 38,
     "metadata": {},
     "output_type": "execute_result"
    }
   ],
   "source": [
    "s1='python'\n",
    "s1[-1],s1[-2],s1[-3],s1[-4],s1[-5],s1[-6]"
   ]
  },
  {
   "cell_type": "code",
   "execution_count": null,
   "id": "4d759e6a-60b4-45ec-be38-dbe906cf1723",
   "metadata": {},
   "outputs": [],
   "source": []
  }
 ],
 "metadata": {
  "kernelspec": {
   "display_name": "Python 3 (ipykernel)",
   "language": "python",
   "name": "python3"
  },
  "language_info": {
   "codemirror_mode": {
    "name": "ipython",
    "version": 3
   },
   "file_extension": ".py",
   "mimetype": "text/x-python",
   "name": "python",
   "nbconvert_exporter": "python",
   "pygments_lexer": "ipython3",
   "version": "3.11.7"
  }
 },
 "nbformat": 4,
 "nbformat_minor": 5
}
