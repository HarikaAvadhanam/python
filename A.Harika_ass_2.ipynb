{
 "cells": [
  {
   "cell_type": "code",
   "execution_count": 4,
   "id": "2f912ab3-c583-467a-8709-c907e0d8b299",
   "metadata": {},
   "outputs": [
    {
     "name": "stdout",
     "output_type": "stream",
     "text": [
      "38\n",
      "The square of 38 is 1444\n"
     ]
    }
   ],
   "source": [
    "import random\n",
    "num=random.randint(1,100)\n",
    "print(num)\n",
    "square=num*num\n",
    "print(f\"The square of {num} is {square}\")"
   ]
  },
  {
   "cell_type": "code",
   "execution_count": 3,
   "id": "64cc3f3d-d466-46cf-8b3b-babb013b9826",
   "metadata": {},
   "outputs": [
    {
     "name": "stdout",
     "output_type": "stream",
     "text": [
      "37\n",
      "37---74---111---148---185\n"
     ]
    }
   ],
   "source": [
    "x=random.randint(1,100)\n",
    "print(x)\n",
    "print(1*x,2*x,3*x,4*x,5*x,sep='---')"
   ]
  },
  {
   "cell_type": "code",
   "execution_count": 5,
   "id": "c30a65a9-0d9a-4a9c-8ec2-693f36d30804",
   "metadata": {},
   "outputs": [
    {
     "name": "stdout",
     "output_type": "stream",
     "text": [
      "82\n",
      "180.4\n"
     ]
    }
   ],
   "source": [
    "weight_in_kg=random.randint(1,100)\n",
    "print(weight_in_kg)\n",
    "weight_in_pounds=2.2*weight_in_kg\n",
    "print(weight_in_pounds)"
   ]
  },
  {
   "cell_type": "code",
   "execution_count": 7,
   "id": "b7acd3a0-d676-4754-8e01-31794eb18817",
   "metadata": {},
   "outputs": [
    {
     "name": "stdout",
     "output_type": "stream",
     "text": [
      "7\n",
      "4\n",
      "1\n",
      "the total of three numbers is 12\n",
      "the average of three numbers is 4.0\n"
     ]
    }
   ],
   "source": [
    "num1=random.randint(1,10)\n",
    "num2=random.randint(1,10)\n",
    "num3=random.randint(1,10)\n",
    "total=num1+num2+num3\n",
    "average=total/3\n",
    "print(num1)\n",
    "print(num2)\n",
    "print(num3)\n",
    "print(f\"the total of three numbers is {total}\")\n",
    "print(f\"the average of three numbers is {average}\")"
   ]
  },
  {
   "cell_type": "code",
   "execution_count": 9,
   "id": "f8049ada-3cd7-485d-9851-dae9bde81719",
   "metadata": {},
   "outputs": [
    {
     "name": "stdout",
     "output_type": "stream",
     "text": [
      "16\n",
      "2\n",
      "tip amount is 0.32\n",
      "final bill is 16.32\n"
     ]
    }
   ],
   "source": [
    "bill=random.randint(1,20)\n",
    "print(bill)\n",
    "percent_tip_user_want_to_leave=random.randint(1,5)\n",
    "print(percent_tip_user_want_to_leave)\n",
    "tip_amount=bill*(percent_tip_user_want_to_leave/100)\n",
    "final_bill=bill+tip_amount\n",
    "print(f\"tip amount is {tip_amount}\")\n",
    "print(f\"final bill is {final_bill}\")"
   ]
  },
  {
   "cell_type": "code",
   "execution_count": 10,
   "id": "c85223e5-17f3-461e-86a2-a74ceb52a92f",
   "metadata": {},
   "outputs": [
    {
     "name": "stdout",
     "output_type": "stream",
     "text": [
      "4\n",
      "2\n",
      "addition of 4 and 2 is 6 \n",
      "subtraction of 4 and 2 is 2 \n",
      "multiplication of 4 and 2 is 8 \n",
      "division of 4 and 2 is 2.0 \n"
     ]
    }
   ],
   "source": [
    "num1=random.randint(1,20)\n",
    "num2=random.randint(1,20)\n",
    "print(num1)\n",
    "print(num2)\n",
    "add=num1+num2\n",
    "sub=num1-num2\n",
    "mul=num1*num2\n",
    "div=num1/num2\n",
    "print(f\"addition of {num1} and {num2} is {add} \")\n",
    "print(f\"subtraction of {num1} and {num2} is {sub} \")\n",
    "print(f\"multiplication of {num1} and {num2} is {mul} \")\n",
    "print(f\"division of {num1} and {num2} is {div} \")"
   ]
  },
  {
   "cell_type": "code",
   "execution_count": 13,
   "id": "1510cc5b-533e-48b6-b65f-4828d984bd38",
   "metadata": {},
   "outputs": [
    {
     "name": "stdout",
     "output_type": "stream",
     "text": [
      "9\n",
      "area of circle is 254.34\n"
     ]
    }
   ],
   "source": [
    "radius=random.randint(1,10)\n",
    "print(radius)\n",
    "pi=3.14\n",
    "area_of_circle=pi*radius*radius\n",
    "print(f\"area of circle is {area_of_circle}\")"
   ]
  },
  {
   "cell_type": "code",
   "execution_count": 15,
   "id": "bc96f340-3502-4e67-bc3a-9e03b40fb1f0",
   "metadata": {},
   "outputs": [
    {
     "name": "stdout",
     "output_type": "stream",
     "text": [
      "6\n",
      "171\n",
      "Total bill in rupees is 402\n"
     ]
    }
   ],
   "source": [
    "bill_amount_in_dollars=random.randint(1,10)\n",
    "print(bill_amount_in_dollars)\n",
    "dollar_to_rupee=random.randint(50,70)\n",
    "print(bill_amount_in_rupees)\n",
    "bill_amount_in_rupees=bill_amount_in_dollars*dollar_to_rupee\n",
    "print(f\"Total bill in rupees is {bill_amount_in_rupees}\")"
   ]
  },
  {
   "cell_type": "code",
   "execution_count": 16,
   "id": "67ab1ab2-370a-4b71-9e31-4febb492b328",
   "metadata": {},
   "outputs": [
    {
     "name": "stdout",
     "output_type": "stream",
     "text": [
      "7 12\n",
      "area of triangle 42.0 \n"
     ]
    }
   ],
   "source": [
    "base=random.randint(5,10)\n",
    "height=random.randint(10,15)\n",
    "print(base,height)\n",
    "area_of_triangle=1/2*(base*height)\n",
    "print(f\"area of triangle {area_of_triangle} \")"
   ]
  },
  {
   "cell_type": "code",
   "execution_count": 17,
   "id": "5a7b2df4-f0cf-4942-815f-5d5c5f35f505",
   "metadata": {},
   "outputs": [
    {
     "name": "stdout",
     "output_type": "stream",
     "text": [
      "21 16\n",
      "area of rectangle with length 21 and breadth 16 is 336\n"
     ]
    }
   ],
   "source": [
    "length=random.randint(5,50)\n",
    "breadth=random.randint(5,19)\n",
    "print(length,breadth)\n",
    "area=length*breadth\n",
    "print(\"area of rectangle with length {} and breadth {} is {}\".format(length,breadth,area))"
   ]
  },
  {
   "cell_type": "code",
   "execution_count": 19,
   "id": "7d7d7f1d-cd00-452a-bc3d-f8f123fcc032",
   "metadata": {},
   "outputs": [
    {
     "name": "stdout",
     "output_type": "stream",
     "text": [
      "Father: Hey Baby!\n",
      "Daughter: Hello Daddy\n",
      "Father: I heard your exams are over, what about result\n",
      "Daughter: Yes dad! Results are out.\n",
      "Father: What is the percentage?\n",
      "Daughter: I will give my subject-wise marks, you tell me the percentage\n",
      "Father: Okay!\n"
     ]
    },
    {
     "name": "stdin",
     "output_type": "stream",
     "text": [
      "First Language:  20\n",
      "Second Language:  80\n",
      "Third Language:  90\n",
      "Science:  70\n",
      "Maths:  98\n"
     ]
    },
    {
     "name": "stdout",
     "output_type": "stream",
     "text": [
      "Daughter: Dad, now tell me how much percentage I got\n",
      "Father: Tell me the max marks of each subject\n"
     ]
    },
    {
     "name": "stdin",
     "output_type": "stream",
     "text": [
      "Daughter:  100\n"
     ]
    },
    {
     "name": "stdout",
     "output_type": "stream",
     "text": [
      "Father: You scored 71.6%\n"
     ]
    }
   ],
   "source": [
    "import time\n",
    "print(\"Father: Hey Baby!\")\n",
    "time.sleep(2)\n",
    "print(\"Daughter: Hello Daddy\")\n",
    "time.sleep(1)\n",
    "print(\"Father: I heard your exams are over, what about result\")\n",
    "time.sleep(2)\n",
    "print(\"Daughter: Yes dad! Results are out.\")\n",
    "time.sleep(1)\n",
    "print(\"Father: What is the percentage?\")\n",
    "time.sleep(2)\n",
    "print(\"Daughter: I will give my subject-wise marks, you tell me the percentage\")\n",
    "time.sleep(2)\n",
    "print(\"Father: Okay!\")\n",
    "time.sleep(2)\n",
    "sub1 = eval(input(\"First Language: \"))\n",
    "sub2 = eval(input(\"Second Language: \"))\n",
    "sub3 = eval(input(\"Third Language: \"))\n",
    "sub4 = eval(input(\"Science: \"))\n",
    "sub5 = eval(input(\"Maths: \"))\n",
    "print(\"Daughter: Dad, now tell me how much percentage I got\")\n",
    "time.sleep(1)\n",
    "print(\"Father: Tell me the max marks of each subject\")\n",
    "max_marks = eval(input(\"Daughter: \"))\n",
    "total_marks= sub1 + sub2 + sub3 + sub4 + sub5\n",
    "total_max_marks = 5 * max_marks\n",
    "percentage = (total_marks / total_max_marks) * 100\n",
    "print(f\"Father: You scored {percentage}%\")"
   ]
  },
  {
   "cell_type": "markdown",
   "id": "3d337cc9-e4b2-45a3-8f5d-95d0b4d1f085",
   "metadata": {},
   "source": [
    "# "
   ]
  }
 ],
 "metadata": {
  "kernelspec": {
   "display_name": "Python 3 (ipykernel)",
   "language": "python",
   "name": "python3"
  },
  "language_info": {
   "codemirror_mode": {
    "name": "ipython",
    "version": 3
   },
   "file_extension": ".py",
   "mimetype": "text/x-python",
   "name": "python",
   "nbconvert_exporter": "python",
   "pygments_lexer": "ipython3",
   "version": "3.11.7"
  }
 },
 "nbformat": 4,
 "nbformat_minor": 5
}
