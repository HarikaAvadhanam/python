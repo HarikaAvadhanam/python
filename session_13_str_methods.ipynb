{
 "cells": [
  {
   "cell_type": "code",
   "execution_count": 4,
   "id": "7567f140-25e0-4891-a990-9f2332023aa3",
   "metadata": {},
   "outputs": [
    {
     "ename": "NameError",
     "evalue": "name 'count' is not defined",
     "output_type": "error",
     "traceback": [
      "\u001b[1;31m---------------------------------------------------------------------------\u001b[0m",
      "\u001b[1;31mNameError\u001b[0m                                 Traceback (most recent call last)",
      "Cell \u001b[1;32mIn[4], line 4\u001b[0m\n\u001b[0;32m      2\u001b[0m \u001b[38;5;28;01mfor\u001b[39;00m i \u001b[38;5;129;01min\u001b[39;00m str1:\n\u001b[0;32m      3\u001b[0m     \u001b[38;5;28;01mif\u001b[39;00m i\u001b[38;5;241m==\u001b[39m\u001b[38;5;124m'\u001b[39m\u001b[38;5;124ma\u001b[39m\u001b[38;5;124m'\u001b[39m:\n\u001b[1;32m----> 4\u001b[0m         count\u001b[38;5;241m=\u001b[39mcount\u001b[38;5;241m+\u001b[39m\u001b[38;5;241m1\u001b[39m\n\u001b[0;32m      5\u001b[0m count\u001b[38;5;241m=\u001b[39m\u001b[38;5;241m0\u001b[39m        \n\u001b[0;32m      6\u001b[0m \u001b[38;5;28mprint\u001b[39m(count)\n",
      "\u001b[1;31mNameError\u001b[0m: name 'count' is not defined"
     ]
    }
   ],
   "source": [
    "str1='hai how are you'\n",
    "for i in str1:\n",
    "    if i=='a':\n",
    "        count=count+1\n",
    "count=0        \n",
    "\n"
   ]
  },
  {
   "cell_type": "code",
   "execution_count": 3,
   "id": "68666c27-7d05-44fa-a6ef-8c87a47d748b",
   "metadata": {},
   "outputs": [
    {
     "data": {
      "text/plain": [
       "2"
      ]
     },
     "execution_count": 3,
     "metadata": {},
     "output_type": "execute_result"
    }
   ],
   "source": [
    "str1='hai how are you'\n",
    "str1.count('a')"
   ]
  },
  {
   "cell_type": "code",
   "execution_count": 5,
   "id": "8b940250-7ccf-46a6-a931-d05c8a582ff4",
   "metadata": {},
   "outputs": [
    {
     "data": {
      "text/plain": [
       "3"
      ]
     },
     "execution_count": 5,
     "metadata": {},
     "output_type": "execute_result"
    }
   ],
   "source": [
    "str1='hai hai hai'\n",
    "str1.count('a')"
   ]
  },
  {
   "cell_type": "markdown",
   "id": "0747c242-e5b1-461e-9c9f-79727f44f089",
   "metadata": {},
   "source": [
    "- we want num of a from specific index\n",
    "\n",
    "- we want num of a between two index"
   ]
  },
  {
   "cell_type": "code",
   "execution_count": null,
   "id": "e97d1273-65fc-4331-917c-383ba8d2036b",
   "metadata": {},
   "outputs": [],
   "source": [
    "h    a     i     h      a     i      h     a       i\n",
    "0    1      2     3     4      5      6     7      8"
   ]
  },
  {
   "cell_type": "code",
   "execution_count": 6,
   "id": "c2d457d5-0880-42d0-b2cf-63f97919c9f0",
   "metadata": {},
   "outputs": [
    {
     "data": {
      "text/plain": [
       "3"
      ]
     },
     "execution_count": 6,
     "metadata": {},
     "output_type": "execute_result"
    }
   ],
   "source": [
    "str1.count('a')"
   ]
  },
  {
   "cell_type": "code",
   "execution_count": 7,
   "id": "fb466da9-cacc-4714-a65d-59f445240371",
   "metadata": {},
   "outputs": [
    {
     "data": {
      "text/plain": [
       "1"
      ]
     },
     "execution_count": 7,
     "metadata": {},
     "output_type": "execute_result"
    }
   ],
   "source": [
    "str1.count('a',6)"
   ]
  },
  {
   "cell_type": "code",
   "execution_count": 8,
   "id": "d26e6137-7910-406a-8b4b-5173183614e6",
   "metadata": {},
   "outputs": [
    {
     "data": {
      "text/plain": [
       "2"
      ]
     },
     "execution_count": 8,
     "metadata": {},
     "output_type": "execute_result"
    }
   ],
   "source": [
    "str1.count('a',4)    #used to search num of 'a''s from index 4  , here index 4 is included"
   ]
  },
  {
   "cell_type": "code",
   "execution_count": 9,
   "id": "65889e40-4443-48dc-9a73-8566c99266a6",
   "metadata": {},
   "outputs": [
    {
     "data": {
      "text/plain": [
       "1"
      ]
     },
     "execution_count": 9,
     "metadata": {},
     "output_type": "execute_result"
    }
   ],
   "source": [
    "str1.count('a',4,8)   #searching 'a' between two index  , here index 4 is not included"
   ]
  },
  {
   "cell_type": "code",
   "execution_count": 10,
   "id": "9793dfb7-f17a-429a-a1c3-f54e9eba7cc6",
   "metadata": {},
   "outputs": [
    {
     "data": {
      "text/plain": [
       "1"
      ]
     },
     "execution_count": 10,
     "metadata": {},
     "output_type": "execute_result"
    }
   ],
   "source": [
    "str1.count('a',-4)"
   ]
  },
  {
   "cell_type": "code",
   "execution_count": 13,
   "id": "31fde97b-9d10-4266-a5b8-ce5224fcc462",
   "metadata": {},
   "outputs": [
    {
     "data": {
      "text/plain": [
       "2"
      ]
     },
     "execution_count": 13,
     "metadata": {},
     "output_type": "execute_result"
    }
   ],
   "source": [
    "str1.count('a',-8,-1)"
   ]
  },
  {
   "cell_type": "code",
   "execution_count": 3,
   "id": "1332b24f-f812-4c81-abad-fdfeb4edd259",
   "metadata": {},
   "outputs": [
    {
     "data": {
      "text/plain": [
       "3"
      ]
     },
     "execution_count": 3,
     "metadata": {},
     "output_type": "execute_result"
    }
   ],
   "source": [
    "str1='ola ola ola'\n",
    "str1.count('ola')"
   ]
  },
  {
   "cell_type": "code",
   "execution_count": 4,
   "id": "d838abc7-92b1-4c32-81a0-c4e7552af3e5",
   "metadata": {},
   "outputs": [],
   "source": [
    "str1='ola ola ola'\n",
    "for i in str1:\n",
    "    if i=='ola':\n",
    "        print(i)"
   ]
  },
  {
   "cell_type": "code",
   "execution_count": null,
   "id": "456ce111-3f24-4758-8442-44da88237a0a",
   "metadata": {},
   "outputs": [],
   "source": [
    "#str1=[i:i+3]   #ola ola ola  #ola count 1 . la , a o  , ol,  ola-2"
   ]
  },
  {
   "cell_type": "markdown",
   "id": "f530186f-a8a9-4960-89b8-85b0ad3e454b",
   "metadata": {},
   "source": [
    "**window method**"
   ]
  },
  {
   "cell_type": "code",
   "execution_count": 8,
   "id": "d70ddeb4-ac28-4881-b91a-5c4e44cf060a",
   "metadata": {},
   "outputs": [
    {
     "name": "stdout",
     "output_type": "stream",
     "text": [
      "3\n"
     ]
    }
   ],
   "source": [
    "count=0\n",
    "str1='ola ola ola'\n",
    "for i in range(len(str1)):\n",
    "    if str1[i:i+3]=='ola':\n",
    "        count=count+1\n",
    "print(count)        "
   ]
  },
  {
   "cell_type": "code",
   "execution_count": 9,
   "id": "b4e68673-3fd2-4f88-9877-ff741b0573f5",
   "metadata": {},
   "outputs": [
    {
     "data": {
      "text/plain": [
       "1"
      ]
     },
     "execution_count": 9,
     "metadata": {},
     "output_type": "execute_result"
    }
   ],
   "source": [
    "str1='ola ola ola'\n",
    "str1.count('ola ola')"
   ]
  },
  {
   "cell_type": "code",
   "execution_count": 10,
   "id": "1d016ac3-eeef-4a94-9bb9-8f48fdb4e2d4",
   "metadata": {},
   "outputs": [
    {
     "data": {
      "text/plain": [
       "1"
      ]
     },
     "execution_count": 10,
     "metadata": {},
     "output_type": "execute_result"
    }
   ],
   "source": [
    "str1='ola ola ola'\n",
    "str1.count(str1)"
   ]
  },
  {
   "cell_type": "code",
   "execution_count": 11,
   "id": "6984f9c6-aacd-478a-a915-055d38d8a7ee",
   "metadata": {},
   "outputs": [
    {
     "data": {
      "text/plain": [
       "0"
      ]
     },
     "execution_count": 11,
     "metadata": {},
     "output_type": "execute_result"
    }
   ],
   "source": [
    "str1.count('z')\n",
    "#no ans\n",
    "#error\n",
    "#zero\n"
   ]
  },
  {
   "cell_type": "markdown",
   "id": "27ccb0b1-6532-4b2c-82a0-cfcde5752681",
   "metadata": {},
   "source": [
    "**replace**"
   ]
  },
  {
   "cell_type": "code",
   "execution_count": 13,
   "id": "7efe850e-1112-4885-9abd-0ccce3fc4b5e",
   "metadata": {},
   "outputs": [
    {
     "name": "stdout",
     "output_type": "stream",
     "text": [
      "weLcome\n"
     ]
    }
   ],
   "source": [
    "str1='welcome'\n",
    "#want to replace l with L\n",
    "#string is immutable we cannot use index operations\n",
    "#so the solution is slice and concatenation\n",
    "#divide welcome into  : we     come\n",
    "s1='we'\n",
    "s2='come'\n",
    "print(s1+'L'+s2)"
   ]
  },
  {
   "cell_type": "code",
   "execution_count": 16,
   "id": "116329b2-96e4-41e0-9a65-e811fe215ad3",
   "metadata": {},
   "outputs": [
    {
     "name": "stdout",
     "output_type": "stream",
     "text": [
      "weLcome\n"
     ]
    }
   ],
   "source": [
    "s1=str1[0:2]\n",
    "s2='L'\n",
    "s3=str1[3:len(str1)]\n",
    "print(s1+s2+s3)"
   ]
  },
  {
   "cell_type": "code",
   "execution_count": 17,
   "id": "9d4f8918-ad0d-4a9c-957e-df25878283ab",
   "metadata": {},
   "outputs": [
    {
     "data": {
      "text/plain": [
       "'L'"
      ]
     },
     "execution_count": 17,
     "metadata": {},
     "output_type": "execute_result"
    }
   ],
   "source": [
    "chr(ord('l')-32) #each letter -32 gives capital and each letter with plus 32 gives small letter"
   ]
  },
  {
   "cell_type": "code",
   "execution_count": 18,
   "id": "b05c9e06-de38-4947-89ad-9ff4e2414332",
   "metadata": {},
   "outputs": [
    {
     "data": {
      "text/plain": [
       "'weLcome'"
      ]
     },
     "execution_count": 18,
     "metadata": {},
     "output_type": "execute_result"
    }
   ],
   "source": [
    "str1='welcome'\n",
    "str1.replace('l','L')"
   ]
  },
  {
   "cell_type": "code",
   "execution_count": 19,
   "id": "9a4f4d4e-18ea-4149-8d04-81dfbc6dafee",
   "metadata": {},
   "outputs": [
    {
     "data": {
      "text/plain": [
       "'weLLcome'"
      ]
     },
     "execution_count": 19,
     "metadata": {},
     "output_type": "execute_result"
    }
   ],
   "source": [
    "str1='wellcome'\n",
    "str1.replace('l','L')"
   ]
  },
  {
   "cell_type": "markdown",
   "id": "5018d424-1b59-4179-9e81-6239474e18c6",
   "metadata": {},
   "source": [
    "- by default replace change all the occurances\n",
    "\n",
    "- count=-1 is responsible for that\n",
    "\n",
    "- give welcome and change count=1 and count=2 explore it"
   ]
  },
  {
   "cell_type": "code",
   "execution_count": 20,
   "id": "6e1660ef-3dfc-4941-b632-f5a41f98e547",
   "metadata": {},
   "outputs": [
    {
     "data": {
      "text/plain": [
       "'weLlllcome'"
      ]
     },
     "execution_count": 20,
     "metadata": {},
     "output_type": "execute_result"
    }
   ],
   "source": [
    "str1='wellllcome'\n",
    "str1.replace('l','L',1)  # old='l' new 'L'   count=1\n",
    "#when we write count=1 it will change only first letter"
   ]
  },
  {
   "cell_type": "code",
   "execution_count": 21,
   "id": "6cf07f77-a57d-4f4b-8b4d-7c2be092b569",
   "metadata": {},
   "outputs": [
    {
     "data": {
      "text/plain": [
       "'weLLllcome'"
      ]
     },
     "execution_count": 21,
     "metadata": {},
     "output_type": "execute_result"
    }
   ],
   "source": [
    "str1='wellllcome'\n",
    "str1.replace('l','L',2)"
   ]
  },
  {
   "cell_type": "code",
   "execution_count": 23,
   "id": "5ba7ce0f-ec4d-4ee6-84d1-3070346e59e9",
   "metadata": {},
   "outputs": [
    {
     "data": {
      "text/plain": [
       "'$esta$t'"
      ]
     },
     "execution_count": 23,
     "metadata": {},
     "output_type": "execute_result"
    }
   ],
   "source": [
    "str1='restart'  \n",
    "#expected output :resta$t\n",
    "str1.replace('r','$')"
   ]
  },
  {
   "cell_type": "code",
   "execution_count": 30,
   "id": "2de27c8a-2b04-43b8-b574-51a49af2ab3d",
   "metadata": {},
   "outputs": [
    {
     "data": {
      "text/plain": [
       "'$esta$t'"
      ]
     },
     "execution_count": 30,
     "metadata": {},
     "output_type": "execute_result"
    }
   ],
   "source": [
    "str1.replace('r','$',-2)"
   ]
  },
  {
   "cell_type": "code",
   "execution_count": 37,
   "id": "9ff658e3-9b08-4827-bea5-cf78d29a1444",
   "metadata": {},
   "outputs": [
    {
     "data": {
      "text/plain": [
       "'resta'"
      ]
     },
     "execution_count": 37,
     "metadata": {},
     "output_type": "execute_result"
    }
   ],
   "source": [
    "s1=str1[0:5]\n",
    "s1"
   ]
  },
  {
   "cell_type": "code",
   "execution_count": 41,
   "id": "a2d5b648-23e2-40bf-9807-1ad5805d2602",
   "metadata": {},
   "outputs": [
    {
     "data": {
      "text/plain": [
       "'$t'"
      ]
     },
     "execution_count": 41,
     "metadata": {},
     "output_type": "execute_result"
    }
   ],
   "source": [
    "s2=str1[5:8]\n",
    "s3=s2.replace('r','$')\n",
    "s3"
   ]
  },
  {
   "cell_type": "code",
   "execution_count": 42,
   "id": "cc8e1aa7-bcf2-4549-a17d-630f8332c345",
   "metadata": {},
   "outputs": [
    {
     "data": {
      "text/plain": [
       "'resta$t'"
      ]
     },
     "execution_count": 42,
     "metadata": {},
     "output_type": "execute_result"
    }
   ],
   "source": [
    "s1+s3"
   ]
  },
  {
   "cell_type": "code",
   "execution_count": 43,
   "id": "172321db-cbdb-4296-bd69-251e38908216",
   "metadata": {},
   "outputs": [
    {
     "data": {
      "text/plain": [
       "'resta$t'"
      ]
     },
     "execution_count": 43,
     "metadata": {},
     "output_type": "execute_result"
    }
   ],
   "source": [
    "str1='restart'\n",
    "str1[::-1].replace('r','$',1)[::-1]"
   ]
  },
  {
   "cell_type": "code",
   "execution_count": 44,
   "id": "c56c8164-0bd3-4e5e-b699-3c0a4456bd8e",
   "metadata": {},
   "outputs": [
    {
     "data": {
      "text/plain": [
       "['__add__',\n",
       " '__class__',\n",
       " '__contains__',\n",
       " '__delattr__',\n",
       " '__dir__',\n",
       " '__doc__',\n",
       " '__eq__',\n",
       " '__format__',\n",
       " '__ge__',\n",
       " '__getattribute__',\n",
       " '__getitem__',\n",
       " '__getnewargs__',\n",
       " '__getstate__',\n",
       " '__gt__',\n",
       " '__hash__',\n",
       " '__init__',\n",
       " '__init_subclass__',\n",
       " '__iter__',\n",
       " '__le__',\n",
       " '__len__',\n",
       " '__lt__',\n",
       " '__mod__',\n",
       " '__mul__',\n",
       " '__ne__',\n",
       " '__new__',\n",
       " '__reduce__',\n",
       " '__reduce_ex__',\n",
       " '__repr__',\n",
       " '__rmod__',\n",
       " '__rmul__',\n",
       " '__setattr__',\n",
       " '__sizeof__',\n",
       " '__str__',\n",
       " '__subclasshook__',\n",
       " 'capitalize',\n",
       " 'casefold',\n",
       " 'center',\n",
       " 'count',\n",
       " 'encode',\n",
       " 'endswith',\n",
       " 'expandtabs',\n",
       " 'find',\n",
       " 'format',\n",
       " 'format_map',\n",
       " 'index',\n",
       " 'isalnum',\n",
       " 'isalpha',\n",
       " 'isascii',\n",
       " 'isdecimal',\n",
       " 'isdigit',\n",
       " 'isidentifier',\n",
       " 'islower',\n",
       " 'isnumeric',\n",
       " 'isprintable',\n",
       " 'isspace',\n",
       " 'istitle',\n",
       " 'isupper',\n",
       " 'join',\n",
       " 'ljust',\n",
       " 'lower',\n",
       " 'lstrip',\n",
       " 'maketrans',\n",
       " 'partition',\n",
       " 'removeprefix',\n",
       " 'removesuffix',\n",
       " 'replace',\n",
       " 'rfind',\n",
       " 'rindex',\n",
       " 'rjust',\n",
       " 'rpartition',\n",
       " 'rsplit',\n",
       " 'rstrip',\n",
       " 'split',\n",
       " 'splitlines',\n",
       " 'startswith',\n",
       " 'strip',\n",
       " 'swapcase',\n",
       " 'title',\n",
       " 'translate',\n",
       " 'upper',\n",
       " 'zfill']"
      ]
     },
     "execution_count": 44,
     "metadata": {},
     "output_type": "execute_result"
    }
   ],
   "source": [
    "dir(' ')"
   ]
  },
  {
   "cell_type": "code",
   "execution_count": 45,
   "id": "afd58af6-cb45-4a4a-8aa8-59616a87b94c",
   "metadata": {},
   "outputs": [
    {
     "data": {
      "text/plain": [
       "False"
      ]
     },
     "execution_count": 45,
     "metadata": {},
     "output_type": "execute_result"
    }
   ],
   "source": [
    "str1='hello'\n",
    "str1.isupper()"
   ]
  },
  {
   "cell_type": "code",
   "execution_count": 48,
   "id": "de17c2eb-cb02-41cd-a7e1-f6a3c312dc71",
   "metadata": {},
   "outputs": [
    {
     "data": {
      "text/plain": [
       "False"
      ]
     },
     "execution_count": 48,
     "metadata": {},
     "output_type": "execute_result"
    }
   ],
   "source": [
    "str1='hello'\n",
    "str1.isspace()"
   ]
  },
  {
   "cell_type": "markdown",
   "id": "71412665-bc7f-421b-a08c-d9548250d5b6",
   "metadata": {},
   "source": [
    "**indexing-find**"
   ]
  },
  {
   "cell_type": "code",
   "execution_count": 8,
   "id": "ca3ad695-c9a4-4bf2-a5f7-83772c9d5d3f",
   "metadata": {},
   "outputs": [
    {
     "data": {
      "text/plain": [
       "1"
      ]
     },
     "execution_count": 8,
     "metadata": {},
     "output_type": "execute_result"
    }
   ],
   "source": [
    "str1=\"hai hai hai\"\n",
    "str1.index('a') #always returns the lowest index"
   ]
  },
  {
   "cell_type": "code",
   "execution_count": 7,
   "id": "0968261f-b81c-424b-9187-36ff1e2a419e",
   "metadata": {},
   "outputs": [
    {
     "data": {
      "text/plain": [
       "5"
      ]
     },
     "execution_count": 7,
     "metadata": {},
     "output_type": "execute_result"
    }
   ],
   "source": [
    "str1=\"hai hai hai\"\n",
    "str1.index('a',3) # after 3rd index lowest index of 'a' is printed which is 5"
   ]
  },
  {
   "cell_type": "code",
   "execution_count": 9,
   "id": "8eaf9807-0348-4c75-b1ea-e2a7396d2439",
   "metadata": {},
   "outputs": [
    {
     "data": {
      "text/plain": [
       "5"
      ]
     },
     "execution_count": 9,
     "metadata": {},
     "output_type": "execute_result"
    }
   ],
   "source": [
    "str1=\"hai hai hai\"\n",
    "str1.index('a',3,7)#between 3 to 7 the lowest index of  'a' is printed"
   ]
  },
  {
   "cell_type": "code",
   "execution_count": 12,
   "id": "c77c789e-a8cc-434d-b7e8-2288d3809634",
   "metadata": {},
   "outputs": [
    {
     "data": {
      "text/plain": [
       "5"
      ]
     },
     "execution_count": 12,
     "metadata": {},
     "output_type": "execute_result"
    }
   ],
   "source": [
    "str1=\"hai hai hai\"\n",
    "str1.index('a',-8,-4)"
   ]
  },
  {
   "cell_type": "code",
   "execution_count": 20,
   "id": "8f023179-de36-4e34-ad61-b47546c79ee4",
   "metadata": {},
   "outputs": [
    {
     "data": {
      "text/plain": [
       "5"
      ]
     },
     "execution_count": 20,
     "metadata": {},
     "output_type": "execute_result"
    }
   ],
   "source": [
    "str1=\"hai hai hai\"\n",
    "str1.index('a',-9,-1)"
   ]
  },
  {
   "cell_type": "code",
   "execution_count": 29,
   "id": "c74a450d-e8fb-41cf-a0b8-778377dbdc78",
   "metadata": {},
   "outputs": [
    {
     "name": "stdout",
     "output_type": "stream",
     "text": [
      "1\n",
      "5\n",
      "9\n"
     ]
    }
   ],
   "source": [
    "#      1   5   9\n",
    "str1=\"hai hai hai\"\n",
    "i1=str1.index('a')\n",
    "print(i1)\n",
    "i2=str1.index('a',i1+1)\n",
    "print(i2)\n",
    "i3=str1.index('a',i2+1)\n",
    "print(i3)"
   ]
  },
  {
   "cell_type": "markdown",
   "id": "bc89f964-8f02-4f08-9ba1-9c88af1c16e5",
   "metadata": {},
   "source": [
    "**find**"
   ]
  },
  {
   "cell_type": "code",
   "execution_count": 34,
   "id": "53993fe3-637e-4815-bc1b-55828c53cd4f",
   "metadata": {},
   "outputs": [
    {
     "data": {
      "text/plain": [
       "1"
      ]
     },
     "execution_count": 34,
     "metadata": {},
     "output_type": "execute_result"
    }
   ],
   "source": [
    "str1=\"hai hai hai\"\n",
    "str1.find('a')"
   ]
  },
  {
   "cell_type": "code",
   "execution_count": 36,
   "id": "4df1c8c9-8141-4412-8b9d-461da396e139",
   "metadata": {},
   "outputs": [
    {
     "data": {
      "text/plain": [
       "5"
      ]
     },
     "execution_count": 36,
     "metadata": {},
     "output_type": "execute_result"
    }
   ],
   "source": [
    "str1=\"hai hai hai\"\n",
    "str1.find('a',5,10)"
   ]
  },
  {
   "cell_type": "code",
   "execution_count": 38,
   "id": "582102e8-86c8-4ca6-b1d4-5e9f9c6381ab",
   "metadata": {},
   "outputs": [
    {
     "name": "stdout",
     "output_type": "stream",
     "text": [
      "1\n",
      "5\n",
      "9\n"
     ]
    }
   ],
   "source": [
    "#      1   5   9\n",
    "str1=\"hai hai hai\"\n",
    "i1=str1.find('a')\n",
    "print(i1)\n",
    "i2=str1.find('a',i1+1)\n",
    "print(i2)\n",
    "i3=str1.find('a',i2+1)\n",
    "print(i3)"
   ]
  },
  {
   "cell_type": "code",
   "execution_count": 41,
   "id": "7abadea5-03d6-41cd-a380-62b1a0cacef7",
   "metadata": {},
   "outputs": [
    {
     "data": {
      "text/plain": [
       "0"
      ]
     },
     "execution_count": 41,
     "metadata": {},
     "output_type": "execute_result"
    }
   ],
   "source": [
    "str1=\"hai hai hai\"\n",
    "str1.count('z')"
   ]
  },
  {
   "cell_type": "code",
   "execution_count": 40,
   "id": "a885fa2b-bb80-4c03-9430-f0705de49236",
   "metadata": {},
   "outputs": [
    {
     "data": {
      "text/plain": [
       "'hai hai hai'"
      ]
     },
     "execution_count": 40,
     "metadata": {},
     "output_type": "execute_result"
    }
   ],
   "source": [
    "str1=\"hai hai hai\"\n",
    "str1.replace('z','Z')"
   ]
  },
  {
   "cell_type": "markdown",
   "id": "2e1ba16c-e39f-4bb8-9fd8-3bed075b6ac1",
   "metadata": {},
   "source": [
    "- if substring not found \n",
    "\n",
    "- count methods will give zero\n",
    "\n",
    "- replace method will give original string\n",
    "\n",
    "- index will give sub string not found error\n",
    "\n",
    "- find wll give -1"
   ]
  },
  {
   "cell_type": "code",
   "execution_count": 42,
   "id": "565107a1-e7ad-4e0b-9b7f-27d99621cd14",
   "metadata": {},
   "outputs": [
    {
     "ename": "ValueError",
     "evalue": "substring not found",
     "output_type": "error",
     "traceback": [
      "\u001b[1;31m---------------------------------------------------------------------------\u001b[0m",
      "\u001b[1;31mValueError\u001b[0m                                Traceback (most recent call last)",
      "Cell \u001b[1;32mIn[42], line 2\u001b[0m\n\u001b[0;32m      1\u001b[0m str1\u001b[38;5;241m=\u001b[39m\u001b[38;5;124m\"\u001b[39m\u001b[38;5;124mhai hai hai\u001b[39m\u001b[38;5;124m\"\u001b[39m\n\u001b[1;32m----> 2\u001b[0m str1\u001b[38;5;241m.\u001b[39mindex(\u001b[38;5;124m'\u001b[39m\u001b[38;5;124mz\u001b[39m\u001b[38;5;124m'\u001b[39m)\n",
      "\u001b[1;31mValueError\u001b[0m: substring not found"
     ]
    }
   ],
   "source": [
    "str1=\"hai hai hai\"\n",
    "str1.index('z')"
   ]
  },
  {
   "cell_type": "code",
   "execution_count": 43,
   "id": "d4961182-6520-4761-8b58-23ae12a598a3",
   "metadata": {},
   "outputs": [
    {
     "data": {
      "text/plain": [
       "-1"
      ]
     },
     "execution_count": 43,
     "metadata": {},
     "output_type": "execute_result"
    }
   ],
   "source": [
    "str1=\"hai hai hai\"\n",
    "str1.find('z')"
   ]
  },
  {
   "cell_type": "code",
   "execution_count": 57,
   "id": "3126bd72-9614-402d-a76c-cf1b84dadcd9",
   "metadata": {},
   "outputs": [
    {
     "name": "stdout",
     "output_type": "stream",
     "text": [
      "6\n",
      "16\n",
      "24\n",
      "firstname: harika\n",
      "lastname: avadhanam\n",
      "companyname: musigma\n"
     ]
    }
   ],
   "source": [
    "str1='harika.avadhanam@musigma.com'\n",
    "s1=str1.index('.')\n",
    "s2=str1.index('@')\n",
    "s3=str1.index('.',s1+1)\n",
    "print(s1)\n",
    "print(s2)\n",
    "print(s3)\n",
    "print(\"firstname:\",str1[0:s1])\n",
    "print(\"lastname:\",str1[s1+1:s2])\n",
    "print(\"companyname:\",str1[s2+1:s3])"
   ]
  },
  {
   "cell_type": "code",
   "execution_count": null,
   "id": "945c957f-1aa3-4760-a4d5-e740b2a6f589",
   "metadata": {},
   "outputs": [],
   "source": []
  }
 ],
 "metadata": {
  "kernelspec": {
   "display_name": "Python 3 (ipykernel)",
   "language": "python",
   "name": "python3"
  },
  "language_info": {
   "codemirror_mode": {
    "name": "ipython",
    "version": 3
   },
   "file_extension": ".py",
   "mimetype": "text/x-python",
   "name": "python",
   "nbconvert_exporter": "python",
   "pygments_lexer": "ipython3",
   "version": "3.11.7"
  }
 },
 "nbformat": 4,
 "nbformat_minor": 5
}
