{
 "cells": [
  {
   "cell_type": "code",
   "execution_count": 1,
   "id": "f6c6ad7b-bc86-4571-a749-e7dd09b373ec",
   "metadata": {},
   "outputs": [
    {
     "name": "stdin",
     "output_type": "stream",
     "text": [
      " 10\n"
     ]
    },
    {
     "data": {
      "text/plain": [
       "'10'"
      ]
     },
     "execution_count": 1,
     "metadata": {},
     "output_type": "execute_result"
    }
   ],
   "source": [
    "input()"
   ]
  },
  {
   "cell_type": "code",
   "execution_count": 2,
   "id": "7faa43fa-4e01-4a9a-a724-04d31eeed783",
   "metadata": {},
   "outputs": [
    {
     "name": "stdin",
     "output_type": "stream",
     "text": [
      " 10\n",
      " 20\n",
      " 30\n",
      " 40\n"
     ]
    },
    {
     "data": {
      "text/plain": [
       "'40'"
      ]
     },
     "execution_count": 2,
     "metadata": {},
     "output_type": "execute_result"
    }
   ],
   "source": [
    "input()\n",
    "input()\n",
    "input()\n",
    "input()"
   ]
  },
  {
   "cell_type": "code",
   "execution_count": 3,
   "id": "e248ce80-dcf0-42f3-9cd0-bcfc06ee4887",
   "metadata": {},
   "outputs": [
    {
     "name": "stdin",
     "output_type": "stream",
     "text": [
      "enter the number1: 100\n",
      "enter the number2: 200\n",
      "enter the number3: 300\n"
     ]
    },
    {
     "data": {
      "text/plain": [
       "'300'"
      ]
     },
     "execution_count": 3,
     "metadata": {},
     "output_type": "execute_result"
    }
   ],
   "source": [
    "input(\"enter the number1:\")\n",
    "input(\"enter the number2:\")\n",
    "input(\"enter the number3:\")"
   ]
  },
  {
   "cell_type": "code",
   "execution_count": 4,
   "id": "0ee76827-15a8-4b56-a236-6b510da4f1de",
   "metadata": {},
   "outputs": [
    {
     "name": "stdin",
     "output_type": "stream",
     "text": [
      "enter the number1: 100\n",
      "enter the number2: 200\n"
     ]
    }
   ],
   "source": [
    "num1=input(\"enter the number1:\")\n",
    "num2=input(\"enter the number2:\")"
   ]
  },
  {
   "cell_type": "code",
   "execution_count": 5,
   "id": "41fa8c52-33ee-4d13-afe3-4f258d9a2842",
   "metadata": {
    "scrolled": true
   },
   "outputs": [
    {
     "data": {
      "text/plain": [
       "'100200'"
      ]
     },
     "execution_count": 5,
     "metadata": {},
     "output_type": "execute_result"
    }
   ],
   "source": [
    "num1+num2"
   ]
  },
  {
   "cell_type": "markdown",
   "id": "33dee74c-7578-430f-a7b0-2aa92773cb55",
   "metadata": {},
   "source": [
    "**note**\n",
    "\n",
    "- input always give the string data type only\n",
    "\n",
    "- in order to perform math calculations we need to convert into numerical format i.e.int or float"
   ]
  },
  {
   "cell_type": "code",
   "execution_count": 9,
   "id": "95e49099-c2d2-4f67-9684-0670af48c37c",
   "metadata": {},
   "outputs": [
    {
     "name": "stdin",
     "output_type": "stream",
     "text": [
      "enter the number1: 100\n",
      "enter the number2: 200\n"
     ]
    },
    {
     "data": {
      "text/plain": [
       "'100200'"
      ]
     },
     "execution_count": 9,
     "metadata": {},
     "output_type": "execute_result"
    }
   ],
   "source": [
    "num1=input(\"enter the number1:\") #num1='100'\n",
    "num2=input(\"enter the number2:\") #num2='100'\n",
    "num1+num2 # '100'+'200'='100200'"
   ]
  },
  {
   "cell_type": "code",
   "execution_count": 11,
   "id": "5ec8d78b-5dcc-4cf1-a04d-256b32bf0728",
   "metadata": {},
   "outputs": [
    {
     "name": "stdin",
     "output_type": "stream",
     "text": [
      "enter the number1: 100\n",
      "enter the number2: 200\n"
     ]
    },
    {
     "name": "stdout",
     "output_type": "stream",
     "text": [
      "the addition 100 and 200 is 300\n"
     ]
    }
   ],
   "source": [
    "num1=int(input(\"enter the number1:\")) #num1=int('100')=100\n",
    "num2=int(input(\"enter the number2:\")) #num2=int('200')=200\n",
    "add=num1+num2\n",
    "print(f\"the addition {num1} and {num2} is {add}\")"
   ]
  },
  {
   "cell_type": "code",
   "execution_count": 13,
   "id": "653d0240-6f89-4458-982d-fd90fb46948e",
   "metadata": {},
   "outputs": [
    {
     "name": "stdin",
     "output_type": "stream",
     "text": [
      "enter the number1: 100\n",
      "enter the number1: 200\n"
     ]
    },
    {
     "data": {
      "text/plain": [
       "300"
      ]
     },
     "execution_count": 13,
     "metadata": {},
     "output_type": "execute_result"
    }
   ],
   "source": [
    "num1=input(\"enter the number1:\")\n",
    "num2=input(\"enter the number1:\")\n",
    "int(num1)+int(num2)"
   ]
  },
  {
   "cell_type": "markdown",
   "id": "e6d967be-37b8-4577-820f-7fd62a62a6c9",
   "metadata": {},
   "source": [
    "$eval$\n",
    "\n",
    "- eval means evaluate\n",
    "\n",
    "- what ever the number we enter,eval will convert to corresponding data type"
   ]
  },
  {
   "cell_type": "code",
   "execution_count": 15,
   "id": "8168a4bc-e648-47a7-b186-91a341dcbe49",
   "metadata": {},
   "outputs": [
    {
     "name": "stdin",
     "output_type": "stream",
     "text": [
      " 100\n"
     ]
    },
    {
     "data": {
      "text/plain": [
       "100"
      ]
     },
     "execution_count": 15,
     "metadata": {},
     "output_type": "execute_result"
    }
   ],
   "source": [
    "eval(input())"
   ]
  },
  {
   "cell_type": "code",
   "execution_count": 16,
   "id": "97eae1fc-a090-41e1-9960-a544f3eab501",
   "metadata": {},
   "outputs": [
    {
     "name": "stdin",
     "output_type": "stream",
     "text": [
      " 100.5\n"
     ]
    },
    {
     "data": {
      "text/plain": [
       "100.5"
      ]
     },
     "execution_count": 16,
     "metadata": {},
     "output_type": "execute_result"
    }
   ],
   "source": [
    "eval(input())"
   ]
  },
  {
   "cell_type": "code",
   "execution_count": 17,
   "id": "1ae8aa5e-b181-4c21-ae9d-74395bc40331",
   "metadata": {},
   "outputs": [
    {
     "name": "stdin",
     "output_type": "stream",
     "text": [
      "enter the number1: 100\n",
      "enter the number2: 100.5\n"
     ]
    },
    {
     "name": "stdout",
     "output_type": "stream",
     "text": [
      "the addition 100 and 100.5 is 200.5\n"
     ]
    }
   ],
   "source": [
    "num1=eval(input(\"enter the number1:\"))\n",
    "num2=eval(input(\"enter the number2:\"))\n",
    "add=num1+num2\n",
    "print(f\"the addition {num1} and {num2} is {add}\")"
   ]
  },
  {
   "cell_type": "code",
   "execution_count": 18,
   "id": "ac09c28f-b30f-4e01-a7e9-e5b42d56f38d",
   "metadata": {},
   "outputs": [],
   "source": [
    "#wap ask user to enter 3 numbers calculate avg\n",
    "#wap ask user enter 2 numbers find the sub,add,mul,div\n",
    "#wap ask user enter radius values find the area of circle\n",
    "#wap ask the user bill amount\n",
    "#ask user how much tip u want to pay in per \n",
    "#calculate total bill\n",
    "#wap ask the user bill amount in dollars\n",
    "#ask the user one dollar\n",
    "#print bill amount in rupees\n",
    "#wap ask user enter base and height calculate area of triangle\n",
    "#wap ask user enter length and breadth calculate area of the triangle"
   ]
  },
  {
   "cell_type": "code",
   "execution_count": 22,
   "id": "0523f36e-0d1f-452e-9d7c-cb271f13b050",
   "metadata": {},
   "outputs": [
    {
     "name": "stdin",
     "output_type": "stream",
     "text": [
      "enter a num: 100\n",
      "enter a num: 200\n",
      "enter a num: 300.3\n"
     ]
    },
    {
     "name": "stdout",
     "output_type": "stream",
     "text": [
      "300.15\n"
     ]
    }
   ],
   "source": [
    "num1=eval(input(\"enter a num:\"))\n",
    "num2=eval(input(\"enter a num:\"))\n",
    "num3=eval(input(\"enter a num:\"))\n",
    "avg=(num1+num2+num3)/2\n",
    "print(avg)"
   ]
  },
  {
   "cell_type": "code",
   "execution_count": 24,
   "id": "63e177cd-50bf-45ea-a3d8-9a094ef522cf",
   "metadata": {},
   "outputs": [
    {
     "name": "stdin",
     "output_type": "stream",
     "text": [
      "enter a num 100\n",
      "enter a num 10\n"
     ]
    },
    {
     "name": "stdout",
     "output_type": "stream",
     "text": [
      "110\n",
      "90\n",
      "1000\n",
      "1000\n"
     ]
    }
   ],
   "source": [
    "num1=eval(input(\"enter a num\"))\n",
    "num2=eval(input(\"enter a num\"))\n",
    "add=num1+num2\n",
    "sub=num1-num2\n",
    "mul=num1*num2\n",
    "div=num1*num2\n",
    "print(add)\n",
    "print(sub)\n",
    "print(mul)\n",
    "print(div)"
   ]
  },
  {
   "cell_type": "code",
   "execution_count": null,
   "id": "7d9e5bc6-d1e1-4aef-b387-ad2d1f72eb87",
   "metadata": {},
   "outputs": [],
   "source": []
  }
 ],
 "metadata": {
  "kernelspec": {
   "display_name": "Python 3 (ipykernel)",
   "language": "python",
   "name": "python3"
  },
  "language_info": {
   "codemirror_mode": {
    "name": "ipython",
    "version": 3
   },
   "file_extension": ".py",
   "mimetype": "text/x-python",
   "name": "python",
   "nbconvert_exporter": "python",
   "pygments_lexer": "ipython3",
   "version": "3.11.7"
  }
 },
 "nbformat": 4,
 "nbformat_minor": 5
}
