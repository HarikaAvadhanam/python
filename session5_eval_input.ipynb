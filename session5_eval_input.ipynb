{
 "cells": [
  {
   "cell_type": "code",
   "execution_count": 1,
   "id": "798fe8c6-d12c-4fd0-ae99-c26737035262",
   "metadata": {},
   "outputs": [
    {
     "data": {
      "text/plain": [
       "300"
      ]
     },
     "execution_count": 1,
     "metadata": {},
     "output_type": "execute_result"
    }
   ],
   "source": [
    "num1=100\n",
    "num2=200\n",
    "add=num1+num2\n",
    "add"
   ]
  },
  {
   "cell_type": "markdown",
   "id": "dce50697-ca61-4a79-acd9-62ad8b12ddde",
   "metadata": {},
   "source": [
    "$ input $\n",
    "\n",
    "- input keyword is used to take the values from user\n"
   ]
  },
  {
   "cell_type": "code",
   "execution_count": null,
   "id": "cf714e68-5bdc-4919-8a3e-b3c6b27386f2",
   "metadata": {},
   "outputs": [],
   "source": [
    "input()\n"
   ]
  },
  {
   "cell_type": "code",
   "execution_count": null,
   "id": "f7078098-6792-4547-8bf6-69a0248379ef",
   "metadata": {},
   "outputs": [],
   "source": []
  }
 ],
 "metadata": {
  "kernelspec": {
   "display_name": "Python 3 (ipykernel)",
   "language": "python",
   "name": "python3"
  },
  "language_info": {
   "codemirror_mode": {
    "name": "ipython",
    "version": 3
   },
   "file_extension": ".py",
   "mimetype": "text/x-python",
   "name": "python",
   "nbconvert_exporter": "python",
   "pygments_lexer": "ipython3",
   "version": "3.11.7"
  }
 },
 "nbformat": 4,
 "nbformat_minor": 5
}
