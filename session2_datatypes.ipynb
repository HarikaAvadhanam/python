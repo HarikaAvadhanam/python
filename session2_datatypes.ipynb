{
 "cells": [
  {
   "cell_type": "markdown",
   "id": "63b25781-0121-4ab2-9f89-05315fe6aabc",
   "metadata": {},
   "source": [
    "**Data types**\n",
    "\n",
    "- in python type declare not required\n",
    "\n",
    "- python will automatically takes the type based on provided value\n",
    "\n",
    "- we have many data types avilable\n",
    "\n",
    "- the main data types are\n",
    "\n",
    "    - integer\n",
    "\n",
    "    - float\n",
    "\n",
    "    - booleaan\n",
    "\n",
    "    - string\n",
    "\n",
    "- List\n",
    "\n",
    "- Dictionary\n",
    "\n",
    "- tuple\n",
    "\n",
    "- complex\n",
    "\n",
    "    "
   ]
  },
  {
   "cell_type": "markdown",
   "id": "c0712221-c920-4abd-8d55-75193356295d",
   "metadata": {},
   "source": [
    "# integer"
   ]
  },
  {
   "cell_type": "code",
   "execution_count": 1,
   "id": "16a43664-5efa-4860-a23f-d19df8cd4a2c",
   "metadata": {},
   "outputs": [
    {
     "data": {
      "text/plain": [
       "int"
      ]
     },
     "execution_count": 1,
     "metadata": {},
     "output_type": "execute_result"
    }
   ],
   "source": [
    "n=100\n",
    "type(n)"
   ]
  },
  {
   "cell_type": "markdown",
   "id": "f585fa46-c236-456a-833a-aa7c60da2f6c",
   "metadata": {},
   "source": [
    "- binary representation\n",
    "\n",
    "- octa representation\n",
    "\n",
    "- hexa representation"
   ]
  },
  {
   "cell_type": "markdown",
   "id": "03449eb9-b32f-4b12-8288-bab8214fbd22",
   "metadata": {},
   "source": [
    "**Binary**"
   ]
  },
  {
   "cell_type": "markdown",
   "id": "c632ac59-d044-4c49-945f-378b75a81764",
   "metadata": {},
   "source": [
    "- bi means 2\n",
    "\n",
    "- so it requires 2 digits\n",
    "\n",
    "- generally we have 0 1 2 3 4 5 6 7 8 9\n",
    "\n",
    "- so it will represent with only 0 and 1\n",
    "\n",
    "- representation is 0b10,0B0111\n",
    "\n",
    "- wrong representation is 0b102 becz 2 is not a binary"
   ]
  },
  {
   "cell_type": "markdown",
   "id": "fac29ad6-fd9e-4507-b797-acfcd10c1bed",
   "metadata": {},
   "source": [
    "- bi means 2\n",
    "\n",
    "- so it requires 2 digits\n",
    "\n",
    "- generally we have 0 1 2 3 4 5 6 7 8 9\n",
    "\n",
    "- so it will represent with only 0 and 1\n",
    "\n",
    "- representation is 0b10,0B0111\n",
    "\n",
    "- wrong representation is 0b102 becz 2 is not a binary"
   ]
  },
  {
   "cell_type": "code",
   "execution_count": 2,
   "id": "edc5ae42-e25e-4580-a47d-309569fd73f7",
   "metadata": {},
   "outputs": [
    {
     "data": {
      "text/plain": [
       "5"
      ]
     },
     "execution_count": 2,
     "metadata": {},
     "output_type": "execute_result"
    }
   ],
   "source": [
    "0b101"
   ]
  },
  {
   "cell_type": "code",
   "execution_count": 3,
   "id": "608e868c-d2db-4566-8eb4-1c71a8b220a8",
   "metadata": {},
   "outputs": [
    {
     "data": {
      "text/plain": [
       "9"
      ]
     },
     "execution_count": 3,
     "metadata": {},
     "output_type": "execute_result"
    }
   ],
   "source": [
    "0b1001"
   ]
  },
  {
   "cell_type": "code",
   "execution_count": 2,
   "id": "7ea134c7-a1c0-4ed4-9bff-47a77d7caa2f",
   "metadata": {},
   "outputs": [
    {
     "data": {
      "text/plain": [
       "3"
      ]
     },
     "execution_count": 2,
     "metadata": {},
     "output_type": "execute_result"
    }
   ],
   "source": [
    "0B0011\n"
   ]
  },
  {
   "cell_type": "code",
   "execution_count": 3,
   "id": "8e41f89a-704e-4d56-ac4c-eb02083bde91",
   "metadata": {},
   "outputs": [],
   "source": [
    "import os"
   ]
  },
  {
   "cell_type": "code",
   "execution_count": 4,
   "id": "28b0ef6b-ce18-4a58-8532-dc199c5d98af",
   "metadata": {},
   "outputs": [
    {
     "data": {
      "text/plain": [
       "'C:\\\\Users\\\\91970\\\\Documents\\\\Naresh IT\\\\python'"
      ]
     },
     "execution_count": 4,
     "metadata": {},
     "output_type": "execute_result"
    }
   ],
   "source": [
    "os.getcwd()"
   ]
  },
  {
   "cell_type": "markdown",
   "id": "aaeb0d43-1b9e-41dd-b486-20932bd11a48",
   "metadata": {},
   "source": [
    "**octal**\n",
    "  \n",
    "- octa means 8\n",
    "\n",
    "- so it requires 8 digits\n",
    "\n",
    "- generally we have 0 1 2 3 4 5 6 7 8 9\n",
    "\n",
    "- so it will represent with only 0 1 2 3 4 5 6 7\n",
    "\n",
    "- representation is 0o123 , 0o012345 , 0o654\n",
    "\n",
    "- wrong representation is 0o987"
   ]
  },
  {
   "cell_type": "code",
   "execution_count": 5,
   "id": "5455530f-2a29-43cb-9801-0ba86047f8df",
   "metadata": {},
   "outputs": [
    {
     "data": {
      "text/plain": [
       "83"
      ]
     },
     "execution_count": 5,
     "metadata": {},
     "output_type": "execute_result"
    },
    {
     "name": "stdout",
     "output_type": "stream",
     "text": [
      "The history saving thread hit an unexpected error (OperationalError('database or disk is full')).History will not be written to the database.\n"
     ]
    }
   ],
   "source": [
    "0o123"
   ]
  },
  {
   "cell_type": "markdown",
   "id": "fb567659-b66b-4a61-9946-7a5162fe90c0",
   "metadata": {},
   "source": [
    "**hexa**\n",
    "  \n",
    "- hexa means 16\n",
    "\n",
    "- so it requires 16 digits\n",
    "\n",
    "- generally we have 0 1 2 3 4 5 6 7 8 9 A(10) to F(15)\n",
    "\n",
    "- so it will represent with only 0-9 A-F\n",
    "\n",
    "- representation is 0xF9,0X0123abc , 0Xabc\n",
    "\n",
    "- wrong representation is 0Xgh"
   ]
  },
  {
   "cell_type": "code",
   "execution_count": 6,
   "id": "70e55965-0780-4845-88d6-ab43a9ef3b70",
   "metadata": {},
   "outputs": [
    {
     "data": {
      "text/plain": [
       "2748"
      ]
     },
     "execution_count": 6,
     "metadata": {},
     "output_type": "execute_result"
    }
   ],
   "source": [
    "0xabc"
   ]
  },
  {
   "cell_type": "code",
   "execution_count": 7,
   "id": "bfe5d034-9d3d-4d08-ad0b-fd1dc91d53c0",
   "metadata": {},
   "outputs": [
    {
     "data": {
      "text/plain": [
       "4671"
      ]
     },
     "execution_count": 7,
     "metadata": {},
     "output_type": "execute_result"
    }
   ],
   "source": [
    "0x123f"
   ]
  },
  {
   "cell_type": "markdown",
   "id": "7e502811-2c18-4d42-842d-55d319c8f237",
   "metadata": {},
   "source": [
    "**float**\n",
    "\n"
   ]
  },
  {
   "cell_type": "code",
   "execution_count": 9,
   "id": "acf95790-c0e2-4c3f-8a12-9f128cb35ff6",
   "metadata": {},
   "outputs": [
    {
     "data": {
      "text/plain": [
       "100.56"
      ]
     },
     "execution_count": 9,
     "metadata": {},
     "output_type": "execute_result"
    }
   ],
   "source": [
    "n1=100.56\n",
    "n1"
   ]
  },
  {
   "cell_type": "code",
   "execution_count": 10,
   "id": "c3fe7728-7a22-49ac-af3c-dc74770d315f",
   "metadata": {},
   "outputs": [
    {
     "data": {
      "text/plain": [
       "10.0"
      ]
     },
     "execution_count": 10,
     "metadata": {},
     "output_type": "execute_result"
    }
   ],
   "source": [
    "1e1"
   ]
  },
  {
   "cell_type": "code",
   "execution_count": 11,
   "id": "6f115ba2-c78b-4c8a-9e68-83df6ef36a0f",
   "metadata": {},
   "outputs": [
    {
     "data": {
      "text/plain": [
       "100.0"
      ]
     },
     "execution_count": 11,
     "metadata": {},
     "output_type": "execute_result"
    }
   ],
   "source": [
    "1e2"
   ]
  },
  {
   "cell_type": "code",
   "execution_count": 12,
   "id": "12c27e13-d331-4efc-80eb-f3d4acfd6926",
   "metadata": {},
   "outputs": [
    {
     "data": {
      "text/plain": [
       "(1000.0, 10000.0, 100000.0)"
      ]
     },
     "execution_count": 12,
     "metadata": {},
     "output_type": "execute_result"
    }
   ],
   "source": [
    "1e3,1e4,1e5   \n",
    "# kep=k*10^p"
   ]
  },
  {
   "cell_type": "code",
   "execution_count": 13,
   "id": "c7ea53fe-c70f-4abf-b671-98ad0030a9cb",
   "metadata": {},
   "outputs": [
    {
     "data": {
      "text/plain": [
       "24000.0"
      ]
     },
     "execution_count": 13,
     "metadata": {},
     "output_type": "execute_result"
    }
   ],
   "source": [
    "24e3  #24*10^3"
   ]
  },
  {
   "cell_type": "code",
   "execution_count": 14,
   "id": "294bc354-7435-455e-b025-df1ca1578d50",
   "metadata": {},
   "outputs": [
    {
     "data": {
      "text/plain": [
       "(10.0, 100.0, 1000.0)"
      ]
     },
     "execution_count": 14,
     "metadata": {},
     "output_type": "execute_result"
    }
   ],
   "source": [
    "1e+1,1e+2,1e+3\n",
    "#1e+1=1e1"
   ]
  },
  {
   "cell_type": "code",
   "execution_count": 16,
   "id": "397cb57e-c984-4d65-9f78-2a6b12ac3aac",
   "metadata": {},
   "outputs": [
    {
     "data": {
      "text/plain": [
       "0.024"
      ]
     },
     "execution_count": 16,
     "metadata": {},
     "output_type": "execute_result"
    }
   ],
   "source": [
    "24e-3\n",
    "#24/1000"
   ]
  },
  {
   "cell_type": "markdown",
   "id": "274d2ab6-f962-4be0-9df8-7246859dfd24",
   "metadata": {},
   "source": [
    "- +(pos)means multiply\n",
    "\n",
    "- -(neg) means divide"
   ]
  },
  {
   "cell_type": "code",
   "execution_count": 17,
   "id": "53cebd1e-b0f1-44d4-b31c-c31931f58408",
   "metadata": {},
   "outputs": [
    {
     "data": {
      "text/plain": [
       "10.0"
      ]
     },
     "execution_count": 17,
     "metadata": {},
     "output_type": "execute_result"
    }
   ],
   "source": [
    "1e+01"
   ]
  },
  {
   "cell_type": "code",
   "execution_count": 18,
   "id": "1e595dc8-4283-468d-a4fb-bb80de8acd4c",
   "metadata": {},
   "outputs": [
    {
     "data": {
      "text/plain": [
       "10.0"
      ]
     },
     "execution_count": 18,
     "metadata": {},
     "output_type": "execute_result"
    }
   ],
   "source": [
    "1e+001"
   ]
  },
  {
   "cell_type": "markdown",
   "id": "f3e7bf88-0785-459f-aeb0-a682429095e9",
   "metadata": {},
   "source": [
    "**Strings**"
   ]
  },
  {
   "cell_type": "markdown",
   "id": "dcac6dcd-a1ad-4242-92f1-fa5c2e365580",
   "metadata": {},
   "source": [
    "- strings are used to represent the english characters\n",
    "\n",
    "- strings will represent in \n",
    "\n",
    "        - single quotes \n",
    "\n",
    "        - double quotes\n",
    "\n",
    "        - triple quotes"
   ]
  },
  {
   "cell_type": "code",
   "execution_count": 19,
   "id": "79c2d413-178a-4460-99bf-07e4fc70ce93",
   "metadata": {},
   "outputs": [
    {
     "data": {
      "text/plain": [
       "str"
      ]
     },
     "execution_count": 19,
     "metadata": {},
     "output_type": "execute_result"
    }
   ],
   "source": [
    "name='python'\n",
    "type(name)"
   ]
  },
  {
   "cell_type": "code",
   "execution_count": 20,
   "id": "01e08ec1-8dc9-4a9a-99e4-7c52908ad703",
   "metadata": {},
   "outputs": [
    {
     "data": {
      "text/plain": [
       "str"
      ]
     },
     "execution_count": 20,
     "metadata": {},
     "output_type": "execute_result"
    }
   ],
   "source": [
    "name1=\"Harika\"\n",
    "type(name1)"
   ]
  },
  {
   "cell_type": "code",
   "execution_count": 21,
   "id": "9b50d6e8-9093-4793-a2a9-8267fca99e49",
   "metadata": {},
   "outputs": [
    {
     "data": {
      "text/plain": [
       "str"
      ]
     },
     "execution_count": 21,
     "metadata": {},
     "output_type": "execute_result"
    }
   ],
   "source": [
    "name2='10'\n",
    "type(name2)"
   ]
  },
  {
   "cell_type": "markdown",
   "id": "505ebe9b-8a85-40da-91f6-ad417b02a326",
   "metadata": {},
   "source": [
    "** strings will be in red clr **\n",
    "\n",
    "** green colour means keywords **\n",
    "\n",
    "** black clr means variables **     "
   ]
  },
  {
   "cell_type": "markdown",
   "id": "6e8ba584-1a5e-4403-abce-f04312003711",
   "metadata": {},
   "source": [
    "- output always in single quotes"
   ]
  },
  {
   "cell_type": "code",
   "execution_count": 24,
   "id": "de7854b0-bb6b-4b84-a718-52767087c6b6",
   "metadata": {},
   "outputs": [
    {
     "data": {
      "text/plain": [
       "'python'"
      ]
     },
     "execution_count": 24,
     "metadata": {},
     "output_type": "execute_result"
    }
   ],
   "source": [
    "name='python'\n",
    "name1=\"python\"\n",
    "name\n"
   ]
  },
  {
   "cell_type": "code",
   "execution_count": 25,
   "id": "482456ce-cebf-44a5-a1a2-8f30c85e5b4a",
   "metadata": {},
   "outputs": [
    {
     "data": {
      "text/plain": [
       "'python'"
      ]
     },
     "execution_count": 25,
     "metadata": {},
     "output_type": "execute_result"
    }
   ],
   "source": [
    "name1"
   ]
  },
  {
   "cell_type": "markdown",
   "id": "3c01ecc4-2b24-4a09-a576-c05721a9a8ad",
   "metadata": {},
   "source": [
    "- whenever u use print quotes will not visible"
   ]
  },
  {
   "cell_type": "code",
   "execution_count": 26,
   "id": "d6177483-38fa-4b18-908b-d20339b79222",
   "metadata": {},
   "outputs": [
    {
     "name": "stdout",
     "output_type": "stream",
     "text": [
      "python\n"
     ]
    }
   ],
   "source": [
    "print(name)"
   ]
  },
  {
   "cell_type": "code",
   "execution_count": 28,
   "id": "887ad1e5-5edb-4b55-8d68-ff551843a0a6",
   "metadata": {},
   "outputs": [
    {
     "name": "stdout",
     "output_type": "stream",
     "text": [
      " i like \"python\" \n"
     ]
    }
   ],
   "source": [
    "name= ' i like \"python\" '\n",
    "print(name)"
   ]
  },
  {
   "cell_type": "code",
   "execution_count": 29,
   "id": "cb0f213e-ce4f-4d3c-9b79-0ac98f10e51b",
   "metadata": {},
   "outputs": [
    {
     "name": "stdout",
     "output_type": "stream",
     "text": [
      "i like 'python' \n"
     ]
    }
   ],
   "source": [
    "name= \"i like 'python' \"\n",
    "print(name)"
   ]
  },
  {
   "cell_type": "markdown",
   "id": "919215dc-5a84-410d-be8e-2778dc847b2f",
   "metadata": {},
   "source": [
    "- entire string in double quotes , the highlighted word in single quotes and vice versa"
   ]
  },
  {
   "cell_type": "markdown",
   "id": "f61fd627-3a18-422c-994d-7f76c810bec8",
   "metadata": {},
   "source": [
    "**Triple quotes**\n",
    "\n",
    "- triple quotes is not used for coding\n",
    "\n",
    "- these are used to provde info to user\n",
    "\n",
    "- in jupyter to provde info we use markdown\n",
    "\n",
    "- in vscode or pycharm there will be no markdown option\n",
    "\n",
    "- thatswhy the world satrted used to write info in triple quotes\n",
    "\n",
    "- this entire process is called **Doc string**"
   ]
  },
  {
   "cell_type": "markdown",
   "id": "25df0e4d-5e65-48ea-8c5c-2344f7e61cb8",
   "metadata": {},
   "source": [
    "**Boolean**"
   ]
  },
  {
   "cell_type": "code",
   "execution_count": 36,
   "id": "d400545f-4e2b-49ea-b54c-e1bd6f7605d8",
   "metadata": {},
   "outputs": [
    {
     "data": {
      "text/plain": [
       "bool"
      ]
     },
     "execution_count": 36,
     "metadata": {},
     "output_type": "execute_result"
    }
   ],
   "source": [
    "value1=False\n",
    "type(value1)"
   ]
  },
  {
   "cell_type": "code",
   "execution_count": 37,
   "id": "23466d8f-2a9b-4f4d-91f3-9e0ffa5c0e8d",
   "metadata": {},
   "outputs": [
    {
     "data": {
      "text/plain": [
       "bool"
      ]
     },
     "execution_count": 37,
     "metadata": {},
     "output_type": "execute_result"
    }
   ],
   "source": [
    "value1=True\n",
    "type(value1)"
   ]
  },
  {
   "cell_type": "code",
   "execution_count": 40,
   "id": "2d3731fe-c914-4fc7-a791-a41bb6c22877",
   "metadata": {},
   "outputs": [
    {
     "data": {
      "text/plain": [
       "str"
      ]
     },
     "execution_count": 40,
     "metadata": {},
     "output_type": "execute_result"
    }
   ],
   "source": [
    "true=\"True\" #string\n",
    "false=False #bool\n",
    "type(true)\n"
   ]
  },
  {
   "cell_type": "code",
   "execution_count": 39,
   "id": "8ee1936c-6a33-4694-b54c-cc84df1ddce6",
   "metadata": {},
   "outputs": [
    {
     "data": {
      "text/plain": [
       "bool"
      ]
     },
     "execution_count": 39,
     "metadata": {},
     "output_type": "execute_result"
    }
   ],
   "source": [
    "type(false)"
   ]
  },
  {
   "cell_type": "code",
   "execution_count": null,
   "id": "6e18129b-00d5-40f5-b266-250e00f3cbb1",
   "metadata": {},
   "outputs": [],
   "source": []
  }
 ],
 "metadata": {
  "kernelspec": {
   "display_name": "Python 3 (ipykernel)",
   "language": "python",
   "name": "python3"
  },
  "language_info": {
   "codemirror_mode": {
    "name": "ipython",
    "version": 3
   },
   "file_extension": ".py",
   "mimetype": "text/x-python",
   "name": "python",
   "nbconvert_exporter": "python",
   "pygments_lexer": "ipython3",
   "version": "3.11.7"
  }
 },
 "nbformat": 4,
 "nbformat_minor": 5
}
