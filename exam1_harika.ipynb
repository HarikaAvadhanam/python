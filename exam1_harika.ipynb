{
 "cells": [
  {
   "cell_type": "code",
   "execution_count": 1,
   "id": "2c8a3589-f9ee-40d7-9113-5f15f3e89e4a",
   "metadata": {},
   "outputs": [
    {
     "name": "stdin",
     "output_type": "stream",
     "text": [
      "enter a number 100\n",
      "enter a number 20\n"
     ]
    },
    {
     "name": "stdout",
     "output_type": "stream",
     "text": [
      "add: 120\n",
      "sub: 80\n",
      "mul: 2000\n",
      "div: 5.0\n"
     ]
    }
   ],
   "source": [
    "num1=eval(input(\"enter a number\"))\n",
    "num2=eval(input(\"enter a number\"))\n",
    "add=num1+num2\n",
    "print(\"add:\",add)\n",
    "sub=num1-num2\n",
    "print(\"sub:\",sub)\n",
    "mul=num1*num2\n",
    "print(\"mul:\",mul)\n",
    "div=num1/num2\n",
    "print(\"div:\",div)\n"
   ]
  },
  {
   "cell_type": "code",
   "execution_count": 3,
   "id": "dcab8bde-db99-4b94-9958-bf8bf4e5bf04",
   "metadata": {},
   "outputs": [
    {
     "name": "stdout",
     "output_type": "stream",
     "text": [
      "[31, 1, 91, 61, 41, 81, 71, 11, 51, 21]\n"
     ]
    }
   ],
   "source": [
    "import random\n",
    "nums=range(1,101,10)\n",
    "random_nums=random.sample(nums,len(nums))\n",
    "print(random_nums)"
   ]
  },
  {
   "cell_type": "code",
   "execution_count": 4,
   "id": "a6b65a0d-f36d-433b-928a-b634de561700",
   "metadata": {},
   "outputs": [
    {
     "data": {
      "text/plain": [
       "100.89"
      ]
     },
     "execution_count": 4,
     "metadata": {},
     "output_type": "execute_result"
    }
   ],
   "source": [
    "number=100.88997766\n",
    "round(number,2)"
   ]
  },
  {
   "cell_type": "code",
   "execution_count": 5,
   "id": "95d52b10-d740-4598-812d-6d577d0c49d8",
   "metadata": {},
   "outputs": [
    {
     "data": {
      "text/plain": [
       "11.23"
      ]
     },
     "execution_count": 5,
     "metadata": {},
     "output_type": "execute_result"
    }
   ],
   "source": [
    "num=11.23456789\n",
    "round(num,2)"
   ]
  },
  {
   "cell_type": "code",
   "execution_count": 6,
   "id": "cdba0748-8032-4b3a-92d4-b7d4378c0455",
   "metadata": {},
   "outputs": [
    {
     "data": {
      "text/plain": [
       "11.235"
      ]
     },
     "execution_count": 6,
     "metadata": {},
     "output_type": "execute_result"
    }
   ],
   "source": [
    "round(num,3)"
   ]
  },
  {
   "cell_type": "markdown",
   "id": "ebd2317b-a879-40d1-bbbd-07d98b77e81b",
   "metadata": {},
   "source": [
    "- type casting is conversion of one data type to other data type\n",
    "\n"
   ]
  },
  {
   "cell_type": "markdown",
   "id": "e54760ba-4437-48db-b01d-c4fd0cc2d23f",
   "metadata": {},
   "source": [
    "**int to other data types**"
   ]
  },
  {
   "cell_type": "code",
   "execution_count": 8,
   "id": "0fe4157c-d9c9-48bf-bfde-43a66e6159e2",
   "metadata": {},
   "outputs": [
    {
     "data": {
      "text/plain": [
       "(100.0, '100', True)"
      ]
     },
     "execution_count": 8,
     "metadata": {},
     "output_type": "execute_result"
    }
   ],
   "source": [
    "float(100),str('100'),bool(100)"
   ]
  },
  {
   "cell_type": "markdown",
   "id": "536a4b07-d58a-447d-a102-4d3212ffd956",
   "metadata": {},
   "source": [
    "**float to other data types**"
   ]
  },
  {
   "cell_type": "code",
   "execution_count": 9,
   "id": "324b3a45-f3d3-4fd9-9b98-9f1dbaa23394",
   "metadata": {},
   "outputs": [
    {
     "data": {
      "text/plain": [
       "(10, '10.33', True)"
      ]
     },
     "execution_count": 9,
     "metadata": {},
     "output_type": "execute_result"
    }
   ],
   "source": [
    "int(10.33),str('10.33'),bool(10.33)"
   ]
  },
  {
   "cell_type": "markdown",
   "id": "a209ab34-9261-41d1-8e06-36a0c790dc69",
   "metadata": {},
   "source": [
    "**str to other data types**"
   ]
  },
  {
   "cell_type": "code",
   "execution_count": 10,
   "id": "cc7b5d55-331e-4916-973a-16802f91333c",
   "metadata": {},
   "outputs": [
    {
     "ename": "ValueError",
     "evalue": "invalid literal for int() with base 10: 'abc'",
     "output_type": "error",
     "traceback": [
      "\u001b[1;31m---------------------------------------------------------------------------\u001b[0m",
      "\u001b[1;31mValueError\u001b[0m                                Traceback (most recent call last)",
      "Cell \u001b[1;32mIn[10], line 1\u001b[0m\n\u001b[1;32m----> 1\u001b[0m \u001b[38;5;28mint\u001b[39m(\u001b[38;5;124m'\u001b[39m\u001b[38;5;124mabc\u001b[39m\u001b[38;5;124m'\u001b[39m)\n",
      "\u001b[1;31mValueError\u001b[0m: invalid literal for int() with base 10: 'abc'"
     ]
    }
   ],
   "source": [
    "int('abc')"
   ]
  },
  {
   "cell_type": "code",
   "execution_count": 11,
   "id": "9fd9391b-0758-4555-bbbd-9e3d56e5d0c9",
   "metadata": {},
   "outputs": [
    {
     "ename": "ValueError",
     "evalue": "could not convert string to float: 'abc'",
     "output_type": "error",
     "traceback": [
      "\u001b[1;31m---------------------------------------------------------------------------\u001b[0m",
      "\u001b[1;31mValueError\u001b[0m                                Traceback (most recent call last)",
      "Cell \u001b[1;32mIn[11], line 1\u001b[0m\n\u001b[1;32m----> 1\u001b[0m \u001b[38;5;28mfloat\u001b[39m(\u001b[38;5;124m'\u001b[39m\u001b[38;5;124mabc\u001b[39m\u001b[38;5;124m'\u001b[39m)\n",
      "\u001b[1;31mValueError\u001b[0m: could not convert string to float: 'abc'"
     ]
    }
   ],
   "source": [
    "float('abc')"
   ]
  },
  {
   "cell_type": "code",
   "execution_count": 12,
   "id": "464ba233-a825-470f-b428-5d9614099df1",
   "metadata": {},
   "outputs": [
    {
     "data": {
      "text/plain": [
       "True"
      ]
     },
     "execution_count": 12,
     "metadata": {},
     "output_type": "execute_result"
    }
   ],
   "source": [
    "bool('abc')"
   ]
  },
  {
   "cell_type": "markdown",
   "id": "232f6e37-dfcc-4622-83d3-5e34342bcdb1",
   "metadata": {},
   "source": [
    "**bool to other datatypes**"
   ]
  },
  {
   "cell_type": "code",
   "execution_count": 13,
   "id": "5e32cf12-8175-4235-bca9-9c33407f477c",
   "metadata": {},
   "outputs": [
    {
     "data": {
      "text/plain": [
       "(1, 1.0, 'True')"
      ]
     },
     "execution_count": 13,
     "metadata": {},
     "output_type": "execute_result"
    }
   ],
   "source": [
    "int(True),float(True),str(True)"
   ]
  },
  {
   "cell_type": "code",
   "execution_count": 14,
   "id": "fc16a611-a57b-48d8-9112-533ee044a668",
   "metadata": {},
   "outputs": [
    {
     "data": {
      "text/plain": [
       "(0, 0.0, 'False')"
      ]
     },
     "execution_count": 14,
     "metadata": {},
     "output_type": "execute_result"
    }
   ],
   "source": [
    "int(False),float(False),str(False)"
   ]
  },
  {
   "cell_type": "code",
   "execution_count": null,
   "id": "026bb3f4-e9e3-4d79-9b90-5c3ef9c01138",
   "metadata": {},
   "outputs": [],
   "source": []
  }
 ],
 "metadata": {
  "kernelspec": {
   "display_name": "Python 3 (ipykernel)",
   "language": "python",
   "name": "python3"
  },
  "language_info": {
   "codemirror_mode": {
    "name": "ipython",
    "version": 3
   },
   "file_extension": ".py",
   "mimetype": "text/x-python",
   "name": "python",
   "nbconvert_exporter": "python",
   "pygments_lexer": "ipython3",
   "version": "3.11.7"
  }
 },
 "nbformat": 4,
 "nbformat_minor": 5
}
